{
  "nbformat": 4,
  "nbformat_minor": 0,
  "metadata": {
    "colab": {
      "provenance": []
    },
    "kernelspec": {
      "name": "python3",
      "display_name": "Python 3"
    },
    "language_info": {
      "name": "python"
    }
  },
  "cells": [
    {
      "cell_type": "markdown",
      "source": [
        "# **NoteBook 01**\n",
        "*   Name: C N S Peiris\n",
        "*   UOWno: W2054006\n",
        "*   IIT no: 20232308\n",
        "*   Reviewer: Pahandi Samarasinghe\n",
        "\n",
        "\n",
        "\n",
        "\n"
      ],
      "metadata": {
        "id": "nX4wOEr6LNwm"
      }
    },
    {
      "cell_type": "markdown",
      "source": [
        "Codereuse Session Question 01"
      ],
      "metadata": {
        "id": "vvFxaa0cLVK2"
      }
    },
    {
      "cell_type": "code",
      "execution_count": null,
      "metadata": {
        "id": "uyVDGe9Q7jYC"
      },
      "outputs": [],
      "source": [
        "# Import essential libraries for data manipulation and visualization\n",
        "import pandas as pd                         # for dataframes\n",
        "import numpy as np                          # for numerical operations\n",
        "import matplotlib.pyplot as plt             # for plotting\n",
        "import seaborn as sns                       # for statistical plots"
      ]
    },
    {
      "cell_type": "markdown",
      "source": [
        "Codereuse Session Question 13"
      ],
      "metadata": {
        "id": "UhC32sCYModk"
      }
    },
    {
      "cell_type": "code",
      "source": [
        "import plotly.express as px  # for interactive plots"
      ],
      "metadata": {
        "id": "mV6CDG3570P9"
      },
      "execution_count": null,
      "outputs": []
    },
    {
      "cell_type": "markdown",
      "source": [
        "Codereuse Session Question 02"
      ],
      "metadata": {
        "id": "gXvd96aQL8Il"
      }
    },
    {
      "cell_type": "code",
      "source": [
        " # Load the initail breast cancer dataset\n",
        "df = pd.read_csv('/content/drive/MyDrive/BrestCancer/5DATA002W.2 Coursework Dataset(25012025v6.0) (2).csv')"
      ],
      "metadata": {
        "id": "mRNCCuPK72Y4"
      },
      "execution_count": null,
      "outputs": []
    },
    {
      "cell_type": "markdown",
      "source": [
        "Codereuse Session Question 03"
      ],
      "metadata": {
        "id": "4v1sDEMfL_vm"
      }
    },
    {
      "cell_type": "code",
      "source": [
        "# Display the first few rows\n",
        "df.head()"
      ],
      "metadata": {
        "colab": {
          "base_uri": "https://localhost:8080/",
          "height": 313
        },
        "id": "z0BmEXXT89uh",
        "outputId": "6383938f-bc8d-4ed5-9614-99c6ce71e677"
      },
      "execution_count": null,
      "outputs": [
        {
          "output_type": "execute_result",
          "data": {
            "text/plain": [
              "  Patient_ID  Month_of_Birth   Age     Sex   Occupation T_Stage N_Stage  \\\n",
              "0      A0012              12  68.0  Female     Teaching      T1      N1   \n",
              "1      A0013              12  50.0  Female      Medical      T2      N2   \n",
              "2      A0014              11  58.0  Female  Engineering      T3      N3   \n",
              "3      A0015               3  58.0  Female   Technology      T1      N1   \n",
              "4      A0016               1  47.0  Female   Multimedia      T2      N1   \n",
              "\n",
              "  6th_Stage             Differentiated  Grade   A_Stage  Tumor_Size  \\\n",
              "0       IIA      Poorly differentiated      3  Regional         4.0   \n",
              "1      IIIA  Moderately differentiated      2  Regional        35.0   \n",
              "2      IIIC  Moderately differentiated      2  Regional        63.0   \n",
              "3       IIA      Poorly differentiated      3  Regional        18.0   \n",
              "4       IIB      Poorly differentiated      3  Regional        41.0   \n",
              "\n",
              "  Estrogen_Status Progesterone_Status  Regional_Node_Examined  \\\n",
              "0        Positive            Positive                    24.0   \n",
              "1        Positive            Positive                    14.0   \n",
              "2        Positive            Positive                    14.0   \n",
              "3        Positive            Positive                     2.0   \n",
              "4        Positive            Positive                     3.0   \n",
              "\n",
              "   Reginol_Node_Positive  Survival_Months Mortality_Status  \n",
              "0                      1               60            Alive  \n",
              "1                      5               62            Alive  \n",
              "2                      7               75            Alive  \n",
              "3                      1               84            Alive  \n",
              "4                      1               50            Alive  "
            ],
            "text/html": [
              "\n",
              "  <div id=\"df-4c39e637-6b34-4b7a-9053-025ed8b5545b\" class=\"colab-df-container\">\n",
              "    <div>\n",
              "<style scoped>\n",
              "    .dataframe tbody tr th:only-of-type {\n",
              "        vertical-align: middle;\n",
              "    }\n",
              "\n",
              "    .dataframe tbody tr th {\n",
              "        vertical-align: top;\n",
              "    }\n",
              "\n",
              "    .dataframe thead th {\n",
              "        text-align: right;\n",
              "    }\n",
              "</style>\n",
              "<table border=\"1\" class=\"dataframe\">\n",
              "  <thead>\n",
              "    <tr style=\"text-align: right;\">\n",
              "      <th></th>\n",
              "      <th>Patient_ID</th>\n",
              "      <th>Month_of_Birth</th>\n",
              "      <th>Age</th>\n",
              "      <th>Sex</th>\n",
              "      <th>Occupation</th>\n",
              "      <th>T_Stage</th>\n",
              "      <th>N_Stage</th>\n",
              "      <th>6th_Stage</th>\n",
              "      <th>Differentiated</th>\n",
              "      <th>Grade</th>\n",
              "      <th>A_Stage</th>\n",
              "      <th>Tumor_Size</th>\n",
              "      <th>Estrogen_Status</th>\n",
              "      <th>Progesterone_Status</th>\n",
              "      <th>Regional_Node_Examined</th>\n",
              "      <th>Reginol_Node_Positive</th>\n",
              "      <th>Survival_Months</th>\n",
              "      <th>Mortality_Status</th>\n",
              "    </tr>\n",
              "  </thead>\n",
              "  <tbody>\n",
              "    <tr>\n",
              "      <th>0</th>\n",
              "      <td>A0012</td>\n",
              "      <td>12</td>\n",
              "      <td>68.0</td>\n",
              "      <td>Female</td>\n",
              "      <td>Teaching</td>\n",
              "      <td>T1</td>\n",
              "      <td>N1</td>\n",
              "      <td>IIA</td>\n",
              "      <td>Poorly differentiated</td>\n",
              "      <td>3</td>\n",
              "      <td>Regional</td>\n",
              "      <td>4.0</td>\n",
              "      <td>Positive</td>\n",
              "      <td>Positive</td>\n",
              "      <td>24.0</td>\n",
              "      <td>1</td>\n",
              "      <td>60</td>\n",
              "      <td>Alive</td>\n",
              "    </tr>\n",
              "    <tr>\n",
              "      <th>1</th>\n",
              "      <td>A0013</td>\n",
              "      <td>12</td>\n",
              "      <td>50.0</td>\n",
              "      <td>Female</td>\n",
              "      <td>Medical</td>\n",
              "      <td>T2</td>\n",
              "      <td>N2</td>\n",
              "      <td>IIIA</td>\n",
              "      <td>Moderately differentiated</td>\n",
              "      <td>2</td>\n",
              "      <td>Regional</td>\n",
              "      <td>35.0</td>\n",
              "      <td>Positive</td>\n",
              "      <td>Positive</td>\n",
              "      <td>14.0</td>\n",
              "      <td>5</td>\n",
              "      <td>62</td>\n",
              "      <td>Alive</td>\n",
              "    </tr>\n",
              "    <tr>\n",
              "      <th>2</th>\n",
              "      <td>A0014</td>\n",
              "      <td>11</td>\n",
              "      <td>58.0</td>\n",
              "      <td>Female</td>\n",
              "      <td>Engineering</td>\n",
              "      <td>T3</td>\n",
              "      <td>N3</td>\n",
              "      <td>IIIC</td>\n",
              "      <td>Moderately differentiated</td>\n",
              "      <td>2</td>\n",
              "      <td>Regional</td>\n",
              "      <td>63.0</td>\n",
              "      <td>Positive</td>\n",
              "      <td>Positive</td>\n",
              "      <td>14.0</td>\n",
              "      <td>7</td>\n",
              "      <td>75</td>\n",
              "      <td>Alive</td>\n",
              "    </tr>\n",
              "    <tr>\n",
              "      <th>3</th>\n",
              "      <td>A0015</td>\n",
              "      <td>3</td>\n",
              "      <td>58.0</td>\n",
              "      <td>Female</td>\n",
              "      <td>Technology</td>\n",
              "      <td>T1</td>\n",
              "      <td>N1</td>\n",
              "      <td>IIA</td>\n",
              "      <td>Poorly differentiated</td>\n",
              "      <td>3</td>\n",
              "      <td>Regional</td>\n",
              "      <td>18.0</td>\n",
              "      <td>Positive</td>\n",
              "      <td>Positive</td>\n",
              "      <td>2.0</td>\n",
              "      <td>1</td>\n",
              "      <td>84</td>\n",
              "      <td>Alive</td>\n",
              "    </tr>\n",
              "    <tr>\n",
              "      <th>4</th>\n",
              "      <td>A0016</td>\n",
              "      <td>1</td>\n",
              "      <td>47.0</td>\n",
              "      <td>Female</td>\n",
              "      <td>Multimedia</td>\n",
              "      <td>T2</td>\n",
              "      <td>N1</td>\n",
              "      <td>IIB</td>\n",
              "      <td>Poorly differentiated</td>\n",
              "      <td>3</td>\n",
              "      <td>Regional</td>\n",
              "      <td>41.0</td>\n",
              "      <td>Positive</td>\n",
              "      <td>Positive</td>\n",
              "      <td>3.0</td>\n",
              "      <td>1</td>\n",
              "      <td>50</td>\n",
              "      <td>Alive</td>\n",
              "    </tr>\n",
              "  </tbody>\n",
              "</table>\n",
              "</div>\n",
              "    <div class=\"colab-df-buttons\">\n",
              "\n",
              "  <div class=\"colab-df-container\">\n",
              "    <button class=\"colab-df-convert\" onclick=\"convertToInteractive('df-4c39e637-6b34-4b7a-9053-025ed8b5545b')\"\n",
              "            title=\"Convert this dataframe to an interactive table.\"\n",
              "            style=\"display:none;\">\n",
              "\n",
              "  <svg xmlns=\"http://www.w3.org/2000/svg\" height=\"24px\" viewBox=\"0 -960 960 960\">\n",
              "    <path d=\"M120-120v-720h720v720H120Zm60-500h600v-160H180v160Zm220 220h160v-160H400v160Zm0 220h160v-160H400v160ZM180-400h160v-160H180v160Zm440 0h160v-160H620v160ZM180-180h160v-160H180v160Zm440 0h160v-160H620v160Z\"/>\n",
              "  </svg>\n",
              "    </button>\n",
              "\n",
              "  <style>\n",
              "    .colab-df-container {\n",
              "      display:flex;\n",
              "      gap: 12px;\n",
              "    }\n",
              "\n",
              "    .colab-df-convert {\n",
              "      background-color: #E8F0FE;\n",
              "      border: none;\n",
              "      border-radius: 50%;\n",
              "      cursor: pointer;\n",
              "      display: none;\n",
              "      fill: #1967D2;\n",
              "      height: 32px;\n",
              "      padding: 0 0 0 0;\n",
              "      width: 32px;\n",
              "    }\n",
              "\n",
              "    .colab-df-convert:hover {\n",
              "      background-color: #E2EBFA;\n",
              "      box-shadow: 0px 1px 2px rgba(60, 64, 67, 0.3), 0px 1px 3px 1px rgba(60, 64, 67, 0.15);\n",
              "      fill: #174EA6;\n",
              "    }\n",
              "\n",
              "    .colab-df-buttons div {\n",
              "      margin-bottom: 4px;\n",
              "    }\n",
              "\n",
              "    [theme=dark] .colab-df-convert {\n",
              "      background-color: #3B4455;\n",
              "      fill: #D2E3FC;\n",
              "    }\n",
              "\n",
              "    [theme=dark] .colab-df-convert:hover {\n",
              "      background-color: #434B5C;\n",
              "      box-shadow: 0px 1px 3px 1px rgba(0, 0, 0, 0.15);\n",
              "      filter: drop-shadow(0px 1px 2px rgba(0, 0, 0, 0.3));\n",
              "      fill: #FFFFFF;\n",
              "    }\n",
              "  </style>\n",
              "\n",
              "    <script>\n",
              "      const buttonEl =\n",
              "        document.querySelector('#df-4c39e637-6b34-4b7a-9053-025ed8b5545b button.colab-df-convert');\n",
              "      buttonEl.style.display =\n",
              "        google.colab.kernel.accessAllowed ? 'block' : 'none';\n",
              "\n",
              "      async function convertToInteractive(key) {\n",
              "        const element = document.querySelector('#df-4c39e637-6b34-4b7a-9053-025ed8b5545b');\n",
              "        const dataTable =\n",
              "          await google.colab.kernel.invokeFunction('convertToInteractive',\n",
              "                                                    [key], {});\n",
              "        if (!dataTable) return;\n",
              "\n",
              "        const docLinkHtml = 'Like what you see? Visit the ' +\n",
              "          '<a target=\"_blank\" href=https://colab.research.google.com/notebooks/data_table.ipynb>data table notebook</a>'\n",
              "          + ' to learn more about interactive tables.';\n",
              "        element.innerHTML = '';\n",
              "        dataTable['output_type'] = 'display_data';\n",
              "        await google.colab.output.renderOutput(dataTable, element);\n",
              "        const docLink = document.createElement('div');\n",
              "        docLink.innerHTML = docLinkHtml;\n",
              "        element.appendChild(docLink);\n",
              "      }\n",
              "    </script>\n",
              "  </div>\n",
              "\n",
              "\n",
              "<div id=\"df-60751689-f015-4f82-b373-65ffd3512248\">\n",
              "  <button class=\"colab-df-quickchart\" onclick=\"quickchart('df-60751689-f015-4f82-b373-65ffd3512248')\"\n",
              "            title=\"Suggest charts\"\n",
              "            style=\"display:none;\">\n",
              "\n",
              "<svg xmlns=\"http://www.w3.org/2000/svg\" height=\"24px\"viewBox=\"0 0 24 24\"\n",
              "     width=\"24px\">\n",
              "    <g>\n",
              "        <path d=\"M19 3H5c-1.1 0-2 .9-2 2v14c0 1.1.9 2 2 2h14c1.1 0 2-.9 2-2V5c0-1.1-.9-2-2-2zM9 17H7v-7h2v7zm4 0h-2V7h2v10zm4 0h-2v-4h2v4z\"/>\n",
              "    </g>\n",
              "</svg>\n",
              "  </button>\n",
              "\n",
              "<style>\n",
              "  .colab-df-quickchart {\n",
              "      --bg-color: #E8F0FE;\n",
              "      --fill-color: #1967D2;\n",
              "      --hover-bg-color: #E2EBFA;\n",
              "      --hover-fill-color: #174EA6;\n",
              "      --disabled-fill-color: #AAA;\n",
              "      --disabled-bg-color: #DDD;\n",
              "  }\n",
              "\n",
              "  [theme=dark] .colab-df-quickchart {\n",
              "      --bg-color: #3B4455;\n",
              "      --fill-color: #D2E3FC;\n",
              "      --hover-bg-color: #434B5C;\n",
              "      --hover-fill-color: #FFFFFF;\n",
              "      --disabled-bg-color: #3B4455;\n",
              "      --disabled-fill-color: #666;\n",
              "  }\n",
              "\n",
              "  .colab-df-quickchart {\n",
              "    background-color: var(--bg-color);\n",
              "    border: none;\n",
              "    border-radius: 50%;\n",
              "    cursor: pointer;\n",
              "    display: none;\n",
              "    fill: var(--fill-color);\n",
              "    height: 32px;\n",
              "    padding: 0;\n",
              "    width: 32px;\n",
              "  }\n",
              "\n",
              "  .colab-df-quickchart:hover {\n",
              "    background-color: var(--hover-bg-color);\n",
              "    box-shadow: 0 1px 2px rgba(60, 64, 67, 0.3), 0 1px 3px 1px rgba(60, 64, 67, 0.15);\n",
              "    fill: var(--button-hover-fill-color);\n",
              "  }\n",
              "\n",
              "  .colab-df-quickchart-complete:disabled,\n",
              "  .colab-df-quickchart-complete:disabled:hover {\n",
              "    background-color: var(--disabled-bg-color);\n",
              "    fill: var(--disabled-fill-color);\n",
              "    box-shadow: none;\n",
              "  }\n",
              "\n",
              "  .colab-df-spinner {\n",
              "    border: 2px solid var(--fill-color);\n",
              "    border-color: transparent;\n",
              "    border-bottom-color: var(--fill-color);\n",
              "    animation:\n",
              "      spin 1s steps(1) infinite;\n",
              "  }\n",
              "\n",
              "  @keyframes spin {\n",
              "    0% {\n",
              "      border-color: transparent;\n",
              "      border-bottom-color: var(--fill-color);\n",
              "      border-left-color: var(--fill-color);\n",
              "    }\n",
              "    20% {\n",
              "      border-color: transparent;\n",
              "      border-left-color: var(--fill-color);\n",
              "      border-top-color: var(--fill-color);\n",
              "    }\n",
              "    30% {\n",
              "      border-color: transparent;\n",
              "      border-left-color: var(--fill-color);\n",
              "      border-top-color: var(--fill-color);\n",
              "      border-right-color: var(--fill-color);\n",
              "    }\n",
              "    40% {\n",
              "      border-color: transparent;\n",
              "      border-right-color: var(--fill-color);\n",
              "      border-top-color: var(--fill-color);\n",
              "    }\n",
              "    60% {\n",
              "      border-color: transparent;\n",
              "      border-right-color: var(--fill-color);\n",
              "    }\n",
              "    80% {\n",
              "      border-color: transparent;\n",
              "      border-right-color: var(--fill-color);\n",
              "      border-bottom-color: var(--fill-color);\n",
              "    }\n",
              "    90% {\n",
              "      border-color: transparent;\n",
              "      border-bottom-color: var(--fill-color);\n",
              "    }\n",
              "  }\n",
              "</style>\n",
              "\n",
              "  <script>\n",
              "    async function quickchart(key) {\n",
              "      const quickchartButtonEl =\n",
              "        document.querySelector('#' + key + ' button');\n",
              "      quickchartButtonEl.disabled = true;  // To prevent multiple clicks.\n",
              "      quickchartButtonEl.classList.add('colab-df-spinner');\n",
              "      try {\n",
              "        const charts = await google.colab.kernel.invokeFunction(\n",
              "            'suggestCharts', [key], {});\n",
              "      } catch (error) {\n",
              "        console.error('Error during call to suggestCharts:', error);\n",
              "      }\n",
              "      quickchartButtonEl.classList.remove('colab-df-spinner');\n",
              "      quickchartButtonEl.classList.add('colab-df-quickchart-complete');\n",
              "    }\n",
              "    (() => {\n",
              "      let quickchartButtonEl =\n",
              "        document.querySelector('#df-60751689-f015-4f82-b373-65ffd3512248 button');\n",
              "      quickchartButtonEl.style.display =\n",
              "        google.colab.kernel.accessAllowed ? 'block' : 'none';\n",
              "    })();\n",
              "  </script>\n",
              "</div>\n",
              "\n",
              "    </div>\n",
              "  </div>\n"
            ],
            "application/vnd.google.colaboratory.intrinsic+json": {
              "type": "dataframe",
              "variable_name": "df",
              "summary": "{\n  \"name\": \"df\",\n  \"rows\": 4024,\n  \"fields\": [\n    {\n      \"column\": \"Patient_ID\",\n      \"properties\": {\n        \"dtype\": \"string\",\n        \"num_unique_values\": 4024,\n        \"samples\": [\n          \"A1730\",\n          \"A1216\",\n          \"A2734\"\n        ],\n        \"semantic_type\": \"\",\n        \"description\": \"\"\n      }\n    },\n    {\n      \"column\": \"Month_of_Birth\",\n      \"properties\": {\n        \"dtype\": \"number\",\n        \"std\": 3,\n        \"min\": 1,\n        \"max\": 12,\n        \"num_unique_values\": 12,\n        \"samples\": [\n          7,\n          9,\n          12\n        ],\n        \"semantic_type\": \"\",\n        \"description\": \"\"\n      }\n    },\n    {\n      \"column\": \"Age\",\n      \"properties\": {\n        \"dtype\": \"number\",\n        \"std\": 11.715528128359864,\n        \"min\": -50.0,\n        \"max\": 502.0,\n        \"num_unique_values\": 44,\n        \"samples\": [\n          -50.0,\n          42.0,\n          37.0\n        ],\n        \"semantic_type\": \"\",\n        \"description\": \"\"\n      }\n    },\n    {\n      \"column\": \"Sex\",\n      \"properties\": {\n        \"dtype\": \"category\",\n        \"num_unique_values\": 2,\n        \"samples\": [\n          \"1\",\n          \"Female\"\n        ],\n        \"semantic_type\": \"\",\n        \"description\": \"\"\n      }\n    },\n    {\n      \"column\": \"Occupation\",\n      \"properties\": {\n        \"dtype\": \"category\",\n        \"num_unique_values\": 40,\n        \"samples\": [\n          \"Manufacturing\",\n          \"Hospitality\"\n        ],\n        \"semantic_type\": \"\",\n        \"description\": \"\"\n      }\n    },\n    {\n      \"column\": \"T_Stage\",\n      \"properties\": {\n        \"dtype\": \"category\",\n        \"num_unique_values\": 4,\n        \"samples\": [\n          \"T2\",\n          \"T4\"\n        ],\n        \"semantic_type\": \"\",\n        \"description\": \"\"\n      }\n    },\n    {\n      \"column\": \"N_Stage\",\n      \"properties\": {\n        \"dtype\": \"category\",\n        \"num_unique_values\": 3,\n        \"samples\": [\n          \"N1\",\n          \"N2\"\n        ],\n        \"semantic_type\": \"\",\n        \"description\": \"\"\n      }\n    },\n    {\n      \"column\": \"6th_Stage\",\n      \"properties\": {\n        \"dtype\": \"category\",\n        \"num_unique_values\": 5,\n        \"samples\": [\n          \"IIIA\",\n          \"IIIB\"\n        ],\n        \"semantic_type\": \"\",\n        \"description\": \"\"\n      }\n    },\n    {\n      \"column\": \"Differentiated\",\n      \"properties\": {\n        \"dtype\": \"category\",\n        \"num_unique_values\": 4,\n        \"samples\": [\n          \"Moderately differentiated\",\n          \"Undifferentiated\"\n        ],\n        \"semantic_type\": \"\",\n        \"description\": \"\"\n      }\n    },\n    {\n      \"column\": \"Grade\",\n      \"properties\": {\n        \"dtype\": \"number\",\n        \"std\": 0,\n        \"min\": 1,\n        \"max\": 4,\n        \"num_unique_values\": 4,\n        \"samples\": [\n          2,\n          4\n        ],\n        \"semantic_type\": \"\",\n        \"description\": \"\"\n      }\n    },\n    {\n      \"column\": \"A_Stage\",\n      \"properties\": {\n        \"dtype\": \"category\",\n        \"num_unique_values\": 2,\n        \"samples\": [\n          \"Distant\",\n          \"Regional\"\n        ],\n        \"semantic_type\": \"\",\n        \"description\": \"\"\n      }\n    },\n    {\n      \"column\": \"Tumor_Size\",\n      \"properties\": {\n        \"dtype\": \"number\",\n        \"std\": 21.161080054199935,\n        \"min\": -75.0,\n        \"max\": 140.0,\n        \"num_unique_values\": 111,\n        \"samples\": [\n          33.0,\n          13.0\n        ],\n        \"semantic_type\": \"\",\n        \"description\": \"\"\n      }\n    },\n    {\n      \"column\": \"Estrogen_Status\",\n      \"properties\": {\n        \"dtype\": \"category\",\n        \"num_unique_values\": 2,\n        \"samples\": [\n          \"Negative\",\n          \"Positive\"\n        ],\n        \"semantic_type\": \"\",\n        \"description\": \"\"\n      }\n    },\n    {\n      \"column\": \"Progesterone_Status\",\n      \"properties\": {\n        \"dtype\": \"category\",\n        \"num_unique_values\": 2,\n        \"samples\": [\n          \"Negative\",\n          \"Positive\"\n        ],\n        \"semantic_type\": \"\",\n        \"description\": \"\"\n      }\n    },\n    {\n      \"column\": \"Regional_Node_Examined\",\n      \"properties\": {\n        \"dtype\": \"number\",\n        \"std\": 8.129292677142855,\n        \"min\": 1.0,\n        \"max\": 61.0,\n        \"num_unique_values\": 54,\n        \"samples\": [\n          10.0,\n          35.0\n        ],\n        \"semantic_type\": \"\",\n        \"description\": \"\"\n      }\n    },\n    {\n      \"column\": \"Reginol_Node_Positive\",\n      \"properties\": {\n        \"dtype\": \"number\",\n        \"std\": 5,\n        \"min\": 1,\n        \"max\": 46,\n        \"num_unique_values\": 38,\n        \"samples\": [\n          35,\n          41\n        ],\n        \"semantic_type\": \"\",\n        \"description\": \"\"\n      }\n    },\n    {\n      \"column\": \"Survival_Months\",\n      \"properties\": {\n        \"dtype\": \"number\",\n        \"std\": 25,\n        \"min\": 1,\n        \"max\": 760,\n        \"num_unique_values\": 108,\n        \"samples\": [\n          48,\n          64\n        ],\n        \"semantic_type\": \"\",\n        \"description\": \"\"\n      }\n    },\n    {\n      \"column\": \"Mortality_Status\",\n      \"properties\": {\n        \"dtype\": \"category\",\n        \"num_unique_values\": 7,\n        \"samples\": [\n          \"Alive\",\n          \"Dead\"\n        ],\n        \"semantic_type\": \"\",\n        \"description\": \"\"\n      }\n    }\n  ]\n}"
            }
          },
          "metadata": {},
          "execution_count": 74
        }
      ]
    },
    {
      "cell_type": "markdown",
      "source": [
        "Codereuse Session Question 04"
      ],
      "metadata": {
        "id": "wuk7pvpgMCmY"
      }
    },
    {
      "cell_type": "code",
      "source": [
        "list(df.columns)"
      ],
      "metadata": {
        "colab": {
          "base_uri": "https://localhost:8080/"
        },
        "id": "xt-RMuA_8_ti",
        "outputId": "38b8794f-693b-4088-8763-0b6803551132"
      },
      "execution_count": null,
      "outputs": [
        {
          "output_type": "execute_result",
          "data": {
            "text/plain": [
              "['Patient_ID',\n",
              " 'Month_of_Birth',\n",
              " 'Age',\n",
              " 'Sex',\n",
              " 'Occupation',\n",
              " 'T_Stage',\n",
              " 'N_Stage',\n",
              " '6th_Stage',\n",
              " 'Differentiated',\n",
              " 'Grade',\n",
              " 'A_Stage',\n",
              " 'Tumor_Size',\n",
              " 'Estrogen_Status',\n",
              " 'Progesterone_Status',\n",
              " 'Regional_Node_Examined',\n",
              " 'Reginol_Node_Positive',\n",
              " 'Survival_Months',\n",
              " 'Mortality_Status']"
            ]
          },
          "metadata": {},
          "execution_count": 75
        }
      ]
    },
    {
      "cell_type": "markdown",
      "source": [
        "Codereuse Session Question 05"
      ],
      "metadata": {
        "id": "zDqqySxcMFV_"
      }
    },
    {
      "cell_type": "code",
      "source": [
        "# Display data types and non-null counts\n",
        "print(\"Data Types and Non-Null Counts:\")\n",
        "df.info()"
      ],
      "metadata": {
        "colab": {
          "base_uri": "https://localhost:8080/"
        },
        "id": "ZRaSiDDA9Byr",
        "outputId": "03732569-aec8-469a-8119-c72257bf45cd"
      },
      "execution_count": null,
      "outputs": [
        {
          "output_type": "stream",
          "name": "stdout",
          "text": [
            "Data Types and Non-Null Counts:\n",
            "<class 'pandas.core.frame.DataFrame'>\n",
            "RangeIndex: 4024 entries, 0 to 4023\n",
            "Data columns (total 18 columns):\n",
            " #   Column                  Non-Null Count  Dtype  \n",
            "---  ------                  --------------  -----  \n",
            " 0   Patient_ID              4024 non-null   object \n",
            " 1   Month_of_Birth          4024 non-null   int64  \n",
            " 2   Age                     4015 non-null   float64\n",
            " 3   Sex                     4020 non-null   object \n",
            " 4   Occupation              43 non-null     object \n",
            " 5   T_Stage                 4024 non-null   object \n",
            " 6   N_Stage                 4024 non-null   object \n",
            " 7   6th_Stage               4024 non-null   object \n",
            " 8   Differentiated          4024 non-null   object \n",
            " 9   Grade                   4024 non-null   int64  \n",
            " 10  A_Stage                 4024 non-null   object \n",
            " 11  Tumor_Size              4021 non-null   float64\n",
            " 12  Estrogen_Status         4024 non-null   object \n",
            " 13  Progesterone_Status     4024 non-null   object \n",
            " 14  Regional_Node_Examined  4023 non-null   float64\n",
            " 15  Reginol_Node_Positive   4024 non-null   int64  \n",
            " 16  Survival_Months         4024 non-null   int64  \n",
            " 17  Mortality_Status        4024 non-null   object \n",
            "dtypes: float64(3), int64(4), object(11)\n",
            "memory usage: 566.0+ KB\n"
          ]
        }
      ]
    },
    {
      "cell_type": "markdown",
      "source": [
        "Codereuse Session Question 06"
      ],
      "metadata": {
        "id": "ueVPX53-MJov"
      }
    },
    {
      "cell_type": "code",
      "source": [
        "# Print the shape (rows, columns) of the dataset\n",
        "df.shape"
      ],
      "metadata": {
        "colab": {
          "base_uri": "https://localhost:8080/"
        },
        "id": "JjO0AfFw9Dkq",
        "outputId": "0234cdad-2821-4304-bebd-16be6dc5722a"
      },
      "execution_count": null,
      "outputs": [
        {
          "output_type": "execute_result",
          "data": {
            "text/plain": [
              "(4024, 18)"
            ]
          },
          "metadata": {},
          "execution_count": 77
        }
      ]
    },
    {
      "cell_type": "markdown",
      "source": [
        "Codereuse Session Question 07"
      ],
      "metadata": {
        "id": "tMhop7i6MLuP"
      }
    },
    {
      "cell_type": "code",
      "source": [
        "df.describe().transpose()"
      ],
      "metadata": {
        "colab": {
          "base_uri": "https://localhost:8080/",
          "height": 289
        },
        "id": "aWCdr00I9Lxr",
        "outputId": "58651716-a50d-4566-d991-4e99eeaf788f"
      },
      "execution_count": null,
      "outputs": [
        {
          "output_type": "execute_result",
          "data": {
            "text/plain": [
              "                         count       mean        std   min   25%   50%   75%  \\\n",
              "Month_of_Birth          4024.0   6.481362   3.475442   1.0   3.0   6.0  10.0   \n",
              "Age                     4015.0  54.107098  11.715528 -50.0  47.0  54.0  61.0   \n",
              "Grade                   4024.0   2.150596   0.638234   1.0   2.0   2.0   3.0   \n",
              "Tumor_Size              4021.0  30.419299  21.161080 -75.0  16.0  25.0  38.0   \n",
              "Regional_Node_Examined  4023.0  14.373602   8.129293   1.0   9.0  14.0  19.0   \n",
              "Reginol_Node_Positive   4024.0   4.158052   5.109331   1.0   1.0   2.0   5.0   \n",
              "Survival_Months         4024.0  71.472167  25.361855   1.0  56.0  73.0  90.0   \n",
              "\n",
              "                          max  \n",
              "Month_of_Birth           12.0  \n",
              "Age                     502.0  \n",
              "Grade                     4.0  \n",
              "Tumor_Size              140.0  \n",
              "Regional_Node_Examined   61.0  \n",
              "Reginol_Node_Positive    46.0  \n",
              "Survival_Months         760.0  "
            ],
            "text/html": [
              "\n",
              "  <div id=\"df-661a6106-826f-4ce6-926b-134bd6de6dd6\" class=\"colab-df-container\">\n",
              "    <div>\n",
              "<style scoped>\n",
              "    .dataframe tbody tr th:only-of-type {\n",
              "        vertical-align: middle;\n",
              "    }\n",
              "\n",
              "    .dataframe tbody tr th {\n",
              "        vertical-align: top;\n",
              "    }\n",
              "\n",
              "    .dataframe thead th {\n",
              "        text-align: right;\n",
              "    }\n",
              "</style>\n",
              "<table border=\"1\" class=\"dataframe\">\n",
              "  <thead>\n",
              "    <tr style=\"text-align: right;\">\n",
              "      <th></th>\n",
              "      <th>count</th>\n",
              "      <th>mean</th>\n",
              "      <th>std</th>\n",
              "      <th>min</th>\n",
              "      <th>25%</th>\n",
              "      <th>50%</th>\n",
              "      <th>75%</th>\n",
              "      <th>max</th>\n",
              "    </tr>\n",
              "  </thead>\n",
              "  <tbody>\n",
              "    <tr>\n",
              "      <th>Month_of_Birth</th>\n",
              "      <td>4024.0</td>\n",
              "      <td>6.481362</td>\n",
              "      <td>3.475442</td>\n",
              "      <td>1.0</td>\n",
              "      <td>3.0</td>\n",
              "      <td>6.0</td>\n",
              "      <td>10.0</td>\n",
              "      <td>12.0</td>\n",
              "    </tr>\n",
              "    <tr>\n",
              "      <th>Age</th>\n",
              "      <td>4015.0</td>\n",
              "      <td>54.107098</td>\n",
              "      <td>11.715528</td>\n",
              "      <td>-50.0</td>\n",
              "      <td>47.0</td>\n",
              "      <td>54.0</td>\n",
              "      <td>61.0</td>\n",
              "      <td>502.0</td>\n",
              "    </tr>\n",
              "    <tr>\n",
              "      <th>Grade</th>\n",
              "      <td>4024.0</td>\n",
              "      <td>2.150596</td>\n",
              "      <td>0.638234</td>\n",
              "      <td>1.0</td>\n",
              "      <td>2.0</td>\n",
              "      <td>2.0</td>\n",
              "      <td>3.0</td>\n",
              "      <td>4.0</td>\n",
              "    </tr>\n",
              "    <tr>\n",
              "      <th>Tumor_Size</th>\n",
              "      <td>4021.0</td>\n",
              "      <td>30.419299</td>\n",
              "      <td>21.161080</td>\n",
              "      <td>-75.0</td>\n",
              "      <td>16.0</td>\n",
              "      <td>25.0</td>\n",
              "      <td>38.0</td>\n",
              "      <td>140.0</td>\n",
              "    </tr>\n",
              "    <tr>\n",
              "      <th>Regional_Node_Examined</th>\n",
              "      <td>4023.0</td>\n",
              "      <td>14.373602</td>\n",
              "      <td>8.129293</td>\n",
              "      <td>1.0</td>\n",
              "      <td>9.0</td>\n",
              "      <td>14.0</td>\n",
              "      <td>19.0</td>\n",
              "      <td>61.0</td>\n",
              "    </tr>\n",
              "    <tr>\n",
              "      <th>Reginol_Node_Positive</th>\n",
              "      <td>4024.0</td>\n",
              "      <td>4.158052</td>\n",
              "      <td>5.109331</td>\n",
              "      <td>1.0</td>\n",
              "      <td>1.0</td>\n",
              "      <td>2.0</td>\n",
              "      <td>5.0</td>\n",
              "      <td>46.0</td>\n",
              "    </tr>\n",
              "    <tr>\n",
              "      <th>Survival_Months</th>\n",
              "      <td>4024.0</td>\n",
              "      <td>71.472167</td>\n",
              "      <td>25.361855</td>\n",
              "      <td>1.0</td>\n",
              "      <td>56.0</td>\n",
              "      <td>73.0</td>\n",
              "      <td>90.0</td>\n",
              "      <td>760.0</td>\n",
              "    </tr>\n",
              "  </tbody>\n",
              "</table>\n",
              "</div>\n",
              "    <div class=\"colab-df-buttons\">\n",
              "\n",
              "  <div class=\"colab-df-container\">\n",
              "    <button class=\"colab-df-convert\" onclick=\"convertToInteractive('df-661a6106-826f-4ce6-926b-134bd6de6dd6')\"\n",
              "            title=\"Convert this dataframe to an interactive table.\"\n",
              "            style=\"display:none;\">\n",
              "\n",
              "  <svg xmlns=\"http://www.w3.org/2000/svg\" height=\"24px\" viewBox=\"0 -960 960 960\">\n",
              "    <path d=\"M120-120v-720h720v720H120Zm60-500h600v-160H180v160Zm220 220h160v-160H400v160Zm0 220h160v-160H400v160ZM180-400h160v-160H180v160Zm440 0h160v-160H620v160ZM180-180h160v-160H180v160Zm440 0h160v-160H620v160Z\"/>\n",
              "  </svg>\n",
              "    </button>\n",
              "\n",
              "  <style>\n",
              "    .colab-df-container {\n",
              "      display:flex;\n",
              "      gap: 12px;\n",
              "    }\n",
              "\n",
              "    .colab-df-convert {\n",
              "      background-color: #E8F0FE;\n",
              "      border: none;\n",
              "      border-radius: 50%;\n",
              "      cursor: pointer;\n",
              "      display: none;\n",
              "      fill: #1967D2;\n",
              "      height: 32px;\n",
              "      padding: 0 0 0 0;\n",
              "      width: 32px;\n",
              "    }\n",
              "\n",
              "    .colab-df-convert:hover {\n",
              "      background-color: #E2EBFA;\n",
              "      box-shadow: 0px 1px 2px rgba(60, 64, 67, 0.3), 0px 1px 3px 1px rgba(60, 64, 67, 0.15);\n",
              "      fill: #174EA6;\n",
              "    }\n",
              "\n",
              "    .colab-df-buttons div {\n",
              "      margin-bottom: 4px;\n",
              "    }\n",
              "\n",
              "    [theme=dark] .colab-df-convert {\n",
              "      background-color: #3B4455;\n",
              "      fill: #D2E3FC;\n",
              "    }\n",
              "\n",
              "    [theme=dark] .colab-df-convert:hover {\n",
              "      background-color: #434B5C;\n",
              "      box-shadow: 0px 1px 3px 1px rgba(0, 0, 0, 0.15);\n",
              "      filter: drop-shadow(0px 1px 2px rgba(0, 0, 0, 0.3));\n",
              "      fill: #FFFFFF;\n",
              "    }\n",
              "  </style>\n",
              "\n",
              "    <script>\n",
              "      const buttonEl =\n",
              "        document.querySelector('#df-661a6106-826f-4ce6-926b-134bd6de6dd6 button.colab-df-convert');\n",
              "      buttonEl.style.display =\n",
              "        google.colab.kernel.accessAllowed ? 'block' : 'none';\n",
              "\n",
              "      async function convertToInteractive(key) {\n",
              "        const element = document.querySelector('#df-661a6106-826f-4ce6-926b-134bd6de6dd6');\n",
              "        const dataTable =\n",
              "          await google.colab.kernel.invokeFunction('convertToInteractive',\n",
              "                                                    [key], {});\n",
              "        if (!dataTable) return;\n",
              "\n",
              "        const docLinkHtml = 'Like what you see? Visit the ' +\n",
              "          '<a target=\"_blank\" href=https://colab.research.google.com/notebooks/data_table.ipynb>data table notebook</a>'\n",
              "          + ' to learn more about interactive tables.';\n",
              "        element.innerHTML = '';\n",
              "        dataTable['output_type'] = 'display_data';\n",
              "        await google.colab.output.renderOutput(dataTable, element);\n",
              "        const docLink = document.createElement('div');\n",
              "        docLink.innerHTML = docLinkHtml;\n",
              "        element.appendChild(docLink);\n",
              "      }\n",
              "    </script>\n",
              "  </div>\n",
              "\n",
              "\n",
              "<div id=\"df-218232a5-5571-4c24-b4f9-6e33516b790d\">\n",
              "  <button class=\"colab-df-quickchart\" onclick=\"quickchart('df-218232a5-5571-4c24-b4f9-6e33516b790d')\"\n",
              "            title=\"Suggest charts\"\n",
              "            style=\"display:none;\">\n",
              "\n",
              "<svg xmlns=\"http://www.w3.org/2000/svg\" height=\"24px\"viewBox=\"0 0 24 24\"\n",
              "     width=\"24px\">\n",
              "    <g>\n",
              "        <path d=\"M19 3H5c-1.1 0-2 .9-2 2v14c0 1.1.9 2 2 2h14c1.1 0 2-.9 2-2V5c0-1.1-.9-2-2-2zM9 17H7v-7h2v7zm4 0h-2V7h2v10zm4 0h-2v-4h2v4z\"/>\n",
              "    </g>\n",
              "</svg>\n",
              "  </button>\n",
              "\n",
              "<style>\n",
              "  .colab-df-quickchart {\n",
              "      --bg-color: #E8F0FE;\n",
              "      --fill-color: #1967D2;\n",
              "      --hover-bg-color: #E2EBFA;\n",
              "      --hover-fill-color: #174EA6;\n",
              "      --disabled-fill-color: #AAA;\n",
              "      --disabled-bg-color: #DDD;\n",
              "  }\n",
              "\n",
              "  [theme=dark] .colab-df-quickchart {\n",
              "      --bg-color: #3B4455;\n",
              "      --fill-color: #D2E3FC;\n",
              "      --hover-bg-color: #434B5C;\n",
              "      --hover-fill-color: #FFFFFF;\n",
              "      --disabled-bg-color: #3B4455;\n",
              "      --disabled-fill-color: #666;\n",
              "  }\n",
              "\n",
              "  .colab-df-quickchart {\n",
              "    background-color: var(--bg-color);\n",
              "    border: none;\n",
              "    border-radius: 50%;\n",
              "    cursor: pointer;\n",
              "    display: none;\n",
              "    fill: var(--fill-color);\n",
              "    height: 32px;\n",
              "    padding: 0;\n",
              "    width: 32px;\n",
              "  }\n",
              "\n",
              "  .colab-df-quickchart:hover {\n",
              "    background-color: var(--hover-bg-color);\n",
              "    box-shadow: 0 1px 2px rgba(60, 64, 67, 0.3), 0 1px 3px 1px rgba(60, 64, 67, 0.15);\n",
              "    fill: var(--button-hover-fill-color);\n",
              "  }\n",
              "\n",
              "  .colab-df-quickchart-complete:disabled,\n",
              "  .colab-df-quickchart-complete:disabled:hover {\n",
              "    background-color: var(--disabled-bg-color);\n",
              "    fill: var(--disabled-fill-color);\n",
              "    box-shadow: none;\n",
              "  }\n",
              "\n",
              "  .colab-df-spinner {\n",
              "    border: 2px solid var(--fill-color);\n",
              "    border-color: transparent;\n",
              "    border-bottom-color: var(--fill-color);\n",
              "    animation:\n",
              "      spin 1s steps(1) infinite;\n",
              "  }\n",
              "\n",
              "  @keyframes spin {\n",
              "    0% {\n",
              "      border-color: transparent;\n",
              "      border-bottom-color: var(--fill-color);\n",
              "      border-left-color: var(--fill-color);\n",
              "    }\n",
              "    20% {\n",
              "      border-color: transparent;\n",
              "      border-left-color: var(--fill-color);\n",
              "      border-top-color: var(--fill-color);\n",
              "    }\n",
              "    30% {\n",
              "      border-color: transparent;\n",
              "      border-left-color: var(--fill-color);\n",
              "      border-top-color: var(--fill-color);\n",
              "      border-right-color: var(--fill-color);\n",
              "    }\n",
              "    40% {\n",
              "      border-color: transparent;\n",
              "      border-right-color: var(--fill-color);\n",
              "      border-top-color: var(--fill-color);\n",
              "    }\n",
              "    60% {\n",
              "      border-color: transparent;\n",
              "      border-right-color: var(--fill-color);\n",
              "    }\n",
              "    80% {\n",
              "      border-color: transparent;\n",
              "      border-right-color: var(--fill-color);\n",
              "      border-bottom-color: var(--fill-color);\n",
              "    }\n",
              "    90% {\n",
              "      border-color: transparent;\n",
              "      border-bottom-color: var(--fill-color);\n",
              "    }\n",
              "  }\n",
              "</style>\n",
              "\n",
              "  <script>\n",
              "    async function quickchart(key) {\n",
              "      const quickchartButtonEl =\n",
              "        document.querySelector('#' + key + ' button');\n",
              "      quickchartButtonEl.disabled = true;  // To prevent multiple clicks.\n",
              "      quickchartButtonEl.classList.add('colab-df-spinner');\n",
              "      try {\n",
              "        const charts = await google.colab.kernel.invokeFunction(\n",
              "            'suggestCharts', [key], {});\n",
              "      } catch (error) {\n",
              "        console.error('Error during call to suggestCharts:', error);\n",
              "      }\n",
              "      quickchartButtonEl.classList.remove('colab-df-spinner');\n",
              "      quickchartButtonEl.classList.add('colab-df-quickchart-complete');\n",
              "    }\n",
              "    (() => {\n",
              "      let quickchartButtonEl =\n",
              "        document.querySelector('#df-218232a5-5571-4c24-b4f9-6e33516b790d button');\n",
              "      quickchartButtonEl.style.display =\n",
              "        google.colab.kernel.accessAllowed ? 'block' : 'none';\n",
              "    })();\n",
              "  </script>\n",
              "</div>\n",
              "\n",
              "    </div>\n",
              "  </div>\n"
            ],
            "application/vnd.google.colaboratory.intrinsic+json": {
              "type": "dataframe",
              "summary": "{\n  \"name\": \"df\",\n  \"rows\": 7,\n  \"fields\": [\n    {\n      \"column\": \"count\",\n      \"properties\": {\n        \"dtype\": \"number\",\n        \"std\": 3.33809184158512,\n        \"min\": 4015.0,\n        \"max\": 4024.0,\n        \"num_unique_values\": 4,\n        \"samples\": [\n          4015.0,\n          4023.0,\n          4024.0\n        ],\n        \"semantic_type\": \"\",\n        \"description\": \"\"\n      }\n    },\n    {\n      \"column\": \"mean\",\n      \"properties\": {\n        \"dtype\": \"number\",\n        \"std\": 27.200120495441606,\n        \"min\": 2.150596421471173,\n        \"max\": 71.47216699801193,\n        \"num_unique_values\": 7,\n        \"samples\": [\n          6.481361829025845,\n          54.10709838107098,\n          4.158051689860835\n        ],\n        \"semantic_type\": \"\",\n        \"description\": \"\"\n      }\n    },\n    {\n      \"column\": \"std\",\n      \"properties\": {\n        \"dtype\": \"number\",\n        \"std\": 9.279590574532103,\n        \"min\": 0.6382338311415823,\n        \"max\": 25.361854910280634,\n        \"num_unique_values\": 7,\n        \"samples\": [\n          3.475442133121385,\n          11.715528128359864,\n          5.10933112162216\n        ],\n        \"semantic_type\": \"\",\n        \"description\": \"\"\n      }\n    },\n    {\n      \"column\": \"min\",\n      \"properties\": {\n        \"dtype\": \"number\",\n        \"std\": 31.814192699844785,\n        \"min\": -75.0,\n        \"max\": 1.0,\n        \"num_unique_values\": 3,\n        \"samples\": [\n          1.0,\n          -50.0,\n          -75.0\n        ],\n        \"semantic_type\": \"\",\n        \"description\": \"\"\n      }\n    },\n    {\n      \"column\": \"25%\",\n      \"properties\": {\n        \"dtype\": \"number\",\n        \"std\": 22.843150479071923,\n        \"min\": 1.0,\n        \"max\": 56.0,\n        \"num_unique_values\": 7,\n        \"samples\": [\n          3.0,\n          47.0,\n          1.0\n        ],\n        \"semantic_type\": \"\",\n        \"description\": \"\"\n      }\n    },\n    {\n      \"column\": \"50%\",\n      \"properties\": {\n        \"dtype\": \"number\",\n        \"std\": 27.942969130168038,\n        \"min\": 2.0,\n        \"max\": 73.0,\n        \"num_unique_values\": 6,\n        \"samples\": [\n          6.0,\n          54.0,\n          73.0\n        ],\n        \"semantic_type\": \"\",\n        \"description\": \"\"\n      }\n    },\n    {\n      \"column\": \"75%\",\n      \"properties\": {\n        \"dtype\": \"number\",\n        \"std\": 32.8213055078267,\n        \"min\": 3.0,\n        \"max\": 90.0,\n        \"num_unique_values\": 7,\n        \"samples\": [\n          10.0,\n          61.0,\n          5.0\n        ],\n        \"semantic_type\": \"\",\n        \"description\": \"\"\n      }\n    },\n    {\n      \"column\": \"max\",\n      \"properties\": {\n        \"dtype\": \"number\",\n        \"std\": 295.2312249584657,\n        \"min\": 4.0,\n        \"max\": 760.0,\n        \"num_unique_values\": 7,\n        \"samples\": [\n          12.0,\n          502.0,\n          46.0\n        ],\n        \"semantic_type\": \"\",\n        \"description\": \"\"\n      }\n    }\n  ]\n}"
            }
          },
          "metadata": {},
          "execution_count": 78
        }
      ]
    },
    {
      "cell_type": "markdown",
      "source": [
        "Codereuse Session Question 08"
      ],
      "metadata": {
        "id": "aK3OYJKwMQik"
      }
    },
    {
      "cell_type": "code",
      "source": [
        "# Display descriptive statistics (mean, std, etc.)\n",
        "print(\"\\nDescriptive Statistics:\")\n",
        "df.describe(include='object')"
      ],
      "metadata": {
        "colab": {
          "base_uri": "https://localhost:8080/",
          "height": 247
        },
        "id": "TYhhQZfK9Rt-",
        "outputId": "88b7381c-76ca-4eb7-a884-486e0fa9dfd1"
      },
      "execution_count": null,
      "outputs": [
        {
          "output_type": "stream",
          "name": "stdout",
          "text": [
            "\n",
            "Descriptive Statistics:\n"
          ]
        },
        {
          "output_type": "execute_result",
          "data": {
            "text/plain": [
              "       Patient_ID     Sex    Occupation T_Stage N_Stage 6th_Stage  \\\n",
              "count        4024    4020            43    4024    4024      4024   \n",
              "unique       4024       2            40       4       3         5   \n",
              "top         A0012  Female  House Person      T2      N1       IIA   \n",
              "freq            1    4001             2    1786    2732      1305   \n",
              "\n",
              "                   Differentiated   A_Stage Estrogen_Status  \\\n",
              "count                        4024      4024            4024   \n",
              "unique                          4         2               2   \n",
              "top     Moderately differentiated  Regional        Positive   \n",
              "freq                         2351      3932            3755   \n",
              "\n",
              "       Progesterone_Status Mortality_Status  \n",
              "count                 4024             4024  \n",
              "unique                   2                7  \n",
              "top               Positive            Alive  \n",
              "freq                  3326             3399  "
            ],
            "text/html": [
              "\n",
              "  <div id=\"df-df0cd35d-e1d2-40ef-bc54-ea5006a3a62e\" class=\"colab-df-container\">\n",
              "    <div>\n",
              "<style scoped>\n",
              "    .dataframe tbody tr th:only-of-type {\n",
              "        vertical-align: middle;\n",
              "    }\n",
              "\n",
              "    .dataframe tbody tr th {\n",
              "        vertical-align: top;\n",
              "    }\n",
              "\n",
              "    .dataframe thead th {\n",
              "        text-align: right;\n",
              "    }\n",
              "</style>\n",
              "<table border=\"1\" class=\"dataframe\">\n",
              "  <thead>\n",
              "    <tr style=\"text-align: right;\">\n",
              "      <th></th>\n",
              "      <th>Patient_ID</th>\n",
              "      <th>Sex</th>\n",
              "      <th>Occupation</th>\n",
              "      <th>T_Stage</th>\n",
              "      <th>N_Stage</th>\n",
              "      <th>6th_Stage</th>\n",
              "      <th>Differentiated</th>\n",
              "      <th>A_Stage</th>\n",
              "      <th>Estrogen_Status</th>\n",
              "      <th>Progesterone_Status</th>\n",
              "      <th>Mortality_Status</th>\n",
              "    </tr>\n",
              "  </thead>\n",
              "  <tbody>\n",
              "    <tr>\n",
              "      <th>count</th>\n",
              "      <td>4024</td>\n",
              "      <td>4020</td>\n",
              "      <td>43</td>\n",
              "      <td>4024</td>\n",
              "      <td>4024</td>\n",
              "      <td>4024</td>\n",
              "      <td>4024</td>\n",
              "      <td>4024</td>\n",
              "      <td>4024</td>\n",
              "      <td>4024</td>\n",
              "      <td>4024</td>\n",
              "    </tr>\n",
              "    <tr>\n",
              "      <th>unique</th>\n",
              "      <td>4024</td>\n",
              "      <td>2</td>\n",
              "      <td>40</td>\n",
              "      <td>4</td>\n",
              "      <td>3</td>\n",
              "      <td>5</td>\n",
              "      <td>4</td>\n",
              "      <td>2</td>\n",
              "      <td>2</td>\n",
              "      <td>2</td>\n",
              "      <td>7</td>\n",
              "    </tr>\n",
              "    <tr>\n",
              "      <th>top</th>\n",
              "      <td>A0012</td>\n",
              "      <td>Female</td>\n",
              "      <td>House Person</td>\n",
              "      <td>T2</td>\n",
              "      <td>N1</td>\n",
              "      <td>IIA</td>\n",
              "      <td>Moderately differentiated</td>\n",
              "      <td>Regional</td>\n",
              "      <td>Positive</td>\n",
              "      <td>Positive</td>\n",
              "      <td>Alive</td>\n",
              "    </tr>\n",
              "    <tr>\n",
              "      <th>freq</th>\n",
              "      <td>1</td>\n",
              "      <td>4001</td>\n",
              "      <td>2</td>\n",
              "      <td>1786</td>\n",
              "      <td>2732</td>\n",
              "      <td>1305</td>\n",
              "      <td>2351</td>\n",
              "      <td>3932</td>\n",
              "      <td>3755</td>\n",
              "      <td>3326</td>\n",
              "      <td>3399</td>\n",
              "    </tr>\n",
              "  </tbody>\n",
              "</table>\n",
              "</div>\n",
              "    <div class=\"colab-df-buttons\">\n",
              "\n",
              "  <div class=\"colab-df-container\">\n",
              "    <button class=\"colab-df-convert\" onclick=\"convertToInteractive('df-df0cd35d-e1d2-40ef-bc54-ea5006a3a62e')\"\n",
              "            title=\"Convert this dataframe to an interactive table.\"\n",
              "            style=\"display:none;\">\n",
              "\n",
              "  <svg xmlns=\"http://www.w3.org/2000/svg\" height=\"24px\" viewBox=\"0 -960 960 960\">\n",
              "    <path d=\"M120-120v-720h720v720H120Zm60-500h600v-160H180v160Zm220 220h160v-160H400v160Zm0 220h160v-160H400v160ZM180-400h160v-160H180v160Zm440 0h160v-160H620v160ZM180-180h160v-160H180v160Zm440 0h160v-160H620v160Z\"/>\n",
              "  </svg>\n",
              "    </button>\n",
              "\n",
              "  <style>\n",
              "    .colab-df-container {\n",
              "      display:flex;\n",
              "      gap: 12px;\n",
              "    }\n",
              "\n",
              "    .colab-df-convert {\n",
              "      background-color: #E8F0FE;\n",
              "      border: none;\n",
              "      border-radius: 50%;\n",
              "      cursor: pointer;\n",
              "      display: none;\n",
              "      fill: #1967D2;\n",
              "      height: 32px;\n",
              "      padding: 0 0 0 0;\n",
              "      width: 32px;\n",
              "    }\n",
              "\n",
              "    .colab-df-convert:hover {\n",
              "      background-color: #E2EBFA;\n",
              "      box-shadow: 0px 1px 2px rgba(60, 64, 67, 0.3), 0px 1px 3px 1px rgba(60, 64, 67, 0.15);\n",
              "      fill: #174EA6;\n",
              "    }\n",
              "\n",
              "    .colab-df-buttons div {\n",
              "      margin-bottom: 4px;\n",
              "    }\n",
              "\n",
              "    [theme=dark] .colab-df-convert {\n",
              "      background-color: #3B4455;\n",
              "      fill: #D2E3FC;\n",
              "    }\n",
              "\n",
              "    [theme=dark] .colab-df-convert:hover {\n",
              "      background-color: #434B5C;\n",
              "      box-shadow: 0px 1px 3px 1px rgba(0, 0, 0, 0.15);\n",
              "      filter: drop-shadow(0px 1px 2px rgba(0, 0, 0, 0.3));\n",
              "      fill: #FFFFFF;\n",
              "    }\n",
              "  </style>\n",
              "\n",
              "    <script>\n",
              "      const buttonEl =\n",
              "        document.querySelector('#df-df0cd35d-e1d2-40ef-bc54-ea5006a3a62e button.colab-df-convert');\n",
              "      buttonEl.style.display =\n",
              "        google.colab.kernel.accessAllowed ? 'block' : 'none';\n",
              "\n",
              "      async function convertToInteractive(key) {\n",
              "        const element = document.querySelector('#df-df0cd35d-e1d2-40ef-bc54-ea5006a3a62e');\n",
              "        const dataTable =\n",
              "          await google.colab.kernel.invokeFunction('convertToInteractive',\n",
              "                                                    [key], {});\n",
              "        if (!dataTable) return;\n",
              "\n",
              "        const docLinkHtml = 'Like what you see? Visit the ' +\n",
              "          '<a target=\"_blank\" href=https://colab.research.google.com/notebooks/data_table.ipynb>data table notebook</a>'\n",
              "          + ' to learn more about interactive tables.';\n",
              "        element.innerHTML = '';\n",
              "        dataTable['output_type'] = 'display_data';\n",
              "        await google.colab.output.renderOutput(dataTable, element);\n",
              "        const docLink = document.createElement('div');\n",
              "        docLink.innerHTML = docLinkHtml;\n",
              "        element.appendChild(docLink);\n",
              "      }\n",
              "    </script>\n",
              "  </div>\n",
              "\n",
              "\n",
              "<div id=\"df-9a22affc-f199-4c13-80d2-e415d07621c9\">\n",
              "  <button class=\"colab-df-quickchart\" onclick=\"quickchart('df-9a22affc-f199-4c13-80d2-e415d07621c9')\"\n",
              "            title=\"Suggest charts\"\n",
              "            style=\"display:none;\">\n",
              "\n",
              "<svg xmlns=\"http://www.w3.org/2000/svg\" height=\"24px\"viewBox=\"0 0 24 24\"\n",
              "     width=\"24px\">\n",
              "    <g>\n",
              "        <path d=\"M19 3H5c-1.1 0-2 .9-2 2v14c0 1.1.9 2 2 2h14c1.1 0 2-.9 2-2V5c0-1.1-.9-2-2-2zM9 17H7v-7h2v7zm4 0h-2V7h2v10zm4 0h-2v-4h2v4z\"/>\n",
              "    </g>\n",
              "</svg>\n",
              "  </button>\n",
              "\n",
              "<style>\n",
              "  .colab-df-quickchart {\n",
              "      --bg-color: #E8F0FE;\n",
              "      --fill-color: #1967D2;\n",
              "      --hover-bg-color: #E2EBFA;\n",
              "      --hover-fill-color: #174EA6;\n",
              "      --disabled-fill-color: #AAA;\n",
              "      --disabled-bg-color: #DDD;\n",
              "  }\n",
              "\n",
              "  [theme=dark] .colab-df-quickchart {\n",
              "      --bg-color: #3B4455;\n",
              "      --fill-color: #D2E3FC;\n",
              "      --hover-bg-color: #434B5C;\n",
              "      --hover-fill-color: #FFFFFF;\n",
              "      --disabled-bg-color: #3B4455;\n",
              "      --disabled-fill-color: #666;\n",
              "  }\n",
              "\n",
              "  .colab-df-quickchart {\n",
              "    background-color: var(--bg-color);\n",
              "    border: none;\n",
              "    border-radius: 50%;\n",
              "    cursor: pointer;\n",
              "    display: none;\n",
              "    fill: var(--fill-color);\n",
              "    height: 32px;\n",
              "    padding: 0;\n",
              "    width: 32px;\n",
              "  }\n",
              "\n",
              "  .colab-df-quickchart:hover {\n",
              "    background-color: var(--hover-bg-color);\n",
              "    box-shadow: 0 1px 2px rgba(60, 64, 67, 0.3), 0 1px 3px 1px rgba(60, 64, 67, 0.15);\n",
              "    fill: var(--button-hover-fill-color);\n",
              "  }\n",
              "\n",
              "  .colab-df-quickchart-complete:disabled,\n",
              "  .colab-df-quickchart-complete:disabled:hover {\n",
              "    background-color: var(--disabled-bg-color);\n",
              "    fill: var(--disabled-fill-color);\n",
              "    box-shadow: none;\n",
              "  }\n",
              "\n",
              "  .colab-df-spinner {\n",
              "    border: 2px solid var(--fill-color);\n",
              "    border-color: transparent;\n",
              "    border-bottom-color: var(--fill-color);\n",
              "    animation:\n",
              "      spin 1s steps(1) infinite;\n",
              "  }\n",
              "\n",
              "  @keyframes spin {\n",
              "    0% {\n",
              "      border-color: transparent;\n",
              "      border-bottom-color: var(--fill-color);\n",
              "      border-left-color: var(--fill-color);\n",
              "    }\n",
              "    20% {\n",
              "      border-color: transparent;\n",
              "      border-left-color: var(--fill-color);\n",
              "      border-top-color: var(--fill-color);\n",
              "    }\n",
              "    30% {\n",
              "      border-color: transparent;\n",
              "      border-left-color: var(--fill-color);\n",
              "      border-top-color: var(--fill-color);\n",
              "      border-right-color: var(--fill-color);\n",
              "    }\n",
              "    40% {\n",
              "      border-color: transparent;\n",
              "      border-right-color: var(--fill-color);\n",
              "      border-top-color: var(--fill-color);\n",
              "    }\n",
              "    60% {\n",
              "      border-color: transparent;\n",
              "      border-right-color: var(--fill-color);\n",
              "    }\n",
              "    80% {\n",
              "      border-color: transparent;\n",
              "      border-right-color: var(--fill-color);\n",
              "      border-bottom-color: var(--fill-color);\n",
              "    }\n",
              "    90% {\n",
              "      border-color: transparent;\n",
              "      border-bottom-color: var(--fill-color);\n",
              "    }\n",
              "  }\n",
              "</style>\n",
              "\n",
              "  <script>\n",
              "    async function quickchart(key) {\n",
              "      const quickchartButtonEl =\n",
              "        document.querySelector('#' + key + ' button');\n",
              "      quickchartButtonEl.disabled = true;  // To prevent multiple clicks.\n",
              "      quickchartButtonEl.classList.add('colab-df-spinner');\n",
              "      try {\n",
              "        const charts = await google.colab.kernel.invokeFunction(\n",
              "            'suggestCharts', [key], {});\n",
              "      } catch (error) {\n",
              "        console.error('Error during call to suggestCharts:', error);\n",
              "      }\n",
              "      quickchartButtonEl.classList.remove('colab-df-spinner');\n",
              "      quickchartButtonEl.classList.add('colab-df-quickchart-complete');\n",
              "    }\n",
              "    (() => {\n",
              "      let quickchartButtonEl =\n",
              "        document.querySelector('#df-9a22affc-f199-4c13-80d2-e415d07621c9 button');\n",
              "      quickchartButtonEl.style.display =\n",
              "        google.colab.kernel.accessAllowed ? 'block' : 'none';\n",
              "    })();\n",
              "  </script>\n",
              "</div>\n",
              "\n",
              "    </div>\n",
              "  </div>\n"
            ],
            "application/vnd.google.colaboratory.intrinsic+json": {
              "type": "dataframe",
              "summary": "{\n  \"name\": \"df\",\n  \"rows\": 4,\n  \"fields\": [\n    {\n      \"column\": \"Patient_ID\",\n      \"properties\": {\n        \"dtype\": \"string\",\n        \"num_unique_values\": 3,\n        \"samples\": [\n          \"4024\",\n          \"A0012\",\n          \"1\"\n        ],\n        \"semantic_type\": \"\",\n        \"description\": \"\"\n      }\n    },\n    {\n      \"column\": \"Sex\",\n      \"properties\": {\n        \"dtype\": \"string\",\n        \"num_unique_values\": 4,\n        \"samples\": [\n          2,\n          \"4001\",\n          \"4020\"\n        ],\n        \"semantic_type\": \"\",\n        \"description\": \"\"\n      }\n    },\n    {\n      \"column\": \"Occupation\",\n      \"properties\": {\n        \"dtype\": \"string\",\n        \"num_unique_values\": 4,\n        \"samples\": [\n          40,\n          \"2\",\n          \"43\"\n        ],\n        \"semantic_type\": \"\",\n        \"description\": \"\"\n      }\n    },\n    {\n      \"column\": \"T_Stage\",\n      \"properties\": {\n        \"dtype\": \"string\",\n        \"num_unique_values\": 4,\n        \"samples\": [\n          4,\n          \"1786\",\n          \"4024\"\n        ],\n        \"semantic_type\": \"\",\n        \"description\": \"\"\n      }\n    },\n    {\n      \"column\": \"N_Stage\",\n      \"properties\": {\n        \"dtype\": \"string\",\n        \"num_unique_values\": 4,\n        \"samples\": [\n          3,\n          \"2732\",\n          \"4024\"\n        ],\n        \"semantic_type\": \"\",\n        \"description\": \"\"\n      }\n    },\n    {\n      \"column\": \"6th_Stage\",\n      \"properties\": {\n        \"dtype\": \"string\",\n        \"num_unique_values\": 4,\n        \"samples\": [\n          5,\n          \"1305\",\n          \"4024\"\n        ],\n        \"semantic_type\": \"\",\n        \"description\": \"\"\n      }\n    },\n    {\n      \"column\": \"Differentiated\",\n      \"properties\": {\n        \"dtype\": \"string\",\n        \"num_unique_values\": 4,\n        \"samples\": [\n          4,\n          \"2351\",\n          \"4024\"\n        ],\n        \"semantic_type\": \"\",\n        \"description\": \"\"\n      }\n    },\n    {\n      \"column\": \"A_Stage\",\n      \"properties\": {\n        \"dtype\": \"string\",\n        \"num_unique_values\": 4,\n        \"samples\": [\n          2,\n          \"3932\",\n          \"4024\"\n        ],\n        \"semantic_type\": \"\",\n        \"description\": \"\"\n      }\n    },\n    {\n      \"column\": \"Estrogen_Status\",\n      \"properties\": {\n        \"dtype\": \"string\",\n        \"num_unique_values\": 4,\n        \"samples\": [\n          2,\n          \"3755\",\n          \"4024\"\n        ],\n        \"semantic_type\": \"\",\n        \"description\": \"\"\n      }\n    },\n    {\n      \"column\": \"Progesterone_Status\",\n      \"properties\": {\n        \"dtype\": \"string\",\n        \"num_unique_values\": 4,\n        \"samples\": [\n          2,\n          \"3326\",\n          \"4024\"\n        ],\n        \"semantic_type\": \"\",\n        \"description\": \"\"\n      }\n    },\n    {\n      \"column\": \"Mortality_Status\",\n      \"properties\": {\n        \"dtype\": \"string\",\n        \"num_unique_values\": 4,\n        \"samples\": [\n          7,\n          \"3399\",\n          \"4024\"\n        ],\n        \"semantic_type\": \"\",\n        \"description\": \"\"\n      }\n    }\n  ]\n}"
            }
          },
          "metadata": {},
          "execution_count": 79
        }
      ]
    },
    {
      "cell_type": "markdown",
      "source": [
        "Codereuse Session Question 09"
      ],
      "metadata": {
        "id": "pwaMRD9kMVxW"
      }
    },
    {
      "cell_type": "code",
      "source": [
        "# Print the unique values for each column\n",
        "print(\"\\nUnique Values in Each Column:\")\n",
        "for column in df.columns:\n",
        "    unique_values = df[column].unique()\n",
        "    print(f\"\\nColumn '{column}':\")\n",
        "    print(unique_values)"
      ],
      "metadata": {
        "colab": {
          "base_uri": "https://localhost:8080/"
        },
        "id": "CPV5IE8B9Xx7",
        "outputId": "fa010972-f5d8-4a98-edb2-cf189e8ad2b3"
      },
      "execution_count": null,
      "outputs": [
        {
          "output_type": "stream",
          "name": "stdout",
          "text": [
            "\n",
            "Unique Values in Each Column:\n",
            "\n",
            "Column 'Patient_ID':\n",
            "['A0012' 'A0013' 'A0014' ... 'A4033' 'A4034' 'A4035']\n",
            "\n",
            "Column 'Month_of_Birth':\n",
            "[12 11  3  1  2  5  4  6  8  9  7 10]\n",
            "\n",
            "Column 'Age':\n",
            "[ 68.  50.  58.  47.  51.  40.  69.  46.  65.  48.  62.  61.  56.  43.\n",
            "  60.  57.  55.  63.  66.  53.  59.  54.  49.  64.  42.  nan  37.  67.\n",
            "  31.  52.  33.  45.  38.  39.  36. 180.  41.  44. -50.  32.  34. 502.\n",
            "  35.  30.  89.]\n",
            "\n",
            "Column 'Sex':\n",
            "['Female' '1' nan]\n",
            "\n",
            "Column 'Occupation':\n",
            "['Teaching' 'Medical' 'Engineering' 'Technology' 'Multimedia' 'Research'\n",
            " 'House Person' 'Reporting' 'Development' 'Construction' 'Leisure'\n",
            " 'Scoial work' 'Trading' 'Consultancy' 'Driving' 'Planning' 'Hospitality'\n",
            " 'Travel' 'Agriculture' 'Manufacturing' 'Photography' 'Finance' 'Business'\n",
            " 'Marketing' 'Training' 'Cleaning' 'Legal' 'Healthcare' 'Military' 'Sales'\n",
            " 'Entertainment' 'Sports' 'Arts' 'Design' 'Maintenance' 'Management'\n",
            " 'Human Resources' 'Administrative' 'Public' 'Politics' nan]\n",
            "\n",
            "Column 'T_Stage':\n",
            "['T1' 'T2' 'T3' 'T4']\n",
            "\n",
            "Column 'N_Stage':\n",
            "['N1' 'N2' 'N3']\n",
            "\n",
            "Column '6th_Stage':\n",
            "['IIA' 'IIIA' 'IIIC' 'IIB' 'IIIB']\n",
            "\n",
            "Column 'Differentiated':\n",
            "['Poorly differentiated' 'Moderately differentiated' 'Well differentiated'\n",
            " 'Undifferentiated']\n",
            "\n",
            "Column 'Grade':\n",
            "[3 2 1 4]\n",
            "\n",
            "Column 'A_Stage':\n",
            "['Regional' 'Distant']\n",
            "\n",
            "Column 'Tumor_Size':\n",
            "[  4.  35.  63.  18.  41.  20.   8.  30. 103.  32.  13.  59.  15.  19.\n",
            "  46.  24.  25.  29.  40.  70.  22.  50.  17.  21.  10.  27.  23.   5.\n",
            "  51.   9.  55. 120.  77.   2.  11.  12.  26.  75. 130.  34.  80.   3.\n",
            "  60.  14.  16.  45.  36.  76.  38.  49.   7.  72. 100.  43.  62.  37.\n",
            "  68. -75.  52.  85.  57.  39.  28.  48. 110.  65.   6. 105. 140.  42.\n",
            "  31.  90. 108.  98.  47.  54.  61.  74.  33.   1.  87.  nan  81.  58.\n",
            " 117.  44. 123. 133.  95. 107.  92.  69.  56.  82.  66.  78.  97.  88.\n",
            "  53.  83. 101.  84. 115.  73. 125. 104.  94.  86.  64.  96.  79.  67.]\n",
            "\n",
            "Column 'Estrogen_Status':\n",
            "['Positive' 'Negative']\n",
            "\n",
            "Column 'Progesterone_Status':\n",
            "['Positive' 'Negative']\n",
            "\n",
            "Column 'Regional_Node_Examined':\n",
            "[24. 14.  2.  3. 18. 11.  9. 20. 21. 13. 23. 16.  1. 22. 15.  4. 26. 31.\n",
            " 25. 10.  5.  6. 19. 12.  8. 17.  7. 49. 33. 30. 34. 28. 32. 27. 42. 29.\n",
            " nan 41. 39. 46. 40. 51. 44. 38. 47. 54. 36. 61. 60. 37. 35. 43. 52. 45.\n",
            " 57.]\n",
            "\n",
            "Column 'Reginol_Node_Positive':\n",
            "[ 1  5  7  2 18 12  3 14 22 17 23  4 10  6  9  8 20 16 13 11 24 27 21 26\n",
            " 15 28 19 29 31 46 33 37 30 35 25 32 41 34]\n",
            "\n",
            "Column 'Survival_Months':\n",
            "[ 60  62  75  84  50  89  54  14  70  92  64  56  38  49 105 107  77  81\n",
            "  78 102  98  82  86  52  90  31  37 103  42  61  63  39  59  71  74  73\n",
            "  91 106  80  44  85  79 104  12  95  55 101  65  72  57  87  40  25   8\n",
            "  53  58  24  66  69  93  94 100  96  41  67  51  13  11  47  23  45  68\n",
            "  76  15  16  99   7  48  88  34  97 760  83  17   3  22  30   6  32   9\n",
            "   5  10  19  18  35  27  36   4  29  33  26  20  28  43   1  46  21   2]\n",
            "\n",
            "Column 'Mortality_Status':\n",
            "['Alive' 'Dead' 'ALIVE' 'DEAD' 'ALive' 'alive' 'dead']\n"
          ]
        }
      ]
    },
    {
      "cell_type": "markdown",
      "source": [
        "Codereuse Session 01 (Week 5) Question 23"
      ],
      "metadata": {
        "id": "XtMD2QxxMcAb"
      }
    },
    {
      "cell_type": "code",
      "source": [
        "# Encode categorical columns into numerical values\n",
        "df['Mortality_Status'] = df['Mortality_Status'].str.lower().map({'dead': 1, 'alive': 0})\n",
        "df['T_Stage'] = df['T_Stage'].map({'T1': 0, 'T2': 1, 'T3': 2, 'T4': 3})\n",
        "df['N_Stage'] = df['N_Stage'].map({'N1': 0, 'N2': 1, 'N3': 2})\n",
        "df['6th_Stage'] = df['6th_Stage'].map({'IIA': 0, 'IIIA': 1, 'IIIC': 2, 'IIB': 3, 'IIIB': 4})\n",
        "df['Differentiated'] = df['Differentiated'].map({\n",
        "    'Poorly differentiated': 0,\n",
        "    'Moderately differentiated': 1,\n",
        "    'Well differentiated': 2,\n",
        "    'Undifferentiated': 3\n",
        "})\n",
        "df['A_Stage'] = df['A_Stage'].map({'Regional': 0, 'Distant': 1})\n",
        "df['Estrogen_Status'] = df['Estrogen_Status'].map({'Negative': 0, 'Positive': 1})\n",
        "df['Progesterone_Status'] = df['Progesterone_Status'].map({'Negative': 0, 'Positive': 1})\n"
      ],
      "metadata": {
        "id": "Cg8Huxpc9rMz"
      },
      "execution_count": null,
      "outputs": []
    },
    {
      "cell_type": "markdown",
      "source": [
        "Codereuse Session Question 12"
      ],
      "metadata": {
        "id": "-YgeuG42MfBc"
      }
    },
    {
      "cell_type": "code",
      "source": [
        "# Drop columns marked for removal\n",
        "df.drop(['Patient_ID', 'Month_of_Birth','Occupation'], axis=1, inplace=True)\n",
        "\n",
        "# Print dataset shape after dropping\n",
        "print(\"Post-drop shape:\", df.shape)"
      ],
      "metadata": {
        "colab": {
          "base_uri": "https://localhost:8080/"
        },
        "id": "y1GTpT6-9YuC",
        "outputId": "e30b7f31-d3c7-44bb-854f-25a2c9f72892"
      },
      "execution_count": null,
      "outputs": [
        {
          "output_type": "stream",
          "name": "stdout",
          "text": [
            "Post-drop shape: (4024, 15)\n"
          ]
        }
      ]
    },
    {
      "cell_type": "markdown",
      "source": [
        "Codereuse Session Question 11"
      ],
      "metadata": {
        "id": "EvWNbwuZMklZ"
      }
    },
    {
      "cell_type": "code",
      "source": [
        "# Calculate percentage of missing values in each column\n",
        "print(\"Percentage of missing values\")\n",
        "print(df.isna().sum() / len(df) * 10)\n",
        "#missing values count\n",
        "print(\"\\n Count of missing values\")\n",
        "print(df.isnull().sum())"
      ],
      "metadata": {
        "colab": {
          "base_uri": "https://localhost:8080/"
        },
        "id": "e2FeU1xa9dU5",
        "outputId": "2c5a5894-21d5-4d59-89ff-63b33cd3f11b"
      },
      "execution_count": null,
      "outputs": [
        {
          "output_type": "stream",
          "name": "stdout",
          "text": [
            "Percentage of missing values\n",
            "Age                       0.022366\n",
            "Sex                       0.009940\n",
            "T_Stage                   0.000000\n",
            "N_Stage                   0.000000\n",
            "6th_Stage                 0.000000\n",
            "Differentiated            0.000000\n",
            "Grade                     0.000000\n",
            "A_Stage                   0.000000\n",
            "Tumor_Size                0.007455\n",
            "Estrogen_Status           0.000000\n",
            "Progesterone_Status       0.000000\n",
            "Regional_Node_Examined    0.002485\n",
            "Reginol_Node_Positive     0.000000\n",
            "Survival_Months           0.000000\n",
            "Mortality_Status          0.000000\n",
            "dtype: float64\n",
            "\n",
            " Count of missing values\n",
            "Age                       9\n",
            "Sex                       4\n",
            "T_Stage                   0\n",
            "N_Stage                   0\n",
            "6th_Stage                 0\n",
            "Differentiated            0\n",
            "Grade                     0\n",
            "A_Stage                   0\n",
            "Tumor_Size                3\n",
            "Estrogen_Status           0\n",
            "Progesterone_Status       0\n",
            "Regional_Node_Examined    1\n",
            "Reginol_Node_Positive     0\n",
            "Survival_Months           0\n",
            "Mortality_Status          0\n",
            "dtype: int64\n"
          ]
        }
      ]
    },
    {
      "cell_type": "markdown",
      "source": [
        "Codereuse Session 01 (Week 5) Question 21"
      ],
      "metadata": {
        "id": "zE3B1pUzOQrq"
      }
    },
    {
      "cell_type": "code",
      "source": [
        "# Identify numerical and categorical columns\n",
        "\n",
        "numerical_cols = df.select_dtypes(include=[np.number]).columns\n",
        "\n",
        "# Fill missing numerical values with mean\n",
        "for col in numerical_cols:\n",
        "    if df[col].isnull().sum() > 0:\n",
        "        mean_value = df[col].mean()\n",
        "        df[col].fillna(mean_value, inplace=True)\n"
      ],
      "metadata": {
        "colab": {
          "base_uri": "https://localhost:8080/"
        },
        "id": "7_uMh5Vt9hco",
        "outputId": "2cff4087-d072-4a82-f11b-4a15bc5b2515"
      },
      "execution_count": null,
      "outputs": [
        {
          "output_type": "stream",
          "name": "stderr",
          "text": [
            "<ipython-input-84-a70b6ba2c10f>:9: FutureWarning:\n",
            "\n",
            "A value is trying to be set on a copy of a DataFrame or Series through chained assignment using an inplace method.\n",
            "The behavior will change in pandas 3.0. This inplace method will never work because the intermediate object on which we are setting values always behaves as a copy.\n",
            "\n",
            "For example, when doing 'df[col].method(value, inplace=True)', try using 'df.method({col: value}, inplace=True)' or df[col] = df[col].method(value) instead, to perform the operation inplace on the original object.\n",
            "\n",
            "\n",
            "\n"
          ]
        }
      ]
    },
    {
      "cell_type": "markdown",
      "source": [
        "Codereuse Session 01 (Week 5) Question 24"
      ],
      "metadata": {
        "id": "qRqsEVDiPyWs"
      }
    },
    {
      "cell_type": "code",
      "source": [
        "df = df.astype({\"Age\":\"int\", \"Tumor_Size\":\"int\", \"Regional_Node_Examined\":\"int\"})"
      ],
      "metadata": {
        "id": "hdBhMUj89va0"
      },
      "execution_count": null,
      "outputs": []
    },
    {
      "cell_type": "markdown",
      "source": [
        "Codereuse Session 01 (Week 5) Question 16"
      ],
      "metadata": {
        "id": "m1_1j_8fNQn4"
      }
    },
    {
      "cell_type": "code",
      "source": [
        "# Plot boxplots for Age and Tumor_Size after outlier removal\n",
        "print(\"Find Outliers\")\n",
        "#box plot for age\n",
        "px.box(df, x='Age', title=\"Age Distribution Post-Outlier (before Removal)\").show()\n",
        "#box pot for tumor size\n",
        "px.box(df, x='Tumor_Size', title=\"Tumor Size Distribution Post-Outlier (before Removal)\").show()\n",
        "#box plot for survival months\n",
        "px.box(df, x='Survival_Months', title=\"Survival_Months Distribution Post-Outlier (before Removal)\").show()\n"
      ],
      "metadata": {
        "colab": {
          "base_uri": "https://localhost:8080/",
          "height": 1000
        },
        "id": "tZANiF909j4a",
        "outputId": "bdb1752b-8a41-46e1-c3e3-48e6a89ca877"
      },
      "execution_count": null,
      "outputs": [
        {
          "output_type": "stream",
          "name": "stdout",
          "text": [
            "Find Outliers\n"
          ]
        },
        {
          "output_type": "display_data",
          "data": {
            "text/html": [
              "<html>\n",
              "<head><meta charset=\"utf-8\" /></head>\n",
              "<body>\n",
              "    <div>            <script src=\"https://cdnjs.cloudflare.com/ajax/libs/mathjax/2.7.5/MathJax.js?config=TeX-AMS-MML_SVG\"></script><script type=\"text/javascript\">if (window.MathJax && window.MathJax.Hub && window.MathJax.Hub.Config) {window.MathJax.Hub.Config({SVG: {font: \"STIX-Web\"}});}</script>                <script type=\"text/javascript\">window.PlotlyConfig = {MathJaxConfig: 'local'};</script>\n",
              "        <script charset=\"utf-8\" src=\"https://cdn.plot.ly/plotly-2.35.2.min.js\"></script>                <div id=\"dbb2e62c-6a00-448d-9372-14c21dd09044\" class=\"plotly-graph-div\" style=\"height:525px; width:100%;\"></div>            <script type=\"text/javascript\">                                    window.PLOTLYENV=window.PLOTLYENV || {};                                    if (document.getElementById(\"dbb2e62c-6a00-448d-9372-14c21dd09044\")) {                    Plotly.newPlot(                        \"dbb2e62c-6a00-448d-9372-14c21dd09044\",                        [{\"alignmentgroup\":\"True\",\"hovertemplate\":\"Age=%{x}\\u003cextra\\u003e\\u003c\\u002fextra\\u003e\",\"legendgroup\":\"\",\"marker\":{\"color\":\"#636efa\"},\"name\":\"\",\"notched\":false,\"offsetgroup\":\"\",\"orientation\":\"h\",\"showlegend\":false,\"x\":[68,50,58,58,47,51,51,40,40,69,68,46,65,48,62,61,56,43,48,60,48,57,55,48,62,63,48,46,57,66,47,53,59,60,46,51,54,51,49,51,57,64,62,53,55,66,42,62,54,69,37,69,54,63,57,55,62,50,50,55,56,51,42,59,67,46,31,40,58,52,54,64,31,66,67,56,66,42,51,68,53,67,66,53,51,46,48,52,55,65,53,33,63,45,59,60,50,61,50,68,38,47,39,57,52,60,54,68,38,63,61,37,46,45,54,53,50,69,48,53,67,43,50,59,53,62,39,59,56,45,60,50,58,50,55,37,46,65,61,52,54,36,180,62,54,61,46,38,66,59,38,67,60,61,67,69,47,39,53,55,59,53,59,57,61,68,54,37,48,53,69,63,49,63,60,41,59,43,52,61,60,61,63,48,51,66,68,58,62,46,58,60,62,53,42,63,55,50,52,47,55,60,66,50,64,67,56,60,56,48,44,37,-50,63,54,63,44,68,64,50,55,66,46,43,43,43,59,55,61,66,55,65,69,59,63,68,48,61,43,44,47,52,69,39,43,64,66,45,37,50,40,52,54,32,65,67,57,63,42,57,42,46,47,67,67,65,65,33,64,66,34,55,47,58,38,57,65,52,67,57,61,45,50,50,53,54,58,56,68,41,61,65,69,43,47,67,45,65,53,67,43,47,48,62,68,57,40,56,52,40,51,67,54,56,48,57,47,54,41,65,58,38,38,60,58,63,53,43,60,60,47,48,59,56,53,48,52,61,66,45,52,67,40,50,65,55,47,49,53,53,44,54,51,46,47,68,50,67,47,68,55,47,56,51,41,67,58,67,63,69,59,54,65,48,39,55,50,39,49,58,34,49,52,62,55,57,40,52,63,57,40,55,42,52,39,53,47,37,63,54,50,56,56,52,38,57,56,54,54,69,62,63,46,47,55,40,47,52,65,63,57,45,62,54,65,64,47,63,66,69,48,60,61,61,43,49,63,61,61,69,66,39,52,49,55,62,42,50,52,38,39,57,62,55,47,68,50,42,54,42,46,50,62,58,53,46,38,40,60,63,49,57,48,46,61,61,53,53,42,57,56,48,59,57,56,64,50,40,40,52,59,53,54,61,54,41,57,40,63,62,62,42,47,53,64,51,56,50,66,56,46,66,57,55,32,58,63,48,64,44,57,61,502,45,52,67,45,63,56,46,53,62,47,39,33,56,55,69,58,42,58,51,64,62,52,43,65,59,62,51,57,46,40,49,46,40,49,61,56,50,55,60,34,51,53,58,61,48,63,56,66,64,49,56,67,42,47,60,43,42,60,52,63,60,61,58,52,64,68,47,51,53,63,50,45,68,46,54,65,51,45,45,57,35,54,68,58,48,59,47,52,46,34,34,36,40,38,61,37,60,38,56,49,65,61,69,53,61,47,62,62,41,41,48,48,54,63,44,51,55,49,64,63,46,46,61,52,62,52,39,36,64,55,65,45,68,57,44,51,50,52,53,49,65,67,63,43,57,63,52,61,58,62,56,48,64,67,57,41,62,51,65,51,46,46,48,43,59,49,56,53,58,51,55,54,34,42,45,46,62,49,38,30,68,59,49,57,49,65,47,40,45,54,55,57,67,51,54,52,63,48,49,46,46,46,65,69,59,48,43,55,59,67,69,54,69,60,45,48,60,49,33,60,68,67,50,46,39,55,59,32,63,53,54,50,45,46,46,67,58,60,55,46,62,59,59,44,69,43,63,43,36,63,60,56,44,69,50,55,65,47,62,60,62,62,63,61,55,66,69,60,61,51,49,58,60,48,63,40,69,67,41,67,45,66,55,48,58,61,59,51,44,59,58,43,52,57,52,56,69,49,64,48,41,51,45,53,47,60,62,50,55,60,65,64,64,67,57,38,52,36,49,89,64,61,68,56,47,31,55,62,48,46,62,61,56,65,38,57,62,57,63,62,49,31,67,39,48,38,47,47,53,46,38,52,46,61,38,50,40,51,61,42,63,64,66,42,51,45,46,55,49,65,58,47,65,67,39,59,38,41,65,52,49,58,55,64,53,39,54,67,65,45,63,56,38,47,46,66,51,63,43,49,69,51,49,44,45,64,60,60,60,53,63,53,53,46,65,30,43,61,67,42,68,58,57,43,39,53,55,66,58,41,50,39,37,46,55,42,53,66,55,48,49,60,61,63,61,47,53,45,62,47,40,63,42,47,51,51,50,46,47,46,56,64,49,66,60,60,53,63,61,45,47,55,35,55,60,31,51,58,50,48,57,69,57,44,60,56,55,68,42,47,59,65,32,49,60,55,64,43,61,42,58,51,68,58,62,66,52,69,64,66,62,55,55,57,54,67,62,66,56,64,67,41,65,51,49,56,44,56,48,54,62,53,45,50,54,32,65,63,67,62,67,42,60,48,60,69,54,56,48,45,59,59,49,64,47,46,63,61,65,64,53,42,49,66,36,46,53,62,55,53,57,58,68,41,69,61,46,60,63,45,60,50,64,51,58,63,61,49,57,51,60,66,50,53,33,45,57,52,52,58,60,59,43,47,52,63,51,63,49,61,64,57,58,55,54,67,57,37,61,46,31,59,50,59,41,64,60,68,46,43,49,56,60,67,67,50,68,66,40,45,61,68,59,65,50,62,59,56,46,41,45,44,47,66,56,49,64,66,45,65,54,48,49,40,64,61,61,55,43,63,48,46,63,43,46,35,68,47,43,57,64,61,44,50,49,67,46,51,58,46,59,53,62,57,51,69,47,57,55,52,45,39,56,45,41,63,68,64,49,68,46,59,40,47,53,59,50,47,46,46,67,51,65,56,68,57,49,48,67,64,53,42,50,56,53,59,67,45,45,49,65,45,56,60,57,54,50,63,41,51,65,59,66,41,66,67,40,39,66,58,45,65,43,57,47,44,46,64,59,51,66,46,52,49,42,63,66,48,66,41,61,55,62,35,59,54,64,64,38,60,55,41,67,53,53,34,39,31,64,40,59,55,46,58,66,56,47,39,46,62,46,60,36,51,60,63,65,59,50,53,46,46,46,47,61,52,57,59,63,48,59,58,47,56,44,44,33,54,45,60,62,53,41,39,44,57,33,68,49,50,60,50,40,46,49,69,54,51,51,68,41,58,62,42,46,54,54,47,66,42,55,60,52,61,48,58,44,43,53,48,63,64,39,59,51,39,56,51,49,68,51,54,64,43,39,69,66,55,69,51,57,63,55,55,59,61,49,60,50,61,47,55,57,53,44,63,62,43,69,46,53,40,63,64,57,43,60,42,40,43,57,68,65,60,67,39,59,52,58,48,61,34,56,59,52,57,67,65,48,64,64,57,47,49,40,57,47,63,43,66,66,44,64,45,68,55,54,66,59,61,58,51,68,41,59,64,63,65,51,66,35,42,49,47,66,49,47,45,55,63,51,59,43,59,55,49,45,41,63,41,59,62,65,47,67,53,46,56,63,67,63,47,63,48,61,39,68,51,69,39,48,30,40,39,44,58,38,47,59,53,41,52,54,51,41,58,49,58,42,68,35,46,53,40,66,62,53,37,53,50,64,66,65,64,49,53,50,61,57,62,52,47,64,34,61,61,58,52,50,66,66,43,41,56,53,53,43,64,51,58,68,66,51,55,62,62,42,55,59,66,57,46,64,65,48,40,54,60,63,61,69,45,45,49,69,42,54,64,49,44,52,47,59,67,63,68,52,61,39,66,53,51,40,56,33,67,55,45,60,47,45,56,41,65,66,52,55,57,49,48,31,59,43,45,61,31,47,32,49,54,51,47,53,40,59,65,47,59,39,54,36,46,41,62,45,41,43,69,56,62,65,32,66,62,32,32,50,53,60,59,46,49,39,50,59,60,63,61,63,49,42,46,51,43,49,45,46,69,50,66,43,56,37,52,53,55,43,52,61,45,42,50,66,62,67,60,57,69,60,48,50,53,63,52,57,55,63,51,46,50,56,57,31,59,53,66,46,67,61,42,36,49,68,55,68,52,63,45,53,46,59,53,53,42,53,51,40,44,60,63,66,57,58,61,46,59,57,55,61,44,55,53,69,55,38,48,67,51,55,47,37,54,61,50,54,47,62,57,59,49,45,69,55,69,45,57,54,49,56,69,60,35,58,69,65,67,51,40,33,56,59,61,46,67,69,52,41,57,54,60,36,52,35,57,68,64,49,57,49,53,52,46,54,60,46,66,55,47,49,44,49,60,46,49,50,49,51,52,46,68,48,48,53,54,50,56,56,54,45,55,64,46,56,58,45,30,67,46,49,63,49,67,60,46,37,65,43,61,64,52,43,67,51,69,67,59,50,65,47,51,46,53,57,53,63,60,47,46,43,46,60,53,62,47,65,59,61,69,55,53,54,49,61,62,40,45,47,59,42,66,34,65,43,50,56,61,55,45,52,42,65,65,39,44,50,67,61,61,60,64,45,60,56,49,51,61,53,59,38,64,53,67,69,63,58,44,67,53,48,58,47,68,69,60,60,50,50,59,63,62,40,48,60,46,50,46,64,64,68,68,65,64,55,65,50,40,35,50,52,39,55,69,55,60,50,62,64,47,41,60,69,38,41,62,54,67,63,50,53,46,46,64,47,68,51,61,55,50,52,47,37,57,47,48,47,45,37,58,43,56,64,40,58,56,42,63,59,62,69,58,64,47,59,48,44,49,46,48,53,63,47,52,62,42,47,43,58,59,35,64,43,56,60,67,57,67,36,40,49,51,63,38,44,56,44,61,38,68,65,55,66,43,57,66,59,57,68,51,68,47,62,50,69,66,67,62,67,66,48,44,50,56,49,46,50,62,40,69,64,36,50,49,65,40,64,50,51,67,51,62,62,55,63,42,56,31,56,59,48,66,51,69,63,48,46,69,60,61,60,58,44,48,45,52,58,48,58,45,66,62,60,54,63,57,63,49,45,67,54,59,51,46,64,68,47,52,69,59,65,56,45,48,43,67,65,57,48,45,64,65,53,63,60,45,51,54,54,49,49,41,51,68,44,68,67,62,45,46,48,61,52,48,61,47,54,55,48,47,62,51,49,46,56,35,66,47,63,41,46,68,49,61,43,50,54,42,68,48,49,46,38,63,65,46,59,61,47,58,55,48,50,59,50,47,58,51,67,44,48,56,48,55,45,51,60,52,62,69,38,57,53,49,58,44,33,46,68,53,49,57,53,67,47,50,60,48,42,56,56,55,46,43,52,64,54,40,58,62,67,66,68,58,54,69,56,61,42,38,57,39,66,59,31,46,53,49,68,45,63,41,61,69,56,45,37,62,69,44,54,53,60,45,42,47,48,49,51,51,55,64,64,58,69,69,61,52,54,64,45,37,56,54,55,56,58,44,51,55,57,50,66,62,62,62,49,49,55,38,63,47,65,63,32,48,60,45,55,42,67,66,44,59,68,44,49,63,63,60,49,46,62,50,48,60,55,66,59,69,57,45,55,36,46,67,59,50,60,63,50,64,55,47,64,64,50,46,61,61,69,69,48,42,45,43,59,62,62,38,69,42,59,66,63,56,37,50,52,54,58,42,59,56,50,42,47,45,41,47,56,51,45,43,54,65,48,49,51,52,54,41,63,54,69,64,69,66,64,46,50,46,60,39,60,48,51,55,62,56,36,65,58,62,52,66,56,54,56,62,54,65,59,51,65,54,57,60,60,48,53,48,68,49,54,49,55,46,41,53,52,55,63,53,66,56,58,50,52,56,53,47,52,55,62,51,63,47,50,60,61,67,59,66,44,44,56,38,49,57,59,49,48,51,54,59,56,52,49,55,60,63,58,39,62,60,45,45,62,65,68,43,36,63,36,47,51,61,66,47,41,48,45,67,58,50,47,59,67,63,62,52,65,35,51,54,44,57,57,36,45,50,43,36,54,65,41,65,59,61,45,69,54,50,53,50,67,43,39,45,46,65,42,68,69,47,48,48,51,68,48,35,49,60,64,55,52,60,68,49,45,46,49,67,62,62,54,50,53,51,57,48,53,54,49,66,65,55,49,47,58,58,47,37,61,58,68,63,57,36,47,59,55,41,44,61,49,65,69,52,64,69,44,49,64,43,55,51,39,37,61,54,59,45,61,50,49,40,48,49,53,44,53,52,53,48,57,44,59,49,53,55,62,38,56,53,40,43,67,43,50,61,62,53,55,58,69,52,62,64,68,48,51,67,58,62,69,57,53,47,58,46,53,49,65,50,39,42,45,47,53,55,63,62,51,57,46,42,63,57,52,56,58,66,36,36,55,44,59,38,40,68,47,57,42,43,52,65,57,47,41,51,60,53,47,52,63,55,69,40,44,40,33,51,41,61,53,61,46,46,42,44,44,52,63,56,53,43,62,49,56,58,62,61,62,54,51,52,38,44,59,52,48,34,67,47,62,49,53,47,54,46,54,48,57,49,48,50,51,42,55,63,62,58,54,62,68,47,52,37,55,65,46,63,62,65,68,58,66,62,68,32,43,62,40,61,46,48,64,60,57,64,54,48,65,35,54,54,69,44,48,69,55,49,65,47,64,52,64,69,48,65,68,49,54,63,57,39,45,54,65,51,64,48,68,49,57,35,66,48,67,53,66,40,59,69,67,60,64,48,63,49,53,50,53,63,44,45,51,54,47,56,54,51,63,59,62,57,50,51,48,48,54,46,69,39,40,56,57,51,49,62,59,53,45,53,65,39,48,53,53,67,62,68,38,64,47,63,61,68,58,41,47,56,56,56,46,53,45,66,61,53,51,68,67,59,64,57,54,41,49,51,42,46,61,44,55,50,62,62,46,56,57,47,42,56,50,43,46,46,60,44,47,46,60,60,61,67,61,43,66,51,56,67,51,50,52,56,61,53,63,59,65,66,57,44,61,41,40,53,51,55,50,60,55,58,41,50,59,60,48,50,67,62,65,54,61,49,54,59,48,42,64,59,53,51,34,49,56,53,59,55,43,69,49,57,48,64,59,64,43,49,41,58,48,40,55,47,63,63,61,46,50,65,52,56,60,46,62,61,52,49,67,50,54,69,42,61,47,40,65,52,48,64,50,69,46,61,66,65,41,50,68,49,43,50,58,60,43,43,53,42,55,43,40,69,49,59,60,63,50,59,56,66,61,54,51,63,40,48,49,61,60,49,52,59,57,65,58,55,63,59,57,61,56,68,62,63,61,65,63,64,68,53,67,40,49,49,53,66,52,43,60,40,46,62,50,66,67,52,55,68,63,59,44,63,65,55,61,59,66,60,63,49,52,33,69,51,48,47,43,54,46,68,62,69,59,48,61,46,51,58,49,43,54,46,47,58,60,38,47,58,45,46,42,67,64,67,50,48,57,56,62,55,58,57,65,45,39,56,51,66,58,57,60,48,63,42,40,67,66,42,49,53,51,48,67,50,48,37,55,49,63,55,64,51,47,64,42,50,41,43,56,59,68,54,53,63,58,50,49,57,56,60,63,47,50,54,53,49,46,56,68,43,46,62,66,68,54,30,62,48,65,51,65,67,42,68,32,53,49,50,55,47,67,42,60,62,59,67,44,49,67,67,64,43,69,55,46,47,60,47,58,66,61,33,55,41,50,63,47,57,42,33,57,56,47,63,53,42,50,44,58,65,44,59,57,57,53,44,46,59,62,48,44,62,65,58,47,42,49,57,44,66,53,45,47,49,47,49,57,59,61,58,48,48,50,48,67,51,50,69,63,52,57,46,63,68,62,38,58,48,49,41,62,46,66,47,51,53,65,53,57,53,49,67,51,55,55,59,65,42,50,52,59,55,46,51,47,62,56,63,48,59,67,35,55,59,61,48,66,49,58,58,55,57,60,54,35,69,55,63,52,49,68,48,61,68,43,62,57,65,66,58,49,62,54,47,46,52,51,60,59,64,46,59,56,68,65,53,66,41,53,63,65,50,62,52,65,43,63,64,69,65,43,66,48,57,60,59,59,44,54,55,62,65,55,63,41,58,68,54,43,40,62,49,54,66,47,52,56,50,57,45,69,41,55,59,67,53,61,45,61,69,43,61,51,61,57,58,52,43,63,65,35,51,50,50,51,68,51,38,54,51,69,62,52,59,61,43,61,68,50,60,47,60,60,47,65,64,45,57,47,65,60,59,41,50,64,59,58,46,69,60,69,54,47,46,47,61,55,49,49,51,47,68,58,56,59,51,51,37,67,44,68,57,66,65,52,47,43,53,56,49,46,41,38,54,58,54,44,59,63,57,49,56,41,55,58,64,44,51,67,57,54,55,61,39,57,50,56,42,51,46,42,38,45,56,46,61,46,48,60,66,49,46,39,61,46,52,60,42,47,42,43,63,55,52,40,38,33,59,63,44,58,69,57,50,36,37,63,45,42,40,45,54,55,47,51,63,65,34,47,69,66,41,58,64,53,43,31,43,54,60,59,47,41,69,48,40,68,56,46,59,46,46,57,51,55,53,64,68,51,36,68,47,40,65,64,52,41,66,69,56,54,60,49,60,65,55,54,60,46,62,49,52,46,57,50,68,50,50,48,48,63,67,56,47,55,40,69,41,41,49,69,54,52,54,57,42,37,45,56,54,55,57,51,48,58,57,62,55,60,65,66,60,58,66,66,69,49,67,53,39,56,62,47,37,56,53,53,48,54,41,32,44,46,47,58,63,67,55,51,44,51,63,66,45,63,60,50,67,56,52,53,57,65,66,47,44,62,50,68,47,52,69,61,54,37,58,58,40,66,69,47,44,61,42,34,59,55,59,51,49,68,62,56,64,44,45,35,56,50,45,61,57,50,43,60,69,40,69,62,59,36,54,59,65,39,65,54,59,52,50,62,58,53,57,59,55,49,49,54,53,58,62,67,61,47,48,60,62,50,51,57,64,64,62,49,51,68,51,47,40,66,68,56,46,68,38,44,46,56,39,54,47,64,48,57,53,41,44,54,57,39,64,59,63,65,47,41,61,64,54,48,48,39,50,54,58,56,62,40,54,47,67,48,68,66,63,62,62,57,66,68,55,66,67,55,49,38,52,65,61,51,55,54,61,39,61,51,42,57,51,62,69,35,68,53,31,55,57,66,58,68,41,44,60,53,59,62,51,68,40,65,54,46,64,62,56,68,58,46],\"x0\":\" \",\"xaxis\":\"x\",\"y0\":\" \",\"yaxis\":\"y\",\"type\":\"box\"}],                        {\"template\":{\"data\":{\"histogram2dcontour\":[{\"type\":\"histogram2dcontour\",\"colorbar\":{\"outlinewidth\":0,\"ticks\":\"\"},\"colorscale\":[[0.0,\"#0d0887\"],[0.1111111111111111,\"#46039f\"],[0.2222222222222222,\"#7201a8\"],[0.3333333333333333,\"#9c179e\"],[0.4444444444444444,\"#bd3786\"],[0.5555555555555556,\"#d8576b\"],[0.6666666666666666,\"#ed7953\"],[0.7777777777777778,\"#fb9f3a\"],[0.8888888888888888,\"#fdca26\"],[1.0,\"#f0f921\"]]}],\"choropleth\":[{\"type\":\"choropleth\",\"colorbar\":{\"outlinewidth\":0,\"ticks\":\"\"}}],\"histogram2d\":[{\"type\":\"histogram2d\",\"colorbar\":{\"outlinewidth\":0,\"ticks\":\"\"},\"colorscale\":[[0.0,\"#0d0887\"],[0.1111111111111111,\"#46039f\"],[0.2222222222222222,\"#7201a8\"],[0.3333333333333333,\"#9c179e\"],[0.4444444444444444,\"#bd3786\"],[0.5555555555555556,\"#d8576b\"],[0.6666666666666666,\"#ed7953\"],[0.7777777777777778,\"#fb9f3a\"],[0.8888888888888888,\"#fdca26\"],[1.0,\"#f0f921\"]]}],\"heatmap\":[{\"type\":\"heatmap\",\"colorbar\":{\"outlinewidth\":0,\"ticks\":\"\"},\"colorscale\":[[0.0,\"#0d0887\"],[0.1111111111111111,\"#46039f\"],[0.2222222222222222,\"#7201a8\"],[0.3333333333333333,\"#9c179e\"],[0.4444444444444444,\"#bd3786\"],[0.5555555555555556,\"#d8576b\"],[0.6666666666666666,\"#ed7953\"],[0.7777777777777778,\"#fb9f3a\"],[0.8888888888888888,\"#fdca26\"],[1.0,\"#f0f921\"]]}],\"heatmapgl\":[{\"type\":\"heatmapgl\",\"colorbar\":{\"outlinewidth\":0,\"ticks\":\"\"},\"colorscale\":[[0.0,\"#0d0887\"],[0.1111111111111111,\"#46039f\"],[0.2222222222222222,\"#7201a8\"],[0.3333333333333333,\"#9c179e\"],[0.4444444444444444,\"#bd3786\"],[0.5555555555555556,\"#d8576b\"],[0.6666666666666666,\"#ed7953\"],[0.7777777777777778,\"#fb9f3a\"],[0.8888888888888888,\"#fdca26\"],[1.0,\"#f0f921\"]]}],\"contourcarpet\":[{\"type\":\"contourcarpet\",\"colorbar\":{\"outlinewidth\":0,\"ticks\":\"\"}}],\"contour\":[{\"type\":\"contour\",\"colorbar\":{\"outlinewidth\":0,\"ticks\":\"\"},\"colorscale\":[[0.0,\"#0d0887\"],[0.1111111111111111,\"#46039f\"],[0.2222222222222222,\"#7201a8\"],[0.3333333333333333,\"#9c179e\"],[0.4444444444444444,\"#bd3786\"],[0.5555555555555556,\"#d8576b\"],[0.6666666666666666,\"#ed7953\"],[0.7777777777777778,\"#fb9f3a\"],[0.8888888888888888,\"#fdca26\"],[1.0,\"#f0f921\"]]}],\"surface\":[{\"type\":\"surface\",\"colorbar\":{\"outlinewidth\":0,\"ticks\":\"\"},\"colorscale\":[[0.0,\"#0d0887\"],[0.1111111111111111,\"#46039f\"],[0.2222222222222222,\"#7201a8\"],[0.3333333333333333,\"#9c179e\"],[0.4444444444444444,\"#bd3786\"],[0.5555555555555556,\"#d8576b\"],[0.6666666666666666,\"#ed7953\"],[0.7777777777777778,\"#fb9f3a\"],[0.8888888888888888,\"#fdca26\"],[1.0,\"#f0f921\"]]}],\"mesh3d\":[{\"type\":\"mesh3d\",\"colorbar\":{\"outlinewidth\":0,\"ticks\":\"\"}}],\"scatter\":[{\"fillpattern\":{\"fillmode\":\"overlay\",\"size\":10,\"solidity\":0.2},\"type\":\"scatter\"}],\"parcoords\":[{\"type\":\"parcoords\",\"line\":{\"colorbar\":{\"outlinewidth\":0,\"ticks\":\"\"}}}],\"scatterpolargl\":[{\"type\":\"scatterpolargl\",\"marker\":{\"colorbar\":{\"outlinewidth\":0,\"ticks\":\"\"}}}],\"bar\":[{\"error_x\":{\"color\":\"#2a3f5f\"},\"error_y\":{\"color\":\"#2a3f5f\"},\"marker\":{\"line\":{\"color\":\"#E5ECF6\",\"width\":0.5},\"pattern\":{\"fillmode\":\"overlay\",\"size\":10,\"solidity\":0.2}},\"type\":\"bar\"}],\"scattergeo\":[{\"type\":\"scattergeo\",\"marker\":{\"colorbar\":{\"outlinewidth\":0,\"ticks\":\"\"}}}],\"scatterpolar\":[{\"type\":\"scatterpolar\",\"marker\":{\"colorbar\":{\"outlinewidth\":0,\"ticks\":\"\"}}}],\"histogram\":[{\"marker\":{\"pattern\":{\"fillmode\":\"overlay\",\"size\":10,\"solidity\":0.2}},\"type\":\"histogram\"}],\"scattergl\":[{\"type\":\"scattergl\",\"marker\":{\"colorbar\":{\"outlinewidth\":0,\"ticks\":\"\"}}}],\"scatter3d\":[{\"type\":\"scatter3d\",\"line\":{\"colorbar\":{\"outlinewidth\":0,\"ticks\":\"\"}},\"marker\":{\"colorbar\":{\"outlinewidth\":0,\"ticks\":\"\"}}}],\"scattermapbox\":[{\"type\":\"scattermapbox\",\"marker\":{\"colorbar\":{\"outlinewidth\":0,\"ticks\":\"\"}}}],\"scatterternary\":[{\"type\":\"scatterternary\",\"marker\":{\"colorbar\":{\"outlinewidth\":0,\"ticks\":\"\"}}}],\"scattercarpet\":[{\"type\":\"scattercarpet\",\"marker\":{\"colorbar\":{\"outlinewidth\":0,\"ticks\":\"\"}}}],\"carpet\":[{\"aaxis\":{\"endlinecolor\":\"#2a3f5f\",\"gridcolor\":\"white\",\"linecolor\":\"white\",\"minorgridcolor\":\"white\",\"startlinecolor\":\"#2a3f5f\"},\"baxis\":{\"endlinecolor\":\"#2a3f5f\",\"gridcolor\":\"white\",\"linecolor\":\"white\",\"minorgridcolor\":\"white\",\"startlinecolor\":\"#2a3f5f\"},\"type\":\"carpet\"}],\"table\":[{\"cells\":{\"fill\":{\"color\":\"#EBF0F8\"},\"line\":{\"color\":\"white\"}},\"header\":{\"fill\":{\"color\":\"#C8D4E3\"},\"line\":{\"color\":\"white\"}},\"type\":\"table\"}],\"barpolar\":[{\"marker\":{\"line\":{\"color\":\"#E5ECF6\",\"width\":0.5},\"pattern\":{\"fillmode\":\"overlay\",\"size\":10,\"solidity\":0.2}},\"type\":\"barpolar\"}],\"pie\":[{\"automargin\":true,\"type\":\"pie\"}]},\"layout\":{\"autotypenumbers\":\"strict\",\"colorway\":[\"#636efa\",\"#EF553B\",\"#00cc96\",\"#ab63fa\",\"#FFA15A\",\"#19d3f3\",\"#FF6692\",\"#B6E880\",\"#FF97FF\",\"#FECB52\"],\"font\":{\"color\":\"#2a3f5f\"},\"hovermode\":\"closest\",\"hoverlabel\":{\"align\":\"left\"},\"paper_bgcolor\":\"white\",\"plot_bgcolor\":\"#E5ECF6\",\"polar\":{\"bgcolor\":\"#E5ECF6\",\"angularaxis\":{\"gridcolor\":\"white\",\"linecolor\":\"white\",\"ticks\":\"\"},\"radialaxis\":{\"gridcolor\":\"white\",\"linecolor\":\"white\",\"ticks\":\"\"}},\"ternary\":{\"bgcolor\":\"#E5ECF6\",\"aaxis\":{\"gridcolor\":\"white\",\"linecolor\":\"white\",\"ticks\":\"\"},\"baxis\":{\"gridcolor\":\"white\",\"linecolor\":\"white\",\"ticks\":\"\"},\"caxis\":{\"gridcolor\":\"white\",\"linecolor\":\"white\",\"ticks\":\"\"}},\"coloraxis\":{\"colorbar\":{\"outlinewidth\":0,\"ticks\":\"\"}},\"colorscale\":{\"sequential\":[[0.0,\"#0d0887\"],[0.1111111111111111,\"#46039f\"],[0.2222222222222222,\"#7201a8\"],[0.3333333333333333,\"#9c179e\"],[0.4444444444444444,\"#bd3786\"],[0.5555555555555556,\"#d8576b\"],[0.6666666666666666,\"#ed7953\"],[0.7777777777777778,\"#fb9f3a\"],[0.8888888888888888,\"#fdca26\"],[1.0,\"#f0f921\"]],\"sequentialminus\":[[0.0,\"#0d0887\"],[0.1111111111111111,\"#46039f\"],[0.2222222222222222,\"#7201a8\"],[0.3333333333333333,\"#9c179e\"],[0.4444444444444444,\"#bd3786\"],[0.5555555555555556,\"#d8576b\"],[0.6666666666666666,\"#ed7953\"],[0.7777777777777778,\"#fb9f3a\"],[0.8888888888888888,\"#fdca26\"],[1.0,\"#f0f921\"]],\"diverging\":[[0,\"#8e0152\"],[0.1,\"#c51b7d\"],[0.2,\"#de77ae\"],[0.3,\"#f1b6da\"],[0.4,\"#fde0ef\"],[0.5,\"#f7f7f7\"],[0.6,\"#e6f5d0\"],[0.7,\"#b8e186\"],[0.8,\"#7fbc41\"],[0.9,\"#4d9221\"],[1,\"#276419\"]]},\"xaxis\":{\"gridcolor\":\"white\",\"linecolor\":\"white\",\"ticks\":\"\",\"title\":{\"standoff\":15},\"zerolinecolor\":\"white\",\"automargin\":true,\"zerolinewidth\":2},\"yaxis\":{\"gridcolor\":\"white\",\"linecolor\":\"white\",\"ticks\":\"\",\"title\":{\"standoff\":15},\"zerolinecolor\":\"white\",\"automargin\":true,\"zerolinewidth\":2},\"scene\":{\"xaxis\":{\"backgroundcolor\":\"#E5ECF6\",\"gridcolor\":\"white\",\"linecolor\":\"white\",\"showbackground\":true,\"ticks\":\"\",\"zerolinecolor\":\"white\",\"gridwidth\":2},\"yaxis\":{\"backgroundcolor\":\"#E5ECF6\",\"gridcolor\":\"white\",\"linecolor\":\"white\",\"showbackground\":true,\"ticks\":\"\",\"zerolinecolor\":\"white\",\"gridwidth\":2},\"zaxis\":{\"backgroundcolor\":\"#E5ECF6\",\"gridcolor\":\"white\",\"linecolor\":\"white\",\"showbackground\":true,\"ticks\":\"\",\"zerolinecolor\":\"white\",\"gridwidth\":2}},\"shapedefaults\":{\"line\":{\"color\":\"#2a3f5f\"}},\"annotationdefaults\":{\"arrowcolor\":\"#2a3f5f\",\"arrowhead\":0,\"arrowwidth\":1},\"geo\":{\"bgcolor\":\"white\",\"landcolor\":\"#E5ECF6\",\"subunitcolor\":\"white\",\"showland\":true,\"showlakes\":true,\"lakecolor\":\"white\"},\"title\":{\"x\":0.05},\"mapbox\":{\"style\":\"light\"}}},\"xaxis\":{\"anchor\":\"y\",\"domain\":[0.0,1.0],\"title\":{\"text\":\"Age\"}},\"yaxis\":{\"anchor\":\"x\",\"domain\":[0.0,1.0]},\"legend\":{\"tracegroupgap\":0},\"title\":{\"text\":\"Age Distribution Post-Outlier (before Removal)\"},\"boxmode\":\"group\"},                        {\"responsive\": true}                    ).then(function(){\n",
              "                            \n",
              "var gd = document.getElementById('dbb2e62c-6a00-448d-9372-14c21dd09044');\n",
              "var x = new MutationObserver(function (mutations, observer) {{\n",
              "        var display = window.getComputedStyle(gd).display;\n",
              "        if (!display || display === 'none') {{\n",
              "            console.log([gd, 'removed!']);\n",
              "            Plotly.purge(gd);\n",
              "            observer.disconnect();\n",
              "        }}\n",
              "}});\n",
              "\n",
              "// Listen for the removal of the full notebook cells\n",
              "var notebookContainer = gd.closest('#notebook-container');\n",
              "if (notebookContainer) {{\n",
              "    x.observe(notebookContainer, {childList: true});\n",
              "}}\n",
              "\n",
              "// Listen for the clearing of the current output cell\n",
              "var outputEl = gd.closest('.output');\n",
              "if (outputEl) {{\n",
              "    x.observe(outputEl, {childList: true});\n",
              "}}\n",
              "\n",
              "                        })                };                            </script>        </div>\n",
              "</body>\n",
              "</html>"
            ]
          },
          "metadata": {}
        },
        {
          "output_type": "display_data",
          "data": {
            "text/html": [
              "<html>\n",
              "<head><meta charset=\"utf-8\" /></head>\n",
              "<body>\n",
              "    <div>            <script src=\"https://cdnjs.cloudflare.com/ajax/libs/mathjax/2.7.5/MathJax.js?config=TeX-AMS-MML_SVG\"></script><script type=\"text/javascript\">if (window.MathJax && window.MathJax.Hub && window.MathJax.Hub.Config) {window.MathJax.Hub.Config({SVG: {font: \"STIX-Web\"}});}</script>                <script type=\"text/javascript\">window.PlotlyConfig = {MathJaxConfig: 'local'};</script>\n",
              "        <script charset=\"utf-8\" src=\"https://cdn.plot.ly/plotly-2.35.2.min.js\"></script>                <div id=\"454b4561-c55b-45d0-bcd3-3ea028b16992\" class=\"plotly-graph-div\" style=\"height:525px; width:100%;\"></div>            <script type=\"text/javascript\">                                    window.PLOTLYENV=window.PLOTLYENV || {};                                    if (document.getElementById(\"454b4561-c55b-45d0-bcd3-3ea028b16992\")) {                    Plotly.newPlot(                        \"454b4561-c55b-45d0-bcd3-3ea028b16992\",                        [{\"alignmentgroup\":\"True\",\"hovertemplate\":\"Tumor_Size=%{x}\\u003cextra\\u003e\\u003c\\u002fextra\\u003e\",\"legendgroup\":\"\",\"marker\":{\"color\":\"#636efa\"},\"name\":\"\",\"notched\":false,\"offsetgroup\":\"\",\"orientation\":\"h\",\"showlegend\":false,\"x\":[4,35,63,18,41,20,8,30,103,32,13,59,35,15,35,19,46,24,25,29,30,40,29,70,20,22,50,17,25,21,40,15,15,20,30,10,27,18,35,23,70,17,21,23,5,51,9,15,32,5,23,55,120,77,2,11,25,18,15,12,18,17,26,75,13,15,70,15,15,17,130,34,30,10,22,55,25,50,50,15,30,20,22,15,15,40,120,80,17,3,60,14,26,25,12,25,30,25,24,27,70,16,45,27,23,25,40,20,21,36,14,51,50,45,51,19,76,20,35,27,35,35,50,38,15,17,25,19,15,18,11,45,12,20,45,18,25,21,49,70,7,19,17,38,34,30,4,72,18,25,9,21,20,15,18,100,17,7,24,43,30,7,18,12,25,62,20,70,37,13,40,70,12,9,10,55,18,15,25,50,10,30,13,40,100,25,68,25,23,15,22,7,16,24,75,11,35,60,30,25,25,25,12,25,17,11,32,21,25,19,-75,52,9,17,35,85,50,51,18,75,72,35,12,23,16,16,57,50,17,32,21,11,40,15,17,14,60,55,120,11,39,23,28,37,40,9,8,28,15,17,50,48,30,68,110,23,12,13,40,30,9,22,30,12,10,25,16,65,22,17,60,22,35,18,34,6,105,100,20,57,10,17,25,21,45,50,35,38,16,140,25,18,18,34,65,13,20,29,10,62,50,29,15,15,42,130,21,51,30,35,31,14,15,60,20,22,80,15,100,30,8,15,80,30,25,24,35,12,45,25,35,28,17,15,32,15,60,90,11,37,21,2,70,8,22,40,13,32,5,18,52,31,14,7,12,21,20,26,16,15,25,20,80,30,16,20,17,100,41,16,25,108,12,38,24,45,98,25,30,90,27,47,30,25,17,22,18,18,25,27,25,70,65,22,45,20,65,17,15,15,19,90,10,40,31,30,26,25,11,22,59,23,25,18,15,30,25,27,25,24,24,20,10,7,42,54,75,15,22,20,65,61,27,16,35,55,17,8,25,10,26,120,7,18,30,70,20,80,30,45,25,6,21,11,18,40,20,12,16,10,20,20,25,17,22,20,20,30,13,15,36,8,10,35,70,35,74,16,70,21,100,70,12,80,25,19,25,16,60,15,20,9,16,60,15,12,17,25,18,15,45,70,10,9,12,15,18,12,16,15,30,20,21,10,35,22,33,60,13,21,13,39,29,35,18,100,130,21,26,50,8,16,16,15,28,23,1,23,21,19,87,33,15,13,15,25,60,30,18,20,55,30,11,11,40,16,55,36,16,25,30,19,30,55,80,50,14,10,30,60,24,32,42,35,26,30,31,11,26,18,43,20,35,13,14,81,10,10,20,30,22,20,28,80,37,35,12,19,20,22,14,32,80,21,25,21,15,28,18,27,30,25,35,12,30,29,70,21,60,25,20,22,12,48,31,27,18,1,40,26,80,20,27,20,30,25,22,63,10,10,40,10,40,20,30,6,22,22,15,40,45,13,25,11,58,30,23,9,32,35,15,15,21,51,15,60,30,51,25,30,11,40,5,35,38,30,25,25,27,25,18,40,40,15,20,23,34,16,18,50,45,100,18,23,25,32,30,30,30,18,24,70,28,20,35,117,10,70,35,11,27,12,26,76,32,18,23,10,18,23,25,32,18,17,52,27,7,70,26,55,20,15,20,20,61,8,15,12,40,25,140,12,21,23,20,17,65,30,19,12,11,40,26,30,50,44,21,35,22,55,17,1,23,25,14,25,35,20,25,90,13,12,45,15,35,17,24,55,16,20,18,32,30,30,19,24,18,25,19,30,32,16,2,30,27,10,10,18,30,22,40,65,13,6,40,19,20,45,31,30,14,35,10,25,40,45,21,28,4,25,15,61,22,27,19,25,8,23,80,7,15,13,30,50,31,30,15,15,50,25,30,60,21,51,18,25,50,8,40,16,18,13,35,12,50,29,20,7,21,20,22,31,45,25,35,15,22,15,16,26,35,30,23,18,123,16,11,75,60,20,15,27,9,60,7,19,15,40,19,130,30,70,24,110,133,22,55,95,25,13,12,17,10,70,30,20,107,40,30,90,16,47,30,7,30,20,60,30,14,20,27,40,92,7,20,22,8,50,22,14,30,50,15,25,18,35,13,100,105,20,15,30,12,50,20,7,42,19,27,14,17,15,13,12,26,20,17,20,24,30,16,18,30,52,60,21,33,6,25,15,14,105,35,57,20,20,28,60,25,12,69,55,60,20,13,100,2,20,38,24,25,15,25,51,35,25,45,21,19,40,9,22,38,50,30,23,21,140,60,17,55,17,29,40,17,30,32,40,15,35,32,21,25,33,22,15,32,6,30,14,10,12,15,21,20,20,15,54,21,22,22,17,25,22,45,11,17,17,40,5,13,19,19,35,16,15,23,15,19,18,16,21,32,13,16,40,50,35,16,35,36,35,55,25,22,17,55,10,23,25,5,16,55,24,21,13,22,14,30,18,16,56,31,14,15,82,16,16,16,16,50,25,18,25,18,30,65,1,25,20,30,30,18,16,50,52,37,25,40,50,15,25,80,13,25,40,15,19,65,18,15,16,23,21,10,20,40,31,15,11,55,15,37,42,22,48,15,7,40,12,12,65,15,16,22,35,25,20,18,85,25,100,15,18,14,23,40,17,21,22,31,11,19,35,9,21,6,20,60,38,9,11,30,22,25,13,30,25,25,48,6,14,7,90,25,15,120,14,15,35,30,16,9,23,17,43,19,21,17,45,18,43,61,27,15,25,31,50,30,38,5,11,35,7,14,120,14,33,19,19,15,18,47,13,25,28,16,31,4,31,30,55,30,14,17,21,70,30,15,40,8,7,40,35,16,30,18,30,15,12,40,57,60,38,55,24,20,40,38,70,18,25,74,60,60,23,45,21,14,13,20,21,25,22,8,25,25,70,11,80,16,18,15,26,20,18,18,14,42,58,18,25,9,19,11,15,21,52,40,11,20,33,14,28,20,19,100,9,25,15,60,76,16,20,45,35,18,20,26,35,40,30,12,19,28,28,22,8,32,45,55,9,23,20,35,23,80,15,9,30,20,66,22,16,14,80,25,10,22,12,19,17,25,9,9,33,37,24,18,75,25,10,36,26,14,82,30,12,22,16,16,40,20,28,21,24,55,31,24,37,30,20,14,20,27,12,80,23,14,10,22,15,27,20,31,14,40,25,35,20,42,25,50,20,13,6,16,60,23,15,14,9,16,42,40,25,25,37,23,30,12,35,47,28,63,8,35,60,30,22,13,42,45,25,10,35,37,35,40,17,12,15,30,60,19,27,10,12,70,44,45,17,80,16,24,8,51,70,60,45,1,27,35,72,45,20,30,30,13,120,15,61,15,30,18,28,8,22,40,15,20,15,23,20,17,21,52,30,22,19,18,47,15,15,21,40,17,14,23,68,25,50,140,28,7,23,7,10,15,11,12,28,80,25,28,15,30,15,22,28,16,95,27,56,50,21,21,40,18,55,90,28,55,21,9,35,13,55,51,34,5,60,45,38,48,35,32,25,60,12,19,40,50,55,28,18,21,37,11,20,30,15,55,17,17,25,22,35,20,20,39,33,18,40,24,35,40,11,26,18,15,25,21,18,55,15,18,20,15,20,70,13,55,55,24,50,30,10,18,18,45,15,16,45,18,60,24,35,15,21,25,15,11,100,52,24,14,55,45,25,25,32,41,40,32,12,7,30,22,30,17,21,15,22,15,9,49,57,20,27,30,30,5,22,55,45,25,25,5,55,15,15,24,10,14,25,10,20,80,20,15,10,40,15,17,11,15,17,19,26,22,8,120,24,23,90,61,17,40,1,34,10,27,30,50,25,63,17,18,20,45,25,70,3,26,32,60,18,70,35,8,65,70,45,35,28,75,20,15,15,18,30,10,15,35,35,13,15,19,25,23,47,17,14,47,8,12,38,16,90,17,70,18,21,32,30,50,14,19,11,18,19,20,28,15,65,19,15,23,16,30,60,15,22,30,18,20,45,17,20,21,25,6,14,20,15,17,10,25,30,8,18,18,21,15,78,20,18,18,52,20,25,12,15,6,18,35,21,60,97,45,35,13,17,14,25,17,21,35,8,13,38,88,18,40,20,7,27,60,28,38,45,21,42,19,60,43,6,40,50,14,45,20,28,12,20,42,14,2,35,11,5,20,29,24,18,10,30,15,15,60,26,40,40,25,27,22,23,12,30,2,40,30,60,9,70,17,45,51,10,85,30,14,15,10,27,15,35,20,90,10,100,55,35,18,21,15,74,50,70,24,28,15,38,16,35,19,52,10,39,30,8,19,11,22,23,14,25,55,40,35,17,35,15,15,80,40,42,14,26,42,25,70,40,60,25,5,30,45,11,22,25,14,19,20,12,16,60,46,53,6,18,5,25,35,10,60,16,12,31,51,50,25,15,33,80,25,9,27,15,8,70,35,18,20,48,18,35,42,15,15,45,36,40,40,50,15,16,14,10,15,18,24,50,50,20,25,25,25,30,52,62,80,17,36,23,53,10,24,65,15,40,12,20,21,17,56,80,16,30,45,20,20,22,50,16,35,31,29,10,55,8,40,15,70,25,35,69,85,20,18,28,50,12,44,42,17,63,80,90,34,18,35,40,20,110,10,23,20,13,25,36,25,3,3,83,12,14,80,15,15,25,15,15,17,15,21,17,80,45,17,20,34,25,60,25,20,24,30,15,17,16,20,42,25,75,36,12,4,35,34,22,35,30,81,40,30,60,13,15,15,20,40,15,30,25,65,78,14,5,13,15,15,7,14,13,22,14,25,10,11,14,13,10,6,21,40,16,5,18,14,42,32,28,28,60,35,85,12,20,27,36,33,23,13,4,25,80,55,45,11,37,30,18,16,15,42,75,15,35,28,15,24,23,61,75,10,21,12,22,32,28,70,65,16,10,110,25,24,8,25,9,14,40,10,40,10,8,38,18,12,30,23,70,15,36,26,25,25,15,6,14,19,8,17,35,70,15,50,14,21,30,30,20,34,14,25,18,101,20,35,20,16,75,70,29,84,22,90,20,45,22,37,50,22,25,10,40,32,60,100,55,60,11,70,20,55,19,17,90,35,17,35,27,26,23,19,35,50,12,11,15,39,60,11,90,27,14,25,19,50,60,11,90,65,11,30,30,95,50,12,55,28,100,22,20,35,20,4,12,17,20,25,40,25,15,50,30,30,24,75,19,15,55,92,12,14,40,14,35,25,17,60,22,30,12,55,16,60,18,30,15,45,13,40,30,20,20,12,12,11,22,22,12,55,20,4,50,25,130,75,11,33,32,24,35,21,21,25,24,19,22,60,12,16,85,12,60,17,83,20,20,35,50,10,39,18,76,25,9,9,4,33,9,15,23,12,18,70,16,97,35,17,2,20,8,19,15,27,18,25,23,17,11,24,25,20,12,12,35,60,22,30,15,22,23,35,18,30,25,12,18,75,15,24,15,60,45,13,45,21,11,30,29,14,60,68,30,7,16,6,20,10,17,30,1,18,12,16,7,2,21,115,24,15,40,24,29,55,6,20,12,30,30,24,70,30,31,10,15,15,12,40,34,20,30,9,35,13,21,12,51,31,60,25,28,10,30,23,11,100,28,45,10,73,11,30,12,17,38,28,15,17,46,25,25,15,20,15,40,40,25,85,33,16,25,120,60,17,16,30,13,15,18,20,24,56,25,28,45,29,15,45,13,21,45,19,45,27,23,30,40,80,40,15,25,12,20,37,21,17,37,19,8,17,35,40,11,47,21,18,22,20,55,25,11,12,14,42,9,25,35,40,90,20,45,30,35,62,12,8,56,15,29,66,11,50,35,45,65,50,17,38,20,42,60,5,35,24,12,29,7,35,15,85,12,35,22,25,35,80,15,30,39,40,60,32,28,15,25,40,13,74,35,18,25,38,22,20,7,13,15,33,80,6,30,22,34,27,10,60,34,28,13,17,15,20,18,75,26,70,52,14,25,50,17,25,22,18,20,68,5,20,55,15,25,35,15,21,15,35,65,25,65,40,14,12,35,14,75,90,16,120,15,55,35,21,40,19,18,30,21,60,17,77,20,35,12,25,16,10,15,24,34,125,45,57,75,60,20,90,14,4,60,21,27,50,25,17,60,19,50,40,10,30,60,70,52,15,17,13,20,28,15,9,30,11,15,5,20,15,25,23,18,30,25,38,60,37,100,35,18,15,35,85,15,26,35,80,15,25,20,20,32,40,35,25,24,26,104,51,30,35,25,16,16,25,100,60,52,23,16,25,30,17,19,10,18,10,10,12,18,60,45,10,25,22,17,15,30,37,55,65,75,14,11,52,27,49,46,22,40,25,50,50,30,13,21,40,7,25,51,26,20,8,40,10,17,2,63,70,45,21,14,13,13,12,19,20,27,100,16,12,35,4,40,17,32,12,27,8,22,52,9,18,15,13,20,16,16,25,3,32,40,10,35,35,23,47,60,70,50,48,17,25,25,25,63,12,14,12,14,83,28,35,5,14,25,25,12,22,60,80,32,15,63,17,62,16,25,20,11,14,50,18,51,12,7,70,27,19,37,20,25,23,11,80,23,50,90,80,5,20,46,25,15,13,15,70,35,11,16,30,18,25,32,22,40,22,22,45,29,60,60,11,18,18,16,25,75,12,25,60,4,9,25,20,60,42,40,13,14,25,58,30,54,30,20,63,25,3,60,35,15,40,25,65,45,15,24,15,23,30,24,35,5,46,50,38,36,4,25,15,25,30,35,18,23,60,11,21,42,30,37,20,55,78,45,11,15,21,30,36,15,3,25,44,17,57,30,15,80,26,25,80,30,20,13,12,90,45,50,27,30,15,12,60,11,18,10,21,22,28,65,24,33,50,51,5,40,24,25,21,9,10,43,13,10,8,45,14,25,45,18,21,25,20,30,35,44,47,20,55,6,13,12,25,35,50,17,33,20,13,59,42,3,16,60,14,15,34,11,27,35,35,10,22,16,20,26,38,28,14,23,9,20,20,19,60,70,40,60,20,12,25,35,40,15,40,19,100,31,48,37,20,28,26,16,21,25,19,31,22,9,19,50,35,65,22,40,20,25,50,55,30,90,12,35,47,30,17,20,14,20,37,21,24,20,18,15,25,35,15,45,24,15,16,24,11,7,60,27,40,16,9,32,35,17,10,22,35,18,35,15,27,14,15,27,32,25,16,26,20,70,24,21,30,22,11,18,90,16,45,24,30,32,42,24,24,90,40,22,27,16,72,15,40,28,8,12,15,55,16,14,21,18,18,63,48,20,101,28,40,15,11,21,7,35,22,18,34,100,30,18,29,45,18,60,6,30,20,50,17,30,25,48,70,55,13,45,9,25,47,80,25,9,7,80,9,53,30,12,10,20,40,42,17,21,18,35,18,17,30,39,18,45,11,20,50,55,10,13,28,16,27,15,31,94,29,70,14,36,25,27,30,40,40,11,36,50,10,68,35,32,14,13,70,23,19,80,25,15,15,50,24,27,43,15,70,20,28,17,38,35,7,34,40,30,40,25,50,33,52,50,42,38,45,19,17,40,21,13,15,10,12,22,25,3,23,35,10,32,18,17,16,12,39,18,23,25,36,26,17,14,7,10,13,15,22,2,22,70,50,20,84,20,23,41,25,10,13,30,30,35,25,19,35,35,30,21,18,15,74,50,76,17,20,50,30,120,15,24,15,5,25,13,10,21,17,34,22,15,24,28,23,42,30,16,30,50,22,15,15,25,13,25,29,14,14,24,35,23,30,24,52,15,27,30,30,54,12,30,25,21,7,18,40,18,25,31,23,15,25,27,52,21,26,32,15,21,26,14,22,34,30,15,15,30,13,50,28,25,26,7,2,22,59,25,14,43,8,70,28,18,12,20,20,11,17,17,26,12,35,6,22,22,19,50,15,15,72,45,20,90,35,31,10,28,30,86,25,70,30,40,20,40,13,30,40,48,50,21,18,18,58,37,28,18,18,32,22,18,22,39,24,30,25,15,35,10,40,9,40,30,50,20,15,30,17,15,48,62,7,15,95,15,9,25,11,14,14,15,15,25,18,60,15,45,35,40,30,12,13,43,75,100,17,12,75,12,37,54,85,20,46,21,33,33,29,20,65,120,30,16,90,25,32,29,12,32,35,22,40,7,23,30,15,17,15,40,17,15,16,9,25,20,90,10,23,30,82,40,15,30,30,16,19,80,30,50,66,40,45,25,13,37,20,42,35,20,60,60,45,20,19,23,55,23,30,51,22,21,16,53,23,25,18,20,26,65,21,55,7,14,50,10,8,20,40,33,20,26,17,51,30,30,15,18,43,15,15,28,32,32,25,18,19,30,30,25,36,40,26,40,31,15,12,20,32,28,13,47,40,30,23,40,26,100,50,18,13,30,50,33,44,45,30,23,13,18,28,50,11,15,25,27,65,55,40,14,50,30,21,55,120,40,25,55,12,65,34,22,35,17,20,70,40,22,14,13,15,23,55,18,75,47,14,38,23,9,12,25,26,5,18,25,30,15,15,25,64,40,20,31,30,120,31,15,24,25,35,7,20,19,45,25,11,15,30,17,37,13,38,25,20,9,33,16,30,27,22,15,11,17,44,54,8,9,25,25,15,25,55,41,15,15,25,25,32,30,14,58,30,12,24,47,18,55,25,53,23,22,12,32,40,60,25,11,65,80,55,16,18,17,18,50,21,50,13,51,25,30,15,40,10,34,70,27,21,15,15,46,4,5,40,19,33,11,34,16,21,80,55,9,21,25,18,41,23,15,13,35,33,11,35,30,25,27,96,40,11,20,50,75,24,32,16,27,15,19,20,35,80,40,18,12,25,19,60,79,95,30,50,22,33,15,11,30,8,25,30,15,30,70,7,80,6,30,21,17,120,27,22,35,6,15,20,11,30,20,30,20,40,30,15,60,17,35,34,35,25,18,8,24,13,30,27,15,27,22,50,22,25,21,12,140,30,60,35,12,12,21,70,20,67,24,62,11,17,32,65,58,52,30,12,20,30,7,37,30,47,90,38,20,2,25,19,19,18,30,45,45,15,19,24,40,35,21,18,100,23,25,80,15,68,40,50,28,10,9,46,22,44,30],\"x0\":\" \",\"xaxis\":\"x\",\"y0\":\" \",\"yaxis\":\"y\",\"type\":\"box\"}],                        {\"template\":{\"data\":{\"histogram2dcontour\":[{\"type\":\"histogram2dcontour\",\"colorbar\":{\"outlinewidth\":0,\"ticks\":\"\"},\"colorscale\":[[0.0,\"#0d0887\"],[0.1111111111111111,\"#46039f\"],[0.2222222222222222,\"#7201a8\"],[0.3333333333333333,\"#9c179e\"],[0.4444444444444444,\"#bd3786\"],[0.5555555555555556,\"#d8576b\"],[0.6666666666666666,\"#ed7953\"],[0.7777777777777778,\"#fb9f3a\"],[0.8888888888888888,\"#fdca26\"],[1.0,\"#f0f921\"]]}],\"choropleth\":[{\"type\":\"choropleth\",\"colorbar\":{\"outlinewidth\":0,\"ticks\":\"\"}}],\"histogram2d\":[{\"type\":\"histogram2d\",\"colorbar\":{\"outlinewidth\":0,\"ticks\":\"\"},\"colorscale\":[[0.0,\"#0d0887\"],[0.1111111111111111,\"#46039f\"],[0.2222222222222222,\"#7201a8\"],[0.3333333333333333,\"#9c179e\"],[0.4444444444444444,\"#bd3786\"],[0.5555555555555556,\"#d8576b\"],[0.6666666666666666,\"#ed7953\"],[0.7777777777777778,\"#fb9f3a\"],[0.8888888888888888,\"#fdca26\"],[1.0,\"#f0f921\"]]}],\"heatmap\":[{\"type\":\"heatmap\",\"colorbar\":{\"outlinewidth\":0,\"ticks\":\"\"},\"colorscale\":[[0.0,\"#0d0887\"],[0.1111111111111111,\"#46039f\"],[0.2222222222222222,\"#7201a8\"],[0.3333333333333333,\"#9c179e\"],[0.4444444444444444,\"#bd3786\"],[0.5555555555555556,\"#d8576b\"],[0.6666666666666666,\"#ed7953\"],[0.7777777777777778,\"#fb9f3a\"],[0.8888888888888888,\"#fdca26\"],[1.0,\"#f0f921\"]]}],\"heatmapgl\":[{\"type\":\"heatmapgl\",\"colorbar\":{\"outlinewidth\":0,\"ticks\":\"\"},\"colorscale\":[[0.0,\"#0d0887\"],[0.1111111111111111,\"#46039f\"],[0.2222222222222222,\"#7201a8\"],[0.3333333333333333,\"#9c179e\"],[0.4444444444444444,\"#bd3786\"],[0.5555555555555556,\"#d8576b\"],[0.6666666666666666,\"#ed7953\"],[0.7777777777777778,\"#fb9f3a\"],[0.8888888888888888,\"#fdca26\"],[1.0,\"#f0f921\"]]}],\"contourcarpet\":[{\"type\":\"contourcarpet\",\"colorbar\":{\"outlinewidth\":0,\"ticks\":\"\"}}],\"contour\":[{\"type\":\"contour\",\"colorbar\":{\"outlinewidth\":0,\"ticks\":\"\"},\"colorscale\":[[0.0,\"#0d0887\"],[0.1111111111111111,\"#46039f\"],[0.2222222222222222,\"#7201a8\"],[0.3333333333333333,\"#9c179e\"],[0.4444444444444444,\"#bd3786\"],[0.5555555555555556,\"#d8576b\"],[0.6666666666666666,\"#ed7953\"],[0.7777777777777778,\"#fb9f3a\"],[0.8888888888888888,\"#fdca26\"],[1.0,\"#f0f921\"]]}],\"surface\":[{\"type\":\"surface\",\"colorbar\":{\"outlinewidth\":0,\"ticks\":\"\"},\"colorscale\":[[0.0,\"#0d0887\"],[0.1111111111111111,\"#46039f\"],[0.2222222222222222,\"#7201a8\"],[0.3333333333333333,\"#9c179e\"],[0.4444444444444444,\"#bd3786\"],[0.5555555555555556,\"#d8576b\"],[0.6666666666666666,\"#ed7953\"],[0.7777777777777778,\"#fb9f3a\"],[0.8888888888888888,\"#fdca26\"],[1.0,\"#f0f921\"]]}],\"mesh3d\":[{\"type\":\"mesh3d\",\"colorbar\":{\"outlinewidth\":0,\"ticks\":\"\"}}],\"scatter\":[{\"fillpattern\":{\"fillmode\":\"overlay\",\"size\":10,\"solidity\":0.2},\"type\":\"scatter\"}],\"parcoords\":[{\"type\":\"parcoords\",\"line\":{\"colorbar\":{\"outlinewidth\":0,\"ticks\":\"\"}}}],\"scatterpolargl\":[{\"type\":\"scatterpolargl\",\"marker\":{\"colorbar\":{\"outlinewidth\":0,\"ticks\":\"\"}}}],\"bar\":[{\"error_x\":{\"color\":\"#2a3f5f\"},\"error_y\":{\"color\":\"#2a3f5f\"},\"marker\":{\"line\":{\"color\":\"#E5ECF6\",\"width\":0.5},\"pattern\":{\"fillmode\":\"overlay\",\"size\":10,\"solidity\":0.2}},\"type\":\"bar\"}],\"scattergeo\":[{\"type\":\"scattergeo\",\"marker\":{\"colorbar\":{\"outlinewidth\":0,\"ticks\":\"\"}}}],\"scatterpolar\":[{\"type\":\"scatterpolar\",\"marker\":{\"colorbar\":{\"outlinewidth\":0,\"ticks\":\"\"}}}],\"histogram\":[{\"marker\":{\"pattern\":{\"fillmode\":\"overlay\",\"size\":10,\"solidity\":0.2}},\"type\":\"histogram\"}],\"scattergl\":[{\"type\":\"scattergl\",\"marker\":{\"colorbar\":{\"outlinewidth\":0,\"ticks\":\"\"}}}],\"scatter3d\":[{\"type\":\"scatter3d\",\"line\":{\"colorbar\":{\"outlinewidth\":0,\"ticks\":\"\"}},\"marker\":{\"colorbar\":{\"outlinewidth\":0,\"ticks\":\"\"}}}],\"scattermapbox\":[{\"type\":\"scattermapbox\",\"marker\":{\"colorbar\":{\"outlinewidth\":0,\"ticks\":\"\"}}}],\"scatterternary\":[{\"type\":\"scatterternary\",\"marker\":{\"colorbar\":{\"outlinewidth\":0,\"ticks\":\"\"}}}],\"scattercarpet\":[{\"type\":\"scattercarpet\",\"marker\":{\"colorbar\":{\"outlinewidth\":0,\"ticks\":\"\"}}}],\"carpet\":[{\"aaxis\":{\"endlinecolor\":\"#2a3f5f\",\"gridcolor\":\"white\",\"linecolor\":\"white\",\"minorgridcolor\":\"white\",\"startlinecolor\":\"#2a3f5f\"},\"baxis\":{\"endlinecolor\":\"#2a3f5f\",\"gridcolor\":\"white\",\"linecolor\":\"white\",\"minorgridcolor\":\"white\",\"startlinecolor\":\"#2a3f5f\"},\"type\":\"carpet\"}],\"table\":[{\"cells\":{\"fill\":{\"color\":\"#EBF0F8\"},\"line\":{\"color\":\"white\"}},\"header\":{\"fill\":{\"color\":\"#C8D4E3\"},\"line\":{\"color\":\"white\"}},\"type\":\"table\"}],\"barpolar\":[{\"marker\":{\"line\":{\"color\":\"#E5ECF6\",\"width\":0.5},\"pattern\":{\"fillmode\":\"overlay\",\"size\":10,\"solidity\":0.2}},\"type\":\"barpolar\"}],\"pie\":[{\"automargin\":true,\"type\":\"pie\"}]},\"layout\":{\"autotypenumbers\":\"strict\",\"colorway\":[\"#636efa\",\"#EF553B\",\"#00cc96\",\"#ab63fa\",\"#FFA15A\",\"#19d3f3\",\"#FF6692\",\"#B6E880\",\"#FF97FF\",\"#FECB52\"],\"font\":{\"color\":\"#2a3f5f\"},\"hovermode\":\"closest\",\"hoverlabel\":{\"align\":\"left\"},\"paper_bgcolor\":\"white\",\"plot_bgcolor\":\"#E5ECF6\",\"polar\":{\"bgcolor\":\"#E5ECF6\",\"angularaxis\":{\"gridcolor\":\"white\",\"linecolor\":\"white\",\"ticks\":\"\"},\"radialaxis\":{\"gridcolor\":\"white\",\"linecolor\":\"white\",\"ticks\":\"\"}},\"ternary\":{\"bgcolor\":\"#E5ECF6\",\"aaxis\":{\"gridcolor\":\"white\",\"linecolor\":\"white\",\"ticks\":\"\"},\"baxis\":{\"gridcolor\":\"white\",\"linecolor\":\"white\",\"ticks\":\"\"},\"caxis\":{\"gridcolor\":\"white\",\"linecolor\":\"white\",\"ticks\":\"\"}},\"coloraxis\":{\"colorbar\":{\"outlinewidth\":0,\"ticks\":\"\"}},\"colorscale\":{\"sequential\":[[0.0,\"#0d0887\"],[0.1111111111111111,\"#46039f\"],[0.2222222222222222,\"#7201a8\"],[0.3333333333333333,\"#9c179e\"],[0.4444444444444444,\"#bd3786\"],[0.5555555555555556,\"#d8576b\"],[0.6666666666666666,\"#ed7953\"],[0.7777777777777778,\"#fb9f3a\"],[0.8888888888888888,\"#fdca26\"],[1.0,\"#f0f921\"]],\"sequentialminus\":[[0.0,\"#0d0887\"],[0.1111111111111111,\"#46039f\"],[0.2222222222222222,\"#7201a8\"],[0.3333333333333333,\"#9c179e\"],[0.4444444444444444,\"#bd3786\"],[0.5555555555555556,\"#d8576b\"],[0.6666666666666666,\"#ed7953\"],[0.7777777777777778,\"#fb9f3a\"],[0.8888888888888888,\"#fdca26\"],[1.0,\"#f0f921\"]],\"diverging\":[[0,\"#8e0152\"],[0.1,\"#c51b7d\"],[0.2,\"#de77ae\"],[0.3,\"#f1b6da\"],[0.4,\"#fde0ef\"],[0.5,\"#f7f7f7\"],[0.6,\"#e6f5d0\"],[0.7,\"#b8e186\"],[0.8,\"#7fbc41\"],[0.9,\"#4d9221\"],[1,\"#276419\"]]},\"xaxis\":{\"gridcolor\":\"white\",\"linecolor\":\"white\",\"ticks\":\"\",\"title\":{\"standoff\":15},\"zerolinecolor\":\"white\",\"automargin\":true,\"zerolinewidth\":2},\"yaxis\":{\"gridcolor\":\"white\",\"linecolor\":\"white\",\"ticks\":\"\",\"title\":{\"standoff\":15},\"zerolinecolor\":\"white\",\"automargin\":true,\"zerolinewidth\":2},\"scene\":{\"xaxis\":{\"backgroundcolor\":\"#E5ECF6\",\"gridcolor\":\"white\",\"linecolor\":\"white\",\"showbackground\":true,\"ticks\":\"\",\"zerolinecolor\":\"white\",\"gridwidth\":2},\"yaxis\":{\"backgroundcolor\":\"#E5ECF6\",\"gridcolor\":\"white\",\"linecolor\":\"white\",\"showbackground\":true,\"ticks\":\"\",\"zerolinecolor\":\"white\",\"gridwidth\":2},\"zaxis\":{\"backgroundcolor\":\"#E5ECF6\",\"gridcolor\":\"white\",\"linecolor\":\"white\",\"showbackground\":true,\"ticks\":\"\",\"zerolinecolor\":\"white\",\"gridwidth\":2}},\"shapedefaults\":{\"line\":{\"color\":\"#2a3f5f\"}},\"annotationdefaults\":{\"arrowcolor\":\"#2a3f5f\",\"arrowhead\":0,\"arrowwidth\":1},\"geo\":{\"bgcolor\":\"white\",\"landcolor\":\"#E5ECF6\",\"subunitcolor\":\"white\",\"showland\":true,\"showlakes\":true,\"lakecolor\":\"white\"},\"title\":{\"x\":0.05},\"mapbox\":{\"style\":\"light\"}}},\"xaxis\":{\"anchor\":\"y\",\"domain\":[0.0,1.0],\"title\":{\"text\":\"Tumor_Size\"}},\"yaxis\":{\"anchor\":\"x\",\"domain\":[0.0,1.0]},\"legend\":{\"tracegroupgap\":0},\"title\":{\"text\":\"Tumor Size Distribution Post-Outlier (before Removal)\"},\"boxmode\":\"group\"},                        {\"responsive\": true}                    ).then(function(){\n",
              "                            \n",
              "var gd = document.getElementById('454b4561-c55b-45d0-bcd3-3ea028b16992');\n",
              "var x = new MutationObserver(function (mutations, observer) {{\n",
              "        var display = window.getComputedStyle(gd).display;\n",
              "        if (!display || display === 'none') {{\n",
              "            console.log([gd, 'removed!']);\n",
              "            Plotly.purge(gd);\n",
              "            observer.disconnect();\n",
              "        }}\n",
              "}});\n",
              "\n",
              "// Listen for the removal of the full notebook cells\n",
              "var notebookContainer = gd.closest('#notebook-container');\n",
              "if (notebookContainer) {{\n",
              "    x.observe(notebookContainer, {childList: true});\n",
              "}}\n",
              "\n",
              "// Listen for the clearing of the current output cell\n",
              "var outputEl = gd.closest('.output');\n",
              "if (outputEl) {{\n",
              "    x.observe(outputEl, {childList: true});\n",
              "}}\n",
              "\n",
              "                        })                };                            </script>        </div>\n",
              "</body>\n",
              "</html>"
            ]
          },
          "metadata": {}
        },
        {
          "output_type": "display_data",
          "data": {
            "text/html": [
              "<html>\n",
              "<head><meta charset=\"utf-8\" /></head>\n",
              "<body>\n",
              "    <div>            <script src=\"https://cdnjs.cloudflare.com/ajax/libs/mathjax/2.7.5/MathJax.js?config=TeX-AMS-MML_SVG\"></script><script type=\"text/javascript\">if (window.MathJax && window.MathJax.Hub && window.MathJax.Hub.Config) {window.MathJax.Hub.Config({SVG: {font: \"STIX-Web\"}});}</script>                <script type=\"text/javascript\">window.PlotlyConfig = {MathJaxConfig: 'local'};</script>\n",
              "        <script charset=\"utf-8\" src=\"https://cdn.plot.ly/plotly-2.35.2.min.js\"></script>                <div id=\"7672fbc5-9f8b-4522-ab91-cf94a2b63cc3\" class=\"plotly-graph-div\" style=\"height:525px; width:100%;\"></div>            <script type=\"text/javascript\">                                    window.PLOTLYENV=window.PLOTLYENV || {};                                    if (document.getElementById(\"7672fbc5-9f8b-4522-ab91-cf94a2b63cc3\")) {                    Plotly.newPlot(                        \"7672fbc5-9f8b-4522-ab91-cf94a2b63cc3\",                        [{\"alignmentgroup\":\"True\",\"hovertemplate\":\"Survival_Months=%{x}\\u003cextra\\u003e\\u003c\\u002fextra\\u003e\",\"legendgroup\":\"\",\"marker\":{\"color\":\"#636efa\"},\"name\":\"\",\"notched\":false,\"offsetgroup\":\"\",\"orientation\":\"h\",\"showlegend\":false,\"x\":[60,62,75,84,50,89,54,14,70,92,64,92,56,38,64,49,105,62,107,77,81,50,78,102,98,70,102,82,64,86,52,49,90,62,31,77,37,103,82,105,42,61,86,84,63,90,39,59,82,82,71,71,86,70,74,73,91,106,73,77,80,49,78,75,60,106,44,85,79,84,104,12,52,98,85,95,79,106,81,55,101,65,72,55,65,71,82,84,95,95,91,57,87,40,91,50,25,73,63,50,54,73,8,53,65,58,24,64,106,61,66,79,74,69,103,52,93,94,91,57,94,79,62,86,49,14,100,50,79,77,50,73,96,87,41,54,84,67,53,104,86,102,50,42,52,107,92,52,69,82,101,64,55,98,56,91,51,102,71,13,11,53,82,89,56,54,72,102,51,100,62,73,84,87,96,74,47,77,55,64,93,74,23,60,85,86,81,71,90,79,60,89,66,84,55,50,55,98,53,103,77,63,45,25,68,53,91,105,76,94,71,15,106,56,56,16,31,85,62,23,24,50,107,76,87,101,60,66,53,93,90,59,58,68,94,72,53,103,16,77,49,99,107,81,87,103,96,40,78,92,106,54,85,69,51,93,76,58,79,63,7,104,74,67,98,100,58,61,45,48,40,57,42,76,55,68,49,16,99,88,87,60,34,92,65,23,50,107,92,51,92,61,50,95,97,65,81,81,92,53,91,49,61,74,48,37,75,57,81,56,73,53,68,94,88,79,63,74,57,53,104,57,63,90,73,94,98,74,89,89,100,16,107,70,68,81,67,67,97,60,86,75,59,87,75,72,102,101,68,80,104,61,41,100,105,57,59,54,76,82,53,102,47,100,107,73,91,92,107,85,89,71,102,49,760,90,57,85,86,100,53,54,101,98,104,54,91,107,76,66,76,83,57,102,17,93,87,102,58,51,82,79,56,51,66,100,92,104,91,81,75,85,78,45,3,64,99,55,80,82,96,51,106,22,83,86,99,106,45,99,84,86,87,92,49,30,56,98,97,106,100,75,90,74,66,6,75,107,63,68,55,73,60,100,90,15,95,32,103,99,102,103,88,58,61,101,101,9,68,87,93,61,95,80,13,52,54,56,97,66,98,54,9,73,48,81,69,84,89,97,79,100,67,52,70,95,87,53,51,83,60,63,106,107,95,58,94,52,97,86,91,49,69,100,9,86,90,76,61,69,5,80,40,53,92,39,80,54,98,87,10,80,49,56,75,105,87,53,61,102,70,101,69,80,93,98,59,53,63,107,49,94,60,100,91,66,44,60,50,90,88,75,74,56,103,19,25,93,60,76,87,69,60,95,100,81,104,52,67,87,34,18,55,50,66,107,107,85,34,64,96,98,52,76,76,62,64,54,89,90,61,52,81,69,93,62,103,37,71,100,62,96,74,66,75,89,102,72,97,103,88,60,57,106,81,91,75,51,93,84,96,5,62,50,79,93,88,55,104,85,78,35,94,59,104,75,27,98,68,36,53,79,83,89,64,89,67,102,76,42,101,54,94,36,50,87,85,68,73,59,67,66,58,57,75,104,50,62,93,4,73,95,94,73,47,70,72,81,37,66,95,66,69,95,73,79,80,87,47,79,89,90,74,59,82,58,49,105,60,59,100,93,57,88,95,65,58,72,64,54,93,3,76,79,44,95,66,29,16,33,19,104,71,60,67,88,40,47,39,105,48,53,61,50,99,104,85,71,102,58,70,99,61,38,34,103,67,65,97,85,81,59,58,57,97,87,74,85,69,99,82,80,105,53,18,97,26,54,80,82,99,87,88,90,49,47,79,77,77,48,71,54,66,83,81,80,91,76,85,61,61,36,56,85,97,101,77,75,99,54,103,89,89,101,91,65,55,95,94,94,48,58,101,96,90,102,101,50,77,62,96,97,86,76,20,53,69,69,28,69,98,102,90,5,99,104,87,75,89,53,96,56,102,57,106,107,64,7,107,58,45,91,107,43,54,86,107,43,83,78,28,96,79,57,74,76,54,38,67,85,85,73,70,73,98,49,62,47,98,88,62,77,79,68,58,103,4,26,107,77,85,65,68,51,100,69,91,94,25,67,80,52,87,62,84,85,17,53,92,102,104,1,23,85,94,55,99,65,3,55,60,46,80,75,70,19,95,31,38,97,86,66,68,90,60,96,44,29,81,28,24,61,74,71,65,43,46,69,81,107,30,92,106,68,72,84,63,90,67,44,49,57,77,93,24,71,75,89,84,69,86,86,81,97,84,84,96,71,81,73,58,50,80,61,73,77,87,105,77,67,82,95,15,67,42,74,10,57,95,73,58,92,60,33,81,17,52,83,96,70,65,98,14,35,74,88,89,91,104,96,83,74,87,14,57,103,102,50,92,101,72,90,4,59,50,67,13,80,95,66,62,88,98,22,51,90,67,72,99,83,83,75,93,73,95,88,103,68,91,98,34,106,88,75,85,70,89,85,64,67,80,66,7,96,61,68,73,35,88,83,106,78,79,67,98,55,51,56,56,73,64,57,95,101,99,97,23,82,94,104,50,86,100,62,97,64,74,59,97,77,80,87,52,60,76,69,56,93,86,49,52,62,92,79,58,67,102,63,45,99,62,82,61,5,76,41,98,51,21,55,48,98,103,60,52,56,2,91,53,50,96,66,48,81,94,88,56,83,73,103,31,48,89,83,86,97,58,101,53,102,94,76,74,73,61,103,63,95,47,64,50,87,77,106,105,80,82,101,52,40,79,13,101,88,48,73,69,91,102,77,101,28,10,36,83,83,66,76,98,75,100,72,86,74,78,58,94,62,17,98,50,103,69,107,101,50,68,68,52,84,102,53,85,101,106,72,18,48,84,59,72,73,58,88,89,86,94,92,49,103,105,83,101,98,81,37,75,48,69,104,87,72,76,75,85,93,56,49,48,70,51,57,57,87,98,80,74,102,104,100,62,72,86,53,58,83,94,101,59,43,54,57,96,64,71,74,49,31,53,96,51,64,95,92,58,62,15,107,62,18,46,76,77,86,87,24,63,57,72,100,72,67,68,107,86,28,62,76,81,22,93,50,83,104,83,8,30,93,93,50,99,76,65,64,56,73,65,74,74,75,60,98,103,48,68,97,85,47,63,78,54,46,74,98,97,36,66,14,25,64,79,39,83,103,7,90,48,75,100,76,87,48,103,87,58,89,50,40,54,80,51,18,100,95,67,78,80,56,54,52,106,59,99,66,61,73,94,93,56,83,56,69,76,85,48,78,75,107,63,94,55,98,40,65,64,80,58,89,87,93,27,61,80,99,5,95,87,100,99,23,102,106,74,41,55,58,51,40,79,41,102,40,49,76,66,54,75,79,58,65,81,106,40,82,76,69,55,60,94,55,82,61,90,90,64,50,54,13,89,102,47,63,90,75,46,57,31,53,79,50,89,104,66,77,100,76,86,82,107,54,96,53,89,72,82,103,68,54,77,9,54,97,60,88,89,91,92,103,81,47,77,95,89,63,64,83,33,72,56,72,80,13,105,59,69,66,103,78,47,88,102,71,51,67,33,107,77,84,91,61,9,56,10,103,58,103,25,31,50,66,69,51,86,96,74,58,66,55,102,104,77,31,37,77,81,93,93,103,72,76,52,71,81,49,84,42,102,51,53,98,51,69,40,59,21,61,66,107,94,77,53,76,83,67,69,88,80,81,47,72,96,60,67,69,58,83,101,64,31,91,78,105,78,40,92,99,89,98,40,76,31,95,71,69,106,84,74,74,46,52,77,78,98,49,77,71,98,83,83,74,23,71,106,61,101,95,63,25,61,59,61,99,73,103,67,86,72,59,66,64,64,81,82,83,89,83,47,53,105,106,64,100,81,85,45,56,92,81,76,50,49,95,4,20,95,35,98,92,60,3,82,25,66,55,15,56,59,56,80,30,60,64,93,47,46,88,93,93,87,49,56,4,107,72,58,103,94,11,102,94,80,53,48,106,86,78,38,96,98,99,75,2,102,70,14,60,75,72,107,60,101,97,107,62,73,96,91,102,64,50,52,100,83,67,61,53,47,97,31,65,75,82,97,37,58,101,71,105,63,82,66,83,61,9,52,77,54,79,47,104,12,42,64,96,49,81,63,67,83,107,106,18,70,71,69,52,91,64,57,96,56,94,22,94,78,72,25,69,90,59,55,105,95,45,14,56,82,68,100,78,105,66,93,71,80,21,102,84,98,75,81,13,96,58,100,96,58,73,98,96,89,6,79,77,107,65,60,54,61,72,71,89,49,106,52,80,73,52,74,55,53,89,72,72,68,55,70,84,80,54,8,98,91,4,101,99,74,80,70,69,9,72,100,103,39,87,67,85,75,50,53,66,92,66,26,89,53,23,68,83,63,68,99,100,106,102,27,48,91,63,68,77,100,78,41,86,91,53,56,54,106,101,81,92,102,70,30,93,59,52,63,18,34,59,107,59,102,49,56,60,94,55,94,73,91,41,84,52,6,65,71,66,65,8,79,80,62,71,97,102,61,61,75,83,44,70,27,62,69,73,63,88,69,51,9,107,68,78,89,96,100,54,76,95,98,77,87,106,97,56,61,67,98,50,73,89,60,57,107,94,85,58,102,16,61,68,57,74,8,65,82,49,59,92,102,67,44,55,99,60,71,66,45,103,85,82,98,65,55,53,63,95,106,53,89,101,98,106,98,98,44,82,81,65,107,96,86,94,72,75,106,56,47,58,79,101,97,92,95,100,68,58,83,48,82,54,49,54,46,91,51,8,91,49,81,36,42,65,87,23,68,84,76,71,49,70,6,43,96,42,91,64,99,104,65,51,80,58,68,96,90,82,97,87,61,101,77,51,102,96,57,93,75,57,105,57,18,55,67,24,69,65,68,67,72,55,76,58,88,65,59,70,99,82,78,96,15,52,97,54,65,37,69,12,54,54,58,66,95,67,64,81,34,78,95,88,79,27,50,86,92,66,81,55,63,77,80,80,53,78,76,80,59,28,60,59,76,44,64,70,77,93,63,102,79,75,60,68,93,97,82,56,63,92,83,68,58,99,101,100,52,105,96,89,69,52,102,99,48,90,2,50,99,79,51,75,83,55,99,41,98,77,64,80,48,88,89,63,57,56,80,84,64,55,94,74,51,104,52,88,78,60,97,92,64,73,42,54,98,104,96,103,78,62,65,54,69,102,47,48,81,93,74,20,102,42,91,99,38,58,94,86,58,55,49,68,74,87,60,52,78,82,53,86,70,69,96,69,84,23,70,48,81,84,24,49,86,99,69,89,83,51,34,13,59,74,102,104,62,60,98,92,78,76,23,100,58,49,95,25,22,54,95,75,49,100,76,89,63,94,81,96,103,77,41,68,106,66,36,90,104,37,77,74,63,56,60,49,90,67,48,72,59,95,94,79,86,60,107,91,31,49,103,32,104,93,99,66,57,13,70,69,82,90,64,56,83,107,65,102,51,85,74,67,64,106,82,80,6,56,4,98,65,53,64,98,70,97,62,43,65,64,72,106,102,29,83,68,22,57,92,83,48,57,76,72,98,47,48,54,62,48,61,100,57,24,103,90,88,64,82,88,38,82,35,84,64,100,60,59,80,73,51,88,65,102,72,63,44,98,100,104,106,69,90,93,49,73,75,72,7,51,103,101,69,78,74,103,63,48,66,53,66,95,46,66,104,82,76,92,46,82,20,50,48,13,83,90,77,94,16,78,99,85,65,75,51,77,85,94,70,87,65,89,86,80,70,81,51,68,62,107,105,58,51,105,106,93,67,71,50,64,67,99,68,18,98,73,43,95,83,72,37,74,101,78,76,80,59,97,104,55,58,104,99,82,61,102,55,83,48,33,49,84,42,84,71,56,51,59,57,101,53,95,97,92,52,81,21,55,67,62,93,83,52,60,56,94,92,32,26,55,81,62,33,94,80,29,100,84,77,107,83,64,95,59,67,93,80,91,49,73,80,79,9,107,103,95,92,60,53,60,79,49,45,68,96,32,56,104,86,11,104,70,10,56,35,52,49,52,85,76,79,40,83,49,51,48,98,94,77,52,99,67,77,69,50,16,59,88,52,67,52,102,104,85,82,105,65,48,38,101,59,105,71,84,65,97,75,99,48,81,51,81,53,89,69,100,88,57,67,63,52,97,51,54,53,61,66,49,82,78,82,79,27,101,89,88,53,63,59,78,61,91,59,93,48,80,66,68,77,88,49,83,106,61,103,82,70,10,81,51,84,90,104,105,98,44,90,73,88,61,89,64,107,56,70,101,57,85,66,13,66,106,104,79,73,101,94,100,69,51,98,82,98,100,56,70,90,84,81,75,59,48,89,102,45,39,92,42,51,105,68,87,103,70,89,60,57,84,95,82,67,63,17,57,80,77,30,71,65,98,44,60,60,34,101,84,94,41,57,97,105,80,102,93,39,106,100,65,97,84,86,52,56,91,52,20,70,71,44,69,87,84,79,77,92,91,79,50,86,98,43,61,99,55,86,87,104,68,63,55,88,98,56,38,73,40,49,90,93,50,35,59,103,68,98,87,63,92,59,22,93,71,102,95,53,50,45,79,94,105,80,67,13,66,75,78,44,65,100,96,81,35,64,88,61,53,74,25,78,75,99,61,78,53,41,96,105,97,84,6,82,38,98,75,91,77,44,20,95,93,69,76,39,30,48,37,54,85,24,54,65,63,97,63,75,100,78,78,48,81,69,83,22,106,27,97,61,62,98,63,101,67,68,61,41,77,98,48,74,69,94,95,67,56,102,74,102,65,69,101,80,83,62,60,40,105,18,78,75,99,88,50,88,102,105,51,92,23,70,74,78,50,35,57,79,34,95,72,50,92,107,59,94,57,64,60,74,56,96,63,83,54,80,74,66,89,86,96,68,66,58,76,83,107,23,75,76,67,55,59,78,66,53,41,55,50,60,47,54,101,18,85,55,87,50,81,64,75,69,61,89,65,63,107,50,64,6,31,36,100,81,55,48,54,55,88,66,67,63,96,14,71,49,85,41,60,72,4,53,73,85,90,70,10,94,63,51,68,65,92,21,63,86,53,29,97,20,94,81,55,96,68,94,54,75,76,52,55,94,49,85,62,50,97,51,50,40,99,59,95,41,83,80,25,82,56,30,79,88,45,92,86,73,52,55,69,88,107,88,97,98,85,58,100,84,70,55,86,95,106,95,70,72,81,92,84,68,64,101,69,67,89,104,77,93,99,78,27,52,35,82,48,44,98,95,52,91,103,43,61,100,86,101,95,85,83,77,93,102,93,62,95,84,68,10,54,55,48,51,98,101,68,78,68,75,63,94,67,56,24,63,61,54,42,84,78,107,75,86,91,49,91,45,70,51,50,98,38,106,95,85,93,22,22,66,106,93,74,100,58,84,36,107,87,79,56,82,105,82,68,69,63,65,62,85,73,56,59,72,80,72,53,99,56,57,27,99,95,69,104,100,49,96,103,23,71,58,65,33,88,62,59,81,97,103,88,88,96,52,100,56,41,88,77,88,89,102,63,78,83,55,100,45,41,96,86,68,73,50,89,71,92,101,89,92,93,88,88,72,85,90,19,88,75,80,51,50,101,99,89,70,62,76,98,56,105,103,12,75,62,60,96,99,79,83,54,56,83,90,107,100,62,51,95,29,72,57,93,75,56,73,70,69,58,100,61,64,105,67,89,93,100,78,93,67,57,72,67,53,103,64,38,31,100,55,86,63,41,65,41,65,62,58,50,67,104,55,102,69,14,61,52,83,69,80,60,73,63,63,49,69,74,52,75,90,6,88,83,58,62,100,56,59,71,97,57,81,98,50,79,46,87,79,34,48,48,96,89,81,76,70,82,105,101,90,39,105,69,88,51,20,63,80,81,55,78,97,105,55,56,50,65,4,50,61,87,81,83,72,50,65,88,36,59,63,105,54,56,62,59,93,63,47,48,79,69,88,60,22,51,107,74,50,80,77,102,66,63,97,106,84,79,81,93,54,54,64,91,99,98,88,73,93,86,71,74,54,68,76,73,98,64,81,58,92,84,89,63,61,105,85,48,26,56,100,56,63,97,82,48,105,98,69,72,63,89,66,96,104,64,107,86,48,66,91,94,58,83,65,57,80,96,63,82,94,61,102,103,78,48,41,93,84,72,60,53,91,78,41,21,76,31,12,33,56,95,63,97,63,47,49,93,78,77,97,72,89,45,86,74,57,59,61,79,100,76,72,52,107,74,56,95,89,78,59,95,63,66,67,43,69,70,101,87,102,81,23,69,28,78,105,46,51,14,95,56,33,49,8,82,73,69,84,83,91,101,49,67,48,66,64,104,75,67,97,66,64,82,77,78,96,78,107,83,55,99,66,60,93,75,87,66,106,46,11,83,89,84,48,71,50,107,56,84,68,76,62,59,53,50,12,51,36,58,75,61,84,86,80,5,75,81,58,82,85,66,84,101,55,72,47,47,104,68,30,102,57,88,83,38,67,89,24,92,60,53,84,87,64,60,63,84,91,17,100,86,77,102,107,107,89,51,55,27,55,87,56,52,102,77,69,23,80,83,63,69,49,35,57,41,105,88,94,105,48,62,77,102,84,75,97,87,59,105,63,102,107,66,69,61,84,94,78,70,60,82,78,81,104,80,86,4,57,88,66,91,88,41,70,105,104,79,94,80,66,49,80,95,99,93,79,80,52,105,52,77,59,54,52,77,99,65,102,49,49,107,20,52,100,67,28,69,69,103,80,60,87,59,55,82,50,66,72,95,97,92,59,69,81,69,90,97,93,58,48,66,66,63,77,99,72,52,86,46,68,71,59,72,89,50,76,60,56,101,66,30,63,58,88,48,107,73,47,77,89,66,79,58,69,104,68,97,84,91,63,54,95,62,68,55,58,102,68,55,32,65,80,107,64,74,27,75,57,91,20,51,76,72,50,60,53,73,77,97,85,99,49,69,69,69,84,59,56,41,81,89,59,61,70,68,74,70,81,51,79,67,62,75,63,95,56,77,62,64,106,95,70,21,90,52,82,60,27,65,63,102,55,80,76,83,52,62,59,78,85,89,52,54,76,88,29,93,50,69,88,56,100,85,63,24,61,64,65,76,66,75,52,107,27,100,79,102,86,68,52,19,70,49,69,69,72,100],\"x0\":\" \",\"xaxis\":\"x\",\"y0\":\" \",\"yaxis\":\"y\",\"type\":\"box\"}],                        {\"template\":{\"data\":{\"histogram2dcontour\":[{\"type\":\"histogram2dcontour\",\"colorbar\":{\"outlinewidth\":0,\"ticks\":\"\"},\"colorscale\":[[0.0,\"#0d0887\"],[0.1111111111111111,\"#46039f\"],[0.2222222222222222,\"#7201a8\"],[0.3333333333333333,\"#9c179e\"],[0.4444444444444444,\"#bd3786\"],[0.5555555555555556,\"#d8576b\"],[0.6666666666666666,\"#ed7953\"],[0.7777777777777778,\"#fb9f3a\"],[0.8888888888888888,\"#fdca26\"],[1.0,\"#f0f921\"]]}],\"choropleth\":[{\"type\":\"choropleth\",\"colorbar\":{\"outlinewidth\":0,\"ticks\":\"\"}}],\"histogram2d\":[{\"type\":\"histogram2d\",\"colorbar\":{\"outlinewidth\":0,\"ticks\":\"\"},\"colorscale\":[[0.0,\"#0d0887\"],[0.1111111111111111,\"#46039f\"],[0.2222222222222222,\"#7201a8\"],[0.3333333333333333,\"#9c179e\"],[0.4444444444444444,\"#bd3786\"],[0.5555555555555556,\"#d8576b\"],[0.6666666666666666,\"#ed7953\"],[0.7777777777777778,\"#fb9f3a\"],[0.8888888888888888,\"#fdca26\"],[1.0,\"#f0f921\"]]}],\"heatmap\":[{\"type\":\"heatmap\",\"colorbar\":{\"outlinewidth\":0,\"ticks\":\"\"},\"colorscale\":[[0.0,\"#0d0887\"],[0.1111111111111111,\"#46039f\"],[0.2222222222222222,\"#7201a8\"],[0.3333333333333333,\"#9c179e\"],[0.4444444444444444,\"#bd3786\"],[0.5555555555555556,\"#d8576b\"],[0.6666666666666666,\"#ed7953\"],[0.7777777777777778,\"#fb9f3a\"],[0.8888888888888888,\"#fdca26\"],[1.0,\"#f0f921\"]]}],\"heatmapgl\":[{\"type\":\"heatmapgl\",\"colorbar\":{\"outlinewidth\":0,\"ticks\":\"\"},\"colorscale\":[[0.0,\"#0d0887\"],[0.1111111111111111,\"#46039f\"],[0.2222222222222222,\"#7201a8\"],[0.3333333333333333,\"#9c179e\"],[0.4444444444444444,\"#bd3786\"],[0.5555555555555556,\"#d8576b\"],[0.6666666666666666,\"#ed7953\"],[0.7777777777777778,\"#fb9f3a\"],[0.8888888888888888,\"#fdca26\"],[1.0,\"#f0f921\"]]}],\"contourcarpet\":[{\"type\":\"contourcarpet\",\"colorbar\":{\"outlinewidth\":0,\"ticks\":\"\"}}],\"contour\":[{\"type\":\"contour\",\"colorbar\":{\"outlinewidth\":0,\"ticks\":\"\"},\"colorscale\":[[0.0,\"#0d0887\"],[0.1111111111111111,\"#46039f\"],[0.2222222222222222,\"#7201a8\"],[0.3333333333333333,\"#9c179e\"],[0.4444444444444444,\"#bd3786\"],[0.5555555555555556,\"#d8576b\"],[0.6666666666666666,\"#ed7953\"],[0.7777777777777778,\"#fb9f3a\"],[0.8888888888888888,\"#fdca26\"],[1.0,\"#f0f921\"]]}],\"surface\":[{\"type\":\"surface\",\"colorbar\":{\"outlinewidth\":0,\"ticks\":\"\"},\"colorscale\":[[0.0,\"#0d0887\"],[0.1111111111111111,\"#46039f\"],[0.2222222222222222,\"#7201a8\"],[0.3333333333333333,\"#9c179e\"],[0.4444444444444444,\"#bd3786\"],[0.5555555555555556,\"#d8576b\"],[0.6666666666666666,\"#ed7953\"],[0.7777777777777778,\"#fb9f3a\"],[0.8888888888888888,\"#fdca26\"],[1.0,\"#f0f921\"]]}],\"mesh3d\":[{\"type\":\"mesh3d\",\"colorbar\":{\"outlinewidth\":0,\"ticks\":\"\"}}],\"scatter\":[{\"fillpattern\":{\"fillmode\":\"overlay\",\"size\":10,\"solidity\":0.2},\"type\":\"scatter\"}],\"parcoords\":[{\"type\":\"parcoords\",\"line\":{\"colorbar\":{\"outlinewidth\":0,\"ticks\":\"\"}}}],\"scatterpolargl\":[{\"type\":\"scatterpolargl\",\"marker\":{\"colorbar\":{\"outlinewidth\":0,\"ticks\":\"\"}}}],\"bar\":[{\"error_x\":{\"color\":\"#2a3f5f\"},\"error_y\":{\"color\":\"#2a3f5f\"},\"marker\":{\"line\":{\"color\":\"#E5ECF6\",\"width\":0.5},\"pattern\":{\"fillmode\":\"overlay\",\"size\":10,\"solidity\":0.2}},\"type\":\"bar\"}],\"scattergeo\":[{\"type\":\"scattergeo\",\"marker\":{\"colorbar\":{\"outlinewidth\":0,\"ticks\":\"\"}}}],\"scatterpolar\":[{\"type\":\"scatterpolar\",\"marker\":{\"colorbar\":{\"outlinewidth\":0,\"ticks\":\"\"}}}],\"histogram\":[{\"marker\":{\"pattern\":{\"fillmode\":\"overlay\",\"size\":10,\"solidity\":0.2}},\"type\":\"histogram\"}],\"scattergl\":[{\"type\":\"scattergl\",\"marker\":{\"colorbar\":{\"outlinewidth\":0,\"ticks\":\"\"}}}],\"scatter3d\":[{\"type\":\"scatter3d\",\"line\":{\"colorbar\":{\"outlinewidth\":0,\"ticks\":\"\"}},\"marker\":{\"colorbar\":{\"outlinewidth\":0,\"ticks\":\"\"}}}],\"scattermapbox\":[{\"type\":\"scattermapbox\",\"marker\":{\"colorbar\":{\"outlinewidth\":0,\"ticks\":\"\"}}}],\"scatterternary\":[{\"type\":\"scatterternary\",\"marker\":{\"colorbar\":{\"outlinewidth\":0,\"ticks\":\"\"}}}],\"scattercarpet\":[{\"type\":\"scattercarpet\",\"marker\":{\"colorbar\":{\"outlinewidth\":0,\"ticks\":\"\"}}}],\"carpet\":[{\"aaxis\":{\"endlinecolor\":\"#2a3f5f\",\"gridcolor\":\"white\",\"linecolor\":\"white\",\"minorgridcolor\":\"white\",\"startlinecolor\":\"#2a3f5f\"},\"baxis\":{\"endlinecolor\":\"#2a3f5f\",\"gridcolor\":\"white\",\"linecolor\":\"white\",\"minorgridcolor\":\"white\",\"startlinecolor\":\"#2a3f5f\"},\"type\":\"carpet\"}],\"table\":[{\"cells\":{\"fill\":{\"color\":\"#EBF0F8\"},\"line\":{\"color\":\"white\"}},\"header\":{\"fill\":{\"color\":\"#C8D4E3\"},\"line\":{\"color\":\"white\"}},\"type\":\"table\"}],\"barpolar\":[{\"marker\":{\"line\":{\"color\":\"#E5ECF6\",\"width\":0.5},\"pattern\":{\"fillmode\":\"overlay\",\"size\":10,\"solidity\":0.2}},\"type\":\"barpolar\"}],\"pie\":[{\"automargin\":true,\"type\":\"pie\"}]},\"layout\":{\"autotypenumbers\":\"strict\",\"colorway\":[\"#636efa\",\"#EF553B\",\"#00cc96\",\"#ab63fa\",\"#FFA15A\",\"#19d3f3\",\"#FF6692\",\"#B6E880\",\"#FF97FF\",\"#FECB52\"],\"font\":{\"color\":\"#2a3f5f\"},\"hovermode\":\"closest\",\"hoverlabel\":{\"align\":\"left\"},\"paper_bgcolor\":\"white\",\"plot_bgcolor\":\"#E5ECF6\",\"polar\":{\"bgcolor\":\"#E5ECF6\",\"angularaxis\":{\"gridcolor\":\"white\",\"linecolor\":\"white\",\"ticks\":\"\"},\"radialaxis\":{\"gridcolor\":\"white\",\"linecolor\":\"white\",\"ticks\":\"\"}},\"ternary\":{\"bgcolor\":\"#E5ECF6\",\"aaxis\":{\"gridcolor\":\"white\",\"linecolor\":\"white\",\"ticks\":\"\"},\"baxis\":{\"gridcolor\":\"white\",\"linecolor\":\"white\",\"ticks\":\"\"},\"caxis\":{\"gridcolor\":\"white\",\"linecolor\":\"white\",\"ticks\":\"\"}},\"coloraxis\":{\"colorbar\":{\"outlinewidth\":0,\"ticks\":\"\"}},\"colorscale\":{\"sequential\":[[0.0,\"#0d0887\"],[0.1111111111111111,\"#46039f\"],[0.2222222222222222,\"#7201a8\"],[0.3333333333333333,\"#9c179e\"],[0.4444444444444444,\"#bd3786\"],[0.5555555555555556,\"#d8576b\"],[0.6666666666666666,\"#ed7953\"],[0.7777777777777778,\"#fb9f3a\"],[0.8888888888888888,\"#fdca26\"],[1.0,\"#f0f921\"]],\"sequentialminus\":[[0.0,\"#0d0887\"],[0.1111111111111111,\"#46039f\"],[0.2222222222222222,\"#7201a8\"],[0.3333333333333333,\"#9c179e\"],[0.4444444444444444,\"#bd3786\"],[0.5555555555555556,\"#d8576b\"],[0.6666666666666666,\"#ed7953\"],[0.7777777777777778,\"#fb9f3a\"],[0.8888888888888888,\"#fdca26\"],[1.0,\"#f0f921\"]],\"diverging\":[[0,\"#8e0152\"],[0.1,\"#c51b7d\"],[0.2,\"#de77ae\"],[0.3,\"#f1b6da\"],[0.4,\"#fde0ef\"],[0.5,\"#f7f7f7\"],[0.6,\"#e6f5d0\"],[0.7,\"#b8e186\"],[0.8,\"#7fbc41\"],[0.9,\"#4d9221\"],[1,\"#276419\"]]},\"xaxis\":{\"gridcolor\":\"white\",\"linecolor\":\"white\",\"ticks\":\"\",\"title\":{\"standoff\":15},\"zerolinecolor\":\"white\",\"automargin\":true,\"zerolinewidth\":2},\"yaxis\":{\"gridcolor\":\"white\",\"linecolor\":\"white\",\"ticks\":\"\",\"title\":{\"standoff\":15},\"zerolinecolor\":\"white\",\"automargin\":true,\"zerolinewidth\":2},\"scene\":{\"xaxis\":{\"backgroundcolor\":\"#E5ECF6\",\"gridcolor\":\"white\",\"linecolor\":\"white\",\"showbackground\":true,\"ticks\":\"\",\"zerolinecolor\":\"white\",\"gridwidth\":2},\"yaxis\":{\"backgroundcolor\":\"#E5ECF6\",\"gridcolor\":\"white\",\"linecolor\":\"white\",\"showbackground\":true,\"ticks\":\"\",\"zerolinecolor\":\"white\",\"gridwidth\":2},\"zaxis\":{\"backgroundcolor\":\"#E5ECF6\",\"gridcolor\":\"white\",\"linecolor\":\"white\",\"showbackground\":true,\"ticks\":\"\",\"zerolinecolor\":\"white\",\"gridwidth\":2}},\"shapedefaults\":{\"line\":{\"color\":\"#2a3f5f\"}},\"annotationdefaults\":{\"arrowcolor\":\"#2a3f5f\",\"arrowhead\":0,\"arrowwidth\":1},\"geo\":{\"bgcolor\":\"white\",\"landcolor\":\"#E5ECF6\",\"subunitcolor\":\"white\",\"showland\":true,\"showlakes\":true,\"lakecolor\":\"white\"},\"title\":{\"x\":0.05},\"mapbox\":{\"style\":\"light\"}}},\"xaxis\":{\"anchor\":\"y\",\"domain\":[0.0,1.0],\"title\":{\"text\":\"Survival_Months\"}},\"yaxis\":{\"anchor\":\"x\",\"domain\":[0.0,1.0]},\"legend\":{\"tracegroupgap\":0},\"title\":{\"text\":\"Survival_Months Distribution Post-Outlier (before Removal)\"},\"boxmode\":\"group\"},                        {\"responsive\": true}                    ).then(function(){\n",
              "                            \n",
              "var gd = document.getElementById('7672fbc5-9f8b-4522-ab91-cf94a2b63cc3');\n",
              "var x = new MutationObserver(function (mutations, observer) {{\n",
              "        var display = window.getComputedStyle(gd).display;\n",
              "        if (!display || display === 'none') {{\n",
              "            console.log([gd, 'removed!']);\n",
              "            Plotly.purge(gd);\n",
              "            observer.disconnect();\n",
              "        }}\n",
              "}});\n",
              "\n",
              "// Listen for the removal of the full notebook cells\n",
              "var notebookContainer = gd.closest('#notebook-container');\n",
              "if (notebookContainer) {{\n",
              "    x.observe(notebookContainer, {childList: true});\n",
              "}}\n",
              "\n",
              "// Listen for the clearing of the current output cell\n",
              "var outputEl = gd.closest('.output');\n",
              "if (outputEl) {{\n",
              "    x.observe(outputEl, {childList: true});\n",
              "}}\n",
              "\n",
              "                        })                };                            </script>        </div>\n",
              "</body>\n",
              "</html>"
            ]
          },
          "metadata": {}
        }
      ]
    },
    {
      "cell_type": "markdown",
      "source": [
        "Codereuse Session 01 (Week 5) Question 17"
      ],
      "metadata": {
        "id": "-m2zeGYLNYaU"
      }
    },
    {
      "cell_type": "code",
      "source": [
        "# Calculate IQR for Age\n",
        "Q1_age, Q3_age = df['Age'].quantile([0.25, 0.75])\n",
        "IQR_age = Q3_age - Q1_age\n",
        "\n",
        "# Define bounds\n",
        "lower_bound_age = Q1_age - 1.5 * IQR_age\n",
        "upper_bound_age = Q3_age + 1.5 * IQR_age"
      ],
      "metadata": {
        "id": "jx81A6Va9zK7"
      },
      "execution_count": null,
      "outputs": []
    },
    {
      "cell_type": "markdown",
      "source": [
        "Codereuse Session 01 (Week 5) Question 20"
      ],
      "metadata": {
        "id": "qhO_9atpOZ1H"
      }
    },
    {
      "cell_type": "code",
      "source": [
        "# Find outlier indexes\n",
        "outlier_indexes = df[(df['Age'] < lower_bound_age) | (df['Age'] > upper_bound_age)].index\n",
        "\n",
        "# Drop outliers\n",
        "df.drop(index=outlier_indexes, inplace=True)\n",
        "df.shape"
      ],
      "metadata": {
        "colab": {
          "base_uri": "https://localhost:8080/"
        },
        "id": "j0blLZOy91nb",
        "outputId": "a54b03d7-a830-4756-f10f-2882015cb92a"
      },
      "execution_count": null,
      "outputs": [
        {
          "output_type": "execute_result",
          "data": {
            "text/plain": [
              "(4020, 15)"
            ]
          },
          "metadata": {},
          "execution_count": 88
        }
      ]
    },
    {
      "cell_type": "markdown",
      "source": [
        "Codereuse Session 01 (Week 5) Question 17"
      ],
      "metadata": {
        "id": "JadvdZe6Necj"
      }
    },
    {
      "cell_type": "code",
      "source": [
        "# Calculate IQR for Tumor_Size\n",
        "Q1_tumor, Q3_tumor = df['Tumor_Size'].quantile([0.25, 0.75])\n",
        "IQR_tumor = Q3_tumor - Q1_tumor\n",
        "\n",
        "# Define lower bound (filtering only lower-side outliers)\n",
        "lower_bound_tumor = Q1_tumor - 1.5 * IQR_tumor"
      ],
      "metadata": {
        "id": "6f32a4dw937L"
      },
      "execution_count": null,
      "outputs": []
    },
    {
      "cell_type": "markdown",
      "source": [
        "Codereuse Session 01 (Week 5) Question 20"
      ],
      "metadata": {
        "id": "En9ZcON3ObRg"
      }
    },
    {
      "cell_type": "code",
      "source": [
        "# Identify outlier indexes (only below lower bound)\n",
        "outlier_indexes = df[df['Tumor_Size'] < lower_bound_tumor].index\n",
        "\n",
        "# Drop outliers\n",
        "df.drop(index=outlier_indexes, inplace=True)\n",
        "\n",
        "df.shape"
      ],
      "metadata": {
        "colab": {
          "base_uri": "https://localhost:8080/"
        },
        "id": "iDFZ6Q28N1FN",
        "outputId": "7ade37aa-c486-49ea-91b6-0f14af19e930"
      },
      "execution_count": null,
      "outputs": [
        {
          "output_type": "execute_result",
          "data": {
            "text/plain": [
              "(4019, 15)"
            ]
          },
          "metadata": {},
          "execution_count": 90
        }
      ]
    },
    {
      "cell_type": "markdown",
      "source": [
        "Codereuse Session 01 (Week 5) Question 17"
      ],
      "metadata": {
        "id": "6e5_OBQJNiQl"
      }
    },
    {
      "cell_type": "code",
      "source": [
        "# Calculate IQR for Tumor_Size\n",
        "Q1_SurvivalMonths, Q3_SurvivalMonths = df['Survival_Months'].quantile([0.25, 0.75])\n",
        "IQR_SurvivalMonths = Q3_SurvivalMonths - Q1_SurvivalMonths\n",
        "\n",
        "# Define lower bound (filtering only lower-side outliers)\n",
        "lower_bound_SurvivalMonths = Q1_SurvivalMonths - 1.5 * IQR_SurvivalMonths\n",
        "upper_bound_SurvivalMonths = Q3_SurvivalMonths + 1.5 * IQR_SurvivalMonths"
      ],
      "metadata": {
        "id": "qENaGR_596J7"
      },
      "execution_count": null,
      "outputs": []
    },
    {
      "cell_type": "markdown",
      "source": [
        "Codereuse Session 01 (Week 5) Question 20"
      ],
      "metadata": {
        "id": "rRpGA6_eOc4r"
      }
    },
    {
      "cell_type": "code",
      "source": [
        "# Identify outlier indexes (only below lower bound)\n",
        "outlier_indexes = df[df['Survival_Months'] > upper_bound_SurvivalMonths].index\n",
        "\n",
        "# Drop outliers\n",
        "df.drop(index=outlier_indexes, inplace=True)\n",
        "#Cjeck shape after outlier removal\n",
        "df.shape"
      ],
      "metadata": {
        "colab": {
          "base_uri": "https://localhost:8080/"
        },
        "id": "LBQPONCZ99r9",
        "outputId": "b42f7645-fef0-47b1-c5cb-6f603d6d17c9"
      },
      "execution_count": null,
      "outputs": [
        {
          "output_type": "execute_result",
          "data": {
            "text/plain": [
              "(4018, 15)"
            ]
          },
          "metadata": {},
          "execution_count": 92
        }
      ]
    },
    {
      "cell_type": "markdown",
      "source": [
        "Codereuse Session 01 (Week 5) Question 16"
      ],
      "metadata": {
        "id": "3fMe8VlHNTJ6"
      }
    },
    {
      "cell_type": "code",
      "source": [
        "# Plot boxplots for Age and Tumor_Size after outlier removal\n",
        "px.box(df, x='Age', title=\"Age Distribution Post-Outlier (After Removal)\").show()\n",
        "px.box(df, x='Tumor_Size', title=\"Tumor Size Distribution Post-Outlier (After Removal)\").show()\n",
        "px.box(df, x='Survival_Months', title=\"Survival_Months Distribution Post-Outlier (After Removal)\").show()"
      ],
      "metadata": {
        "colab": {
          "base_uri": "https://localhost:8080/",
          "height": 1000
        },
        "id": "3sknPtLx9_vP",
        "outputId": "54968bf1-4388-4b56-de61-8b66f578adc8"
      },
      "execution_count": null,
      "outputs": [
        {
          "output_type": "display_data",
          "data": {
            "text/html": [
              "<html>\n",
              "<head><meta charset=\"utf-8\" /></head>\n",
              "<body>\n",
              "    <div>            <script src=\"https://cdnjs.cloudflare.com/ajax/libs/mathjax/2.7.5/MathJax.js?config=TeX-AMS-MML_SVG\"></script><script type=\"text/javascript\">if (window.MathJax && window.MathJax.Hub && window.MathJax.Hub.Config) {window.MathJax.Hub.Config({SVG: {font: \"STIX-Web\"}});}</script>                <script type=\"text/javascript\">window.PlotlyConfig = {MathJaxConfig: 'local'};</script>\n",
              "        <script charset=\"utf-8\" src=\"https://cdn.plot.ly/plotly-2.35.2.min.js\"></script>                <div id=\"aa3176ba-7c03-4e1d-a999-805293a476ce\" class=\"plotly-graph-div\" style=\"height:525px; width:100%;\"></div>            <script type=\"text/javascript\">                                    window.PLOTLYENV=window.PLOTLYENV || {};                                    if (document.getElementById(\"aa3176ba-7c03-4e1d-a999-805293a476ce\")) {                    Plotly.newPlot(                        \"aa3176ba-7c03-4e1d-a999-805293a476ce\",                        [{\"alignmentgroup\":\"True\",\"hovertemplate\":\"Age=%{x}\\u003cextra\\u003e\\u003c\\u002fextra\\u003e\",\"legendgroup\":\"\",\"marker\":{\"color\":\"#636efa\"},\"name\":\"\",\"notched\":false,\"offsetgroup\":\"\",\"orientation\":\"h\",\"showlegend\":false,\"x\":[68,50,58,58,47,51,51,40,40,69,68,46,65,48,62,61,56,43,48,60,48,57,55,48,62,63,48,46,57,66,47,53,59,60,46,51,54,51,49,51,57,64,62,53,55,66,42,62,54,69,37,69,54,63,57,55,62,50,50,55,56,51,42,59,67,46,31,40,58,52,54,64,31,66,67,56,66,42,51,68,53,67,66,53,51,46,48,52,55,65,53,33,63,45,59,60,50,61,50,68,38,47,39,57,52,60,54,68,38,63,61,37,46,45,54,53,50,69,48,53,67,43,50,59,53,62,39,59,56,45,60,50,58,50,55,37,46,65,61,52,54,36,62,54,61,46,38,66,59,38,67,60,61,67,69,47,39,53,55,59,53,59,57,61,68,54,37,48,53,69,63,49,63,60,41,59,43,52,61,60,61,63,48,51,66,68,58,62,46,58,60,62,53,42,63,55,50,52,47,55,60,66,50,64,67,56,60,56,48,37,63,54,63,44,68,64,50,55,66,46,43,43,43,59,55,61,66,55,65,69,59,63,68,48,61,43,44,47,52,69,39,43,64,66,45,37,50,40,52,54,32,65,67,57,63,42,57,42,46,47,67,67,65,65,33,64,66,34,55,47,58,38,57,65,52,67,57,61,45,50,50,53,54,58,56,68,41,61,65,69,43,47,67,45,65,53,67,43,47,48,62,68,57,40,56,52,40,51,67,54,56,48,57,47,54,41,65,58,38,38,60,58,63,53,43,60,60,47,48,59,56,53,48,52,61,66,45,52,67,40,50,65,55,47,49,53,53,44,54,51,46,47,68,50,67,47,68,55,47,56,51,41,67,58,67,63,69,59,54,65,48,55,50,39,49,58,34,49,52,62,55,57,40,52,63,57,40,55,42,52,39,53,47,37,63,54,50,56,56,52,38,57,56,54,54,69,62,63,46,47,55,40,47,52,65,63,57,45,62,54,65,64,47,63,66,69,48,60,61,61,43,49,63,61,61,69,66,39,52,49,55,62,42,50,52,38,39,57,62,55,47,68,50,42,54,42,46,50,62,58,53,46,38,40,60,63,49,57,48,46,61,61,53,53,42,57,56,48,59,57,56,64,50,40,40,52,59,53,54,61,54,41,57,40,63,62,62,42,47,53,64,51,56,50,66,56,46,66,57,55,32,58,63,48,64,44,57,61,45,52,67,45,63,56,46,53,62,47,39,33,56,55,69,58,42,58,51,64,62,52,43,65,59,62,51,57,46,40,49,46,40,49,61,56,50,55,60,34,51,53,58,61,48,63,56,66,64,49,56,67,42,47,60,43,42,60,52,63,60,61,58,52,64,68,47,51,53,63,50,45,68,46,54,65,51,45,45,57,35,54,68,58,48,59,47,52,46,34,34,36,40,38,61,37,60,38,56,49,65,61,69,53,61,47,62,62,41,41,48,48,54,63,44,51,55,49,64,63,46,46,61,52,62,52,39,36,64,55,65,45,68,57,44,51,50,52,53,49,65,67,63,43,57,63,52,61,58,62,56,48,64,67,57,41,62,51,65,51,46,46,48,43,59,49,56,53,58,51,55,54,34,42,45,46,62,49,38,30,68,59,49,57,49,65,47,40,45,54,55,57,67,51,54,52,63,48,49,46,46,46,65,69,59,48,43,55,59,67,69,54,69,60,45,48,60,49,33,60,68,67,50,46,39,55,59,32,63,53,54,50,45,46,46,67,58,60,55,46,62,59,59,44,69,43,63,43,36,63,60,56,44,69,50,55,65,47,62,60,62,62,63,61,55,66,69,60,61,51,49,58,60,48,63,40,69,67,41,67,45,66,55,48,58,61,59,51,44,59,58,43,52,57,52,56,69,49,64,48,41,51,45,53,47,60,62,50,55,60,65,64,64,67,57,38,52,36,49,64,61,68,56,47,31,55,62,48,46,62,61,56,65,38,57,62,57,63,62,49,31,67,39,48,38,47,47,53,46,38,52,46,61,38,50,40,51,61,42,63,64,66,42,51,45,46,55,49,65,58,47,65,67,39,59,38,41,65,52,49,58,55,64,53,39,54,67,65,45,63,56,38,47,46,66,51,63,43,49,69,51,49,44,45,64,60,60,60,53,63,53,53,46,65,30,43,61,67,42,68,58,57,43,39,53,55,66,58,41,50,39,37,46,55,42,53,66,55,48,49,60,61,63,61,47,53,45,62,47,40,63,42,47,51,51,50,46,47,46,56,64,49,66,60,60,53,63,61,45,47,55,35,55,60,31,51,58,50,48,57,69,57,44,60,56,55,68,42,47,59,65,32,49,60,55,64,43,61,42,58,51,68,58,62,66,52,69,64,66,62,55,55,57,54,67,62,66,56,64,67,41,65,51,49,56,44,56,48,54,62,53,45,50,54,32,65,63,67,62,67,42,60,48,60,69,54,56,48,45,59,59,49,64,47,46,63,61,65,64,53,42,49,66,36,46,53,62,55,53,57,58,68,41,69,61,46,60,63,45,60,50,64,51,58,63,61,49,57,51,60,66,50,53,33,45,57,52,52,58,60,59,43,47,52,63,51,63,49,61,64,57,58,55,54,67,57,37,61,46,31,59,50,59,41,64,60,68,46,43,49,56,60,67,67,50,68,66,40,45,61,68,59,65,50,62,59,56,46,41,45,44,47,66,56,49,64,66,45,65,54,48,49,40,64,61,61,55,43,63,48,46,63,43,46,35,68,47,43,57,64,61,44,50,49,67,46,51,58,46,59,53,62,57,51,69,47,57,55,52,45,39,56,45,41,63,68,64,49,68,46,59,40,47,53,59,50,47,46,46,67,51,65,56,68,57,49,48,67,64,53,42,50,56,53,59,67,45,45,49,65,45,56,60,57,54,50,63,41,51,65,59,66,41,66,67,40,39,66,58,45,65,43,57,47,44,46,64,59,51,66,46,52,49,42,63,66,48,66,41,61,55,62,35,59,54,64,64,38,60,55,41,67,53,53,34,39,31,64,40,59,55,46,58,66,56,47,39,46,62,46,60,36,51,60,63,65,59,50,53,46,46,46,47,61,52,57,59,63,48,59,58,47,56,44,44,33,54,45,60,62,53,41,39,44,57,33,68,49,50,60,50,40,46,49,69,54,51,51,68,41,58,62,42,46,54,54,47,66,42,55,60,52,61,48,58,44,43,53,48,63,64,39,59,51,39,56,51,49,68,51,54,64,43,39,69,66,55,69,51,57,63,55,55,59,61,49,60,50,61,47,55,57,53,44,63,62,43,69,46,53,40,63,64,57,43,60,42,40,43,57,68,65,60,67,39,59,52,58,48,61,34,56,59,52,57,67,65,48,64,64,57,47,49,40,57,47,63,43,66,66,44,64,45,68,55,54,66,59,61,58,51,68,41,59,64,63,65,51,66,35,42,49,47,66,49,47,45,55,63,51,59,43,59,55,49,45,41,63,41,59,62,65,47,67,53,46,56,63,67,63,47,63,48,61,39,68,51,69,39,48,30,40,39,44,58,38,47,59,53,41,52,54,51,41,58,49,58,42,68,35,46,53,40,66,62,53,37,53,50,64,66,65,64,49,53,50,61,57,62,52,47,64,34,61,61,58,52,50,66,66,43,41,56,53,53,43,64,51,58,68,66,51,55,62,62,42,55,59,66,57,46,64,65,48,40,54,60,63,61,69,45,45,49,69,42,54,64,49,44,52,47,59,67,63,68,52,61,39,66,53,51,40,56,33,67,55,45,60,47,45,56,41,65,66,52,55,57,49,48,31,59,43,45,61,31,47,32,49,54,51,47,53,40,59,65,47,59,39,54,36,46,41,62,45,41,43,69,56,62,65,32,66,62,32,32,50,53,60,59,46,49,39,50,59,60,63,61,63,49,42,46,51,43,49,45,46,69,50,66,43,56,37,52,53,55,43,52,61,45,42,50,66,62,67,60,57,69,60,48,50,53,63,52,57,55,63,51,46,50,56,57,31,59,53,66,46,67,61,42,36,49,68,55,68,52,63,45,53,46,59,53,53,42,53,51,40,44,60,63,66,57,58,61,46,59,57,55,61,44,55,53,69,55,38,48,67,51,55,47,37,54,61,50,54,47,62,57,59,49,45,69,55,69,45,57,54,49,56,69,60,35,58,69,65,67,51,40,33,56,59,61,46,67,69,52,41,57,54,60,36,52,35,57,68,64,49,57,49,53,52,46,54,60,46,66,55,47,49,44,49,60,46,49,50,49,51,52,46,68,48,48,53,54,50,56,56,54,45,55,64,46,56,58,45,30,67,46,49,63,49,67,60,46,37,65,43,61,64,52,43,67,51,69,67,59,50,65,47,51,46,53,57,53,63,60,47,46,43,46,60,53,62,47,65,59,61,69,55,53,54,49,61,62,40,45,47,59,42,66,34,65,43,50,56,61,55,45,52,42,65,65,39,44,50,67,61,61,60,64,45,60,56,49,51,61,53,59,38,64,53,67,69,63,58,44,67,53,48,58,47,68,69,60,60,50,50,59,63,62,40,48,60,46,50,46,64,64,68,68,65,64,55,65,50,40,35,50,52,39,55,69,55,60,50,62,64,47,41,60,69,38,41,62,54,67,63,50,53,46,46,64,47,68,51,61,55,50,52,47,37,57,47,48,47,45,37,58,43,56,64,40,58,56,42,63,59,62,69,58,64,47,59,48,44,49,46,48,53,63,47,52,62,42,47,43,58,59,35,64,43,56,60,67,57,67,36,40,49,51,63,38,44,56,44,61,38,68,65,55,66,43,57,66,59,57,68,51,68,47,62,50,69,66,67,62,67,66,48,44,50,56,49,46,50,62,40,69,64,36,50,49,65,40,64,50,51,67,51,62,62,55,63,42,56,31,56,59,48,66,51,69,63,48,46,69,60,61,60,58,44,48,45,52,58,48,58,45,66,62,60,54,63,57,63,49,45,67,54,59,51,46,64,68,47,52,69,59,65,56,45,48,43,67,65,57,48,45,64,65,53,63,60,45,51,54,54,49,49,41,51,68,44,68,67,62,45,46,48,61,52,48,61,47,54,55,48,47,62,51,49,46,56,35,66,47,63,41,46,68,49,61,43,50,54,42,68,48,49,46,38,63,65,46,59,61,47,58,55,48,50,59,50,47,58,51,67,44,48,56,48,55,45,51,60,52,62,69,38,57,53,49,58,44,33,46,68,53,49,57,53,67,47,50,60,48,42,56,56,55,46,43,52,64,54,40,58,62,67,66,68,58,54,69,56,61,42,38,57,39,66,59,31,46,53,49,68,45,63,41,61,69,56,45,37,62,69,44,54,53,60,45,42,47,48,49,51,51,55,64,64,58,69,69,61,52,54,64,45,37,56,54,55,56,58,44,51,55,57,50,66,62,62,62,49,49,55,38,63,47,65,63,32,48,60,45,55,42,67,66,44,59,68,44,49,63,63,60,49,46,62,50,48,60,55,66,59,69,57,45,55,36,46,67,59,50,60,63,50,64,55,47,64,64,50,46,61,61,69,69,48,42,45,43,59,62,62,38,69,42,59,66,63,56,37,50,52,54,58,42,59,56,50,42,47,45,41,47,56,51,45,43,54,65,48,49,51,52,54,41,63,54,69,64,69,66,64,46,50,46,60,39,60,48,51,55,62,56,36,65,58,62,52,66,56,54,56,62,54,65,59,51,65,54,57,60,60,48,53,48,68,49,54,49,55,46,41,53,52,55,63,53,66,56,58,50,52,56,53,47,52,55,62,51,63,47,50,60,61,67,59,66,44,44,56,38,49,57,59,49,48,51,54,59,56,52,49,55,60,63,58,39,62,60,45,45,62,65,68,43,36,63,36,47,51,61,66,47,41,48,45,67,58,50,47,59,67,63,62,52,65,35,51,54,44,57,57,36,45,50,43,36,54,65,41,65,59,61,45,69,54,50,53,50,67,43,39,45,46,65,42,68,69,47,48,48,51,68,48,35,49,60,64,55,52,60,68,49,45,46,49,67,62,62,54,50,53,51,57,48,53,54,49,66,65,55,49,47,58,58,47,37,61,58,68,63,57,36,47,59,55,41,44,61,49,65,69,52,64,69,44,49,64,43,55,51,39,37,61,54,59,45,61,50,49,40,48,49,53,44,53,52,53,48,57,44,59,49,53,55,62,38,56,53,40,43,67,43,50,61,62,53,55,58,69,52,62,64,68,48,51,67,58,62,69,57,53,47,58,46,53,49,65,50,39,42,45,47,53,55,63,62,51,57,46,42,63,57,52,56,58,66,36,36,55,44,59,38,40,68,47,57,42,43,52,65,57,47,41,51,60,53,47,52,63,55,69,40,44,40,33,51,41,61,53,61,46,46,42,44,44,52,63,56,53,43,62,49,56,58,62,61,62,54,51,52,38,44,59,52,48,34,67,47,62,49,53,47,54,46,54,48,57,49,48,50,51,42,55,63,62,58,54,62,68,47,52,37,55,65,46,63,62,65,68,58,66,62,68,32,43,62,40,61,46,48,64,60,57,64,54,48,65,35,54,54,69,44,48,69,55,49,65,47,64,52,64,69,48,65,68,49,54,63,57,39,45,54,65,51,64,48,68,49,57,35,66,48,67,53,66,40,59,69,67,60,64,48,63,49,53,50,53,63,44,45,51,54,47,56,54,51,63,59,62,57,50,51,48,48,54,46,69,39,40,56,57,51,49,62,59,53,45,53,65,39,48,53,53,67,62,68,38,64,47,63,61,68,58,41,47,56,56,56,46,53,45,66,61,53,51,68,67,59,64,57,54,41,49,51,42,46,61,44,55,50,62,62,46,56,57,47,42,56,50,43,46,46,60,44,47,46,60,60,61,67,61,43,66,51,56,67,51,50,52,56,61,53,63,59,65,66,57,44,61,41,40,53,51,55,50,60,55,58,41,50,59,60,48,50,67,62,65,54,61,49,54,59,48,42,64,59,53,51,34,49,56,53,59,55,43,69,49,57,48,64,59,64,43,49,41,58,48,40,55,47,63,63,61,46,50,65,52,56,60,46,62,61,52,49,67,50,54,69,42,61,47,40,65,52,48,64,50,69,46,61,66,65,41,50,68,49,43,50,58,60,43,43,53,42,55,43,40,69,49,59,60,63,50,59,56,66,61,54,51,63,40,48,49,61,60,49,52,59,57,65,58,55,63,59,57,61,56,68,62,63,61,65,63,64,68,53,67,40,49,49,53,66,52,43,60,40,46,62,50,66,67,52,55,68,63,59,44,63,65,55,61,59,66,60,63,49,52,33,69,51,48,47,43,54,46,68,62,69,59,48,61,46,51,58,49,43,54,46,47,58,60,38,47,58,45,46,42,67,64,67,50,48,57,56,62,55,58,57,65,45,39,56,51,66,58,57,60,48,63,42,40,67,66,42,49,53,51,48,67,50,48,37,55,49,63,55,64,51,47,64,42,50,41,43,56,59,68,54,53,63,58,50,49,57,56,60,63,47,50,54,53,49,46,56,68,43,46,62,66,68,54,30,62,48,65,51,65,67,42,68,32,53,49,50,55,47,67,42,60,62,59,67,44,49,67,67,64,43,69,55,46,47,60,47,58,66,61,33,55,41,50,63,47,57,42,33,57,56,47,63,53,42,50,44,58,65,44,59,57,57,53,44,46,59,62,48,44,62,65,58,47,42,49,57,44,66,53,45,47,49,47,49,57,59,61,58,48,48,50,48,67,51,50,69,63,52,57,46,63,68,62,38,58,48,49,41,62,46,66,47,51,53,65,53,57,53,49,67,51,55,55,59,65,42,50,52,59,55,46,51,47,62,56,63,48,59,67,35,55,59,61,48,66,49,58,58,55,57,60,54,35,69,55,63,52,49,68,48,61,68,43,62,57,65,66,58,49,62,54,47,46,52,51,60,59,64,46,59,56,68,65,53,66,41,53,63,65,50,62,52,65,43,63,64,69,65,43,66,48,57,60,59,59,44,54,55,62,65,55,63,41,58,68,54,43,40,62,49,54,66,47,52,56,50,57,45,69,41,55,59,67,53,61,45,61,69,43,61,51,61,57,58,52,43,63,65,35,51,50,50,51,68,51,38,54,51,69,62,52,59,61,43,61,68,50,60,47,60,60,47,65,64,45,57,47,65,60,59,41,50,64,59,58,46,69,60,69,54,47,46,47,61,55,49,49,51,47,68,58,56,59,51,51,37,67,44,68,57,66,65,52,47,43,53,56,49,46,41,38,54,58,54,44,59,63,57,49,56,41,55,58,64,44,51,67,57,54,55,61,39,57,50,56,42,51,46,42,38,45,56,46,61,46,48,60,66,49,46,39,61,46,52,60,42,47,42,43,63,55,52,40,38,33,59,63,44,58,69,57,50,36,37,63,45,42,40,45,54,55,47,51,63,65,34,47,69,66,41,58,64,53,43,31,43,54,60,59,47,41,69,48,40,68,56,46,59,46,46,57,51,55,53,64,68,51,36,68,47,40,65,64,52,41,66,69,56,54,60,49,60,65,55,54,60,46,62,49,52,46,57,50,68,50,50,48,48,63,67,56,47,55,40,69,41,41,49,69,54,52,54,57,42,37,45,56,54,55,57,51,48,58,57,62,55,60,65,66,60,58,66,66,69,49,67,53,39,56,62,47,37,56,53,53,48,54,41,32,44,46,47,58,63,67,55,51,44,51,63,66,45,63,60,50,67,56,52,53,57,65,66,47,44,62,50,68,47,52,69,61,54,37,58,58,40,66,69,47,44,61,42,34,59,55,59,51,49,68,62,56,64,44,45,35,56,50,45,61,57,50,43,60,69,40,69,62,59,36,54,59,65,39,65,54,59,52,50,62,58,53,57,59,55,49,49,54,53,58,62,67,61,47,48,60,62,50,51,57,64,64,62,49,51,68,51,47,40,66,68,56,46,68,38,44,46,56,39,54,47,64,48,57,53,41,44,54,57,39,64,59,63,65,47,41,61,64,54,48,48,39,50,54,58,56,62,40,54,47,67,48,68,66,63,62,62,57,66,68,55,66,67,55,49,38,52,65,61,51,55,54,61,39,61,51,42,57,51,62,69,35,68,53,31,55,57,66,58,68,41,44,60,53,59,62,51,68,40,65,54,46,64,62,56,68,58,46],\"x0\":\" \",\"xaxis\":\"x\",\"y0\":\" \",\"yaxis\":\"y\",\"type\":\"box\"}],                        {\"template\":{\"data\":{\"histogram2dcontour\":[{\"type\":\"histogram2dcontour\",\"colorbar\":{\"outlinewidth\":0,\"ticks\":\"\"},\"colorscale\":[[0.0,\"#0d0887\"],[0.1111111111111111,\"#46039f\"],[0.2222222222222222,\"#7201a8\"],[0.3333333333333333,\"#9c179e\"],[0.4444444444444444,\"#bd3786\"],[0.5555555555555556,\"#d8576b\"],[0.6666666666666666,\"#ed7953\"],[0.7777777777777778,\"#fb9f3a\"],[0.8888888888888888,\"#fdca26\"],[1.0,\"#f0f921\"]]}],\"choropleth\":[{\"type\":\"choropleth\",\"colorbar\":{\"outlinewidth\":0,\"ticks\":\"\"}}],\"histogram2d\":[{\"type\":\"histogram2d\",\"colorbar\":{\"outlinewidth\":0,\"ticks\":\"\"},\"colorscale\":[[0.0,\"#0d0887\"],[0.1111111111111111,\"#46039f\"],[0.2222222222222222,\"#7201a8\"],[0.3333333333333333,\"#9c179e\"],[0.4444444444444444,\"#bd3786\"],[0.5555555555555556,\"#d8576b\"],[0.6666666666666666,\"#ed7953\"],[0.7777777777777778,\"#fb9f3a\"],[0.8888888888888888,\"#fdca26\"],[1.0,\"#f0f921\"]]}],\"heatmap\":[{\"type\":\"heatmap\",\"colorbar\":{\"outlinewidth\":0,\"ticks\":\"\"},\"colorscale\":[[0.0,\"#0d0887\"],[0.1111111111111111,\"#46039f\"],[0.2222222222222222,\"#7201a8\"],[0.3333333333333333,\"#9c179e\"],[0.4444444444444444,\"#bd3786\"],[0.5555555555555556,\"#d8576b\"],[0.6666666666666666,\"#ed7953\"],[0.7777777777777778,\"#fb9f3a\"],[0.8888888888888888,\"#fdca26\"],[1.0,\"#f0f921\"]]}],\"heatmapgl\":[{\"type\":\"heatmapgl\",\"colorbar\":{\"outlinewidth\":0,\"ticks\":\"\"},\"colorscale\":[[0.0,\"#0d0887\"],[0.1111111111111111,\"#46039f\"],[0.2222222222222222,\"#7201a8\"],[0.3333333333333333,\"#9c179e\"],[0.4444444444444444,\"#bd3786\"],[0.5555555555555556,\"#d8576b\"],[0.6666666666666666,\"#ed7953\"],[0.7777777777777778,\"#fb9f3a\"],[0.8888888888888888,\"#fdca26\"],[1.0,\"#f0f921\"]]}],\"contourcarpet\":[{\"type\":\"contourcarpet\",\"colorbar\":{\"outlinewidth\":0,\"ticks\":\"\"}}],\"contour\":[{\"type\":\"contour\",\"colorbar\":{\"outlinewidth\":0,\"ticks\":\"\"},\"colorscale\":[[0.0,\"#0d0887\"],[0.1111111111111111,\"#46039f\"],[0.2222222222222222,\"#7201a8\"],[0.3333333333333333,\"#9c179e\"],[0.4444444444444444,\"#bd3786\"],[0.5555555555555556,\"#d8576b\"],[0.6666666666666666,\"#ed7953\"],[0.7777777777777778,\"#fb9f3a\"],[0.8888888888888888,\"#fdca26\"],[1.0,\"#f0f921\"]]}],\"surface\":[{\"type\":\"surface\",\"colorbar\":{\"outlinewidth\":0,\"ticks\":\"\"},\"colorscale\":[[0.0,\"#0d0887\"],[0.1111111111111111,\"#46039f\"],[0.2222222222222222,\"#7201a8\"],[0.3333333333333333,\"#9c179e\"],[0.4444444444444444,\"#bd3786\"],[0.5555555555555556,\"#d8576b\"],[0.6666666666666666,\"#ed7953\"],[0.7777777777777778,\"#fb9f3a\"],[0.8888888888888888,\"#fdca26\"],[1.0,\"#f0f921\"]]}],\"mesh3d\":[{\"type\":\"mesh3d\",\"colorbar\":{\"outlinewidth\":0,\"ticks\":\"\"}}],\"scatter\":[{\"fillpattern\":{\"fillmode\":\"overlay\",\"size\":10,\"solidity\":0.2},\"type\":\"scatter\"}],\"parcoords\":[{\"type\":\"parcoords\",\"line\":{\"colorbar\":{\"outlinewidth\":0,\"ticks\":\"\"}}}],\"scatterpolargl\":[{\"type\":\"scatterpolargl\",\"marker\":{\"colorbar\":{\"outlinewidth\":0,\"ticks\":\"\"}}}],\"bar\":[{\"error_x\":{\"color\":\"#2a3f5f\"},\"error_y\":{\"color\":\"#2a3f5f\"},\"marker\":{\"line\":{\"color\":\"#E5ECF6\",\"width\":0.5},\"pattern\":{\"fillmode\":\"overlay\",\"size\":10,\"solidity\":0.2}},\"type\":\"bar\"}],\"scattergeo\":[{\"type\":\"scattergeo\",\"marker\":{\"colorbar\":{\"outlinewidth\":0,\"ticks\":\"\"}}}],\"scatterpolar\":[{\"type\":\"scatterpolar\",\"marker\":{\"colorbar\":{\"outlinewidth\":0,\"ticks\":\"\"}}}],\"histogram\":[{\"marker\":{\"pattern\":{\"fillmode\":\"overlay\",\"size\":10,\"solidity\":0.2}},\"type\":\"histogram\"}],\"scattergl\":[{\"type\":\"scattergl\",\"marker\":{\"colorbar\":{\"outlinewidth\":0,\"ticks\":\"\"}}}],\"scatter3d\":[{\"type\":\"scatter3d\",\"line\":{\"colorbar\":{\"outlinewidth\":0,\"ticks\":\"\"}},\"marker\":{\"colorbar\":{\"outlinewidth\":0,\"ticks\":\"\"}}}],\"scattermapbox\":[{\"type\":\"scattermapbox\",\"marker\":{\"colorbar\":{\"outlinewidth\":0,\"ticks\":\"\"}}}],\"scatterternary\":[{\"type\":\"scatterternary\",\"marker\":{\"colorbar\":{\"outlinewidth\":0,\"ticks\":\"\"}}}],\"scattercarpet\":[{\"type\":\"scattercarpet\",\"marker\":{\"colorbar\":{\"outlinewidth\":0,\"ticks\":\"\"}}}],\"carpet\":[{\"aaxis\":{\"endlinecolor\":\"#2a3f5f\",\"gridcolor\":\"white\",\"linecolor\":\"white\",\"minorgridcolor\":\"white\",\"startlinecolor\":\"#2a3f5f\"},\"baxis\":{\"endlinecolor\":\"#2a3f5f\",\"gridcolor\":\"white\",\"linecolor\":\"white\",\"minorgridcolor\":\"white\",\"startlinecolor\":\"#2a3f5f\"},\"type\":\"carpet\"}],\"table\":[{\"cells\":{\"fill\":{\"color\":\"#EBF0F8\"},\"line\":{\"color\":\"white\"}},\"header\":{\"fill\":{\"color\":\"#C8D4E3\"},\"line\":{\"color\":\"white\"}},\"type\":\"table\"}],\"barpolar\":[{\"marker\":{\"line\":{\"color\":\"#E5ECF6\",\"width\":0.5},\"pattern\":{\"fillmode\":\"overlay\",\"size\":10,\"solidity\":0.2}},\"type\":\"barpolar\"}],\"pie\":[{\"automargin\":true,\"type\":\"pie\"}]},\"layout\":{\"autotypenumbers\":\"strict\",\"colorway\":[\"#636efa\",\"#EF553B\",\"#00cc96\",\"#ab63fa\",\"#FFA15A\",\"#19d3f3\",\"#FF6692\",\"#B6E880\",\"#FF97FF\",\"#FECB52\"],\"font\":{\"color\":\"#2a3f5f\"},\"hovermode\":\"closest\",\"hoverlabel\":{\"align\":\"left\"},\"paper_bgcolor\":\"white\",\"plot_bgcolor\":\"#E5ECF6\",\"polar\":{\"bgcolor\":\"#E5ECF6\",\"angularaxis\":{\"gridcolor\":\"white\",\"linecolor\":\"white\",\"ticks\":\"\"},\"radialaxis\":{\"gridcolor\":\"white\",\"linecolor\":\"white\",\"ticks\":\"\"}},\"ternary\":{\"bgcolor\":\"#E5ECF6\",\"aaxis\":{\"gridcolor\":\"white\",\"linecolor\":\"white\",\"ticks\":\"\"},\"baxis\":{\"gridcolor\":\"white\",\"linecolor\":\"white\",\"ticks\":\"\"},\"caxis\":{\"gridcolor\":\"white\",\"linecolor\":\"white\",\"ticks\":\"\"}},\"coloraxis\":{\"colorbar\":{\"outlinewidth\":0,\"ticks\":\"\"}},\"colorscale\":{\"sequential\":[[0.0,\"#0d0887\"],[0.1111111111111111,\"#46039f\"],[0.2222222222222222,\"#7201a8\"],[0.3333333333333333,\"#9c179e\"],[0.4444444444444444,\"#bd3786\"],[0.5555555555555556,\"#d8576b\"],[0.6666666666666666,\"#ed7953\"],[0.7777777777777778,\"#fb9f3a\"],[0.8888888888888888,\"#fdca26\"],[1.0,\"#f0f921\"]],\"sequentialminus\":[[0.0,\"#0d0887\"],[0.1111111111111111,\"#46039f\"],[0.2222222222222222,\"#7201a8\"],[0.3333333333333333,\"#9c179e\"],[0.4444444444444444,\"#bd3786\"],[0.5555555555555556,\"#d8576b\"],[0.6666666666666666,\"#ed7953\"],[0.7777777777777778,\"#fb9f3a\"],[0.8888888888888888,\"#fdca26\"],[1.0,\"#f0f921\"]],\"diverging\":[[0,\"#8e0152\"],[0.1,\"#c51b7d\"],[0.2,\"#de77ae\"],[0.3,\"#f1b6da\"],[0.4,\"#fde0ef\"],[0.5,\"#f7f7f7\"],[0.6,\"#e6f5d0\"],[0.7,\"#b8e186\"],[0.8,\"#7fbc41\"],[0.9,\"#4d9221\"],[1,\"#276419\"]]},\"xaxis\":{\"gridcolor\":\"white\",\"linecolor\":\"white\",\"ticks\":\"\",\"title\":{\"standoff\":15},\"zerolinecolor\":\"white\",\"automargin\":true,\"zerolinewidth\":2},\"yaxis\":{\"gridcolor\":\"white\",\"linecolor\":\"white\",\"ticks\":\"\",\"title\":{\"standoff\":15},\"zerolinecolor\":\"white\",\"automargin\":true,\"zerolinewidth\":2},\"scene\":{\"xaxis\":{\"backgroundcolor\":\"#E5ECF6\",\"gridcolor\":\"white\",\"linecolor\":\"white\",\"showbackground\":true,\"ticks\":\"\",\"zerolinecolor\":\"white\",\"gridwidth\":2},\"yaxis\":{\"backgroundcolor\":\"#E5ECF6\",\"gridcolor\":\"white\",\"linecolor\":\"white\",\"showbackground\":true,\"ticks\":\"\",\"zerolinecolor\":\"white\",\"gridwidth\":2},\"zaxis\":{\"backgroundcolor\":\"#E5ECF6\",\"gridcolor\":\"white\",\"linecolor\":\"white\",\"showbackground\":true,\"ticks\":\"\",\"zerolinecolor\":\"white\",\"gridwidth\":2}},\"shapedefaults\":{\"line\":{\"color\":\"#2a3f5f\"}},\"annotationdefaults\":{\"arrowcolor\":\"#2a3f5f\",\"arrowhead\":0,\"arrowwidth\":1},\"geo\":{\"bgcolor\":\"white\",\"landcolor\":\"#E5ECF6\",\"subunitcolor\":\"white\",\"showland\":true,\"showlakes\":true,\"lakecolor\":\"white\"},\"title\":{\"x\":0.05},\"mapbox\":{\"style\":\"light\"}}},\"xaxis\":{\"anchor\":\"y\",\"domain\":[0.0,1.0],\"title\":{\"text\":\"Age\"}},\"yaxis\":{\"anchor\":\"x\",\"domain\":[0.0,1.0]},\"legend\":{\"tracegroupgap\":0},\"title\":{\"text\":\"Age Distribution Post-Outlier (After Removal)\"},\"boxmode\":\"group\"},                        {\"responsive\": true}                    ).then(function(){\n",
              "                            \n",
              "var gd = document.getElementById('aa3176ba-7c03-4e1d-a999-805293a476ce');\n",
              "var x = new MutationObserver(function (mutations, observer) {{\n",
              "        var display = window.getComputedStyle(gd).display;\n",
              "        if (!display || display === 'none') {{\n",
              "            console.log([gd, 'removed!']);\n",
              "            Plotly.purge(gd);\n",
              "            observer.disconnect();\n",
              "        }}\n",
              "}});\n",
              "\n",
              "// Listen for the removal of the full notebook cells\n",
              "var notebookContainer = gd.closest('#notebook-container');\n",
              "if (notebookContainer) {{\n",
              "    x.observe(notebookContainer, {childList: true});\n",
              "}}\n",
              "\n",
              "// Listen for the clearing of the current output cell\n",
              "var outputEl = gd.closest('.output');\n",
              "if (outputEl) {{\n",
              "    x.observe(outputEl, {childList: true});\n",
              "}}\n",
              "\n",
              "                        })                };                            </script>        </div>\n",
              "</body>\n",
              "</html>"
            ]
          },
          "metadata": {}
        },
        {
          "output_type": "display_data",
          "data": {
            "text/html": [
              "<html>\n",
              "<head><meta charset=\"utf-8\" /></head>\n",
              "<body>\n",
              "    <div>            <script src=\"https://cdnjs.cloudflare.com/ajax/libs/mathjax/2.7.5/MathJax.js?config=TeX-AMS-MML_SVG\"></script><script type=\"text/javascript\">if (window.MathJax && window.MathJax.Hub && window.MathJax.Hub.Config) {window.MathJax.Hub.Config({SVG: {font: \"STIX-Web\"}});}</script>                <script type=\"text/javascript\">window.PlotlyConfig = {MathJaxConfig: 'local'};</script>\n",
              "        <script charset=\"utf-8\" src=\"https://cdn.plot.ly/plotly-2.35.2.min.js\"></script>                <div id=\"f1ec4189-0405-4ac8-9040-9285802b508c\" class=\"plotly-graph-div\" style=\"height:525px; width:100%;\"></div>            <script type=\"text/javascript\">                                    window.PLOTLYENV=window.PLOTLYENV || {};                                    if (document.getElementById(\"f1ec4189-0405-4ac8-9040-9285802b508c\")) {                    Plotly.newPlot(                        \"f1ec4189-0405-4ac8-9040-9285802b508c\",                        [{\"alignmentgroup\":\"True\",\"hovertemplate\":\"Tumor_Size=%{x}\\u003cextra\\u003e\\u003c\\u002fextra\\u003e\",\"legendgroup\":\"\",\"marker\":{\"color\":\"#636efa\"},\"name\":\"\",\"notched\":false,\"offsetgroup\":\"\",\"orientation\":\"h\",\"showlegend\":false,\"x\":[4,35,63,18,41,20,8,30,103,32,13,59,35,15,35,19,46,24,25,29,30,40,29,70,20,22,50,17,25,21,40,15,15,20,30,10,27,18,35,23,70,17,21,23,5,51,9,15,32,5,23,55,120,77,2,11,25,18,15,12,18,17,26,75,13,15,70,15,15,17,130,34,30,10,22,55,25,50,50,15,30,20,22,15,15,40,120,80,17,3,60,14,26,25,12,25,30,25,24,27,70,16,45,27,23,25,40,20,21,36,14,51,50,45,51,19,76,20,35,27,35,35,50,38,15,17,25,19,15,18,11,45,12,20,45,18,25,21,49,70,7,19,38,34,30,4,72,18,25,9,21,20,15,18,100,17,7,24,43,30,7,18,12,25,62,20,70,37,13,40,70,12,9,10,55,18,15,25,50,10,30,13,40,100,25,68,25,23,15,22,7,16,24,75,11,35,60,30,25,25,25,12,25,17,11,32,21,25,19,52,17,35,85,50,51,18,75,72,35,12,23,16,16,57,50,17,32,21,11,40,15,17,14,60,55,120,11,39,23,28,37,40,9,8,28,15,17,50,48,30,68,110,23,12,13,40,30,9,22,30,12,10,25,16,65,22,17,60,22,35,18,34,6,105,100,20,57,10,17,25,21,45,50,35,38,16,140,25,18,18,34,65,13,20,29,10,62,50,29,15,15,42,130,21,51,30,35,31,14,15,60,20,22,80,15,100,30,8,15,80,30,25,24,35,12,45,25,35,28,17,15,32,15,60,90,11,37,21,2,70,8,22,40,13,32,5,18,52,31,14,7,12,21,20,26,16,15,25,20,80,30,16,20,17,100,41,16,25,108,12,38,45,98,25,30,90,27,47,30,25,17,22,18,18,25,27,25,70,65,22,45,20,65,17,15,15,19,90,10,40,31,30,26,25,11,22,59,23,25,18,15,30,25,27,25,24,24,20,10,7,42,54,75,15,22,20,65,61,27,16,35,55,17,8,25,10,26,120,7,18,30,70,20,80,30,45,25,6,21,11,18,40,20,12,16,10,20,20,25,17,22,20,20,30,13,15,36,8,10,35,70,35,74,16,70,21,100,70,12,80,25,19,25,16,60,15,20,9,16,60,15,12,17,25,18,15,45,70,10,9,12,15,18,12,16,15,30,20,21,10,35,22,33,60,13,21,13,39,35,18,100,130,21,26,50,8,16,16,15,28,23,1,23,21,19,87,33,15,13,15,25,60,30,18,20,55,30,11,11,40,16,55,36,16,25,30,19,30,55,80,50,14,10,30,60,24,32,42,35,26,30,31,11,26,18,43,20,35,13,14,81,10,10,20,30,22,20,28,80,37,35,12,19,20,22,14,32,80,21,25,21,15,28,18,27,30,25,35,12,30,29,70,21,60,25,20,22,12,48,31,27,18,1,40,26,80,20,27,20,30,25,22,63,10,10,40,10,40,20,30,6,22,22,15,40,45,13,25,11,58,30,23,9,32,35,15,15,21,51,15,60,30,51,25,30,11,40,5,35,38,30,25,25,27,25,18,40,40,15,20,23,34,16,18,50,45,100,18,23,25,32,30,30,30,18,24,70,28,20,35,117,10,70,35,11,27,12,26,76,32,18,23,10,18,23,25,32,18,17,52,27,7,70,26,55,20,15,20,20,61,8,15,12,40,25,140,12,21,23,20,17,65,30,19,12,11,40,26,30,50,44,21,35,22,55,17,1,23,25,14,25,35,20,25,90,13,12,45,15,35,17,24,55,16,20,18,32,30,30,19,24,18,25,19,30,32,16,2,30,27,10,10,18,30,22,40,65,13,6,40,19,20,45,31,30,14,35,10,25,40,45,21,28,4,25,15,61,22,27,19,25,8,23,80,7,15,13,30,50,31,30,15,15,50,25,30,60,51,18,25,50,8,40,16,18,13,35,12,50,29,20,7,21,20,22,31,45,25,35,15,22,15,16,26,35,30,23,18,123,16,11,75,60,20,15,27,9,60,7,19,15,40,19,130,30,70,24,110,133,22,55,95,25,13,12,17,10,70,30,20,107,40,30,90,16,47,30,7,30,20,60,30,14,20,27,40,92,7,20,22,8,50,22,14,30,50,15,25,18,35,13,100,105,20,15,30,12,50,20,7,42,19,27,14,17,15,13,12,26,20,17,20,24,30,16,18,30,52,60,21,33,6,25,15,14,105,35,57,20,20,28,60,25,12,69,55,60,20,13,100,2,20,38,24,25,15,25,51,35,25,45,21,19,40,9,22,38,50,30,23,21,140,60,17,55,17,29,40,17,30,32,40,15,35,32,21,25,33,22,15,32,6,30,14,10,12,15,21,20,20,15,54,21,22,22,17,25,22,45,11,17,17,40,5,13,19,19,35,16,15,23,15,19,18,16,21,32,13,16,40,50,35,16,35,36,35,55,25,22,17,55,10,23,25,5,16,55,24,21,13,22,14,30,18,16,56,31,14,15,82,16,16,16,16,50,25,18,25,18,30,65,1,25,20,30,30,18,16,50,52,37,25,40,50,15,25,80,13,25,40,15,19,65,18,15,16,23,21,10,20,40,31,15,11,55,15,37,42,22,48,15,7,40,12,12,65,15,16,22,35,25,20,18,85,25,100,15,18,14,23,40,17,21,22,31,11,19,35,9,21,6,20,60,38,9,11,30,22,25,13,30,25,25,48,6,14,7,90,25,15,120,14,15,35,30,16,9,23,17,43,19,21,17,45,18,43,61,27,15,25,31,50,30,38,5,11,35,7,14,120,14,33,19,19,15,18,47,13,25,28,16,31,4,31,30,55,30,14,17,21,70,30,15,40,8,7,40,35,16,30,18,30,15,12,40,57,60,38,55,24,20,40,38,70,18,25,74,60,60,23,45,21,14,13,20,21,25,22,8,25,25,70,11,80,16,18,15,26,20,18,18,14,42,58,18,25,9,19,11,15,21,52,40,11,20,33,14,28,20,19,100,9,25,15,60,76,16,20,45,35,18,20,26,35,40,30,12,19,28,28,22,8,32,45,55,9,23,20,35,23,80,15,9,30,20,66,22,16,14,80,25,10,22,12,19,17,25,9,9,33,37,24,18,75,25,10,36,26,14,82,30,12,22,16,16,40,20,28,21,24,55,31,24,37,30,20,14,20,27,12,80,23,14,10,22,15,27,20,31,14,40,25,35,20,42,25,50,20,13,6,16,60,23,15,14,9,16,42,40,25,25,37,23,30,12,35,47,28,63,8,35,60,30,22,13,42,45,25,10,35,37,35,40,17,12,15,30,60,19,27,10,12,70,44,45,17,80,16,24,8,51,70,60,45,1,27,35,72,45,20,30,30,13,120,15,61,15,30,18,28,8,22,40,15,20,15,23,20,17,21,52,30,22,19,18,47,15,15,21,40,17,14,23,68,25,50,140,28,7,23,7,10,15,11,12,28,80,25,28,15,30,15,22,28,16,95,27,56,50,21,21,40,18,55,90,28,55,21,9,35,13,55,51,34,5,60,45,38,48,35,32,25,60,12,19,40,50,55,28,18,21,37,11,20,30,15,55,17,17,25,22,35,20,20,39,33,18,40,24,35,40,11,26,18,15,25,21,18,55,15,18,20,15,20,70,13,55,55,24,50,30,10,18,18,45,15,16,45,18,60,24,35,15,21,25,15,11,100,52,24,14,55,45,25,25,32,41,40,32,12,7,30,22,30,17,21,15,22,15,9,49,57,20,27,30,30,5,22,55,45,25,25,5,55,15,15,24,10,14,25,10,20,80,20,15,10,40,15,17,11,15,17,19,26,22,8,120,24,23,90,61,17,40,1,34,10,27,30,50,25,63,17,18,20,45,25,70,3,26,32,60,18,70,35,8,65,70,45,35,28,75,20,15,15,18,30,10,15,35,35,13,15,19,25,23,47,17,14,47,8,12,38,16,90,17,70,18,21,32,30,50,14,19,11,18,19,20,28,15,65,19,15,23,16,30,60,15,22,30,18,20,45,17,20,21,25,6,14,20,15,17,10,25,30,8,18,18,21,15,78,20,18,18,52,20,25,12,15,6,18,35,21,60,97,45,35,13,17,14,25,17,21,35,8,13,38,88,18,40,20,7,27,60,28,38,45,21,42,19,60,43,6,40,50,14,45,20,28,12,20,42,14,2,35,11,5,20,29,24,18,10,30,15,15,60,26,40,40,25,27,22,23,12,30,2,40,30,60,9,70,17,45,51,10,85,30,14,15,10,27,15,35,20,90,10,100,55,35,18,21,15,74,50,70,24,28,15,38,16,35,19,52,10,39,30,8,19,11,22,23,14,25,55,40,35,17,35,15,15,80,40,42,14,26,42,25,70,40,60,25,5,30,45,11,22,25,14,19,20,12,16,60,46,53,6,18,5,25,35,10,60,16,12,31,51,50,25,15,33,80,25,9,27,15,8,70,35,18,20,48,18,35,42,15,15,45,36,40,40,50,15,16,14,10,15,18,24,50,50,20,25,25,25,30,52,62,80,17,36,23,53,10,24,65,15,40,12,20,21,17,56,80,16,30,45,20,20,22,50,16,35,31,29,10,55,8,40,15,70,25,35,69,85,20,18,28,50,12,44,42,17,63,80,90,34,18,35,40,20,110,10,23,20,13,25,36,25,3,3,83,12,14,80,15,15,25,15,15,17,15,21,17,80,45,17,20,34,25,60,25,20,24,30,15,17,16,20,42,25,75,36,12,4,35,34,22,35,30,81,40,30,60,13,15,15,20,40,15,30,25,65,78,14,5,13,15,15,7,14,13,22,14,25,10,11,14,13,10,6,21,40,16,5,18,14,42,32,28,28,60,35,85,12,20,27,36,33,23,13,4,25,80,55,45,11,37,30,18,16,15,42,75,15,35,28,15,24,23,61,75,10,21,12,22,32,28,70,65,16,10,110,25,24,8,25,9,14,40,10,40,10,8,38,18,12,30,23,70,15,36,26,25,25,15,6,14,19,8,17,35,70,15,50,14,21,30,30,20,34,14,25,18,101,20,35,20,16,75,70,29,84,22,90,20,45,22,37,50,22,25,10,40,32,60,100,55,60,11,70,20,55,19,17,90,35,17,35,27,26,23,19,35,50,12,11,15,39,60,11,90,27,14,25,19,50,60,11,90,65,11,30,30,95,50,12,55,28,100,22,20,35,20,4,12,17,20,25,40,25,15,50,30,30,24,75,19,15,55,92,12,14,40,14,35,25,17,60,22,30,12,55,16,60,18,30,15,45,13,40,30,20,20,12,12,11,22,22,12,55,20,4,50,25,130,75,11,33,32,24,35,21,21,25,24,19,22,60,12,16,85,12,60,17,83,20,20,35,50,10,39,18,76,25,9,9,4,33,9,15,23,12,18,70,16,97,35,17,2,20,8,19,15,27,18,25,23,17,11,24,25,20,12,12,35,60,22,30,15,22,23,35,18,30,25,12,18,75,15,24,15,60,45,13,45,21,11,30,29,14,60,68,30,7,16,6,20,10,17,30,1,18,12,16,7,2,21,115,24,15,40,24,29,55,6,20,12,30,30,24,70,30,31,10,15,15,12,40,34,20,30,9,35,13,21,12,51,31,60,25,28,10,30,23,11,100,28,45,10,73,11,30,12,17,38,28,15,17,46,25,25,15,20,15,40,40,25,85,33,16,25,120,60,17,16,30,13,15,18,20,24,56,25,28,45,29,15,45,13,21,45,19,45,27,23,30,40,80,40,15,25,12,20,37,21,17,37,19,8,17,35,40,11,47,21,18,22,20,55,25,11,12,14,42,9,25,35,40,90,20,45,30,35,62,12,8,56,15,29,66,11,50,35,45,65,50,17,38,20,42,60,5,35,24,12,29,7,35,15,85,12,35,22,25,35,80,15,30,39,40,60,32,28,15,25,40,13,74,35,18,25,38,22,20,7,13,15,33,80,6,30,22,34,27,10,60,34,28,13,17,15,20,18,75,26,70,52,14,25,50,17,25,22,18,20,68,5,20,55,15,25,35,15,21,15,35,65,25,65,40,14,12,35,14,75,90,16,120,15,55,35,21,40,19,18,30,21,60,17,77,20,35,12,25,16,10,15,24,34,125,45,57,75,60,20,90,14,4,60,21,27,50,25,17,60,19,50,40,10,30,60,70,52,15,17,13,20,28,15,9,30,11,15,5,20,15,25,23,18,30,25,38,60,37,100,35,18,15,35,85,15,26,35,80,15,25,20,20,32,40,35,25,24,26,104,51,30,35,25,16,16,25,100,60,52,23,16,25,30,17,19,10,18,10,10,12,18,60,45,10,25,22,17,15,30,37,55,65,75,14,11,52,27,49,46,22,40,25,50,50,30,13,21,40,7,25,51,26,20,8,40,10,17,2,63,70,45,21,14,13,13,12,19,20,27,100,16,12,35,4,40,17,32,12,27,8,22,52,9,18,15,13,20,16,16,25,3,32,40,10,35,35,23,47,60,70,50,48,17,25,25,25,63,12,14,12,14,83,28,35,5,14,25,25,12,22,60,80,32,15,63,17,62,16,25,20,11,14,50,18,51,12,7,70,27,19,37,20,25,23,11,80,23,50,90,80,5,20,46,25,15,13,15,70,35,11,16,30,18,25,32,22,40,22,22,45,29,60,60,11,18,18,16,25,75,12,25,60,4,9,25,20,60,42,40,13,14,25,58,30,54,30,20,63,25,3,60,35,15,40,25,65,45,15,24,15,23,30,24,35,5,46,50,38,36,4,25,15,25,30,35,18,23,60,11,21,42,30,37,20,55,78,45,11,15,21,30,36,15,3,25,44,17,57,30,15,80,26,25,80,30,20,13,12,90,45,50,27,30,15,12,60,11,18,10,21,22,28,65,24,33,50,51,5,40,24,25,21,9,10,43,13,10,8,45,14,25,45,18,21,25,20,30,35,44,47,20,55,6,13,12,25,35,50,17,33,20,13,59,42,3,16,60,14,15,34,11,27,35,35,10,22,16,20,26,38,28,14,23,9,20,20,19,60,70,40,60,20,12,25,35,40,15,40,19,100,31,48,37,20,28,26,16,21,25,19,31,22,9,19,50,35,65,22,40,20,25,50,55,30,90,12,35,47,30,17,20,14,20,37,21,24,20,18,15,25,35,15,45,24,15,16,24,11,7,60,27,40,16,9,32,35,17,10,22,35,18,35,15,27,14,15,27,32,25,16,26,20,70,24,21,30,22,11,18,90,16,45,24,30,32,42,24,24,90,40,22,27,16,72,15,40,28,8,12,15,55,16,14,21,18,18,63,48,20,101,28,40,15,11,21,7,35,22,18,34,100,30,18,29,45,18,60,6,30,20,50,17,30,25,48,70,55,13,45,9,25,47,80,25,9,7,80,9,53,30,12,10,20,40,42,17,21,18,35,18,17,30,39,18,45,11,20,50,55,10,13,28,16,27,15,31,94,29,70,14,36,25,27,30,40,40,11,36,50,10,68,35,32,14,13,70,23,19,80,25,15,15,50,24,27,43,15,70,20,28,17,38,35,7,34,40,30,40,25,50,33,52,50,42,38,45,19,17,40,21,13,15,10,12,22,25,3,23,35,10,32,18,17,16,12,39,18,23,25,36,26,17,14,7,10,13,15,22,2,22,70,50,20,84,20,23,41,25,10,13,30,30,35,25,19,35,35,30,21,18,15,74,50,76,17,20,50,30,120,15,24,15,5,25,13,10,21,17,34,22,15,24,28,23,42,30,16,30,50,22,15,15,25,13,25,29,14,14,24,35,23,30,24,52,15,27,30,30,54,12,30,25,21,7,18,40,18,25,31,23,15,25,27,52,21,26,32,15,21,26,14,22,34,30,15,15,30,13,50,28,25,26,7,2,22,59,25,14,43,8,70,28,18,12,20,20,11,17,17,26,12,35,6,22,22,19,50,15,15,72,45,20,90,35,31,10,28,30,86,25,70,30,40,20,40,13,30,40,48,50,21,18,18,58,37,28,18,18,32,22,18,22,39,24,30,25,15,35,10,40,9,40,30,50,20,15,30,17,15,48,62,7,15,95,15,9,25,11,14,14,15,15,25,18,60,15,45,35,40,30,12,13,43,75,100,17,12,75,12,37,54,85,20,46,21,33,33,29,20,65,120,30,16,90,25,32,29,12,32,35,22,40,7,23,30,15,17,15,40,17,15,16,9,25,20,90,10,23,30,82,40,15,30,30,16,19,80,30,50,66,40,45,25,13,37,20,42,35,20,60,60,45,20,19,23,55,23,30,51,22,21,16,53,23,25,18,20,26,65,21,55,7,14,50,10,8,20,40,33,20,26,17,51,30,30,15,18,43,15,15,28,32,32,25,18,19,30,30,25,36,40,26,40,31,15,12,20,32,28,13,47,40,30,23,40,26,100,50,18,13,30,50,33,44,45,30,23,13,18,28,50,11,15,25,27,65,55,40,14,50,30,21,55,120,40,25,55,12,65,34,22,35,17,20,70,40,22,14,13,15,23,55,18,75,47,14,38,23,9,12,25,26,5,18,25,30,15,15,25,64,40,20,31,30,120,31,15,24,25,35,7,20,19,45,25,11,15,30,17,37,13,38,25,20,9,33,16,30,27,22,15,11,17,44,54,8,9,25,25,15,25,55,41,15,15,25,25,32,30,14,58,30,12,24,47,18,55,25,53,23,22,12,32,40,60,25,11,65,80,55,16,18,17,18,50,21,50,13,51,25,30,15,40,10,34,70,27,21,15,15,46,4,5,40,19,33,11,34,16,21,80,55,9,21,25,18,41,23,15,13,35,33,11,35,30,25,27,96,40,11,20,50,75,24,32,16,27,15,19,20,35,80,40,18,12,25,19,60,79,95,30,50,22,33,15,11,30,8,25,30,15,30,70,7,80,6,30,21,17,120,27,22,35,6,15,20,11,30,20,30,20,40,30,15,60,17,35,34,35,25,18,8,24,13,30,27,15,27,22,50,22,25,21,12,140,30,60,35,12,12,21,70,20,67,24,62,11,17,32,65,58,52,30,12,20,30,7,37,30,47,90,38,20,2,25,19,19,18,30,45,45,15,19,24,40,35,21,18,100,23,25,80,15,68,40,50,28,10,9,46,22,44,30],\"x0\":\" \",\"xaxis\":\"x\",\"y0\":\" \",\"yaxis\":\"y\",\"type\":\"box\"}],                        {\"template\":{\"data\":{\"histogram2dcontour\":[{\"type\":\"histogram2dcontour\",\"colorbar\":{\"outlinewidth\":0,\"ticks\":\"\"},\"colorscale\":[[0.0,\"#0d0887\"],[0.1111111111111111,\"#46039f\"],[0.2222222222222222,\"#7201a8\"],[0.3333333333333333,\"#9c179e\"],[0.4444444444444444,\"#bd3786\"],[0.5555555555555556,\"#d8576b\"],[0.6666666666666666,\"#ed7953\"],[0.7777777777777778,\"#fb9f3a\"],[0.8888888888888888,\"#fdca26\"],[1.0,\"#f0f921\"]]}],\"choropleth\":[{\"type\":\"choropleth\",\"colorbar\":{\"outlinewidth\":0,\"ticks\":\"\"}}],\"histogram2d\":[{\"type\":\"histogram2d\",\"colorbar\":{\"outlinewidth\":0,\"ticks\":\"\"},\"colorscale\":[[0.0,\"#0d0887\"],[0.1111111111111111,\"#46039f\"],[0.2222222222222222,\"#7201a8\"],[0.3333333333333333,\"#9c179e\"],[0.4444444444444444,\"#bd3786\"],[0.5555555555555556,\"#d8576b\"],[0.6666666666666666,\"#ed7953\"],[0.7777777777777778,\"#fb9f3a\"],[0.8888888888888888,\"#fdca26\"],[1.0,\"#f0f921\"]]}],\"heatmap\":[{\"type\":\"heatmap\",\"colorbar\":{\"outlinewidth\":0,\"ticks\":\"\"},\"colorscale\":[[0.0,\"#0d0887\"],[0.1111111111111111,\"#46039f\"],[0.2222222222222222,\"#7201a8\"],[0.3333333333333333,\"#9c179e\"],[0.4444444444444444,\"#bd3786\"],[0.5555555555555556,\"#d8576b\"],[0.6666666666666666,\"#ed7953\"],[0.7777777777777778,\"#fb9f3a\"],[0.8888888888888888,\"#fdca26\"],[1.0,\"#f0f921\"]]}],\"heatmapgl\":[{\"type\":\"heatmapgl\",\"colorbar\":{\"outlinewidth\":0,\"ticks\":\"\"},\"colorscale\":[[0.0,\"#0d0887\"],[0.1111111111111111,\"#46039f\"],[0.2222222222222222,\"#7201a8\"],[0.3333333333333333,\"#9c179e\"],[0.4444444444444444,\"#bd3786\"],[0.5555555555555556,\"#d8576b\"],[0.6666666666666666,\"#ed7953\"],[0.7777777777777778,\"#fb9f3a\"],[0.8888888888888888,\"#fdca26\"],[1.0,\"#f0f921\"]]}],\"contourcarpet\":[{\"type\":\"contourcarpet\",\"colorbar\":{\"outlinewidth\":0,\"ticks\":\"\"}}],\"contour\":[{\"type\":\"contour\",\"colorbar\":{\"outlinewidth\":0,\"ticks\":\"\"},\"colorscale\":[[0.0,\"#0d0887\"],[0.1111111111111111,\"#46039f\"],[0.2222222222222222,\"#7201a8\"],[0.3333333333333333,\"#9c179e\"],[0.4444444444444444,\"#bd3786\"],[0.5555555555555556,\"#d8576b\"],[0.6666666666666666,\"#ed7953\"],[0.7777777777777778,\"#fb9f3a\"],[0.8888888888888888,\"#fdca26\"],[1.0,\"#f0f921\"]]}],\"surface\":[{\"type\":\"surface\",\"colorbar\":{\"outlinewidth\":0,\"ticks\":\"\"},\"colorscale\":[[0.0,\"#0d0887\"],[0.1111111111111111,\"#46039f\"],[0.2222222222222222,\"#7201a8\"],[0.3333333333333333,\"#9c179e\"],[0.4444444444444444,\"#bd3786\"],[0.5555555555555556,\"#d8576b\"],[0.6666666666666666,\"#ed7953\"],[0.7777777777777778,\"#fb9f3a\"],[0.8888888888888888,\"#fdca26\"],[1.0,\"#f0f921\"]]}],\"mesh3d\":[{\"type\":\"mesh3d\",\"colorbar\":{\"outlinewidth\":0,\"ticks\":\"\"}}],\"scatter\":[{\"fillpattern\":{\"fillmode\":\"overlay\",\"size\":10,\"solidity\":0.2},\"type\":\"scatter\"}],\"parcoords\":[{\"type\":\"parcoords\",\"line\":{\"colorbar\":{\"outlinewidth\":0,\"ticks\":\"\"}}}],\"scatterpolargl\":[{\"type\":\"scatterpolargl\",\"marker\":{\"colorbar\":{\"outlinewidth\":0,\"ticks\":\"\"}}}],\"bar\":[{\"error_x\":{\"color\":\"#2a3f5f\"},\"error_y\":{\"color\":\"#2a3f5f\"},\"marker\":{\"line\":{\"color\":\"#E5ECF6\",\"width\":0.5},\"pattern\":{\"fillmode\":\"overlay\",\"size\":10,\"solidity\":0.2}},\"type\":\"bar\"}],\"scattergeo\":[{\"type\":\"scattergeo\",\"marker\":{\"colorbar\":{\"outlinewidth\":0,\"ticks\":\"\"}}}],\"scatterpolar\":[{\"type\":\"scatterpolar\",\"marker\":{\"colorbar\":{\"outlinewidth\":0,\"ticks\":\"\"}}}],\"histogram\":[{\"marker\":{\"pattern\":{\"fillmode\":\"overlay\",\"size\":10,\"solidity\":0.2}},\"type\":\"histogram\"}],\"scattergl\":[{\"type\":\"scattergl\",\"marker\":{\"colorbar\":{\"outlinewidth\":0,\"ticks\":\"\"}}}],\"scatter3d\":[{\"type\":\"scatter3d\",\"line\":{\"colorbar\":{\"outlinewidth\":0,\"ticks\":\"\"}},\"marker\":{\"colorbar\":{\"outlinewidth\":0,\"ticks\":\"\"}}}],\"scattermapbox\":[{\"type\":\"scattermapbox\",\"marker\":{\"colorbar\":{\"outlinewidth\":0,\"ticks\":\"\"}}}],\"scatterternary\":[{\"type\":\"scatterternary\",\"marker\":{\"colorbar\":{\"outlinewidth\":0,\"ticks\":\"\"}}}],\"scattercarpet\":[{\"type\":\"scattercarpet\",\"marker\":{\"colorbar\":{\"outlinewidth\":0,\"ticks\":\"\"}}}],\"carpet\":[{\"aaxis\":{\"endlinecolor\":\"#2a3f5f\",\"gridcolor\":\"white\",\"linecolor\":\"white\",\"minorgridcolor\":\"white\",\"startlinecolor\":\"#2a3f5f\"},\"baxis\":{\"endlinecolor\":\"#2a3f5f\",\"gridcolor\":\"white\",\"linecolor\":\"white\",\"minorgridcolor\":\"white\",\"startlinecolor\":\"#2a3f5f\"},\"type\":\"carpet\"}],\"table\":[{\"cells\":{\"fill\":{\"color\":\"#EBF0F8\"},\"line\":{\"color\":\"white\"}},\"header\":{\"fill\":{\"color\":\"#C8D4E3\"},\"line\":{\"color\":\"white\"}},\"type\":\"table\"}],\"barpolar\":[{\"marker\":{\"line\":{\"color\":\"#E5ECF6\",\"width\":0.5},\"pattern\":{\"fillmode\":\"overlay\",\"size\":10,\"solidity\":0.2}},\"type\":\"barpolar\"}],\"pie\":[{\"automargin\":true,\"type\":\"pie\"}]},\"layout\":{\"autotypenumbers\":\"strict\",\"colorway\":[\"#636efa\",\"#EF553B\",\"#00cc96\",\"#ab63fa\",\"#FFA15A\",\"#19d3f3\",\"#FF6692\",\"#B6E880\",\"#FF97FF\",\"#FECB52\"],\"font\":{\"color\":\"#2a3f5f\"},\"hovermode\":\"closest\",\"hoverlabel\":{\"align\":\"left\"},\"paper_bgcolor\":\"white\",\"plot_bgcolor\":\"#E5ECF6\",\"polar\":{\"bgcolor\":\"#E5ECF6\",\"angularaxis\":{\"gridcolor\":\"white\",\"linecolor\":\"white\",\"ticks\":\"\"},\"radialaxis\":{\"gridcolor\":\"white\",\"linecolor\":\"white\",\"ticks\":\"\"}},\"ternary\":{\"bgcolor\":\"#E5ECF6\",\"aaxis\":{\"gridcolor\":\"white\",\"linecolor\":\"white\",\"ticks\":\"\"},\"baxis\":{\"gridcolor\":\"white\",\"linecolor\":\"white\",\"ticks\":\"\"},\"caxis\":{\"gridcolor\":\"white\",\"linecolor\":\"white\",\"ticks\":\"\"}},\"coloraxis\":{\"colorbar\":{\"outlinewidth\":0,\"ticks\":\"\"}},\"colorscale\":{\"sequential\":[[0.0,\"#0d0887\"],[0.1111111111111111,\"#46039f\"],[0.2222222222222222,\"#7201a8\"],[0.3333333333333333,\"#9c179e\"],[0.4444444444444444,\"#bd3786\"],[0.5555555555555556,\"#d8576b\"],[0.6666666666666666,\"#ed7953\"],[0.7777777777777778,\"#fb9f3a\"],[0.8888888888888888,\"#fdca26\"],[1.0,\"#f0f921\"]],\"sequentialminus\":[[0.0,\"#0d0887\"],[0.1111111111111111,\"#46039f\"],[0.2222222222222222,\"#7201a8\"],[0.3333333333333333,\"#9c179e\"],[0.4444444444444444,\"#bd3786\"],[0.5555555555555556,\"#d8576b\"],[0.6666666666666666,\"#ed7953\"],[0.7777777777777778,\"#fb9f3a\"],[0.8888888888888888,\"#fdca26\"],[1.0,\"#f0f921\"]],\"diverging\":[[0,\"#8e0152\"],[0.1,\"#c51b7d\"],[0.2,\"#de77ae\"],[0.3,\"#f1b6da\"],[0.4,\"#fde0ef\"],[0.5,\"#f7f7f7\"],[0.6,\"#e6f5d0\"],[0.7,\"#b8e186\"],[0.8,\"#7fbc41\"],[0.9,\"#4d9221\"],[1,\"#276419\"]]},\"xaxis\":{\"gridcolor\":\"white\",\"linecolor\":\"white\",\"ticks\":\"\",\"title\":{\"standoff\":15},\"zerolinecolor\":\"white\",\"automargin\":true,\"zerolinewidth\":2},\"yaxis\":{\"gridcolor\":\"white\",\"linecolor\":\"white\",\"ticks\":\"\",\"title\":{\"standoff\":15},\"zerolinecolor\":\"white\",\"automargin\":true,\"zerolinewidth\":2},\"scene\":{\"xaxis\":{\"backgroundcolor\":\"#E5ECF6\",\"gridcolor\":\"white\",\"linecolor\":\"white\",\"showbackground\":true,\"ticks\":\"\",\"zerolinecolor\":\"white\",\"gridwidth\":2},\"yaxis\":{\"backgroundcolor\":\"#E5ECF6\",\"gridcolor\":\"white\",\"linecolor\":\"white\",\"showbackground\":true,\"ticks\":\"\",\"zerolinecolor\":\"white\",\"gridwidth\":2},\"zaxis\":{\"backgroundcolor\":\"#E5ECF6\",\"gridcolor\":\"white\",\"linecolor\":\"white\",\"showbackground\":true,\"ticks\":\"\",\"zerolinecolor\":\"white\",\"gridwidth\":2}},\"shapedefaults\":{\"line\":{\"color\":\"#2a3f5f\"}},\"annotationdefaults\":{\"arrowcolor\":\"#2a3f5f\",\"arrowhead\":0,\"arrowwidth\":1},\"geo\":{\"bgcolor\":\"white\",\"landcolor\":\"#E5ECF6\",\"subunitcolor\":\"white\",\"showland\":true,\"showlakes\":true,\"lakecolor\":\"white\"},\"title\":{\"x\":0.05},\"mapbox\":{\"style\":\"light\"}}},\"xaxis\":{\"anchor\":\"y\",\"domain\":[0.0,1.0],\"title\":{\"text\":\"Tumor_Size\"}},\"yaxis\":{\"anchor\":\"x\",\"domain\":[0.0,1.0]},\"legend\":{\"tracegroupgap\":0},\"title\":{\"text\":\"Tumor Size Distribution Post-Outlier (After Removal)\"},\"boxmode\":\"group\"},                        {\"responsive\": true}                    ).then(function(){\n",
              "                            \n",
              "var gd = document.getElementById('f1ec4189-0405-4ac8-9040-9285802b508c');\n",
              "var x = new MutationObserver(function (mutations, observer) {{\n",
              "        var display = window.getComputedStyle(gd).display;\n",
              "        if (!display || display === 'none') {{\n",
              "            console.log([gd, 'removed!']);\n",
              "            Plotly.purge(gd);\n",
              "            observer.disconnect();\n",
              "        }}\n",
              "}});\n",
              "\n",
              "// Listen for the removal of the full notebook cells\n",
              "var notebookContainer = gd.closest('#notebook-container');\n",
              "if (notebookContainer) {{\n",
              "    x.observe(notebookContainer, {childList: true});\n",
              "}}\n",
              "\n",
              "// Listen for the clearing of the current output cell\n",
              "var outputEl = gd.closest('.output');\n",
              "if (outputEl) {{\n",
              "    x.observe(outputEl, {childList: true});\n",
              "}}\n",
              "\n",
              "                        })                };                            </script>        </div>\n",
              "</body>\n",
              "</html>"
            ]
          },
          "metadata": {}
        },
        {
          "output_type": "display_data",
          "data": {
            "text/html": [
              "<html>\n",
              "<head><meta charset=\"utf-8\" /></head>\n",
              "<body>\n",
              "    <div>            <script src=\"https://cdnjs.cloudflare.com/ajax/libs/mathjax/2.7.5/MathJax.js?config=TeX-AMS-MML_SVG\"></script><script type=\"text/javascript\">if (window.MathJax && window.MathJax.Hub && window.MathJax.Hub.Config) {window.MathJax.Hub.Config({SVG: {font: \"STIX-Web\"}});}</script>                <script type=\"text/javascript\">window.PlotlyConfig = {MathJaxConfig: 'local'};</script>\n",
              "        <script charset=\"utf-8\" src=\"https://cdn.plot.ly/plotly-2.35.2.min.js\"></script>                <div id=\"97778f5b-2b28-484b-88c7-425a5dea8f94\" class=\"plotly-graph-div\" style=\"height:525px; width:100%;\"></div>            <script type=\"text/javascript\">                                    window.PLOTLYENV=window.PLOTLYENV || {};                                    if (document.getElementById(\"97778f5b-2b28-484b-88c7-425a5dea8f94\")) {                    Plotly.newPlot(                        \"97778f5b-2b28-484b-88c7-425a5dea8f94\",                        [{\"alignmentgroup\":\"True\",\"hovertemplate\":\"Survival_Months=%{x}\\u003cextra\\u003e\\u003c\\u002fextra\\u003e\",\"legendgroup\":\"\",\"marker\":{\"color\":\"#636efa\"},\"name\":\"\",\"notched\":false,\"offsetgroup\":\"\",\"orientation\":\"h\",\"showlegend\":false,\"x\":[60,62,75,84,50,89,54,14,70,92,64,92,56,38,64,49,105,62,107,77,81,50,78,102,98,70,102,82,64,86,52,49,90,62,31,77,37,103,82,105,42,61,86,84,63,90,39,59,82,82,71,71,86,70,74,73,91,106,73,77,80,49,78,75,60,106,44,85,79,84,104,12,52,98,85,95,79,106,81,55,101,65,72,55,65,71,82,84,95,95,91,57,87,40,91,50,25,73,63,50,54,73,8,53,65,58,24,64,106,61,66,79,74,69,103,52,93,94,91,57,94,79,62,86,49,14,100,50,79,77,50,73,96,87,41,54,84,67,53,104,86,102,42,52,107,92,52,69,82,101,64,55,98,56,91,51,102,71,13,11,53,82,89,56,54,72,102,51,100,62,73,84,87,96,74,47,77,55,64,93,74,23,60,85,86,81,71,90,79,60,89,66,84,55,50,55,98,53,103,77,63,45,25,68,53,91,105,76,94,15,56,56,16,31,85,62,23,24,50,107,76,87,101,60,66,53,93,90,59,58,68,94,72,53,103,16,77,49,99,107,81,87,103,96,40,78,92,106,54,85,69,51,93,76,58,79,63,7,104,74,67,98,100,58,61,45,48,40,57,42,76,55,68,49,16,99,88,87,60,34,92,65,23,50,107,92,51,92,61,50,95,97,65,81,81,92,53,91,49,61,74,48,37,75,57,81,56,73,53,68,94,88,79,63,74,57,53,104,57,63,90,73,94,98,74,89,89,100,16,107,70,68,81,67,67,97,60,86,75,59,87,75,72,102,101,68,80,104,61,41,100,105,57,59,54,76,82,53,102,47,100,107,73,91,92,107,85,89,71,102,49,90,57,85,86,100,53,54,101,98,104,54,91,107,76,66,76,83,57,102,17,93,87,102,58,51,82,79,56,51,66,100,92,104,91,81,75,85,78,45,3,64,99,55,80,82,96,51,106,22,83,86,99,106,45,99,84,86,87,92,49,30,56,98,97,106,100,75,90,74,66,6,75,107,63,68,55,73,60,100,90,15,95,32,103,99,102,103,88,58,61,101,101,9,68,87,93,61,95,80,13,52,54,56,97,66,98,54,9,73,48,81,69,84,89,97,79,100,67,52,70,95,87,53,51,83,60,63,106,107,95,58,94,52,97,86,91,49,69,100,9,86,90,76,61,69,5,80,53,92,39,80,54,98,87,10,80,49,56,75,105,87,53,61,102,70,101,69,80,93,98,59,53,63,107,49,94,60,100,91,66,44,60,50,90,88,75,74,56,103,19,25,93,60,76,87,69,60,95,100,81,104,52,67,87,34,18,55,50,66,107,107,85,34,64,96,98,52,76,76,62,64,54,89,90,61,52,81,69,93,62,103,37,71,100,62,96,74,66,75,89,102,72,97,103,88,60,57,106,81,91,75,51,93,84,96,5,62,50,79,93,88,55,104,85,78,35,94,59,104,75,27,98,68,36,53,79,83,89,64,89,67,102,76,42,101,54,94,36,50,87,85,68,73,59,67,66,58,57,75,104,50,62,93,4,73,95,94,73,47,70,72,81,37,66,95,66,69,95,73,79,80,87,47,79,89,90,74,59,82,58,49,105,60,59,100,93,57,88,95,65,58,72,64,54,93,3,76,79,44,95,66,29,16,33,19,104,71,60,67,88,40,47,39,105,48,53,61,50,99,104,85,71,102,58,70,99,61,38,34,103,67,65,97,85,81,59,58,57,97,87,74,85,69,99,82,80,105,53,18,97,26,54,80,82,99,87,88,90,49,47,79,77,77,48,71,54,66,83,81,80,91,76,85,61,61,36,56,85,97,101,77,75,99,54,103,89,89,101,91,65,55,95,94,94,48,58,101,96,90,102,101,50,77,62,96,97,86,76,20,53,69,69,28,69,98,102,5,99,104,87,75,89,53,96,56,102,57,106,107,64,7,107,58,45,91,107,43,54,86,107,43,83,78,28,96,79,57,74,76,54,38,67,85,85,73,70,73,98,49,62,47,98,88,62,77,79,68,58,103,4,26,107,77,85,65,68,51,100,69,91,94,25,67,80,52,87,62,84,85,17,53,92,102,104,1,23,85,94,55,99,65,3,55,60,46,80,75,70,19,95,31,38,97,86,66,68,90,60,96,44,29,81,28,24,61,74,71,65,43,46,69,81,107,30,92,106,68,72,84,63,90,67,44,49,57,77,93,24,71,75,89,84,69,86,86,81,97,84,84,96,71,81,73,58,50,80,61,73,77,87,105,77,67,82,95,15,67,42,74,10,57,95,73,58,92,60,33,81,17,52,83,96,70,65,98,14,35,74,88,89,91,104,96,83,74,87,14,57,103,102,50,92,101,72,90,4,59,50,67,13,80,95,66,62,88,98,22,51,90,67,72,99,83,83,75,93,73,95,88,103,68,91,98,34,106,88,75,85,70,89,85,64,67,80,66,7,96,61,68,73,35,88,83,106,78,79,67,98,55,51,56,56,73,64,57,95,101,99,97,23,82,94,104,50,86,100,62,97,64,74,59,97,77,80,87,52,60,76,69,56,93,86,49,52,62,92,79,58,67,102,63,45,99,62,82,61,5,76,41,98,51,21,55,48,98,103,60,52,56,2,91,53,50,96,66,48,81,94,88,56,83,73,103,31,48,89,83,86,97,58,101,53,102,94,76,74,73,61,103,63,95,47,64,50,87,77,106,105,80,82,101,52,40,79,13,101,88,48,73,69,91,102,77,101,28,10,36,83,83,66,76,98,75,100,72,86,74,78,58,94,62,17,98,50,103,69,107,101,50,68,68,52,84,102,53,85,101,106,72,18,48,84,59,72,73,58,88,89,86,94,92,49,103,105,83,101,98,81,37,75,48,69,104,87,72,76,75,85,93,56,49,48,70,51,57,57,87,98,80,74,102,104,100,62,72,86,53,58,83,94,101,59,43,54,57,96,64,71,74,49,31,53,96,51,64,95,92,58,62,15,107,62,18,46,76,77,86,87,24,63,57,72,100,72,67,68,107,86,28,62,76,81,22,93,50,83,104,83,8,30,93,93,50,99,76,65,64,56,73,65,74,74,75,60,98,103,48,68,97,85,47,63,78,54,46,74,98,97,36,66,14,25,64,79,39,83,103,7,90,48,75,100,76,87,48,103,87,58,89,50,40,54,80,51,18,100,95,67,78,80,56,54,52,106,59,99,66,61,73,94,93,56,83,56,69,76,85,48,78,75,107,63,94,55,98,40,65,64,80,58,89,87,93,27,61,80,99,5,95,87,100,99,23,102,106,74,41,55,58,51,40,79,41,102,40,49,76,66,54,75,79,58,65,81,106,40,82,76,69,55,60,94,55,82,61,90,90,64,50,54,13,89,102,47,63,90,75,46,57,31,53,79,50,89,104,66,77,100,76,86,82,107,54,96,53,89,72,82,103,68,54,77,9,54,97,60,88,89,91,92,103,81,47,77,95,89,63,64,83,33,72,56,72,80,13,105,59,69,66,103,78,47,88,102,71,51,67,33,107,77,84,91,61,9,56,10,103,58,103,25,31,50,66,69,51,86,96,74,58,66,55,102,104,77,31,37,77,81,93,93,103,72,76,52,71,81,49,84,42,102,51,53,98,51,69,40,59,21,61,66,107,94,77,53,76,83,67,69,88,80,81,47,72,96,60,67,69,58,83,101,64,31,91,78,105,78,40,92,99,89,98,40,76,31,95,71,69,106,84,74,74,46,52,77,78,98,49,77,71,98,83,83,74,23,71,106,61,101,95,63,25,61,59,61,99,73,103,67,86,72,59,66,64,64,81,82,83,89,83,47,53,105,106,64,100,81,85,45,56,92,81,76,50,49,95,4,20,95,35,98,92,60,3,82,25,66,55,15,56,59,56,80,30,60,64,93,47,46,88,93,93,87,49,56,4,107,72,58,103,94,11,102,94,80,53,48,106,86,78,38,96,98,99,75,2,102,70,14,60,75,72,107,60,101,97,107,62,73,96,91,102,64,50,52,100,83,67,61,53,47,97,31,65,75,82,97,37,58,101,71,105,63,82,66,83,61,9,52,77,54,79,47,104,12,42,64,96,49,81,63,67,83,107,106,18,70,71,69,52,91,64,57,96,56,94,22,94,78,72,25,69,90,59,55,105,95,45,14,56,82,68,100,78,105,66,93,71,80,21,102,84,98,75,81,13,96,58,100,96,58,73,98,96,89,6,79,77,107,65,60,54,61,72,71,89,49,106,52,80,73,52,74,55,53,89,72,72,68,55,70,84,80,54,8,98,91,4,101,99,74,80,70,69,9,72,100,103,39,87,67,85,75,50,53,66,92,66,26,89,53,23,68,83,63,68,99,100,106,102,27,48,91,63,68,77,100,78,41,86,91,53,56,54,106,101,81,92,102,70,30,93,59,52,63,18,34,59,107,59,102,49,56,60,94,55,94,73,91,41,84,52,6,65,71,66,65,8,79,80,62,71,97,102,61,61,75,83,44,70,27,62,69,73,63,88,69,51,9,107,68,78,89,96,100,54,76,95,98,77,87,106,97,56,61,67,98,50,73,89,60,57,107,94,85,58,102,16,61,68,57,74,8,65,82,49,59,92,102,67,44,55,99,60,71,66,45,103,85,82,98,65,55,53,63,95,106,53,89,101,98,106,98,98,44,82,81,65,107,96,86,94,72,75,106,56,47,58,79,101,97,92,95,100,68,58,83,48,82,54,49,54,46,91,51,8,91,49,81,36,42,65,87,23,68,84,76,71,49,70,6,43,96,42,91,64,99,104,65,51,80,58,68,96,90,82,97,87,61,101,77,51,102,96,57,93,75,57,105,57,18,55,67,24,69,65,68,67,72,55,76,58,88,65,59,70,99,82,78,96,15,52,97,54,65,37,69,12,54,54,58,66,95,67,64,81,34,78,95,88,79,27,50,86,92,66,81,55,63,77,80,80,53,78,76,80,59,28,60,59,76,44,64,70,77,93,63,102,79,75,60,68,93,97,82,56,63,92,83,68,58,99,101,100,52,105,96,89,69,52,102,99,48,90,2,50,99,79,51,75,83,55,99,41,98,77,64,80,48,88,89,63,57,56,80,84,64,55,94,74,51,104,52,88,78,60,97,92,64,73,42,54,98,104,96,103,78,62,65,54,69,102,47,48,81,93,74,20,102,42,91,99,38,58,94,86,58,55,49,68,74,87,60,52,78,82,53,86,70,69,96,69,84,23,70,48,81,84,24,49,86,99,69,89,83,51,34,13,59,74,102,104,62,60,98,92,78,76,23,100,58,49,95,25,22,54,95,75,49,100,76,89,63,94,81,96,103,77,41,68,106,66,36,90,104,37,77,74,63,56,60,49,90,67,48,72,59,95,94,79,86,60,107,91,31,49,103,32,104,93,99,66,57,13,70,69,82,90,64,56,83,107,65,102,51,85,74,67,64,106,82,80,6,56,4,98,65,53,64,98,70,97,62,43,65,64,72,106,102,29,83,68,22,57,92,83,48,57,76,72,98,47,48,54,62,48,61,100,57,24,103,90,88,64,82,88,38,82,35,84,64,100,60,59,80,73,51,88,65,102,72,63,44,98,100,104,106,69,90,93,49,73,75,72,7,51,103,101,69,78,74,103,63,48,66,53,66,95,46,66,104,82,76,92,46,82,20,50,48,13,83,90,77,94,16,78,99,85,65,75,51,77,85,94,70,87,65,89,86,80,70,81,51,68,62,107,105,58,51,105,106,93,67,71,50,64,67,99,68,18,98,73,43,95,83,72,37,74,101,78,76,80,59,97,104,55,58,104,99,82,61,102,55,83,48,33,49,84,42,84,71,56,51,59,57,101,53,95,97,92,52,81,21,55,67,62,93,83,52,60,56,94,92,32,26,55,81,62,33,94,80,29,100,84,77,107,83,64,95,59,67,93,80,91,49,73,80,79,9,107,103,95,92,60,53,60,79,49,45,68,96,32,56,104,86,11,104,70,10,56,35,52,49,52,85,76,79,40,83,49,51,48,98,94,77,52,99,67,77,69,50,16,59,88,52,67,52,102,104,85,82,105,65,48,38,101,59,105,71,84,65,97,75,99,48,81,51,81,53,89,69,100,88,57,67,63,52,97,51,54,53,61,66,49,82,78,82,79,27,101,89,88,53,63,59,78,61,91,59,93,48,80,66,68,77,88,49,83,106,61,103,82,70,10,81,51,84,90,104,105,98,44,90,73,88,61,89,64,107,56,70,101,57,85,66,13,66,106,104,79,73,101,94,100,69,51,98,82,98,100,56,70,90,84,81,75,59,48,89,102,45,39,92,42,51,105,68,87,103,70,89,60,57,84,95,82,67,63,17,57,80,77,30,71,65,98,44,60,60,34,101,84,94,41,57,97,105,80,102,93,39,106,100,65,97,84,86,52,56,91,52,20,70,71,44,69,87,84,79,77,92,91,79,50,86,98,43,61,99,55,86,87,104,68,63,55,88,98,56,38,73,40,49,90,93,50,35,59,103,68,98,87,63,92,59,22,93,71,102,95,53,50,45,79,94,105,80,67,13,66,75,78,44,65,100,96,81,35,64,88,61,53,74,25,78,75,99,61,78,53,41,96,105,97,84,6,82,38,98,75,91,77,44,20,95,93,69,76,39,30,48,37,54,85,24,54,65,63,97,63,75,100,78,78,48,81,69,83,22,106,27,97,61,62,98,63,101,67,68,61,41,77,98,48,74,69,94,95,67,56,102,74,102,65,69,101,80,83,62,60,40,105,18,78,75,99,88,50,88,102,105,51,92,23,70,74,78,50,35,57,79,34,95,72,50,92,107,59,94,57,64,60,74,56,96,63,83,54,80,74,66,89,86,96,68,66,58,76,83,107,23,75,76,67,55,59,78,66,53,41,55,50,60,47,54,101,18,85,55,87,50,81,64,75,69,61,89,65,63,107,50,64,6,31,36,100,81,55,48,54,55,88,66,67,63,96,14,71,49,85,41,60,72,4,53,73,85,90,70,10,94,63,51,68,65,92,21,63,86,53,29,97,20,94,81,55,96,68,94,54,75,76,52,55,94,49,85,62,50,97,51,50,40,99,59,95,41,83,80,25,82,56,30,79,88,45,92,86,73,52,55,69,88,107,88,97,98,85,58,100,84,70,55,86,95,106,95,70,72,81,92,84,68,64,101,69,67,89,104,77,93,99,78,27,52,35,82,48,44,98,95,52,91,103,43,61,100,86,101,95,85,83,77,93,102,93,62,95,84,68,10,54,55,48,51,98,101,68,78,68,75,63,94,67,56,24,63,61,54,42,84,78,107,75,86,91,49,91,45,70,51,50,98,38,106,95,85,93,22,22,66,106,93,74,100,58,84,36,107,87,79,56,82,105,82,68,69,63,65,62,85,73,56,59,72,80,72,53,99,56,57,27,99,95,69,104,100,49,96,103,23,71,58,65,33,88,62,59,81,97,103,88,88,96,52,100,56,41,88,77,88,89,102,63,78,83,55,100,45,41,96,86,68,73,50,89,71,92,101,89,92,93,88,88,72,85,90,19,88,75,80,51,50,101,99,89,70,62,76,98,56,105,103,12,75,62,60,96,99,79,83,54,56,83,90,107,100,62,51,95,29,72,57,93,75,56,73,70,69,58,100,61,64,105,67,89,93,100,78,93,67,57,72,67,53,103,64,38,31,100,55,86,63,41,65,41,65,62,58,50,67,104,55,102,69,14,61,52,83,69,80,60,73,63,63,49,69,74,52,75,90,6,88,83,58,62,100,56,59,71,97,57,81,98,50,79,46,87,79,34,48,48,96,89,81,76,70,82,105,101,90,39,105,69,88,51,20,63,80,81,55,78,97,105,55,56,50,65,4,50,61,87,81,83,72,50,65,88,36,59,63,105,54,56,62,59,93,63,47,48,79,69,88,60,22,51,107,74,50,80,77,102,66,63,97,106,84,79,81,93,54,54,64,91,99,98,88,73,93,86,71,74,54,68,76,73,98,64,81,58,92,84,89,63,61,105,85,48,26,56,100,56,63,97,82,48,105,98,69,72,63,89,66,96,104,64,107,86,48,66,91,94,58,83,65,57,80,96,63,82,94,61,102,103,78,48,41,93,84,72,60,53,91,78,41,21,76,31,12,33,56,95,63,97,63,47,49,93,78,77,97,72,89,45,86,74,57,59,61,79,100,76,72,52,107,74,56,95,89,78,59,95,63,66,67,43,69,70,101,87,102,81,23,69,28,78,105,46,51,14,95,56,33,49,8,82,73,69,84,83,91,101,49,67,48,66,64,104,75,67,97,66,64,82,77,78,96,78,107,83,55,99,66,60,93,75,87,66,106,46,11,83,89,84,48,71,50,107,56,84,68,76,62,59,53,50,12,51,36,58,75,61,84,86,80,5,75,81,58,82,85,66,84,101,55,72,47,47,104,68,30,102,57,88,83,38,67,89,24,92,60,53,84,87,64,60,63,84,91,17,100,86,77,102,107,107,89,51,55,27,55,87,56,52,102,77,69,23,80,83,63,69,49,35,57,41,105,88,94,105,48,62,77,102,84,75,97,87,59,105,63,102,107,66,69,61,84,94,78,70,60,82,78,81,104,80,86,4,57,88,66,91,88,41,70,105,104,79,94,80,66,49,80,95,99,93,79,80,52,105,52,77,59,54,52,77,99,65,102,49,49,107,20,52,100,67,28,69,69,103,80,60,87,59,55,82,50,66,72,95,97,92,59,69,81,69,90,97,93,58,48,66,66,63,77,99,72,52,86,46,68,71,59,72,89,50,76,60,56,101,66,30,63,58,88,48,107,73,47,77,89,66,79,58,69,104,68,97,84,91,63,54,95,62,68,55,58,102,68,55,32,65,80,107,64,74,27,75,57,91,20,51,76,72,50,60,53,73,77,97,85,99,49,69,69,69,84,59,56,41,81,89,59,61,70,68,74,70,81,51,79,67,62,75,63,95,56,77,62,64,106,95,70,21,90,52,82,60,27,65,63,102,55,80,76,83,52,62,59,78,85,89,52,54,76,88,29,93,50,69,88,56,100,85,63,24,61,64,65,76,66,75,52,107,27,100,79,102,86,68,52,19,70,49,69,69,72,100],\"x0\":\" \",\"xaxis\":\"x\",\"y0\":\" \",\"yaxis\":\"y\",\"type\":\"box\"}],                        {\"template\":{\"data\":{\"histogram2dcontour\":[{\"type\":\"histogram2dcontour\",\"colorbar\":{\"outlinewidth\":0,\"ticks\":\"\"},\"colorscale\":[[0.0,\"#0d0887\"],[0.1111111111111111,\"#46039f\"],[0.2222222222222222,\"#7201a8\"],[0.3333333333333333,\"#9c179e\"],[0.4444444444444444,\"#bd3786\"],[0.5555555555555556,\"#d8576b\"],[0.6666666666666666,\"#ed7953\"],[0.7777777777777778,\"#fb9f3a\"],[0.8888888888888888,\"#fdca26\"],[1.0,\"#f0f921\"]]}],\"choropleth\":[{\"type\":\"choropleth\",\"colorbar\":{\"outlinewidth\":0,\"ticks\":\"\"}}],\"histogram2d\":[{\"type\":\"histogram2d\",\"colorbar\":{\"outlinewidth\":0,\"ticks\":\"\"},\"colorscale\":[[0.0,\"#0d0887\"],[0.1111111111111111,\"#46039f\"],[0.2222222222222222,\"#7201a8\"],[0.3333333333333333,\"#9c179e\"],[0.4444444444444444,\"#bd3786\"],[0.5555555555555556,\"#d8576b\"],[0.6666666666666666,\"#ed7953\"],[0.7777777777777778,\"#fb9f3a\"],[0.8888888888888888,\"#fdca26\"],[1.0,\"#f0f921\"]]}],\"heatmap\":[{\"type\":\"heatmap\",\"colorbar\":{\"outlinewidth\":0,\"ticks\":\"\"},\"colorscale\":[[0.0,\"#0d0887\"],[0.1111111111111111,\"#46039f\"],[0.2222222222222222,\"#7201a8\"],[0.3333333333333333,\"#9c179e\"],[0.4444444444444444,\"#bd3786\"],[0.5555555555555556,\"#d8576b\"],[0.6666666666666666,\"#ed7953\"],[0.7777777777777778,\"#fb9f3a\"],[0.8888888888888888,\"#fdca26\"],[1.0,\"#f0f921\"]]}],\"heatmapgl\":[{\"type\":\"heatmapgl\",\"colorbar\":{\"outlinewidth\":0,\"ticks\":\"\"},\"colorscale\":[[0.0,\"#0d0887\"],[0.1111111111111111,\"#46039f\"],[0.2222222222222222,\"#7201a8\"],[0.3333333333333333,\"#9c179e\"],[0.4444444444444444,\"#bd3786\"],[0.5555555555555556,\"#d8576b\"],[0.6666666666666666,\"#ed7953\"],[0.7777777777777778,\"#fb9f3a\"],[0.8888888888888888,\"#fdca26\"],[1.0,\"#f0f921\"]]}],\"contourcarpet\":[{\"type\":\"contourcarpet\",\"colorbar\":{\"outlinewidth\":0,\"ticks\":\"\"}}],\"contour\":[{\"type\":\"contour\",\"colorbar\":{\"outlinewidth\":0,\"ticks\":\"\"},\"colorscale\":[[0.0,\"#0d0887\"],[0.1111111111111111,\"#46039f\"],[0.2222222222222222,\"#7201a8\"],[0.3333333333333333,\"#9c179e\"],[0.4444444444444444,\"#bd3786\"],[0.5555555555555556,\"#d8576b\"],[0.6666666666666666,\"#ed7953\"],[0.7777777777777778,\"#fb9f3a\"],[0.8888888888888888,\"#fdca26\"],[1.0,\"#f0f921\"]]}],\"surface\":[{\"type\":\"surface\",\"colorbar\":{\"outlinewidth\":0,\"ticks\":\"\"},\"colorscale\":[[0.0,\"#0d0887\"],[0.1111111111111111,\"#46039f\"],[0.2222222222222222,\"#7201a8\"],[0.3333333333333333,\"#9c179e\"],[0.4444444444444444,\"#bd3786\"],[0.5555555555555556,\"#d8576b\"],[0.6666666666666666,\"#ed7953\"],[0.7777777777777778,\"#fb9f3a\"],[0.8888888888888888,\"#fdca26\"],[1.0,\"#f0f921\"]]}],\"mesh3d\":[{\"type\":\"mesh3d\",\"colorbar\":{\"outlinewidth\":0,\"ticks\":\"\"}}],\"scatter\":[{\"fillpattern\":{\"fillmode\":\"overlay\",\"size\":10,\"solidity\":0.2},\"type\":\"scatter\"}],\"parcoords\":[{\"type\":\"parcoords\",\"line\":{\"colorbar\":{\"outlinewidth\":0,\"ticks\":\"\"}}}],\"scatterpolargl\":[{\"type\":\"scatterpolargl\",\"marker\":{\"colorbar\":{\"outlinewidth\":0,\"ticks\":\"\"}}}],\"bar\":[{\"error_x\":{\"color\":\"#2a3f5f\"},\"error_y\":{\"color\":\"#2a3f5f\"},\"marker\":{\"line\":{\"color\":\"#E5ECF6\",\"width\":0.5},\"pattern\":{\"fillmode\":\"overlay\",\"size\":10,\"solidity\":0.2}},\"type\":\"bar\"}],\"scattergeo\":[{\"type\":\"scattergeo\",\"marker\":{\"colorbar\":{\"outlinewidth\":0,\"ticks\":\"\"}}}],\"scatterpolar\":[{\"type\":\"scatterpolar\",\"marker\":{\"colorbar\":{\"outlinewidth\":0,\"ticks\":\"\"}}}],\"histogram\":[{\"marker\":{\"pattern\":{\"fillmode\":\"overlay\",\"size\":10,\"solidity\":0.2}},\"type\":\"histogram\"}],\"scattergl\":[{\"type\":\"scattergl\",\"marker\":{\"colorbar\":{\"outlinewidth\":0,\"ticks\":\"\"}}}],\"scatter3d\":[{\"type\":\"scatter3d\",\"line\":{\"colorbar\":{\"outlinewidth\":0,\"ticks\":\"\"}},\"marker\":{\"colorbar\":{\"outlinewidth\":0,\"ticks\":\"\"}}}],\"scattermapbox\":[{\"type\":\"scattermapbox\",\"marker\":{\"colorbar\":{\"outlinewidth\":0,\"ticks\":\"\"}}}],\"scatterternary\":[{\"type\":\"scatterternary\",\"marker\":{\"colorbar\":{\"outlinewidth\":0,\"ticks\":\"\"}}}],\"scattercarpet\":[{\"type\":\"scattercarpet\",\"marker\":{\"colorbar\":{\"outlinewidth\":0,\"ticks\":\"\"}}}],\"carpet\":[{\"aaxis\":{\"endlinecolor\":\"#2a3f5f\",\"gridcolor\":\"white\",\"linecolor\":\"white\",\"minorgridcolor\":\"white\",\"startlinecolor\":\"#2a3f5f\"},\"baxis\":{\"endlinecolor\":\"#2a3f5f\",\"gridcolor\":\"white\",\"linecolor\":\"white\",\"minorgridcolor\":\"white\",\"startlinecolor\":\"#2a3f5f\"},\"type\":\"carpet\"}],\"table\":[{\"cells\":{\"fill\":{\"color\":\"#EBF0F8\"},\"line\":{\"color\":\"white\"}},\"header\":{\"fill\":{\"color\":\"#C8D4E3\"},\"line\":{\"color\":\"white\"}},\"type\":\"table\"}],\"barpolar\":[{\"marker\":{\"line\":{\"color\":\"#E5ECF6\",\"width\":0.5},\"pattern\":{\"fillmode\":\"overlay\",\"size\":10,\"solidity\":0.2}},\"type\":\"barpolar\"}],\"pie\":[{\"automargin\":true,\"type\":\"pie\"}]},\"layout\":{\"autotypenumbers\":\"strict\",\"colorway\":[\"#636efa\",\"#EF553B\",\"#00cc96\",\"#ab63fa\",\"#FFA15A\",\"#19d3f3\",\"#FF6692\",\"#B6E880\",\"#FF97FF\",\"#FECB52\"],\"font\":{\"color\":\"#2a3f5f\"},\"hovermode\":\"closest\",\"hoverlabel\":{\"align\":\"left\"},\"paper_bgcolor\":\"white\",\"plot_bgcolor\":\"#E5ECF6\",\"polar\":{\"bgcolor\":\"#E5ECF6\",\"angularaxis\":{\"gridcolor\":\"white\",\"linecolor\":\"white\",\"ticks\":\"\"},\"radialaxis\":{\"gridcolor\":\"white\",\"linecolor\":\"white\",\"ticks\":\"\"}},\"ternary\":{\"bgcolor\":\"#E5ECF6\",\"aaxis\":{\"gridcolor\":\"white\",\"linecolor\":\"white\",\"ticks\":\"\"},\"baxis\":{\"gridcolor\":\"white\",\"linecolor\":\"white\",\"ticks\":\"\"},\"caxis\":{\"gridcolor\":\"white\",\"linecolor\":\"white\",\"ticks\":\"\"}},\"coloraxis\":{\"colorbar\":{\"outlinewidth\":0,\"ticks\":\"\"}},\"colorscale\":{\"sequential\":[[0.0,\"#0d0887\"],[0.1111111111111111,\"#46039f\"],[0.2222222222222222,\"#7201a8\"],[0.3333333333333333,\"#9c179e\"],[0.4444444444444444,\"#bd3786\"],[0.5555555555555556,\"#d8576b\"],[0.6666666666666666,\"#ed7953\"],[0.7777777777777778,\"#fb9f3a\"],[0.8888888888888888,\"#fdca26\"],[1.0,\"#f0f921\"]],\"sequentialminus\":[[0.0,\"#0d0887\"],[0.1111111111111111,\"#46039f\"],[0.2222222222222222,\"#7201a8\"],[0.3333333333333333,\"#9c179e\"],[0.4444444444444444,\"#bd3786\"],[0.5555555555555556,\"#d8576b\"],[0.6666666666666666,\"#ed7953\"],[0.7777777777777778,\"#fb9f3a\"],[0.8888888888888888,\"#fdca26\"],[1.0,\"#f0f921\"]],\"diverging\":[[0,\"#8e0152\"],[0.1,\"#c51b7d\"],[0.2,\"#de77ae\"],[0.3,\"#f1b6da\"],[0.4,\"#fde0ef\"],[0.5,\"#f7f7f7\"],[0.6,\"#e6f5d0\"],[0.7,\"#b8e186\"],[0.8,\"#7fbc41\"],[0.9,\"#4d9221\"],[1,\"#276419\"]]},\"xaxis\":{\"gridcolor\":\"white\",\"linecolor\":\"white\",\"ticks\":\"\",\"title\":{\"standoff\":15},\"zerolinecolor\":\"white\",\"automargin\":true,\"zerolinewidth\":2},\"yaxis\":{\"gridcolor\":\"white\",\"linecolor\":\"white\",\"ticks\":\"\",\"title\":{\"standoff\":15},\"zerolinecolor\":\"white\",\"automargin\":true,\"zerolinewidth\":2},\"scene\":{\"xaxis\":{\"backgroundcolor\":\"#E5ECF6\",\"gridcolor\":\"white\",\"linecolor\":\"white\",\"showbackground\":true,\"ticks\":\"\",\"zerolinecolor\":\"white\",\"gridwidth\":2},\"yaxis\":{\"backgroundcolor\":\"#E5ECF6\",\"gridcolor\":\"white\",\"linecolor\":\"white\",\"showbackground\":true,\"ticks\":\"\",\"zerolinecolor\":\"white\",\"gridwidth\":2},\"zaxis\":{\"backgroundcolor\":\"#E5ECF6\",\"gridcolor\":\"white\",\"linecolor\":\"white\",\"showbackground\":true,\"ticks\":\"\",\"zerolinecolor\":\"white\",\"gridwidth\":2}},\"shapedefaults\":{\"line\":{\"color\":\"#2a3f5f\"}},\"annotationdefaults\":{\"arrowcolor\":\"#2a3f5f\",\"arrowhead\":0,\"arrowwidth\":1},\"geo\":{\"bgcolor\":\"white\",\"landcolor\":\"#E5ECF6\",\"subunitcolor\":\"white\",\"showland\":true,\"showlakes\":true,\"lakecolor\":\"white\"},\"title\":{\"x\":0.05},\"mapbox\":{\"style\":\"light\"}}},\"xaxis\":{\"anchor\":\"y\",\"domain\":[0.0,1.0],\"title\":{\"text\":\"Survival_Months\"}},\"yaxis\":{\"anchor\":\"x\",\"domain\":[0.0,1.0]},\"legend\":{\"tracegroupgap\":0},\"title\":{\"text\":\"Survival_Months Distribution Post-Outlier (After Removal)\"},\"boxmode\":\"group\"},                        {\"responsive\": true}                    ).then(function(){\n",
              "                            \n",
              "var gd = document.getElementById('97778f5b-2b28-484b-88c7-425a5dea8f94');\n",
              "var x = new MutationObserver(function (mutations, observer) {{\n",
              "        var display = window.getComputedStyle(gd).display;\n",
              "        if (!display || display === 'none') {{\n",
              "            console.log([gd, 'removed!']);\n",
              "            Plotly.purge(gd);\n",
              "            observer.disconnect();\n",
              "        }}\n",
              "}});\n",
              "\n",
              "// Listen for the removal of the full notebook cells\n",
              "var notebookContainer = gd.closest('#notebook-container');\n",
              "if (notebookContainer) {{\n",
              "    x.observe(notebookContainer, {childList: true});\n",
              "}}\n",
              "\n",
              "// Listen for the clearing of the current output cell\n",
              "var outputEl = gd.closest('.output');\n",
              "if (outputEl) {{\n",
              "    x.observe(outputEl, {childList: true});\n",
              "}}\n",
              "\n",
              "                        })                };                            </script>        </div>\n",
              "</body>\n",
              "</html>"
            ]
          },
          "metadata": {}
        }
      ]
    },
    {
      "cell_type": "markdown",
      "source": [
        "Codereuse Session Question 14"
      ],
      "metadata": {
        "id": "Y9DjdJcNMxcI"
      }
    },
    {
      "cell_type": "code",
      "source": [
        "mortality_fig = px.histogram(\n",
        "    df,\n",
        "    x='Mortality_Status',\n",
        "    title='Distribution of Mortality Status',\n",
        "    labels={'Mortality_Status': 'Mortality Status'},\n",
        "    color='Mortality_Status'\n",
        ")\n",
        "\n",
        "mortality_fig.show()\n"
      ],
      "metadata": {
        "colab": {
          "base_uri": "https://localhost:8080/",
          "height": 542
        },
        "id": "FOq5IIbR-Bx8",
        "outputId": "0e1228ae-d76a-4d19-8730-4194b650922f"
      },
      "execution_count": null,
      "outputs": [
        {
          "output_type": "display_data",
          "data": {
            "text/html": [
              "<html>\n",
              "<head><meta charset=\"utf-8\" /></head>\n",
              "<body>\n",
              "    <div>            <script src=\"https://cdnjs.cloudflare.com/ajax/libs/mathjax/2.7.5/MathJax.js?config=TeX-AMS-MML_SVG\"></script><script type=\"text/javascript\">if (window.MathJax && window.MathJax.Hub && window.MathJax.Hub.Config) {window.MathJax.Hub.Config({SVG: {font: \"STIX-Web\"}});}</script>                <script type=\"text/javascript\">window.PlotlyConfig = {MathJaxConfig: 'local'};</script>\n",
              "        <script charset=\"utf-8\" src=\"https://cdn.plot.ly/plotly-2.35.2.min.js\"></script>                <div id=\"810345ab-c998-4f9d-b13c-a00a54ff6803\" class=\"plotly-graph-div\" style=\"height:525px; width:100%;\"></div>            <script type=\"text/javascript\">                                    window.PLOTLYENV=window.PLOTLYENV || {};                                    if (document.getElementById(\"810345ab-c998-4f9d-b13c-a00a54ff6803\")) {                    Plotly.newPlot(                        \"810345ab-c998-4f9d-b13c-a00a54ff6803\",                        [{\"alignmentgroup\":\"True\",\"bingroup\":\"x\",\"hovertemplate\":\"Mortality Status=%{x}\\u003cbr\\u003ecount=%{y}\\u003cextra\\u003e\\u003c\\u002fextra\\u003e\",\"legendgroup\":\"0\",\"marker\":{\"color\":\"#636efa\",\"pattern\":{\"shape\":\"\"}},\"name\":\"0\",\"offsetgroup\":\"0\",\"orientation\":\"v\",\"showlegend\":true,\"x\":[0,0,0,0,0,0,0,0,0,0,0,0,0,0,0,0,0,0,0,0,0,0,0,0,0,0,0,0,0,0,0,0,0,0,0,0,0,0,0,0,0,0,0,0,0,0,0,0,0,0,0,0,0,0,0,0,0,0,0,0,0,0,0,0,0,0,0,0,0,0,0,0,0,0,0,0,0,0,0,0,0,0,0,0,0,0,0,0,0,0,0,0,0,0,0,0,0,0,0,0,0,0,0,0,0,0,0,0,0,0,0,0,0,0,0,0,0,0,0,0,0,0,0,0,0,0,0,0,0,0,0,0,0,0,0,0,0,0,0,0,0,0,0,0,0,0,0,0,0,0,0,0,0,0,0,0,0,0,0,0,0,0,0,0,0,0,0,0,0,0,0,0,0,0,0,0,0,0,0,0,0,0,0,0,0,0,0,0,0,0,0,0,0,0,0,0,0,0,0,0,0,0,0,0,0,0,0,0,0,0,0,0,0,0,0,0,0,0,0,0,0,0,0,0,0,0,0,0,0,0,0,0,0,0,0,0,0,0,0,0,0,0,0,0,0,0,0,0,0,0,0,0,0,0,0,0,0,0,0,0,0,0,0,0,0,0,0,0,0,0,0,0,0,0,0,0,0,0,0,0,0,0,0,0,0,0,0,0,0,0,0,0,0,0,0,0,0,0,0,0,0,0,0,0,0,0,0,0,0,0,0,0,0,0,0,0,0,0,0,0,0,0,0,0,0,0,0,0,0,0,0,0,0,0,0,0,0,0,0,0,0,0,0,0,0,0,0,0,0,0,0,0,0,0,0,0,0,0,0,0,0,0,0,0,0,0,0,0,0,0,0,0,0,0,0,0,0,0,0,0,0,0,0,0,0,0,0,0,0,0,0,0,0,0,0,0,0,0,0,0,0,0,0,0,0,0,0,0,0,0,0,0,0,0,0,0,0,0,0,0,0,0,0,0,0,0,0,0,0,0,0,0,0,0,0,0,0,0,0,0,0,0,0,0,0,0,0,0,0,0,0,0,0,0,0,0,0,0,0,0,0,0,0,0,0,0,0,0,0,0,0,0,0,0,0,0,0,0,0,0,0,0,0,0,0,0,0,0,0,0,0,0,0,0,0,0,0,0,0,0,0,0,0,0,0,0,0,0,0,0,0,0,0,0,0,0,0,0,0,0,0,0,0,0,0,0,0,0,0,0,0,0,0,0,0,0,0,0,0,0,0,0,0,0,0,0,0,0,0,0,0,0,0,0,0,0,0,0,0,0,0,0,0,0,0,0,0,0,0,0,0,0,0,0,0,0,0,0,0,0,0,0,0,0,0,0,0,0,0,0,0,0,0,0,0,0,0,0,0,0,0,0,0,0,0,0,0,0,0,0,0,0,0,0,0,0,0,0,0,0,0,0,0,0,0,0,0,0,0,0,0,0,0,0,0,0,0,0,0,0,0,0,0,0,0,0,0,0,0,0,0,0,0,0,0,0,0,0,0,0,0,0,0,0,0,0,0,0,0,0,0,0,0,0,0,0,0,0,0,0,0,0,0,0,0,0,0,0,0,0,0,0,0,0,0,0,0,0,0,0,0,0,0,0,0,0,0,0,0,0,0,0,0,0,0,0,0,0,0,0,0,0,0,0,0,0,0,0,0,0,0,0,0,0,0,0,0,0,0,0,0,0,0,0,0,0,0,0,0,0,0,0,0,0,0,0,0,0,0,0,0,0,0,0,0,0,0,0,0,0,0,0,0,0,0,0,0,0,0,0,0,0,0,0,0,0,0,0,0,0,0,0,0,0,0,0,0,0,0,0,0,0,0,0,0,0,0,0,0,0,0,0,0,0,0,0,0,0,0,0,0,0,0,0,0,0,0,0,0,0,0,0,0,0,0,0,0,0,0,0,0,0,0,0,0,0,0,0,0,0,0,0,0,0,0,0,0,0,0,0,0,0,0,0,0,0,0,0,0,0,0,0,0,0,0,0,0,0,0,0,0,0,0,0,0,0,0,0,0,0,0,0,0,0,0,0,0,0,0,0,0,0,0,0,0,0,0,0,0,0,0,0,0,0,0,0,0,0,0,0,0,0,0,0,0,0,0,0,0,0,0,0,0,0,0,0,0,0,0,0,0,0,0,0,0,0,0,0,0,0,0,0,0,0,0,0,0,0,0,0,0,0,0,0,0,0,0,0,0,0,0,0,0,0,0,0,0,0,0,0,0,0,0,0,0,0,0,0,0,0,0,0,0,0,0,0,0,0,0,0,0,0,0,0,0,0,0,0,0,0,0,0,0,0,0,0,0,0,0,0,0,0,0,0,0,0,0,0,0,0,0,0,0,0,0,0,0,0,0,0,0,0,0,0,0,0,0,0,0,0,0,0,0,0,0,0,0,0,0,0,0,0,0,0,0,0,0,0,0,0,0,0,0,0,0,0,0,0,0,0,0,0,0,0,0,0,0,0,0,0,0,0,0,0,0,0,0,0,0,0,0,0,0,0,0,0,0,0,0,0,0,0,0,0,0,0,0,0,0,0,0,0,0,0,0,0,0,0,0,0,0,0,0,0,0,0,0,0,0,0,0,0,0,0,0,0,0,0,0,0,0,0,0,0,0,0,0,0,0,0,0,0,0,0,0,0,0,0,0,0,0,0,0,0,0,0,0,0,0,0,0,0,0,0,0,0,0,0,0,0,0,0,0,0,0,0,0,0,0,0,0,0,0,0,0,0,0,0,0,0,0,0,0,0,0,0,0,0,0,0,0,0,0,0,0,0,0,0,0,0,0,0,0,0,0,0,0,0,0,0,0,0,0,0,0,0,0,0,0,0,0,0,0,0,0,0,0,0,0,0,0,0,0,0,0,0,0,0,0,0,0,0,0,0,0,0,0,0,0,0,0,0,0,0,0,0,0,0,0,0,0,0,0,0,0,0,0,0,0,0,0,0,0,0,0,0,0,0,0,0,0,0,0,0,0,0,0,0,0,0,0,0,0,0,0,0,0,0,0,0,0,0,0,0,0,0,0,0,0,0,0,0,0,0,0,0,0,0,0,0,0,0,0,0,0,0,0,0,0,0,0,0,0,0,0,0,0,0,0,0,0,0,0,0,0,0,0,0,0,0,0,0,0,0,0,0,0,0,0,0,0,0,0,0,0,0,0,0,0,0,0,0,0,0,0,0,0,0,0,0,0,0,0,0,0,0,0,0,0,0,0,0,0,0,0,0,0,0,0,0,0,0,0,0,0,0,0,0,0,0,0,0,0,0,0,0,0,0,0,0,0,0,0,0,0,0,0,0,0,0,0,0,0,0,0,0,0,0,0,0,0,0,0,0,0,0,0,0,0,0,0,0,0,0,0,0,0,0,0,0,0,0,0,0,0,0,0,0,0,0,0,0,0,0,0,0,0,0,0,0,0,0,0,0,0,0,0,0,0,0,0,0,0,0,0,0,0,0,0,0,0,0,0,0,0,0,0,0,0,0,0,0,0,0,0,0,0,0,0,0,0,0,0,0,0,0,0,0,0,0,0,0,0,0,0,0,0,0,0,0,0,0,0,0,0,0,0,0,0,0,0,0,0,0,0,0,0,0,0,0,0,0,0,0,0,0,0,0,0,0,0,0,0,0,0,0,0,0,0,0,0,0,0,0,0,0,0,0,0,0,0,0,0,0,0,0,0,0,0,0,0,0,0,0,0,0,0,0,0,0,0,0,0,0,0,0,0,0,0,0,0,0,0,0,0,0,0,0,0,0,0,0,0,0,0,0,0,0,0,0,0,0,0,0,0,0,0,0,0,0,0,0,0,0,0,0,0,0,0,0,0,0,0,0,0,0,0,0,0,0,0,0,0,0,0,0,0,0,0,0,0,0,0,0,0,0,0,0,0,0,0,0,0,0,0,0,0,0,0,0,0,0,0,0,0,0,0,0,0,0,0,0,0,0,0,0,0,0,0,0,0,0,0,0,0,0,0,0,0,0,0,0,0,0,0,0,0,0,0,0,0,0,0,0,0,0,0,0,0,0,0,0,0,0,0,0,0,0,0,0,0,0,0,0,0,0,0,0,0,0,0,0,0,0,0,0,0,0,0,0,0,0,0,0,0,0,0,0,0,0,0,0,0,0,0,0,0,0,0,0,0,0,0,0,0,0,0,0,0,0,0,0,0,0,0,0,0,0,0,0,0,0,0,0,0,0,0,0,0,0,0,0,0,0,0,0,0,0,0,0,0,0,0,0,0,0,0,0,0,0,0,0,0,0,0,0,0,0,0,0,0,0,0,0,0,0,0,0,0,0,0,0,0,0,0,0,0,0,0,0,0,0,0,0,0,0,0,0,0,0,0,0,0,0,0,0,0,0,0,0,0,0,0,0,0,0,0,0,0,0,0,0,0,0,0,0,0,0,0,0,0,0,0,0,0,0,0,0,0,0,0,0,0,0,0,0,0,0,0,0,0,0,0,0,0,0,0,0,0,0,0,0,0,0,0,0,0,0,0,0,0,0,0,0,0,0,0,0,0,0,0,0,0,0,0,0,0,0,0,0,0,0,0,0,0,0,0,0,0,0,0,0,0,0,0,0,0,0,0,0,0,0,0,0,0,0,0,0,0,0,0,0,0,0,0,0,0,0,0,0,0,0,0,0,0,0,0,0,0,0,0,0,0,0,0,0,0,0,0,0,0,0,0,0,0,0,0,0,0,0,0,0,0,0,0,0,0,0,0,0,0,0,0,0,0,0,0,0,0,0,0,0,0,0,0,0,0,0,0,0,0,0,0,0,0,0,0,0,0,0,0,0,0,0,0,0,0,0,0,0,0,0,0,0,0,0,0,0,0,0,0,0,0,0,0,0,0,0,0,0,0,0,0,0,0,0,0,0,0,0,0,0,0,0,0,0,0,0,0,0,0,0,0,0,0,0,0,0,0,0,0,0,0,0,0,0,0,0,0,0,0,0,0,0,0,0,0,0,0,0,0,0,0,0,0,0,0,0,0,0,0,0,0,0,0,0,0,0,0,0,0,0,0,0,0,0,0,0,0,0,0,0,0,0,0,0,0,0,0,0,0,0,0,0,0,0,0,0,0,0,0,0,0,0,0,0,0,0,0,0,0,0,0,0,0,0,0,0,0,0,0,0,0,0,0,0,0,0,0,0,0,0,0,0,0,0,0,0,0,0,0,0,0,0,0,0,0,0,0,0,0,0,0,0,0,0,0,0,0,0,0,0,0,0,0,0,0,0,0,0,0,0,0,0,0,0,0,0,0,0,0,0,0,0,0,0,0,0,0,0,0,0,0,0,0,0,0,0,0,0,0,0,0,0,0,0,0,0,0,0,0,0,0,0,0,0,0,0,0,0,0,0,0,0,0,0,0,0,0,0,0,0,0,0,0,0,0,0,0,0,0,0,0,0,0,0,0,0,0,0,0,0,0,0,0,0,0,0,0,0,0,0,0,0,0,0,0,0,0,0,0,0,0,0,0,0,0,0,0,0,0,0,0,0,0,0,0,0,0,0,0,0,0,0,0,0,0,0,0,0,0,0,0,0,0,0,0,0,0,0,0,0,0,0,0,0,0,0,0,0,0,0,0,0,0,0,0,0,0,0,0,0,0,0,0,0,0,0,0,0,0,0,0,0,0,0,0,0,0,0,0,0,0,0,0,0,0,0,0,0,0,0,0,0,0,0,0,0,0,0,0,0,0,0,0,0,0,0,0,0,0,0,0,0,0,0,0,0,0,0,0,0,0,0,0,0,0,0,0,0,0,0,0,0,0,0,0,0,0,0,0,0,0,0,0,0,0,0,0,0,0,0,0,0,0,0,0,0,0,0,0,0,0,0,0,0,0,0,0,0,0,0,0,0,0,0,0,0,0,0,0,0,0,0,0,0,0,0,0,0,0,0,0,0,0,0,0,0,0,0,0,0,0,0,0,0,0,0,0,0,0,0,0,0,0,0,0,0,0,0,0,0,0,0,0,0,0,0,0,0,0,0,0,0,0,0,0,0,0,0,0,0,0,0,0,0,0,0,0,0,0,0,0,0,0,0,0,0,0,0,0,0,0,0,0,0,0,0,0,0,0,0,0,0,0,0,0,0,0,0,0,0,0,0,0,0,0,0,0,0,0,0,0,0,0,0,0,0,0,0,0,0,0,0,0,0,0,0,0,0,0,0,0,0,0,0,0,0,0,0,0,0,0,0,0,0,0,0,0,0,0,0,0,0,0,0,0,0,0,0,0,0,0,0,0,0,0,0,0,0,0,0,0,0,0,0,0,0,0,0,0,0,0,0,0,0,0,0,0,0,0,0,0,0,0,0,0,0,0,0,0,0,0,0,0,0,0,0,0,0,0,0,0,0,0,0,0,0,0,0,0,0,0,0,0,0,0,0,0,0,0,0,0,0,0,0,0,0,0,0,0,0,0,0,0,0,0,0,0,0,0,0,0,0,0,0,0,0,0,0,0,0,0,0,0,0,0,0,0,0,0,0,0,0,0,0,0,0,0,0,0,0,0,0,0,0,0,0,0,0,0,0,0,0,0,0,0,0,0,0,0,0,0,0,0,0,0,0,0,0,0,0,0,0,0,0,0,0,0,0,0,0,0,0,0,0,0,0,0,0,0,0,0,0,0,0,0,0,0,0,0,0,0,0,0,0,0,0,0,0,0,0,0,0,0,0,0,0,0,0,0,0,0,0,0,0,0,0,0,0,0,0,0,0,0,0,0,0,0,0,0,0,0,0,0,0,0,0,0,0,0,0,0,0,0,0,0,0,0,0,0,0,0,0,0,0,0,0,0,0,0,0,0,0,0,0,0,0,0,0,0,0,0,0,0,0,0,0,0,0,0,0,0,0,0,0,0,0,0,0,0,0,0,0,0,0,0,0,0,0,0,0,0,0,0,0,0,0,0,0,0,0,0,0,0,0,0,0,0,0,0,0,0,0,0,0,0,0,0,0,0,0,0,0,0,0,0,0,0,0,0,0,0,0,0,0,0,0,0,0,0,0,0,0,0,0,0,0,0,0,0,0,0,0,0,0,0,0,0,0,0,0,0,0,0,0,0,0,0,0,0,0,0,0,0,0,0,0,0,0,0,0,0,0,0,0,0,0,0,0,0,0,0,0,0,0,0,0,0,0,0,0,0,0,0,0,0,0,0,0,0,0,0,0,0,0,0,0,0,0,0,0,0,0,0,0,0,0,0,0,0,0,0,0,0,0,0,0,0,0,0,0,0,0,0,0,0,0,0,0,0,0,0,0,0,0,0,0,0,0,0,0,0,0,0,0,0,0,0,0,0,0,0,0,0,0,0,0,0,0,0,0,0,0,0,0,0,0,0,0,0,0,0,0,0,0,0,0,0,0,0,0,0,0,0,0,0,0,0,0,0,0,0,0,0,0,0,0,0,0,0,0,0,0,0,0,0,0,0,0,0,0,0,0,0,0,0,0,0,0,0,0,0,0,0,0,0,0,0,0,0,0,0,0,0,0,0,0,0,0,0,0,0,0,0,0,0,0,0,0,0,0,0,0,0,0,0,0,0,0,0,0,0,0,0,0,0,0,0,0,0,0,0,0,0,0,0,0,0,0,0,0,0,0,0,0,0,0,0,0,0,0,0,0,0,0,0,0,0,0,0,0,0,0,0,0,0,0,0,0,0,0,0,0,0,0,0,0,0,0,0,0,0],\"xaxis\":\"x\",\"yaxis\":\"y\",\"type\":\"histogram\"},{\"alignmentgroup\":\"True\",\"bingroup\":\"x\",\"hovertemplate\":\"Mortality Status=%{x}\\u003cbr\\u003ecount=%{y}\\u003cextra\\u003e\\u003c\\u002fextra\\u003e\",\"legendgroup\":\"1\",\"marker\":{\"color\":\"#EF553B\",\"pattern\":{\"shape\":\"\"}},\"name\":\"1\",\"offsetgroup\":\"1\",\"orientation\":\"v\",\"showlegend\":true,\"x\":[1,1,1,1,1,1,1,1,1,1,1,1,1,1,1,1,1,1,1,1,1,1,1,1,1,1,1,1,1,1,1,1,1,1,1,1,1,1,1,1,1,1,1,1,1,1,1,1,1,1,1,1,1,1,1,1,1,1,1,1,1,1,1,1,1,1,1,1,1,1,1,1,1,1,1,1,1,1,1,1,1,1,1,1,1,1,1,1,1,1,1,1,1,1,1,1,1,1,1,1,1,1,1,1,1,1,1,1,1,1,1,1,1,1,1,1,1,1,1,1,1,1,1,1,1,1,1,1,1,1,1,1,1,1,1,1,1,1,1,1,1,1,1,1,1,1,1,1,1,1,1,1,1,1,1,1,1,1,1,1,1,1,1,1,1,1,1,1,1,1,1,1,1,1,1,1,1,1,1,1,1,1,1,1,1,1,1,1,1,1,1,1,1,1,1,1,1,1,1,1,1,1,1,1,1,1,1,1,1,1,1,1,1,1,1,1,1,1,1,1,1,1,1,1,1,1,1,1,1,1,1,1,1,1,1,1,1,1,1,1,1,1,1,1,1,1,1,1,1,1,1,1,1,1,1,1,1,1,1,1,1,1,1,1,1,1,1,1,1,1,1,1,1,1,1,1,1,1,1,1,1,1,1,1,1,1,1,1,1,1,1,1,1,1,1,1,1,1,1,1,1,1,1,1,1,1,1,1,1,1,1,1,1,1,1,1,1,1,1,1,1,1,1,1,1,1,1,1,1,1,1,1,1,1,1,1,1,1,1,1,1,1,1,1,1,1,1,1,1,1,1,1,1,1,1,1,1,1,1,1,1,1,1,1,1,1,1,1,1,1,1,1,1,1,1,1,1,1,1,1,1,1,1,1,1,1,1,1,1,1,1,1,1,1,1,1,1,1,1,1,1,1,1,1,1,1,1,1,1,1,1,1,1,1,1,1,1,1,1,1,1,1,1,1,1,1,1,1,1,1,1,1,1,1,1,1,1,1,1,1,1,1,1,1,1,1,1,1,1,1,1,1,1,1,1,1,1,1,1,1,1,1,1,1,1,1,1,1,1,1,1,1,1,1,1,1,1,1,1,1,1,1,1,1,1,1,1,1,1,1,1,1,1,1,1,1,1,1,1,1,1,1,1,1,1,1,1,1,1,1,1,1,1,1,1,1,1,1,1,1,1,1,1,1,1,1,1,1,1,1,1,1,1,1,1,1,1,1,1,1,1,1,1,1,1,1,1,1,1,1,1,1,1,1,1,1,1,1,1,1,1,1,1,1,1,1,1,1,1,1,1,1,1,1,1,1,1,1,1,1,1,1,1,1,1,1,1,1,1,1,1,1,1,1,1,1,1,1,1,1,1,1,1,1,1,1,1,1,1,1,1,1,1,1,1],\"xaxis\":\"x\",\"yaxis\":\"y\",\"type\":\"histogram\"}],                        {\"template\":{\"data\":{\"histogram2dcontour\":[{\"type\":\"histogram2dcontour\",\"colorbar\":{\"outlinewidth\":0,\"ticks\":\"\"},\"colorscale\":[[0.0,\"#0d0887\"],[0.1111111111111111,\"#46039f\"],[0.2222222222222222,\"#7201a8\"],[0.3333333333333333,\"#9c179e\"],[0.4444444444444444,\"#bd3786\"],[0.5555555555555556,\"#d8576b\"],[0.6666666666666666,\"#ed7953\"],[0.7777777777777778,\"#fb9f3a\"],[0.8888888888888888,\"#fdca26\"],[1.0,\"#f0f921\"]]}],\"choropleth\":[{\"type\":\"choropleth\",\"colorbar\":{\"outlinewidth\":0,\"ticks\":\"\"}}],\"histogram2d\":[{\"type\":\"histogram2d\",\"colorbar\":{\"outlinewidth\":0,\"ticks\":\"\"},\"colorscale\":[[0.0,\"#0d0887\"],[0.1111111111111111,\"#46039f\"],[0.2222222222222222,\"#7201a8\"],[0.3333333333333333,\"#9c179e\"],[0.4444444444444444,\"#bd3786\"],[0.5555555555555556,\"#d8576b\"],[0.6666666666666666,\"#ed7953\"],[0.7777777777777778,\"#fb9f3a\"],[0.8888888888888888,\"#fdca26\"],[1.0,\"#f0f921\"]]}],\"heatmap\":[{\"type\":\"heatmap\",\"colorbar\":{\"outlinewidth\":0,\"ticks\":\"\"},\"colorscale\":[[0.0,\"#0d0887\"],[0.1111111111111111,\"#46039f\"],[0.2222222222222222,\"#7201a8\"],[0.3333333333333333,\"#9c179e\"],[0.4444444444444444,\"#bd3786\"],[0.5555555555555556,\"#d8576b\"],[0.6666666666666666,\"#ed7953\"],[0.7777777777777778,\"#fb9f3a\"],[0.8888888888888888,\"#fdca26\"],[1.0,\"#f0f921\"]]}],\"heatmapgl\":[{\"type\":\"heatmapgl\",\"colorbar\":{\"outlinewidth\":0,\"ticks\":\"\"},\"colorscale\":[[0.0,\"#0d0887\"],[0.1111111111111111,\"#46039f\"],[0.2222222222222222,\"#7201a8\"],[0.3333333333333333,\"#9c179e\"],[0.4444444444444444,\"#bd3786\"],[0.5555555555555556,\"#d8576b\"],[0.6666666666666666,\"#ed7953\"],[0.7777777777777778,\"#fb9f3a\"],[0.8888888888888888,\"#fdca26\"],[1.0,\"#f0f921\"]]}],\"contourcarpet\":[{\"type\":\"contourcarpet\",\"colorbar\":{\"outlinewidth\":0,\"ticks\":\"\"}}],\"contour\":[{\"type\":\"contour\",\"colorbar\":{\"outlinewidth\":0,\"ticks\":\"\"},\"colorscale\":[[0.0,\"#0d0887\"],[0.1111111111111111,\"#46039f\"],[0.2222222222222222,\"#7201a8\"],[0.3333333333333333,\"#9c179e\"],[0.4444444444444444,\"#bd3786\"],[0.5555555555555556,\"#d8576b\"],[0.6666666666666666,\"#ed7953\"],[0.7777777777777778,\"#fb9f3a\"],[0.8888888888888888,\"#fdca26\"],[1.0,\"#f0f921\"]]}],\"surface\":[{\"type\":\"surface\",\"colorbar\":{\"outlinewidth\":0,\"ticks\":\"\"},\"colorscale\":[[0.0,\"#0d0887\"],[0.1111111111111111,\"#46039f\"],[0.2222222222222222,\"#7201a8\"],[0.3333333333333333,\"#9c179e\"],[0.4444444444444444,\"#bd3786\"],[0.5555555555555556,\"#d8576b\"],[0.6666666666666666,\"#ed7953\"],[0.7777777777777778,\"#fb9f3a\"],[0.8888888888888888,\"#fdca26\"],[1.0,\"#f0f921\"]]}],\"mesh3d\":[{\"type\":\"mesh3d\",\"colorbar\":{\"outlinewidth\":0,\"ticks\":\"\"}}],\"scatter\":[{\"fillpattern\":{\"fillmode\":\"overlay\",\"size\":10,\"solidity\":0.2},\"type\":\"scatter\"}],\"parcoords\":[{\"type\":\"parcoords\",\"line\":{\"colorbar\":{\"outlinewidth\":0,\"ticks\":\"\"}}}],\"scatterpolargl\":[{\"type\":\"scatterpolargl\",\"marker\":{\"colorbar\":{\"outlinewidth\":0,\"ticks\":\"\"}}}],\"bar\":[{\"error_x\":{\"color\":\"#2a3f5f\"},\"error_y\":{\"color\":\"#2a3f5f\"},\"marker\":{\"line\":{\"color\":\"#E5ECF6\",\"width\":0.5},\"pattern\":{\"fillmode\":\"overlay\",\"size\":10,\"solidity\":0.2}},\"type\":\"bar\"}],\"scattergeo\":[{\"type\":\"scattergeo\",\"marker\":{\"colorbar\":{\"outlinewidth\":0,\"ticks\":\"\"}}}],\"scatterpolar\":[{\"type\":\"scatterpolar\",\"marker\":{\"colorbar\":{\"outlinewidth\":0,\"ticks\":\"\"}}}],\"histogram\":[{\"marker\":{\"pattern\":{\"fillmode\":\"overlay\",\"size\":10,\"solidity\":0.2}},\"type\":\"histogram\"}],\"scattergl\":[{\"type\":\"scattergl\",\"marker\":{\"colorbar\":{\"outlinewidth\":0,\"ticks\":\"\"}}}],\"scatter3d\":[{\"type\":\"scatter3d\",\"line\":{\"colorbar\":{\"outlinewidth\":0,\"ticks\":\"\"}},\"marker\":{\"colorbar\":{\"outlinewidth\":0,\"ticks\":\"\"}}}],\"scattermapbox\":[{\"type\":\"scattermapbox\",\"marker\":{\"colorbar\":{\"outlinewidth\":0,\"ticks\":\"\"}}}],\"scatterternary\":[{\"type\":\"scatterternary\",\"marker\":{\"colorbar\":{\"outlinewidth\":0,\"ticks\":\"\"}}}],\"scattercarpet\":[{\"type\":\"scattercarpet\",\"marker\":{\"colorbar\":{\"outlinewidth\":0,\"ticks\":\"\"}}}],\"carpet\":[{\"aaxis\":{\"endlinecolor\":\"#2a3f5f\",\"gridcolor\":\"white\",\"linecolor\":\"white\",\"minorgridcolor\":\"white\",\"startlinecolor\":\"#2a3f5f\"},\"baxis\":{\"endlinecolor\":\"#2a3f5f\",\"gridcolor\":\"white\",\"linecolor\":\"white\",\"minorgridcolor\":\"white\",\"startlinecolor\":\"#2a3f5f\"},\"type\":\"carpet\"}],\"table\":[{\"cells\":{\"fill\":{\"color\":\"#EBF0F8\"},\"line\":{\"color\":\"white\"}},\"header\":{\"fill\":{\"color\":\"#C8D4E3\"},\"line\":{\"color\":\"white\"}},\"type\":\"table\"}],\"barpolar\":[{\"marker\":{\"line\":{\"color\":\"#E5ECF6\",\"width\":0.5},\"pattern\":{\"fillmode\":\"overlay\",\"size\":10,\"solidity\":0.2}},\"type\":\"barpolar\"}],\"pie\":[{\"automargin\":true,\"type\":\"pie\"}]},\"layout\":{\"autotypenumbers\":\"strict\",\"colorway\":[\"#636efa\",\"#EF553B\",\"#00cc96\",\"#ab63fa\",\"#FFA15A\",\"#19d3f3\",\"#FF6692\",\"#B6E880\",\"#FF97FF\",\"#FECB52\"],\"font\":{\"color\":\"#2a3f5f\"},\"hovermode\":\"closest\",\"hoverlabel\":{\"align\":\"left\"},\"paper_bgcolor\":\"white\",\"plot_bgcolor\":\"#E5ECF6\",\"polar\":{\"bgcolor\":\"#E5ECF6\",\"angularaxis\":{\"gridcolor\":\"white\",\"linecolor\":\"white\",\"ticks\":\"\"},\"radialaxis\":{\"gridcolor\":\"white\",\"linecolor\":\"white\",\"ticks\":\"\"}},\"ternary\":{\"bgcolor\":\"#E5ECF6\",\"aaxis\":{\"gridcolor\":\"white\",\"linecolor\":\"white\",\"ticks\":\"\"},\"baxis\":{\"gridcolor\":\"white\",\"linecolor\":\"white\",\"ticks\":\"\"},\"caxis\":{\"gridcolor\":\"white\",\"linecolor\":\"white\",\"ticks\":\"\"}},\"coloraxis\":{\"colorbar\":{\"outlinewidth\":0,\"ticks\":\"\"}},\"colorscale\":{\"sequential\":[[0.0,\"#0d0887\"],[0.1111111111111111,\"#46039f\"],[0.2222222222222222,\"#7201a8\"],[0.3333333333333333,\"#9c179e\"],[0.4444444444444444,\"#bd3786\"],[0.5555555555555556,\"#d8576b\"],[0.6666666666666666,\"#ed7953\"],[0.7777777777777778,\"#fb9f3a\"],[0.8888888888888888,\"#fdca26\"],[1.0,\"#f0f921\"]],\"sequentialminus\":[[0.0,\"#0d0887\"],[0.1111111111111111,\"#46039f\"],[0.2222222222222222,\"#7201a8\"],[0.3333333333333333,\"#9c179e\"],[0.4444444444444444,\"#bd3786\"],[0.5555555555555556,\"#d8576b\"],[0.6666666666666666,\"#ed7953\"],[0.7777777777777778,\"#fb9f3a\"],[0.8888888888888888,\"#fdca26\"],[1.0,\"#f0f921\"]],\"diverging\":[[0,\"#8e0152\"],[0.1,\"#c51b7d\"],[0.2,\"#de77ae\"],[0.3,\"#f1b6da\"],[0.4,\"#fde0ef\"],[0.5,\"#f7f7f7\"],[0.6,\"#e6f5d0\"],[0.7,\"#b8e186\"],[0.8,\"#7fbc41\"],[0.9,\"#4d9221\"],[1,\"#276419\"]]},\"xaxis\":{\"gridcolor\":\"white\",\"linecolor\":\"white\",\"ticks\":\"\",\"title\":{\"standoff\":15},\"zerolinecolor\":\"white\",\"automargin\":true,\"zerolinewidth\":2},\"yaxis\":{\"gridcolor\":\"white\",\"linecolor\":\"white\",\"ticks\":\"\",\"title\":{\"standoff\":15},\"zerolinecolor\":\"white\",\"automargin\":true,\"zerolinewidth\":2},\"scene\":{\"xaxis\":{\"backgroundcolor\":\"#E5ECF6\",\"gridcolor\":\"white\",\"linecolor\":\"white\",\"showbackground\":true,\"ticks\":\"\",\"zerolinecolor\":\"white\",\"gridwidth\":2},\"yaxis\":{\"backgroundcolor\":\"#E5ECF6\",\"gridcolor\":\"white\",\"linecolor\":\"white\",\"showbackground\":true,\"ticks\":\"\",\"zerolinecolor\":\"white\",\"gridwidth\":2},\"zaxis\":{\"backgroundcolor\":\"#E5ECF6\",\"gridcolor\":\"white\",\"linecolor\":\"white\",\"showbackground\":true,\"ticks\":\"\",\"zerolinecolor\":\"white\",\"gridwidth\":2}},\"shapedefaults\":{\"line\":{\"color\":\"#2a3f5f\"}},\"annotationdefaults\":{\"arrowcolor\":\"#2a3f5f\",\"arrowhead\":0,\"arrowwidth\":1},\"geo\":{\"bgcolor\":\"white\",\"landcolor\":\"#E5ECF6\",\"subunitcolor\":\"white\",\"showland\":true,\"showlakes\":true,\"lakecolor\":\"white\"},\"title\":{\"x\":0.05},\"mapbox\":{\"style\":\"light\"}}},\"xaxis\":{\"anchor\":\"y\",\"domain\":[0.0,1.0],\"title\":{\"text\":\"Mortality Status\"},\"categoryorder\":\"array\",\"categoryarray\":[0,1]},\"yaxis\":{\"anchor\":\"x\",\"domain\":[0.0,1.0],\"title\":{\"text\":\"count\"}},\"legend\":{\"title\":{\"text\":\"Mortality Status\"},\"tracegroupgap\":0},\"title\":{\"text\":\"Distribution of Mortality Status\"},\"barmode\":\"relative\"},                        {\"responsive\": true}                    ).then(function(){\n",
              "                            \n",
              "var gd = document.getElementById('810345ab-c998-4f9d-b13c-a00a54ff6803');\n",
              "var x = new MutationObserver(function (mutations, observer) {{\n",
              "        var display = window.getComputedStyle(gd).display;\n",
              "        if (!display || display === 'none') {{\n",
              "            console.log([gd, 'removed!']);\n",
              "            Plotly.purge(gd);\n",
              "            observer.disconnect();\n",
              "        }}\n",
              "}});\n",
              "\n",
              "// Listen for the removal of the full notebook cells\n",
              "var notebookContainer = gd.closest('#notebook-container');\n",
              "if (notebookContainer) {{\n",
              "    x.observe(notebookContainer, {childList: true});\n",
              "}}\n",
              "\n",
              "// Listen for the clearing of the current output cell\n",
              "var outputEl = gd.closest('.output');\n",
              "if (outputEl) {{\n",
              "    x.observe(outputEl, {childList: true});\n",
              "}}\n",
              "\n",
              "                        })                };                            </script>        </div>\n",
              "</body>\n",
              "</html>"
            ]
          },
          "metadata": {}
        }
      ]
    },
    {
      "cell_type": "markdown",
      "source": [
        "Codereuse Session Question 14"
      ],
      "metadata": {
        "id": "aUGXw_QXM0-7"
      }
    },
    {
      "cell_type": "code",
      "source": [
        "mortality_fig = px.histogram(\n",
        "    df,\n",
        "    x='Sex',\n",
        "    title='Distribution of Sex (Male/Female)',\n",
        "    labels={'Sex': 'Sex'},\n",
        "    color='Sex'\n",
        ")\n",
        "\n",
        "mortality_fig.show()\n"
      ],
      "metadata": {
        "colab": {
          "base_uri": "https://localhost:8080/",
          "height": 542
        },
        "id": "V6on1qtH-Et8",
        "outputId": "3d4456ba-e4c2-4132-e4be-6500cc60092b"
      },
      "execution_count": null,
      "outputs": [
        {
          "output_type": "display_data",
          "data": {
            "text/html": [
              "<html>\n",
              "<head><meta charset=\"utf-8\" /></head>\n",
              "<body>\n",
              "    <div>            <script src=\"https://cdnjs.cloudflare.com/ajax/libs/mathjax/2.7.5/MathJax.js?config=TeX-AMS-MML_SVG\"></script><script type=\"text/javascript\">if (window.MathJax && window.MathJax.Hub && window.MathJax.Hub.Config) {window.MathJax.Hub.Config({SVG: {font: \"STIX-Web\"}});}</script>                <script type=\"text/javascript\">window.PlotlyConfig = {MathJaxConfig: 'local'};</script>\n",
              "        <script charset=\"utf-8\" src=\"https://cdn.plot.ly/plotly-2.35.2.min.js\"></script>                <div id=\"f7142f90-f6b5-4708-a3c3-4cbed6fee470\" class=\"plotly-graph-div\" style=\"height:525px; width:100%;\"></div>            <script type=\"text/javascript\">                                    window.PLOTLYENV=window.PLOTLYENV || {};                                    if (document.getElementById(\"f7142f90-f6b5-4708-a3c3-4cbed6fee470\")) {                    Plotly.newPlot(                        \"f7142f90-f6b5-4708-a3c3-4cbed6fee470\",                        [{\"alignmentgroup\":\"True\",\"bingroup\":\"x\",\"hovertemplate\":\"Sex=%{x}\\u003cbr\\u003ecount=%{y}\\u003cextra\\u003e\\u003c\\u002fextra\\u003e\",\"legendgroup\":\"Female\",\"marker\":{\"color\":\"#636efa\",\"pattern\":{\"shape\":\"\"}},\"name\":\"Female\",\"offsetgroup\":\"Female\",\"orientation\":\"v\",\"showlegend\":true,\"x\":[\"Female\",\"Female\",\"Female\",\"Female\",\"Female\",\"Female\",\"Female\",\"Female\",\"Female\",\"Female\",\"Female\",\"Female\",\"Female\",\"Female\",\"Female\",\"Female\",\"Female\",\"Female\",\"Female\",\"Female\",\"Female\",\"Female\",\"Female\",\"Female\",\"Female\",\"Female\",\"Female\",\"Female\",\"Female\",\"Female\",\"Female\",\"Female\",\"Female\",\"Female\",\"Female\",\"Female\",\"Female\",\"Female\",\"Female\",\"Female\",\"Female\",\"Female\",\"Female\",\"Female\",\"Female\",\"Female\",\"Female\",\"Female\",\"Female\",\"Female\",\"Female\",\"Female\",\"Female\",\"Female\",\"Female\",\"Female\",\"Female\",\"Female\",\"Female\",\"Female\",\"Female\",\"Female\",\"Female\",\"Female\",\"Female\",\"Female\",\"Female\",\"Female\",\"Female\",\"Female\",\"Female\",\"Female\",\"Female\",\"Female\",\"Female\",\"Female\",\"Female\",\"Female\",\"Female\",\"Female\",\"Female\",\"Female\",\"Female\",\"Female\",\"Female\",\"Female\",\"Female\",\"Female\",\"Female\",\"Female\",\"Female\",\"Female\",\"Female\",\"Female\",\"Female\",\"Female\",\"Female\",\"Female\",\"Female\",\"Female\",\"Female\",\"Female\",\"Female\",\"Female\",\"Female\",\"Female\",\"Female\",\"Female\",\"Female\",\"Female\",\"Female\",\"Female\",\"Female\",\"Female\",\"Female\",\"Female\",\"Female\",\"Female\",\"Female\",\"Female\",\"Female\",\"Female\",\"Female\",\"Female\",\"Female\",\"Female\",\"Female\",\"Female\",\"Female\",\"Female\",\"Female\",\"Female\",\"Female\",\"Female\",\"Female\",\"Female\",\"Female\",\"Female\",\"Female\",\"Female\",\"Female\",\"Female\",\"Female\",\"Female\",\"Female\",\"Female\",\"Female\",\"Female\",\"Female\",\"Female\",\"Female\",\"Female\",\"Female\",\"Female\",\"Female\",\"Female\",\"Female\",\"Female\",\"Female\",\"Female\",\"Female\",\"Female\",\"Female\",\"Female\",\"Female\",\"Female\",\"Female\",\"Female\",\"Female\",\"Female\",\"Female\",\"Female\",\"Female\",\"Female\",\"Female\",\"Female\",\"Female\",\"Female\",\"Female\",\"Female\",\"Female\",\"Female\",\"Female\",\"Female\",\"Female\",\"Female\",\"Female\",\"Female\",\"Female\",\"Female\",\"Female\",\"Female\",\"Female\",\"Female\",\"Female\",\"Female\",\"Female\",\"Female\",\"Female\",\"Female\",\"Female\",\"Female\",\"Female\",\"Female\",\"Female\",\"Female\",\"Female\",\"Female\",\"Female\",\"Female\",\"Female\",\"Female\",\"Female\",\"Female\",\"Female\",\"Female\",\"Female\",\"Female\",\"Female\",\"Female\",\"Female\",\"Female\",\"Female\",\"Female\",\"Female\",\"Female\",\"Female\",\"Female\",\"Female\",\"Female\",\"Female\",\"Female\",\"Female\",\"Female\",\"Female\",\"Female\",\"Female\",\"Female\",\"Female\",\"Female\",\"Female\",\"Female\",\"Female\",\"Female\",\"Female\",\"Female\",\"Female\",\"Female\",\"Female\",\"Female\",\"Female\",\"Female\",\"Female\",\"Female\",\"Female\",\"Female\",\"Female\",\"Female\",\"Female\",\"Female\",\"Female\",\"Female\",\"Female\",\"Female\",\"Female\",\"Female\",\"Female\",\"Female\",\"Female\",\"Female\",\"Female\",\"Female\",\"Female\",\"Female\",\"Female\",\"Female\",\"Female\",\"Female\",\"Female\",\"Female\",\"Female\",\"Female\",\"Female\",\"Female\",\"Female\",\"Female\",\"Female\",\"Female\",\"Female\",\"Female\",\"Female\",\"Female\",\"Female\",\"Female\",\"Female\",\"Female\",\"Female\",\"Female\",\"Female\",\"Female\",\"Female\",\"Female\",\"Female\",\"Female\",\"Female\",\"Female\",\"Female\",\"Female\",\"Female\",\"Female\",\"Female\",\"Female\",\"Female\",\"Female\",\"Female\",\"Female\",\"Female\",\"Female\",\"Female\",\"Female\",\"Female\",\"Female\",\"Female\",\"Female\",\"Female\",\"Female\",\"Female\",\"Female\",\"Female\",\"Female\",\"Female\",\"Female\",\"Female\",\"Female\",\"Female\",\"Female\",\"Female\",\"Female\",\"Female\",\"Female\",\"Female\",\"Female\",\"Female\",\"Female\",\"Female\",\"Female\",\"Female\",\"Female\",\"Female\",\"Female\",\"Female\",\"Female\",\"Female\",\"Female\",\"Female\",\"Female\",\"Female\",\"Female\",\"Female\",\"Female\",\"Female\",\"Female\",\"Female\",\"Female\",\"Female\",\"Female\",\"Female\",\"Female\",\"Female\",\"Female\",\"Female\",\"Female\",\"Female\",\"Female\",\"Female\",\"Female\",\"Female\",\"Female\",\"Female\",\"Female\",\"Female\",\"Female\",\"Female\",\"Female\",\"Female\",\"Female\",\"Female\",\"Female\",\"Female\",\"Female\",\"Female\",\"Female\",\"Female\",\"Female\",\"Female\",\"Female\",\"Female\",\"Female\",\"Female\",\"Female\",\"Female\",\"Female\",\"Female\",\"Female\",\"Female\",\"Female\",\"Female\",\"Female\",\"Female\",\"Female\",\"Female\",\"Female\",\"Female\",\"Female\",\"Female\",\"Female\",\"Female\",\"Female\",\"Female\",\"Female\",\"Female\",\"Female\",\"Female\",\"Female\",\"Female\",\"Female\",\"Female\",\"Female\",\"Female\",\"Female\",\"Female\",\"Female\",\"Female\",\"Female\",\"Female\",\"Female\",\"Female\",\"Female\",\"Female\",\"Female\",\"Female\",\"Female\",\"Female\",\"Female\",\"Female\",\"Female\",\"Female\",\"Female\",\"Female\",\"Female\",\"Female\",\"Female\",\"Female\",\"Female\",\"Female\",\"Female\",\"Female\",\"Female\",\"Female\",\"Female\",\"Female\",\"Female\",\"Female\",\"Female\",\"Female\",\"Female\",\"Female\",\"Female\",\"Female\",\"Female\",\"Female\",\"Female\",\"Female\",\"Female\",\"Female\",\"Female\",\"Female\",\"Female\",\"Female\",\"Female\",\"Female\",\"Female\",\"Female\",\"Female\",\"Female\",\"Female\",\"Female\",\"Female\",\"Female\",\"Female\",\"Female\",\"Female\",\"Female\",\"Female\",\"Female\",\"Female\",\"Female\",\"Female\",\"Female\",\"Female\",\"Female\",\"Female\",\"Female\",\"Female\",\"Female\",\"Female\",\"Female\",\"Female\",\"Female\",\"Female\",\"Female\",\"Female\",\"Female\",\"Female\",\"Female\",\"Female\",\"Female\",\"Female\",\"Female\",\"Female\",\"Female\",\"Female\",\"Female\",\"Female\",\"Female\",\"Female\",\"Female\",\"Female\",\"Female\",\"Female\",\"Female\",\"Female\",\"Female\",\"Female\",\"Female\",\"Female\",\"Female\",\"Female\",\"Female\",\"Female\",\"Female\",\"Female\",\"Female\",\"Female\",\"Female\",\"Female\",\"Female\",\"Female\",\"Female\",\"Female\",\"Female\",\"Female\",\"Female\",\"Female\",\"Female\",\"Female\",\"Female\",\"Female\",\"Female\",\"Female\",\"Female\",\"Female\",\"Female\",\"Female\",\"Female\",\"Female\",\"Female\",\"Female\",\"Female\",\"Female\",\"Female\",\"Female\",\"Female\",\"Female\",\"Female\",\"Female\",\"Female\",\"Female\",\"Female\",\"Female\",\"Female\",\"Female\",\"Female\",\"Female\",\"Female\",\"Female\",\"Female\",\"Female\",\"Female\",\"Female\",\"Female\",\"Female\",\"Female\",\"Female\",\"Female\",\"Female\",\"Female\",\"Female\",\"Female\",\"Female\",\"Female\",\"Female\",\"Female\",\"Female\",\"Female\",\"Female\",\"Female\",\"Female\",\"Female\",\"Female\",\"Female\",\"Female\",\"Female\",\"Female\",\"Female\",\"Female\",\"Female\",\"Female\",\"Female\",\"Female\",\"Female\",\"Female\",\"Female\",\"Female\",\"Female\",\"Female\",\"Female\",\"Female\",\"Female\",\"Female\",\"Female\",\"Female\",\"Female\",\"Female\",\"Female\",\"Female\",\"Female\",\"Female\",\"Female\",\"Female\",\"Female\",\"Female\",\"Female\",\"Female\",\"Female\",\"Female\",\"Female\",\"Female\",\"Female\",\"Female\",\"Female\",\"Female\",\"Female\",\"Female\",\"Female\",\"Female\",\"Female\",\"Female\",\"Female\",\"Female\",\"Female\",\"Female\",\"Female\",\"Female\",\"Female\",\"Female\",\"Female\",\"Female\",\"Female\",\"Female\",\"Female\",\"Female\",\"Female\",\"Female\",\"Female\",\"Female\",\"Female\",\"Female\",\"Female\",\"Female\",\"Female\",\"Female\",\"Female\",\"Female\",\"Female\",\"Female\",\"Female\",\"Female\",\"Female\",\"Female\",\"Female\",\"Female\",\"Female\",\"Female\",\"Female\",\"Female\",\"Female\",\"Female\",\"Female\",\"Female\",\"Female\",\"Female\",\"Female\",\"Female\",\"Female\",\"Female\",\"Female\",\"Female\",\"Female\",\"Female\",\"Female\",\"Female\",\"Female\",\"Female\",\"Female\",\"Female\",\"Female\",\"Female\",\"Female\",\"Female\",\"Female\",\"Female\",\"Female\",\"Female\",\"Female\",\"Female\",\"Female\",\"Female\",\"Female\",\"Female\",\"Female\",\"Female\",\"Female\",\"Female\",\"Female\",\"Female\",\"Female\",\"Female\",\"Female\",\"Female\",\"Female\",\"Female\",\"Female\",\"Female\",\"Female\",\"Female\",\"Female\",\"Female\",\"Female\",\"Female\",\"Female\",\"Female\",\"Female\",\"Female\",\"Female\",\"Female\",\"Female\",\"Female\",\"Female\",\"Female\",\"Female\",\"Female\",\"Female\",\"Female\",\"Female\",\"Female\",\"Female\",\"Female\",\"Female\",\"Female\",\"Female\",\"Female\",\"Female\",\"Female\",\"Female\",\"Female\",\"Female\",\"Female\",\"Female\",\"Female\",\"Female\",\"Female\",\"Female\",\"Female\",\"Female\",\"Female\",\"Female\",\"Female\",\"Female\",\"Female\",\"Female\",\"Female\",\"Female\",\"Female\",\"Female\",\"Female\",\"Female\",\"Female\",\"Female\",\"Female\",\"Female\",\"Female\",\"Female\",\"Female\",\"Female\",\"Female\",\"Female\",\"Female\",\"Female\",\"Female\",\"Female\",\"Female\",\"Female\",\"Female\",\"Female\",\"Female\",\"Female\",\"Female\",\"Female\",\"Female\",\"Female\",\"Female\",\"Female\",\"Female\",\"Female\",\"Female\",\"Female\",\"Female\",\"Female\",\"Female\",\"Female\",\"Female\",\"Female\",\"Female\",\"Female\",\"Female\",\"Female\",\"Female\",\"Female\",\"Female\",\"Female\",\"Female\",\"Female\",\"Female\",\"Female\",\"Female\",\"Female\",\"Female\",\"Female\",\"Female\",\"Female\",\"Female\",\"Female\",\"Female\",\"Female\",\"Female\",\"Female\",\"Female\",\"Female\",\"Female\",\"Female\",\"Female\",\"Female\",\"Female\",\"Female\",\"Female\",\"Female\",\"Female\",\"Female\",\"Female\",\"Female\",\"Female\",\"Female\",\"Female\",\"Female\",\"Female\",\"Female\",\"Female\",\"Female\",\"Female\",\"Female\",\"Female\",\"Female\",\"Female\",\"Female\",\"Female\",\"Female\",\"Female\",\"Female\",\"Female\",\"Female\",\"Female\",\"Female\",\"Female\",\"Female\",\"Female\",\"Female\",\"Female\",\"Female\",\"Female\",\"Female\",\"Female\",\"Female\",\"Female\",\"Female\",\"Female\",\"Female\",\"Female\",\"Female\",\"Female\",\"Female\",\"Female\",\"Female\",\"Female\",\"Female\",\"Female\",\"Female\",\"Female\",\"Female\",\"Female\",\"Female\",\"Female\",\"Female\",\"Female\",\"Female\",\"Female\",\"Female\",\"Female\",\"Female\",\"Female\",\"Female\",\"Female\",\"Female\",\"Female\",\"Female\",\"Female\",\"Female\",\"Female\",\"Female\",\"Female\",\"Female\",\"Female\",\"Female\",\"Female\",\"Female\",\"Female\",\"Female\",\"Female\",\"Female\",\"Female\",\"Female\",\"Female\",\"Female\",\"Female\",\"Female\",\"Female\",\"Female\",\"Female\",\"Female\",\"Female\",\"Female\",\"Female\",\"Female\",\"Female\",\"Female\",\"Female\",\"Female\",\"Female\",\"Female\",\"Female\",\"Female\",\"Female\",\"Female\",\"Female\",\"Female\",\"Female\",\"Female\",\"Female\",\"Female\",\"Female\",\"Female\",\"Female\",\"Female\",\"Female\",\"Female\",\"Female\",\"Female\",\"Female\",\"Female\",\"Female\",\"Female\",\"Female\",\"Female\",\"Female\",\"Female\",\"Female\",\"Female\",\"Female\",\"Female\",\"Female\",\"Female\",\"Female\",\"Female\",\"Female\",\"Female\",\"Female\",\"Female\",\"Female\",\"Female\",\"Female\",\"Female\",\"Female\",\"Female\",\"Female\",\"Female\",\"Female\",\"Female\",\"Female\",\"Female\",\"Female\",\"Female\",\"Female\",\"Female\",\"Female\",\"Female\",\"Female\",\"Female\",\"Female\",\"Female\",\"Female\",\"Female\",\"Female\",\"Female\",\"Female\",\"Female\",\"Female\",\"Female\",\"Female\",\"Female\",\"Female\",\"Female\",\"Female\",\"Female\",\"Female\",\"Female\",\"Female\",\"Female\",\"Female\",\"Female\",\"Female\",\"Female\",\"Female\",\"Female\",\"Female\",\"Female\",\"Female\",\"Female\",\"Female\",\"Female\",\"Female\",\"Female\",\"Female\",\"Female\",\"Female\",\"Female\",\"Female\",\"Female\",\"Female\",\"Female\",\"Female\",\"Female\",\"Female\",\"Female\",\"Female\",\"Female\",\"Female\",\"Female\",\"Female\",\"Female\",\"Female\",\"Female\",\"Female\",\"Female\",\"Female\",\"Female\",\"Female\",\"Female\",\"Female\",\"Female\",\"Female\",\"Female\",\"Female\",\"Female\",\"Female\",\"Female\",\"Female\",\"Female\",\"Female\",\"Female\",\"Female\",\"Female\",\"Female\",\"Female\",\"Female\",\"Female\",\"Female\",\"Female\",\"Female\",\"Female\",\"Female\",\"Female\",\"Female\",\"Female\",\"Female\",\"Female\",\"Female\",\"Female\",\"Female\",\"Female\",\"Female\",\"Female\",\"Female\",\"Female\",\"Female\",\"Female\",\"Female\",\"Female\",\"Female\",\"Female\",\"Female\",\"Female\",\"Female\",\"Female\",\"Female\",\"Female\",\"Female\",\"Female\",\"Female\",\"Female\",\"Female\",\"Female\",\"Female\",\"Female\",\"Female\",\"Female\",\"Female\",\"Female\",\"Female\",\"Female\",\"Female\",\"Female\",\"Female\",\"Female\",\"Female\",\"Female\",\"Female\",\"Female\",\"Female\",\"Female\",\"Female\",\"Female\",\"Female\",\"Female\",\"Female\",\"Female\",\"Female\",\"Female\",\"Female\",\"Female\",\"Female\",\"Female\",\"Female\",\"Female\",\"Female\",\"Female\",\"Female\",\"Female\",\"Female\",\"Female\",\"Female\",\"Female\",\"Female\",\"Female\",\"Female\",\"Female\",\"Female\",\"Female\",\"Female\",\"Female\",\"Female\",\"Female\",\"Female\",\"Female\",\"Female\",\"Female\",\"Female\",\"Female\",\"Female\",\"Female\",\"Female\",\"Female\",\"Female\",\"Female\",\"Female\",\"Female\",\"Female\",\"Female\",\"Female\",\"Female\",\"Female\",\"Female\",\"Female\",\"Female\",\"Female\",\"Female\",\"Female\",\"Female\",\"Female\",\"Female\",\"Female\",\"Female\",\"Female\",\"Female\",\"Female\",\"Female\",\"Female\",\"Female\",\"Female\",\"Female\",\"Female\",\"Female\",\"Female\",\"Female\",\"Female\",\"Female\",\"Female\",\"Female\",\"Female\",\"Female\",\"Female\",\"Female\",\"Female\",\"Female\",\"Female\",\"Female\",\"Female\",\"Female\",\"Female\",\"Female\",\"Female\",\"Female\",\"Female\",\"Female\",\"Female\",\"Female\",\"Female\",\"Female\",\"Female\",\"Female\",\"Female\",\"Female\",\"Female\",\"Female\",\"Female\",\"Female\",\"Female\",\"Female\",\"Female\",\"Female\",\"Female\",\"Female\",\"Female\",\"Female\",\"Female\",\"Female\",\"Female\",\"Female\",\"Female\",\"Female\",\"Female\",\"Female\",\"Female\",\"Female\",\"Female\",\"Female\",\"Female\",\"Female\",\"Female\",\"Female\",\"Female\",\"Female\",\"Female\",\"Female\",\"Female\",\"Female\",\"Female\",\"Female\",\"Female\",\"Female\",\"Female\",\"Female\",\"Female\",\"Female\",\"Female\",\"Female\",\"Female\",\"Female\",\"Female\",\"Female\",\"Female\",\"Female\",\"Female\",\"Female\",\"Female\",\"Female\",\"Female\",\"Female\",\"Female\",\"Female\",\"Female\",\"Female\",\"Female\",\"Female\",\"Female\",\"Female\",\"Female\",\"Female\",\"Female\",\"Female\",\"Female\",\"Female\",\"Female\",\"Female\",\"Female\",\"Female\",\"Female\",\"Female\",\"Female\",\"Female\",\"Female\",\"Female\",\"Female\",\"Female\",\"Female\",\"Female\",\"Female\",\"Female\",\"Female\",\"Female\",\"Female\",\"Female\",\"Female\",\"Female\",\"Female\",\"Female\",\"Female\",\"Female\",\"Female\",\"Female\",\"Female\",\"Female\",\"Female\",\"Female\",\"Female\",\"Female\",\"Female\",\"Female\",\"Female\",\"Female\",\"Female\",\"Female\",\"Female\",\"Female\",\"Female\",\"Female\",\"Female\",\"Female\",\"Female\",\"Female\",\"Female\",\"Female\",\"Female\",\"Female\",\"Female\",\"Female\",\"Female\",\"Female\",\"Female\",\"Female\",\"Female\",\"Female\",\"Female\",\"Female\",\"Female\",\"Female\",\"Female\",\"Female\",\"Female\",\"Female\",\"Female\",\"Female\",\"Female\",\"Female\",\"Female\",\"Female\",\"Female\",\"Female\",\"Female\",\"Female\",\"Female\",\"Female\",\"Female\",\"Female\",\"Female\",\"Female\",\"Female\",\"Female\",\"Female\",\"Female\",\"Female\",\"Female\",\"Female\",\"Female\",\"Female\",\"Female\",\"Female\",\"Female\",\"Female\",\"Female\",\"Female\",\"Female\",\"Female\",\"Female\",\"Female\",\"Female\",\"Female\",\"Female\",\"Female\",\"Female\",\"Female\",\"Female\",\"Female\",\"Female\",\"Female\",\"Female\",\"Female\",\"Female\",\"Female\",\"Female\",\"Female\",\"Female\",\"Female\",\"Female\",\"Female\",\"Female\",\"Female\",\"Female\",\"Female\",\"Female\",\"Female\",\"Female\",\"Female\",\"Female\",\"Female\",\"Female\",\"Female\",\"Female\",\"Female\",\"Female\",\"Female\",\"Female\",\"Female\",\"Female\",\"Female\",\"Female\",\"Female\",\"Female\",\"Female\",\"Female\",\"Female\",\"Female\",\"Female\",\"Female\",\"Female\",\"Female\",\"Female\",\"Female\",\"Female\",\"Female\",\"Female\",\"Female\",\"Female\",\"Female\",\"Female\",\"Female\",\"Female\",\"Female\",\"Female\",\"Female\",\"Female\",\"Female\",\"Female\",\"Female\",\"Female\",\"Female\",\"Female\",\"Female\",\"Female\",\"Female\",\"Female\",\"Female\",\"Female\",\"Female\",\"Female\",\"Female\",\"Female\",\"Female\",\"Female\",\"Female\",\"Female\",\"Female\",\"Female\",\"Female\",\"Female\",\"Female\",\"Female\",\"Female\",\"Female\",\"Female\",\"Female\",\"Female\",\"Female\",\"Female\",\"Female\",\"Female\",\"Female\",\"Female\",\"Female\",\"Female\",\"Female\",\"Female\",\"Female\",\"Female\",\"Female\",\"Female\",\"Female\",\"Female\",\"Female\",\"Female\",\"Female\",\"Female\",\"Female\",\"Female\",\"Female\",\"Female\",\"Female\",\"Female\",\"Female\",\"Female\",\"Female\",\"Female\",\"Female\",\"Female\",\"Female\",\"Female\",\"Female\",\"Female\",\"Female\",\"Female\",\"Female\",\"Female\",\"Female\",\"Female\",\"Female\",\"Female\",\"Female\",\"Female\",\"Female\",\"Female\",\"Female\",\"Female\",\"Female\",\"Female\",\"Female\",\"Female\",\"Female\",\"Female\",\"Female\",\"Female\",\"Female\",\"Female\",\"Female\",\"Female\",\"Female\",\"Female\",\"Female\",\"Female\",\"Female\",\"Female\",\"Female\",\"Female\",\"Female\",\"Female\",\"Female\",\"Female\",\"Female\",\"Female\",\"Female\",\"Female\",\"Female\",\"Female\",\"Female\",\"Female\",\"Female\",\"Female\",\"Female\",\"Female\",\"Female\",\"Female\",\"Female\",\"Female\",\"Female\",\"Female\",\"Female\",\"Female\",\"Female\",\"Female\",\"Female\",\"Female\",\"Female\",\"Female\",\"Female\",\"Female\",\"Female\",\"Female\",\"Female\",\"Female\",\"Female\",\"Female\",\"Female\",\"Female\",\"Female\",\"Female\",\"Female\",\"Female\",\"Female\",\"Female\",\"Female\",\"Female\",\"Female\",\"Female\",\"Female\",\"Female\",\"Female\",\"Female\",\"Female\",\"Female\",\"Female\",\"Female\",\"Female\",\"Female\",\"Female\",\"Female\",\"Female\",\"Female\",\"Female\",\"Female\",\"Female\",\"Female\",\"Female\",\"Female\",\"Female\",\"Female\",\"Female\",\"Female\",\"Female\",\"Female\",\"Female\",\"Female\",\"Female\",\"Female\",\"Female\",\"Female\",\"Female\",\"Female\",\"Female\",\"Female\",\"Female\",\"Female\",\"Female\",\"Female\",\"Female\",\"Female\",\"Female\",\"Female\",\"Female\",\"Female\",\"Female\",\"Female\",\"Female\",\"Female\",\"Female\",\"Female\",\"Female\",\"Female\",\"Female\",\"Female\",\"Female\",\"Female\",\"Female\",\"Female\",\"Female\",\"Female\",\"Female\",\"Female\",\"Female\",\"Female\",\"Female\",\"Female\",\"Female\",\"Female\",\"Female\",\"Female\",\"Female\",\"Female\",\"Female\",\"Female\",\"Female\",\"Female\",\"Female\",\"Female\",\"Female\",\"Female\",\"Female\",\"Female\",\"Female\",\"Female\",\"Female\",\"Female\",\"Female\",\"Female\",\"Female\",\"Female\",\"Female\",\"Female\",\"Female\",\"Female\",\"Female\",\"Female\",\"Female\",\"Female\",\"Female\",\"Female\",\"Female\",\"Female\",\"Female\",\"Female\",\"Female\",\"Female\",\"Female\",\"Female\",\"Female\",\"Female\",\"Female\",\"Female\",\"Female\",\"Female\",\"Female\",\"Female\",\"Female\",\"Female\",\"Female\",\"Female\",\"Female\",\"Female\",\"Female\",\"Female\",\"Female\",\"Female\",\"Female\",\"Female\",\"Female\",\"Female\",\"Female\",\"Female\",\"Female\",\"Female\",\"Female\",\"Female\",\"Female\",\"Female\",\"Female\",\"Female\",\"Female\",\"Female\",\"Female\",\"Female\",\"Female\",\"Female\",\"Female\",\"Female\",\"Female\",\"Female\",\"Female\",\"Female\",\"Female\",\"Female\",\"Female\",\"Female\",\"Female\",\"Female\",\"Female\",\"Female\",\"Female\",\"Female\",\"Female\",\"Female\",\"Female\",\"Female\",\"Female\",\"Female\",\"Female\",\"Female\",\"Female\",\"Female\",\"Female\",\"Female\",\"Female\",\"Female\",\"Female\",\"Female\",\"Female\",\"Female\",\"Female\",\"Female\",\"Female\",\"Female\",\"Female\",\"Female\",\"Female\",\"Female\",\"Female\",\"Female\",\"Female\",\"Female\",\"Female\",\"Female\",\"Female\",\"Female\",\"Female\",\"Female\",\"Female\",\"Female\",\"Female\",\"Female\",\"Female\",\"Female\",\"Female\",\"Female\",\"Female\",\"Female\",\"Female\",\"Female\",\"Female\",\"Female\",\"Female\",\"Female\",\"Female\",\"Female\",\"Female\",\"Female\",\"Female\",\"Female\",\"Female\",\"Female\",\"Female\",\"Female\",\"Female\",\"Female\",\"Female\",\"Female\",\"Female\",\"Female\",\"Female\",\"Female\",\"Female\",\"Female\",\"Female\",\"Female\",\"Female\",\"Female\",\"Female\",\"Female\",\"Female\",\"Female\",\"Female\",\"Female\",\"Female\",\"Female\",\"Female\",\"Female\",\"Female\",\"Female\",\"Female\",\"Female\",\"Female\",\"Female\",\"Female\",\"Female\",\"Female\",\"Female\",\"Female\",\"Female\",\"Female\",\"Female\",\"Female\",\"Female\",\"Female\",\"Female\",\"Female\",\"Female\",\"Female\",\"Female\",\"Female\",\"Female\",\"Female\",\"Female\",\"Female\",\"Female\",\"Female\",\"Female\",\"Female\",\"Female\",\"Female\",\"Female\",\"Female\",\"Female\",\"Female\",\"Female\",\"Female\",\"Female\",\"Female\",\"Female\",\"Female\",\"Female\",\"Female\",\"Female\",\"Female\",\"Female\",\"Female\",\"Female\",\"Female\",\"Female\",\"Female\",\"Female\",\"Female\",\"Female\",\"Female\",\"Female\",\"Female\",\"Female\",\"Female\",\"Female\",\"Female\",\"Female\",\"Female\",\"Female\",\"Female\",\"Female\",\"Female\",\"Female\",\"Female\",\"Female\",\"Female\",\"Female\",\"Female\",\"Female\",\"Female\",\"Female\",\"Female\",\"Female\",\"Female\",\"Female\",\"Female\",\"Female\",\"Female\",\"Female\",\"Female\",\"Female\",\"Female\",\"Female\",\"Female\",\"Female\",\"Female\",\"Female\",\"Female\",\"Female\",\"Female\",\"Female\",\"Female\",\"Female\",\"Female\",\"Female\",\"Female\",\"Female\",\"Female\",\"Female\",\"Female\",\"Female\",\"Female\",\"Female\",\"Female\",\"Female\",\"Female\",\"Female\",\"Female\",\"Female\",\"Female\",\"Female\",\"Female\",\"Female\",\"Female\",\"Female\",\"Female\",\"Female\",\"Female\",\"Female\",\"Female\",\"Female\",\"Female\",\"Female\",\"Female\",\"Female\",\"Female\",\"Female\",\"Female\",\"Female\",\"Female\",\"Female\",\"Female\",\"Female\",\"Female\",\"Female\",\"Female\",\"Female\",\"Female\",\"Female\",\"Female\",\"Female\",\"Female\",\"Female\",\"Female\",\"Female\",\"Female\",\"Female\",\"Female\",\"Female\",\"Female\",\"Female\",\"Female\",\"Female\",\"Female\",\"Female\",\"Female\",\"Female\",\"Female\",\"Female\",\"Female\",\"Female\",\"Female\",\"Female\",\"Female\",\"Female\",\"Female\",\"Female\",\"Female\",\"Female\",\"Female\",\"Female\",\"Female\",\"Female\",\"Female\",\"Female\",\"Female\",\"Female\",\"Female\",\"Female\",\"Female\",\"Female\",\"Female\",\"Female\",\"Female\",\"Female\",\"Female\",\"Female\",\"Female\",\"Female\",\"Female\",\"Female\",\"Female\",\"Female\",\"Female\",\"Female\",\"Female\",\"Female\",\"Female\",\"Female\",\"Female\",\"Female\",\"Female\",\"Female\",\"Female\",\"Female\",\"Female\",\"Female\",\"Female\",\"Female\",\"Female\",\"Female\",\"Female\",\"Female\",\"Female\",\"Female\",\"Female\",\"Female\",\"Female\",\"Female\",\"Female\",\"Female\",\"Female\",\"Female\",\"Female\",\"Female\",\"Female\",\"Female\",\"Female\",\"Female\",\"Female\",\"Female\",\"Female\",\"Female\",\"Female\",\"Female\",\"Female\",\"Female\",\"Female\",\"Female\",\"Female\",\"Female\",\"Female\",\"Female\",\"Female\",\"Female\",\"Female\",\"Female\",\"Female\",\"Female\",\"Female\",\"Female\",\"Female\",\"Female\",\"Female\",\"Female\",\"Female\",\"Female\",\"Female\",\"Female\",\"Female\",\"Female\",\"Female\",\"Female\",\"Female\",\"Female\",\"Female\",\"Female\",\"Female\",\"Female\",\"Female\",\"Female\",\"Female\",\"Female\",\"Female\",\"Female\",\"Female\",\"Female\",\"Female\",\"Female\",\"Female\",\"Female\",\"Female\",\"Female\",\"Female\",\"Female\",\"Female\",\"Female\",\"Female\",\"Female\",\"Female\",\"Female\",\"Female\",\"Female\",\"Female\",\"Female\",\"Female\",\"Female\",\"Female\",\"Female\",\"Female\",\"Female\",\"Female\",\"Female\",\"Female\",\"Female\",\"Female\",\"Female\",\"Female\",\"Female\",\"Female\",\"Female\",\"Female\",\"Female\",\"Female\",\"Female\",\"Female\",\"Female\",\"Female\",\"Female\",\"Female\",\"Female\",\"Female\",\"Female\",\"Female\",\"Female\",\"Female\",\"Female\",\"Female\",\"Female\",\"Female\",\"Female\",\"Female\",\"Female\",\"Female\",\"Female\",\"Female\",\"Female\",\"Female\",\"Female\",\"Female\",\"Female\",\"Female\",\"Female\",\"Female\",\"Female\",\"Female\",\"Female\",\"Female\",\"Female\",\"Female\",\"Female\",\"Female\",\"Female\",\"Female\",\"Female\",\"Female\",\"Female\",\"Female\",\"Female\",\"Female\",\"Female\",\"Female\",\"Female\",\"Female\",\"Female\",\"Female\",\"Female\",\"Female\",\"Female\",\"Female\",\"Female\",\"Female\",\"Female\",\"Female\",\"Female\",\"Female\",\"Female\",\"Female\",\"Female\",\"Female\",\"Female\",\"Female\",\"Female\",\"Female\",\"Female\",\"Female\",\"Female\",\"Female\",\"Female\",\"Female\",\"Female\",\"Female\",\"Female\",\"Female\",\"Female\",\"Female\",\"Female\",\"Female\",\"Female\",\"Female\",\"Female\",\"Female\",\"Female\",\"Female\",\"Female\",\"Female\",\"Female\",\"Female\",\"Female\",\"Female\",\"Female\",\"Female\",\"Female\",\"Female\",\"Female\",\"Female\",\"Female\",\"Female\",\"Female\",\"Female\",\"Female\",\"Female\",\"Female\",\"Female\",\"Female\",\"Female\",\"Female\",\"Female\",\"Female\",\"Female\",\"Female\",\"Female\",\"Female\",\"Female\",\"Female\",\"Female\",\"Female\",\"Female\",\"Female\",\"Female\",\"Female\",\"Female\",\"Female\",\"Female\",\"Female\",\"Female\",\"Female\",\"Female\",\"Female\",\"Female\",\"Female\",\"Female\",\"Female\",\"Female\",\"Female\",\"Female\",\"Female\",\"Female\",\"Female\",\"Female\",\"Female\",\"Female\",\"Female\",\"Female\",\"Female\",\"Female\",\"Female\",\"Female\",\"Female\",\"Female\",\"Female\",\"Female\",\"Female\",\"Female\",\"Female\",\"Female\",\"Female\",\"Female\",\"Female\",\"Female\",\"Female\",\"Female\",\"Female\",\"Female\",\"Female\",\"Female\",\"Female\",\"Female\",\"Female\",\"Female\",\"Female\",\"Female\",\"Female\",\"Female\",\"Female\",\"Female\",\"Female\",\"Female\",\"Female\",\"Female\",\"Female\",\"Female\",\"Female\",\"Female\",\"Female\",\"Female\",\"Female\",\"Female\",\"Female\",\"Female\",\"Female\",\"Female\",\"Female\",\"Female\",\"Female\",\"Female\",\"Female\",\"Female\",\"Female\",\"Female\",\"Female\",\"Female\",\"Female\",\"Female\",\"Female\",\"Female\",\"Female\",\"Female\",\"Female\",\"Female\",\"Female\",\"Female\",\"Female\",\"Female\",\"Female\",\"Female\",\"Female\",\"Female\",\"Female\",\"Female\",\"Female\",\"Female\",\"Female\",\"Female\",\"Female\",\"Female\",\"Female\",\"Female\",\"Female\",\"Female\",\"Female\",\"Female\",\"Female\",\"Female\",\"Female\",\"Female\",\"Female\",\"Female\",\"Female\",\"Female\",\"Female\",\"Female\",\"Female\",\"Female\",\"Female\",\"Female\",\"Female\",\"Female\",\"Female\",\"Female\",\"Female\",\"Female\",\"Female\",\"Female\",\"Female\",\"Female\",\"Female\",\"Female\",\"Female\",\"Female\",\"Female\",\"Female\",\"Female\",\"Female\",\"Female\",\"Female\",\"Female\",\"Female\",\"Female\",\"Female\",\"Female\",\"Female\",\"Female\",\"Female\",\"Female\",\"Female\",\"Female\",\"Female\",\"Female\",\"Female\",\"Female\",\"Female\",\"Female\",\"Female\",\"Female\",\"Female\",\"Female\",\"Female\",\"Female\",\"Female\",\"Female\",\"Female\",\"Female\",\"Female\",\"Female\",\"Female\",\"Female\",\"Female\",\"Female\",\"Female\",\"Female\",\"Female\",\"Female\",\"Female\",\"Female\",\"Female\",\"Female\",\"Female\",\"Female\",\"Female\",\"Female\",\"Female\",\"Female\",\"Female\",\"Female\",\"Female\",\"Female\",\"Female\",\"Female\",\"Female\",\"Female\",\"Female\",\"Female\",\"Female\",\"Female\",\"Female\",\"Female\",\"Female\",\"Female\",\"Female\",\"Female\",\"Female\",\"Female\",\"Female\",\"Female\",\"Female\",\"Female\",\"Female\",\"Female\",\"Female\",\"Female\",\"Female\",\"Female\",\"Female\",\"Female\",\"Female\",\"Female\",\"Female\",\"Female\",\"Female\",\"Female\",\"Female\",\"Female\",\"Female\",\"Female\",\"Female\",\"Female\",\"Female\",\"Female\",\"Female\",\"Female\",\"Female\",\"Female\",\"Female\",\"Female\",\"Female\",\"Female\",\"Female\",\"Female\",\"Female\",\"Female\",\"Female\",\"Female\",\"Female\",\"Female\",\"Female\",\"Female\",\"Female\",\"Female\",\"Female\",\"Female\",\"Female\",\"Female\",\"Female\",\"Female\",\"Female\",\"Female\",\"Female\",\"Female\",\"Female\",\"Female\",\"Female\",\"Female\",\"Female\",\"Female\",\"Female\",\"Female\",\"Female\",\"Female\",\"Female\",\"Female\",\"Female\",\"Female\",\"Female\",\"Female\",\"Female\",\"Female\",\"Female\",\"Female\",\"Female\",\"Female\",\"Female\",\"Female\",\"Female\",\"Female\",\"Female\",\"Female\",\"Female\",\"Female\",\"Female\",\"Female\",\"Female\",\"Female\",\"Female\",\"Female\",\"Female\",\"Female\",\"Female\",\"Female\",\"Female\",\"Female\",\"Female\",\"Female\",\"Female\",\"Female\",\"Female\",\"Female\",\"Female\",\"Female\",\"Female\",\"Female\",\"Female\",\"Female\",\"Female\",\"Female\",\"Female\",\"Female\",\"Female\",\"Female\",\"Female\",\"Female\",\"Female\",\"Female\",\"Female\",\"Female\",\"Female\",\"Female\",\"Female\",\"Female\",\"Female\",\"Female\",\"Female\",\"Female\",\"Female\",\"Female\",\"Female\",\"Female\",\"Female\",\"Female\",\"Female\",\"Female\",\"Female\",\"Female\",\"Female\",\"Female\",\"Female\",\"Female\",\"Female\",\"Female\",\"Female\",\"Female\",\"Female\",\"Female\",\"Female\",\"Female\",\"Female\",\"Female\",\"Female\",\"Female\",\"Female\",\"Female\",\"Female\",\"Female\",\"Female\",\"Female\",\"Female\",\"Female\",\"Female\",\"Female\",\"Female\",\"Female\",\"Female\",\"Female\",\"Female\",\"Female\",\"Female\",\"Female\",\"Female\",\"Female\",\"Female\",\"Female\",\"Female\",\"Female\",\"Female\",\"Female\",\"Female\",\"Female\",\"Female\",\"Female\",\"Female\",\"Female\",\"Female\",\"Female\",\"Female\",\"Female\",\"Female\",\"Female\",\"Female\",\"Female\",\"Female\",\"Female\",\"Female\",\"Female\",\"Female\",\"Female\",\"Female\",\"Female\",\"Female\",\"Female\",\"Female\",\"Female\",\"Female\",\"Female\",\"Female\",\"Female\",\"Female\",\"Female\",\"Female\",\"Female\",\"Female\",\"Female\",\"Female\",\"Female\",\"Female\",\"Female\",\"Female\",\"Female\",\"Female\",\"Female\",\"Female\",\"Female\",\"Female\",\"Female\",\"Female\",\"Female\",\"Female\",\"Female\",\"Female\",\"Female\",\"Female\",\"Female\",\"Female\",\"Female\",\"Female\",\"Female\",\"Female\",\"Female\",\"Female\",\"Female\",\"Female\",\"Female\",\"Female\",\"Female\",\"Female\",\"Female\",\"Female\",\"Female\",\"Female\",\"Female\",\"Female\",\"Female\",\"Female\",\"Female\",\"Female\",\"Female\",\"Female\",\"Female\",\"Female\",\"Female\",\"Female\",\"Female\",\"Female\",\"Female\",\"Female\",\"Female\",\"Female\",\"Female\",\"Female\",\"Female\",\"Female\",\"Female\",\"Female\",\"Female\",\"Female\",\"Female\",\"Female\",\"Female\",\"Female\",\"Female\",\"Female\",\"Female\",\"Female\",\"Female\",\"Female\",\"Female\",\"Female\",\"Female\",\"Female\",\"Female\",\"Female\",\"Female\",\"Female\",\"Female\",\"Female\",\"Female\",\"Female\",\"Female\",\"Female\",\"Female\",\"Female\",\"Female\",\"Female\",\"Female\",\"Female\",\"Female\",\"Female\",\"Female\",\"Female\",\"Female\",\"Female\",\"Female\",\"Female\",\"Female\",\"Female\",\"Female\",\"Female\",\"Female\",\"Female\",\"Female\",\"Female\",\"Female\",\"Female\",\"Female\",\"Female\",\"Female\",\"Female\",\"Female\",\"Female\",\"Female\",\"Female\",\"Female\",\"Female\",\"Female\",\"Female\",\"Female\",\"Female\",\"Female\",\"Female\",\"Female\",\"Female\",\"Female\",\"Female\",\"Female\",\"Female\",\"Female\",\"Female\",\"Female\",\"Female\",\"Female\",\"Female\",\"Female\",\"Female\",\"Female\",\"Female\",\"Female\",\"Female\",\"Female\",\"Female\",\"Female\",\"Female\",\"Female\",\"Female\",\"Female\",\"Female\",\"Female\",\"Female\",\"Female\",\"Female\",\"Female\",\"Female\",\"Female\",\"Female\",\"Female\",\"Female\",\"Female\",\"Female\",\"Female\",\"Female\",\"Female\",\"Female\",\"Female\",\"Female\",\"Female\",\"Female\",\"Female\",\"Female\",\"Female\",\"Female\",\"Female\",\"Female\",\"Female\",\"Female\",\"Female\",\"Female\",\"Female\",\"Female\",\"Female\",\"Female\",\"Female\",\"Female\",\"Female\",\"Female\",\"Female\",\"Female\",\"Female\",\"Female\",\"Female\",\"Female\",\"Female\",\"Female\",\"Female\",\"Female\",\"Female\",\"Female\",\"Female\",\"Female\",\"Female\",\"Female\",\"Female\",\"Female\",\"Female\",\"Female\",\"Female\",\"Female\",\"Female\",\"Female\",\"Female\",\"Female\",\"Female\",\"Female\",\"Female\",\"Female\",\"Female\",\"Female\",\"Female\",\"Female\",\"Female\",\"Female\",\"Female\",\"Female\",\"Female\",\"Female\",\"Female\",\"Female\",\"Female\",\"Female\",\"Female\",\"Female\",\"Female\",\"Female\",\"Female\",\"Female\",\"Female\",\"Female\",\"Female\",\"Female\",\"Female\",\"Female\",\"Female\",\"Female\",\"Female\",\"Female\",\"Female\",\"Female\",\"Female\",\"Female\",\"Female\",\"Female\",\"Female\",\"Female\",\"Female\",\"Female\",\"Female\",\"Female\",\"Female\",\"Female\",\"Female\",\"Female\",\"Female\",\"Female\",\"Female\",\"Female\",\"Female\",\"Female\",\"Female\",\"Female\",\"Female\",\"Female\",\"Female\",\"Female\",\"Female\",\"Female\",\"Female\",\"Female\",\"Female\",\"Female\",\"Female\",\"Female\",\"Female\",\"Female\",\"Female\",\"Female\",\"Female\",\"Female\",\"Female\",\"Female\",\"Female\",\"Female\",\"Female\",\"Female\",\"Female\",\"Female\",\"Female\",\"Female\",\"Female\",\"Female\",\"Female\",\"Female\",\"Female\",\"Female\",\"Female\",\"Female\",\"Female\",\"Female\",\"Female\",\"Female\",\"Female\",\"Female\",\"Female\",\"Female\",\"Female\",\"Female\",\"Female\",\"Female\",\"Female\",\"Female\",\"Female\",\"Female\",\"Female\",\"Female\",\"Female\",\"Female\",\"Female\",\"Female\",\"Female\",\"Female\",\"Female\",\"Female\",\"Female\",\"Female\",\"Female\",\"Female\",\"Female\",\"Female\",\"Female\",\"Female\",\"Female\",\"Female\",\"Female\",\"Female\",\"Female\",\"Female\",\"Female\",\"Female\",\"Female\",\"Female\",\"Female\",\"Female\",\"Female\",\"Female\",\"Female\",\"Female\",\"Female\",\"Female\",\"Female\",\"Female\",\"Female\",\"Female\",\"Female\",\"Female\",\"Female\",\"Female\",\"Female\",\"Female\",\"Female\",\"Female\",\"Female\",\"Female\",\"Female\",\"Female\",\"Female\",\"Female\",\"Female\",\"Female\",\"Female\",\"Female\",\"Female\",\"Female\",\"Female\",\"Female\",\"Female\",\"Female\",\"Female\",\"Female\",\"Female\",\"Female\",\"Female\",\"Female\",\"Female\",\"Female\",\"Female\",\"Female\",\"Female\",\"Female\",\"Female\",\"Female\",\"Female\",\"Female\",\"Female\",\"Female\",\"Female\",\"Female\",\"Female\",\"Female\",\"Female\",\"Female\",\"Female\",\"Female\",\"Female\",\"Female\",\"Female\",\"Female\",\"Female\",\"Female\",\"Female\",\"Female\",\"Female\",\"Female\",\"Female\",\"Female\",\"Female\",\"Female\",\"Female\",\"Female\",\"Female\",\"Female\",\"Female\",\"Female\",\"Female\",\"Female\",\"Female\",\"Female\",\"Female\",\"Female\",\"Female\",\"Female\",\"Female\",\"Female\",\"Female\",\"Female\",\"Female\",\"Female\",\"Female\",\"Female\",\"Female\",\"Female\",\"Female\",\"Female\",\"Female\",\"Female\",\"Female\",\"Female\",\"Female\",\"Female\",\"Female\",\"Female\",\"Female\",\"Female\",\"Female\",\"Female\",\"Female\",\"Female\",\"Female\",\"Female\",\"Female\",\"Female\",\"Female\",\"Female\",\"Female\",\"Female\",\"Female\",\"Female\",\"Female\",\"Female\",\"Female\",\"Female\",\"Female\",\"Female\",\"Female\",\"Female\",\"Female\",\"Female\",\"Female\",\"Female\",\"Female\",\"Female\",\"Female\",\"Female\",\"Female\",\"Female\",\"Female\",\"Female\",\"Female\",\"Female\",\"Female\",\"Female\",\"Female\",\"Female\",\"Female\",\"Female\",\"Female\",\"Female\",\"Female\",\"Female\",\"Female\",\"Female\",\"Female\",\"Female\",\"Female\",\"Female\",\"Female\",\"Female\",\"Female\",\"Female\",\"Female\",\"Female\",\"Female\",\"Female\",\"Female\",\"Female\",\"Female\",\"Female\",\"Female\",\"Female\",\"Female\",\"Female\",\"Female\",\"Female\",\"Female\",\"Female\",\"Female\",\"Female\",\"Female\",\"Female\",\"Female\",\"Female\",\"Female\",\"Female\",\"Female\",\"Female\",\"Female\",\"Female\",\"Female\",\"Female\",\"Female\",\"Female\",\"Female\",\"Female\",\"Female\",\"Female\",\"Female\",\"Female\",\"Female\",\"Female\",\"Female\",\"Female\",\"Female\",\"Female\",\"Female\",\"Female\",\"Female\",\"Female\",\"Female\",\"Female\",\"Female\",\"Female\",\"Female\",\"Female\",\"Female\",\"Female\",\"Female\",\"Female\",\"Female\",\"Female\",\"Female\",\"Female\",\"Female\",\"Female\",\"Female\",\"Female\",\"Female\",\"Female\",\"Female\",\"Female\",\"Female\",\"Female\",\"Female\",\"Female\",\"Female\",\"Female\",\"Female\",\"Female\",\"Female\",\"Female\",\"Female\",\"Female\",\"Female\",\"Female\",\"Female\",\"Female\",\"Female\",\"Female\",\"Female\",\"Female\",\"Female\",\"Female\",\"Female\",\"Female\",\"Female\",\"Female\",\"Female\",\"Female\",\"Female\",\"Female\",\"Female\",\"Female\",\"Female\",\"Female\",\"Female\",\"Female\",\"Female\",\"Female\",\"Female\",\"Female\",\"Female\",\"Female\",\"Female\",\"Female\",\"Female\",\"Female\",\"Female\",\"Female\",\"Female\",\"Female\",\"Female\",\"Female\",\"Female\",\"Female\",\"Female\",\"Female\",\"Female\",\"Female\",\"Female\",\"Female\",\"Female\",\"Female\",\"Female\",\"Female\",\"Female\",\"Female\",\"Female\",\"Female\",\"Female\",\"Female\",\"Female\",\"Female\",\"Female\",\"Female\",\"Female\",\"Female\",\"Female\",\"Female\",\"Female\",\"Female\",\"Female\",\"Female\",\"Female\",\"Female\",\"Female\",\"Female\",\"Female\",\"Female\",\"Female\",\"Female\",\"Female\",\"Female\",\"Female\",\"Female\",\"Female\",\"Female\",\"Female\",\"Female\",\"Female\",\"Female\",\"Female\",\"Female\",\"Female\",\"Female\",\"Female\",\"Female\",\"Female\",\"Female\",\"Female\",\"Female\",\"Female\",\"Female\",\"Female\",\"Female\",\"Female\",\"Female\",\"Female\",\"Female\",\"Female\",\"Female\",\"Female\",\"Female\",\"Female\",\"Female\",\"Female\",\"Female\",\"Female\",\"Female\",\"Female\",\"Female\",\"Female\",\"Female\",\"Female\",\"Female\",\"Female\",\"Female\",\"Female\",\"Female\",\"Female\",\"Female\",\"Female\",\"Female\",\"Female\",\"Female\",\"Female\",\"Female\",\"Female\",\"Female\",\"Female\",\"Female\",\"Female\",\"Female\",\"Female\",\"Female\",\"Female\",\"Female\",\"Female\",\"Female\",\"Female\",\"Female\",\"Female\",\"Female\",\"Female\",\"Female\",\"Female\",\"Female\",\"Female\",\"Female\",\"Female\",\"Female\",\"Female\",\"Female\",\"Female\",\"Female\",\"Female\",\"Female\",\"Female\",\"Female\",\"Female\",\"Female\",\"Female\",\"Female\",\"Female\",\"Female\",\"Female\",\"Female\",\"Female\",\"Female\",\"Female\",\"Female\",\"Female\",\"Female\",\"Female\",\"Female\",\"Female\",\"Female\",\"Female\",\"Female\",\"Female\",\"Female\",\"Female\",\"Female\",\"Female\",\"Female\",\"Female\",\"Female\",\"Female\",\"Female\",\"Female\",\"Female\",\"Female\",\"Female\",\"Female\",\"Female\",\"Female\",\"Female\",\"Female\",\"Female\",\"Female\",\"Female\",\"Female\",\"Female\",\"Female\",\"Female\",\"Female\",\"Female\",\"Female\",\"Female\",\"Female\",\"Female\",\"Female\",\"Female\",\"Female\",\"Female\",\"Female\",\"Female\",\"Female\",\"Female\",\"Female\",\"Female\",\"Female\",\"Female\",\"Female\",\"Female\",\"Female\",\"Female\",\"Female\",\"Female\",\"Female\",\"Female\",\"Female\",\"Female\",\"Female\",\"Female\",\"Female\",\"Female\",\"Female\",\"Female\",\"Female\",\"Female\",\"Female\",\"Female\",\"Female\",\"Female\",\"Female\",\"Female\",\"Female\",\"Female\",\"Female\",\"Female\",\"Female\",\"Female\",\"Female\",\"Female\",\"Female\",\"Female\",\"Female\",\"Female\",\"Female\",\"Female\",\"Female\",\"Female\",\"Female\",\"Female\",\"Female\",\"Female\",\"Female\",\"Female\",\"Female\",\"Female\",\"Female\",\"Female\",\"Female\",\"Female\",\"Female\",\"Female\",\"Female\",\"Female\",\"Female\",\"Female\",\"Female\",\"Female\",\"Female\",\"Female\",\"Female\",\"Female\",\"Female\",\"Female\",\"Female\",\"Female\",\"Female\",\"Female\",\"Female\",\"Female\",\"Female\",\"Female\",\"Female\",\"Female\",\"Female\",\"Female\",\"Female\",\"Female\",\"Female\",\"Female\",\"Female\",\"Female\",\"Female\",\"Female\",\"Female\",\"Female\",\"Female\",\"Female\",\"Female\",\"Female\",\"Female\",\"Female\",\"Female\",\"Female\",\"Female\",\"Female\",\"Female\",\"Female\",\"Female\",\"Female\",\"Female\",\"Female\",\"Female\",\"Female\",\"Female\",\"Female\",\"Female\",\"Female\",\"Female\",\"Female\",\"Female\",\"Female\",\"Female\",\"Female\",\"Female\",\"Female\",\"Female\",\"Female\",\"Female\",\"Female\",\"Female\",\"Female\",\"Female\",\"Female\",\"Female\",\"Female\",\"Female\",\"Female\",\"Female\",\"Female\",\"Female\",\"Female\",\"Female\",\"Female\",\"Female\",\"Female\",\"Female\",\"Female\",\"Female\",\"Female\",\"Female\",\"Female\",\"Female\",\"Female\",\"Female\",\"Female\",\"Female\",\"Female\",\"Female\",\"Female\",\"Female\",\"Female\",\"Female\",\"Female\",\"Female\",\"Female\",\"Female\",\"Female\",\"Female\",\"Female\",\"Female\",\"Female\",\"Female\",\"Female\",\"Female\",\"Female\",\"Female\",\"Female\",\"Female\",\"Female\",\"Female\",\"Female\",\"Female\",\"Female\",\"Female\",\"Female\",\"Female\",\"Female\",\"Female\",\"Female\",\"Female\",\"Female\",\"Female\",\"Female\",\"Female\",\"Female\",\"Female\",\"Female\",\"Female\",\"Female\",\"Female\",\"Female\",\"Female\",\"Female\",\"Female\",\"Female\",\"Female\",\"Female\",\"Female\",\"Female\",\"Female\",\"Female\",\"Female\",\"Female\",\"Female\",\"Female\",\"Female\",\"Female\",\"Female\",\"Female\",\"Female\",\"Female\",\"Female\",\"Female\",\"Female\",\"Female\",\"Female\",\"Female\",\"Female\",\"Female\",\"Female\",\"Female\",\"Female\",\"Female\",\"Female\",\"Female\",\"Female\",\"Female\",\"Female\",\"Female\",\"Female\",\"Female\",\"Female\",\"Female\",\"Female\",\"Female\",\"Female\",\"Female\",\"Female\",\"Female\",\"Female\",\"Female\",\"Female\",\"Female\",\"Female\",\"Female\",\"Female\",\"Female\",\"Female\",\"Female\",\"Female\",\"Female\",\"Female\",\"Female\",\"Female\",\"Female\",\"Female\",\"Female\",\"Female\",\"Female\",\"Female\",\"Female\",\"Female\",\"Female\",\"Female\",\"Female\",\"Female\",\"Female\",\"Female\",\"Female\",\"Female\",\"Female\",\"Female\",\"Female\",\"Female\",\"Female\",\"Female\",\"Female\",\"Female\",\"Female\",\"Female\",\"Female\",\"Female\",\"Female\",\"Female\",\"Female\",\"Female\",\"Female\",\"Female\",\"Female\",\"Female\",\"Female\",\"Female\",\"Female\",\"Female\",\"Female\",\"Female\",\"Female\",\"Female\",\"Female\",\"Female\",\"Female\",\"Female\",\"Female\",\"Female\",\"Female\",\"Female\",\"Female\",\"Female\",\"Female\",\"Female\",\"Female\",\"Female\",\"Female\",\"Female\",\"Female\",\"Female\",\"Female\",\"Female\",\"Female\",\"Female\",\"Female\",\"Female\",\"Female\",\"Female\",\"Female\",\"Female\",\"Female\",\"Female\",\"Female\",\"Female\",\"Female\",\"Female\",\"Female\",\"Female\",\"Female\",\"Female\",\"Female\",\"Female\",\"Female\",\"Female\",\"Female\",\"Female\",\"Female\",\"Female\",\"Female\",\"Female\",\"Female\",\"Female\",\"Female\",\"Female\",\"Female\",\"Female\",\"Female\",\"Female\",\"Female\",\"Female\",\"Female\",\"Female\",\"Female\",\"Female\",\"Female\",\"Female\",\"Female\",\"Female\",\"Female\",\"Female\",\"Female\",\"Female\",\"Female\",\"Female\",\"Female\",\"Female\",\"Female\",\"Female\",\"Female\",\"Female\",\"Female\",\"Female\"],\"xaxis\":\"x\",\"yaxis\":\"y\",\"type\":\"histogram\"},{\"alignmentgroup\":\"True\",\"bingroup\":\"x\",\"hovertemplate\":\"Sex=%{x}\\u003cbr\\u003ecount=%{y}\\u003cextra\\u003e\\u003c\\u002fextra\\u003e\",\"legendgroup\":\"1\",\"marker\":{\"color\":\"#EF553B\",\"pattern\":{\"shape\":\"\"}},\"name\":\"1\",\"offsetgroup\":\"1\",\"orientation\":\"v\",\"showlegend\":true,\"x\":[\"1\",\"1\",\"1\",\"1\",\"1\",\"1\",\"1\",\"1\",\"1\",\"1\",\"1\",\"1\",\"1\",\"1\",\"1\",\"1\",\"1\",\"1\",\"1\"],\"xaxis\":\"x\",\"yaxis\":\"y\",\"type\":\"histogram\"}],                        {\"template\":{\"data\":{\"histogram2dcontour\":[{\"type\":\"histogram2dcontour\",\"colorbar\":{\"outlinewidth\":0,\"ticks\":\"\"},\"colorscale\":[[0.0,\"#0d0887\"],[0.1111111111111111,\"#46039f\"],[0.2222222222222222,\"#7201a8\"],[0.3333333333333333,\"#9c179e\"],[0.4444444444444444,\"#bd3786\"],[0.5555555555555556,\"#d8576b\"],[0.6666666666666666,\"#ed7953\"],[0.7777777777777778,\"#fb9f3a\"],[0.8888888888888888,\"#fdca26\"],[1.0,\"#f0f921\"]]}],\"choropleth\":[{\"type\":\"choropleth\",\"colorbar\":{\"outlinewidth\":0,\"ticks\":\"\"}}],\"histogram2d\":[{\"type\":\"histogram2d\",\"colorbar\":{\"outlinewidth\":0,\"ticks\":\"\"},\"colorscale\":[[0.0,\"#0d0887\"],[0.1111111111111111,\"#46039f\"],[0.2222222222222222,\"#7201a8\"],[0.3333333333333333,\"#9c179e\"],[0.4444444444444444,\"#bd3786\"],[0.5555555555555556,\"#d8576b\"],[0.6666666666666666,\"#ed7953\"],[0.7777777777777778,\"#fb9f3a\"],[0.8888888888888888,\"#fdca26\"],[1.0,\"#f0f921\"]]}],\"heatmap\":[{\"type\":\"heatmap\",\"colorbar\":{\"outlinewidth\":0,\"ticks\":\"\"},\"colorscale\":[[0.0,\"#0d0887\"],[0.1111111111111111,\"#46039f\"],[0.2222222222222222,\"#7201a8\"],[0.3333333333333333,\"#9c179e\"],[0.4444444444444444,\"#bd3786\"],[0.5555555555555556,\"#d8576b\"],[0.6666666666666666,\"#ed7953\"],[0.7777777777777778,\"#fb9f3a\"],[0.8888888888888888,\"#fdca26\"],[1.0,\"#f0f921\"]]}],\"heatmapgl\":[{\"type\":\"heatmapgl\",\"colorbar\":{\"outlinewidth\":0,\"ticks\":\"\"},\"colorscale\":[[0.0,\"#0d0887\"],[0.1111111111111111,\"#46039f\"],[0.2222222222222222,\"#7201a8\"],[0.3333333333333333,\"#9c179e\"],[0.4444444444444444,\"#bd3786\"],[0.5555555555555556,\"#d8576b\"],[0.6666666666666666,\"#ed7953\"],[0.7777777777777778,\"#fb9f3a\"],[0.8888888888888888,\"#fdca26\"],[1.0,\"#f0f921\"]]}],\"contourcarpet\":[{\"type\":\"contourcarpet\",\"colorbar\":{\"outlinewidth\":0,\"ticks\":\"\"}}],\"contour\":[{\"type\":\"contour\",\"colorbar\":{\"outlinewidth\":0,\"ticks\":\"\"},\"colorscale\":[[0.0,\"#0d0887\"],[0.1111111111111111,\"#46039f\"],[0.2222222222222222,\"#7201a8\"],[0.3333333333333333,\"#9c179e\"],[0.4444444444444444,\"#bd3786\"],[0.5555555555555556,\"#d8576b\"],[0.6666666666666666,\"#ed7953\"],[0.7777777777777778,\"#fb9f3a\"],[0.8888888888888888,\"#fdca26\"],[1.0,\"#f0f921\"]]}],\"surface\":[{\"type\":\"surface\",\"colorbar\":{\"outlinewidth\":0,\"ticks\":\"\"},\"colorscale\":[[0.0,\"#0d0887\"],[0.1111111111111111,\"#46039f\"],[0.2222222222222222,\"#7201a8\"],[0.3333333333333333,\"#9c179e\"],[0.4444444444444444,\"#bd3786\"],[0.5555555555555556,\"#d8576b\"],[0.6666666666666666,\"#ed7953\"],[0.7777777777777778,\"#fb9f3a\"],[0.8888888888888888,\"#fdca26\"],[1.0,\"#f0f921\"]]}],\"mesh3d\":[{\"type\":\"mesh3d\",\"colorbar\":{\"outlinewidth\":0,\"ticks\":\"\"}}],\"scatter\":[{\"fillpattern\":{\"fillmode\":\"overlay\",\"size\":10,\"solidity\":0.2},\"type\":\"scatter\"}],\"parcoords\":[{\"type\":\"parcoords\",\"line\":{\"colorbar\":{\"outlinewidth\":0,\"ticks\":\"\"}}}],\"scatterpolargl\":[{\"type\":\"scatterpolargl\",\"marker\":{\"colorbar\":{\"outlinewidth\":0,\"ticks\":\"\"}}}],\"bar\":[{\"error_x\":{\"color\":\"#2a3f5f\"},\"error_y\":{\"color\":\"#2a3f5f\"},\"marker\":{\"line\":{\"color\":\"#E5ECF6\",\"width\":0.5},\"pattern\":{\"fillmode\":\"overlay\",\"size\":10,\"solidity\":0.2}},\"type\":\"bar\"}],\"scattergeo\":[{\"type\":\"scattergeo\",\"marker\":{\"colorbar\":{\"outlinewidth\":0,\"ticks\":\"\"}}}],\"scatterpolar\":[{\"type\":\"scatterpolar\",\"marker\":{\"colorbar\":{\"outlinewidth\":0,\"ticks\":\"\"}}}],\"histogram\":[{\"marker\":{\"pattern\":{\"fillmode\":\"overlay\",\"size\":10,\"solidity\":0.2}},\"type\":\"histogram\"}],\"scattergl\":[{\"type\":\"scattergl\",\"marker\":{\"colorbar\":{\"outlinewidth\":0,\"ticks\":\"\"}}}],\"scatter3d\":[{\"type\":\"scatter3d\",\"line\":{\"colorbar\":{\"outlinewidth\":0,\"ticks\":\"\"}},\"marker\":{\"colorbar\":{\"outlinewidth\":0,\"ticks\":\"\"}}}],\"scattermapbox\":[{\"type\":\"scattermapbox\",\"marker\":{\"colorbar\":{\"outlinewidth\":0,\"ticks\":\"\"}}}],\"scatterternary\":[{\"type\":\"scatterternary\",\"marker\":{\"colorbar\":{\"outlinewidth\":0,\"ticks\":\"\"}}}],\"scattercarpet\":[{\"type\":\"scattercarpet\",\"marker\":{\"colorbar\":{\"outlinewidth\":0,\"ticks\":\"\"}}}],\"carpet\":[{\"aaxis\":{\"endlinecolor\":\"#2a3f5f\",\"gridcolor\":\"white\",\"linecolor\":\"white\",\"minorgridcolor\":\"white\",\"startlinecolor\":\"#2a3f5f\"},\"baxis\":{\"endlinecolor\":\"#2a3f5f\",\"gridcolor\":\"white\",\"linecolor\":\"white\",\"minorgridcolor\":\"white\",\"startlinecolor\":\"#2a3f5f\"},\"type\":\"carpet\"}],\"table\":[{\"cells\":{\"fill\":{\"color\":\"#EBF0F8\"},\"line\":{\"color\":\"white\"}},\"header\":{\"fill\":{\"color\":\"#C8D4E3\"},\"line\":{\"color\":\"white\"}},\"type\":\"table\"}],\"barpolar\":[{\"marker\":{\"line\":{\"color\":\"#E5ECF6\",\"width\":0.5},\"pattern\":{\"fillmode\":\"overlay\",\"size\":10,\"solidity\":0.2}},\"type\":\"barpolar\"}],\"pie\":[{\"automargin\":true,\"type\":\"pie\"}]},\"layout\":{\"autotypenumbers\":\"strict\",\"colorway\":[\"#636efa\",\"#EF553B\",\"#00cc96\",\"#ab63fa\",\"#FFA15A\",\"#19d3f3\",\"#FF6692\",\"#B6E880\",\"#FF97FF\",\"#FECB52\"],\"font\":{\"color\":\"#2a3f5f\"},\"hovermode\":\"closest\",\"hoverlabel\":{\"align\":\"left\"},\"paper_bgcolor\":\"white\",\"plot_bgcolor\":\"#E5ECF6\",\"polar\":{\"bgcolor\":\"#E5ECF6\",\"angularaxis\":{\"gridcolor\":\"white\",\"linecolor\":\"white\",\"ticks\":\"\"},\"radialaxis\":{\"gridcolor\":\"white\",\"linecolor\":\"white\",\"ticks\":\"\"}},\"ternary\":{\"bgcolor\":\"#E5ECF6\",\"aaxis\":{\"gridcolor\":\"white\",\"linecolor\":\"white\",\"ticks\":\"\"},\"baxis\":{\"gridcolor\":\"white\",\"linecolor\":\"white\",\"ticks\":\"\"},\"caxis\":{\"gridcolor\":\"white\",\"linecolor\":\"white\",\"ticks\":\"\"}},\"coloraxis\":{\"colorbar\":{\"outlinewidth\":0,\"ticks\":\"\"}},\"colorscale\":{\"sequential\":[[0.0,\"#0d0887\"],[0.1111111111111111,\"#46039f\"],[0.2222222222222222,\"#7201a8\"],[0.3333333333333333,\"#9c179e\"],[0.4444444444444444,\"#bd3786\"],[0.5555555555555556,\"#d8576b\"],[0.6666666666666666,\"#ed7953\"],[0.7777777777777778,\"#fb9f3a\"],[0.8888888888888888,\"#fdca26\"],[1.0,\"#f0f921\"]],\"sequentialminus\":[[0.0,\"#0d0887\"],[0.1111111111111111,\"#46039f\"],[0.2222222222222222,\"#7201a8\"],[0.3333333333333333,\"#9c179e\"],[0.4444444444444444,\"#bd3786\"],[0.5555555555555556,\"#d8576b\"],[0.6666666666666666,\"#ed7953\"],[0.7777777777777778,\"#fb9f3a\"],[0.8888888888888888,\"#fdca26\"],[1.0,\"#f0f921\"]],\"diverging\":[[0,\"#8e0152\"],[0.1,\"#c51b7d\"],[0.2,\"#de77ae\"],[0.3,\"#f1b6da\"],[0.4,\"#fde0ef\"],[0.5,\"#f7f7f7\"],[0.6,\"#e6f5d0\"],[0.7,\"#b8e186\"],[0.8,\"#7fbc41\"],[0.9,\"#4d9221\"],[1,\"#276419\"]]},\"xaxis\":{\"gridcolor\":\"white\",\"linecolor\":\"white\",\"ticks\":\"\",\"title\":{\"standoff\":15},\"zerolinecolor\":\"white\",\"automargin\":true,\"zerolinewidth\":2},\"yaxis\":{\"gridcolor\":\"white\",\"linecolor\":\"white\",\"ticks\":\"\",\"title\":{\"standoff\":15},\"zerolinecolor\":\"white\",\"automargin\":true,\"zerolinewidth\":2},\"scene\":{\"xaxis\":{\"backgroundcolor\":\"#E5ECF6\",\"gridcolor\":\"white\",\"linecolor\":\"white\",\"showbackground\":true,\"ticks\":\"\",\"zerolinecolor\":\"white\",\"gridwidth\":2},\"yaxis\":{\"backgroundcolor\":\"#E5ECF6\",\"gridcolor\":\"white\",\"linecolor\":\"white\",\"showbackground\":true,\"ticks\":\"\",\"zerolinecolor\":\"white\",\"gridwidth\":2},\"zaxis\":{\"backgroundcolor\":\"#E5ECF6\",\"gridcolor\":\"white\",\"linecolor\":\"white\",\"showbackground\":true,\"ticks\":\"\",\"zerolinecolor\":\"white\",\"gridwidth\":2}},\"shapedefaults\":{\"line\":{\"color\":\"#2a3f5f\"}},\"annotationdefaults\":{\"arrowcolor\":\"#2a3f5f\",\"arrowhead\":0,\"arrowwidth\":1},\"geo\":{\"bgcolor\":\"white\",\"landcolor\":\"#E5ECF6\",\"subunitcolor\":\"white\",\"showland\":true,\"showlakes\":true,\"lakecolor\":\"white\"},\"title\":{\"x\":0.05},\"mapbox\":{\"style\":\"light\"}}},\"xaxis\":{\"anchor\":\"y\",\"domain\":[0.0,1.0],\"title\":{\"text\":\"Sex\"},\"categoryorder\":\"array\",\"categoryarray\":[\"Female\",\"1\",null]},\"yaxis\":{\"anchor\":\"x\",\"domain\":[0.0,1.0],\"title\":{\"text\":\"count\"}},\"legend\":{\"title\":{\"text\":\"Sex\"},\"tracegroupgap\":0},\"title\":{\"text\":\"Distribution of Sex (Male\\u002fFemale)\"},\"barmode\":\"relative\"},                        {\"responsive\": true}                    ).then(function(){\n",
              "                            \n",
              "var gd = document.getElementById('f7142f90-f6b5-4708-a3c3-4cbed6fee470');\n",
              "var x = new MutationObserver(function (mutations, observer) {{\n",
              "        var display = window.getComputedStyle(gd).display;\n",
              "        if (!display || display === 'none') {{\n",
              "            console.log([gd, 'removed!']);\n",
              "            Plotly.purge(gd);\n",
              "            observer.disconnect();\n",
              "        }}\n",
              "}});\n",
              "\n",
              "// Listen for the removal of the full notebook cells\n",
              "var notebookContainer = gd.closest('#notebook-container');\n",
              "if (notebookContainer) {{\n",
              "    x.observe(notebookContainer, {childList: true});\n",
              "}}\n",
              "\n",
              "// Listen for the clearing of the current output cell\n",
              "var outputEl = gd.closest('.output');\n",
              "if (outputEl) {{\n",
              "    x.observe(outputEl, {childList: true});\n",
              "}}\n",
              "\n",
              "                        })                };                            </script>        </div>\n",
              "</body>\n",
              "</html>"
            ]
          },
          "metadata": {}
        }
      ]
    },
    {
      "cell_type": "markdown",
      "source": [
        "Codereuse Session Question 12"
      ],
      "metadata": {
        "id": "MVKdtr0mM36J"
      }
    },
    {
      "cell_type": "code",
      "source": [
        "# Drop columns marked for removal\n",
        "df.drop(['Sex'], axis=1, inplace=True)\n",
        "\n",
        "# Print dataset shape after dropping\n",
        "print(\"Post-drop shape:\", df.shape)\n"
      ],
      "metadata": {
        "colab": {
          "base_uri": "https://localhost:8080/"
        },
        "id": "9T1M6O4a-ION",
        "outputId": "43dad930-795a-4013-940e-6a103c35b104"
      },
      "execution_count": null,
      "outputs": [
        {
          "output_type": "stream",
          "name": "stdout",
          "text": [
            "Post-drop shape: (4018, 14)\n"
          ]
        }
      ]
    },
    {
      "cell_type": "markdown",
      "source": [
        "Codereuse Session 01 (Week 5) Question 10"
      ],
      "metadata": {
        "id": "gflkrUM3M7qx"
      }
    },
    {
      "cell_type": "code",
      "source": [
        "# Confirm that no missing values remain\n",
        "print(\"\\nSum of Null Values in Each Column After cleaning:\")\n",
        "print(df.isnull().sum())"
      ],
      "metadata": {
        "colab": {
          "base_uri": "https://localhost:8080/"
        },
        "id": "M7njXfrd-KGO",
        "outputId": "c47c3e81-77c1-4d28-f223-72f421a1eace"
      },
      "execution_count": null,
      "outputs": [
        {
          "output_type": "stream",
          "name": "stdout",
          "text": [
            "\n",
            "Sum of Null Values in Each Column After cleaning:\n",
            "Age                       0\n",
            "T_Stage                   0\n",
            "N_Stage                   0\n",
            "6th_Stage                 0\n",
            "Differentiated            0\n",
            "Grade                     0\n",
            "A_Stage                   0\n",
            "Tumor_Size                0\n",
            "Estrogen_Status           0\n",
            "Progesterone_Status       0\n",
            "Regional_Node_Examined    0\n",
            "Reginol_Node_Positive     0\n",
            "Survival_Months           0\n",
            "Mortality_Status          0\n",
            "dtype: int64\n"
          ]
        }
      ]
    },
    {
      "cell_type": "code",
      "source": [
        "# Correct typo in column name\n",
        "df=df.rename(columns={'Reginol_Node_Positive': 'Regional_Node_Positive'})"
      ],
      "metadata": {
        "id": "kD8S5rad9fH_"
      },
      "execution_count": null,
      "outputs": []
    },
    {
      "cell_type": "markdown",
      "source": [
        "Codereuse Session 01 (Week 5) Question 07"
      ],
      "metadata": {
        "id": "yybMDbHlQkwx"
      }
    },
    {
      "cell_type": "code",
      "source": [
        "# Display descriptive stats as a formatted markdown table\n",
        "desc_stats = df.describe().transpose()\n",
        "print(\"Descriptive Statistics (Numerical Features):\")\n",
        "display(desc_stats)  # Renders as a table in Colab/Jupyter"
      ],
      "metadata": {
        "colab": {
          "base_uri": "https://localhost:8080/",
          "height": 525
        },
        "id": "hXIrH_3k-L5n",
        "outputId": "91dbe632-5c9b-46cb-8163-d5740172b43a"
      },
      "execution_count": null,
      "outputs": [
        {
          "output_type": "stream",
          "name": "stdout",
          "text": [
            "Descriptive Statistics (Numerical Features):\n"
          ]
        },
        {
          "output_type": "display_data",
          "data": {
            "text/plain": [
              "                         count       mean        std   min   25%   50%   75%  \\\n",
              "Age                     4018.0  53.987556   8.953666  30.0  47.0  54.0  61.0   \n",
              "T_Stage                 4018.0   0.784719   0.765640   0.0   0.0   1.0   1.0   \n",
              "N_Stage                 4018.0   0.437282   0.692557   0.0   0.0   0.0   1.0   \n",
              "6th_Stage               4018.0   1.404181   1.245915   0.0   0.0   1.0   3.0   \n",
              "Differentiated          4018.0   0.867596   0.642368   0.0   0.0   1.0   1.0   \n",
              "Grade                   4018.0   2.151319   0.638176   1.0   2.0   2.0   3.0   \n",
              "A_Stage                 4018.0   0.022648   0.148797   0.0   0.0   0.0   0.0   \n",
              "Tumor_Size              4018.0  30.458188  21.098955   1.0  16.0  25.0  38.0   \n",
              "Estrogen_Status         4018.0   0.933051   0.249964   0.0   1.0   1.0   1.0   \n",
              "Progesterone_Status     4018.0   0.826531   0.378700   0.0   1.0   1.0   1.0   \n",
              "Regional_Node_Examined  4018.0  14.364609   8.127207   1.0   9.0  14.0  19.0   \n",
              "Regional_Node_Positive  4018.0   4.148333   5.092854   1.0   1.0   2.0   5.0   \n",
              "Survival_Months         4018.0  71.300896  22.921505   1.0  56.0  73.0  90.0   \n",
              "Mortality_Status        4018.0   0.153061   0.360091   0.0   0.0   0.0   0.0   \n",
              "\n",
              "                          max  \n",
              "Age                      69.0  \n",
              "T_Stage                   3.0  \n",
              "N_Stage                   2.0  \n",
              "6th_Stage                 4.0  \n",
              "Differentiated            3.0  \n",
              "Grade                     4.0  \n",
              "A_Stage                   1.0  \n",
              "Tumor_Size              140.0  \n",
              "Estrogen_Status           1.0  \n",
              "Progesterone_Status       1.0  \n",
              "Regional_Node_Examined   61.0  \n",
              "Regional_Node_Positive   46.0  \n",
              "Survival_Months         107.0  \n",
              "Mortality_Status          1.0  "
            ],
            "text/html": [
              "\n",
              "  <div id=\"df-da19b0ec-a9cc-48c5-9a61-f78b974a49c9\" class=\"colab-df-container\">\n",
              "    <div>\n",
              "<style scoped>\n",
              "    .dataframe tbody tr th:only-of-type {\n",
              "        vertical-align: middle;\n",
              "    }\n",
              "\n",
              "    .dataframe tbody tr th {\n",
              "        vertical-align: top;\n",
              "    }\n",
              "\n",
              "    .dataframe thead th {\n",
              "        text-align: right;\n",
              "    }\n",
              "</style>\n",
              "<table border=\"1\" class=\"dataframe\">\n",
              "  <thead>\n",
              "    <tr style=\"text-align: right;\">\n",
              "      <th></th>\n",
              "      <th>count</th>\n",
              "      <th>mean</th>\n",
              "      <th>std</th>\n",
              "      <th>min</th>\n",
              "      <th>25%</th>\n",
              "      <th>50%</th>\n",
              "      <th>75%</th>\n",
              "      <th>max</th>\n",
              "    </tr>\n",
              "  </thead>\n",
              "  <tbody>\n",
              "    <tr>\n",
              "      <th>Age</th>\n",
              "      <td>4018.0</td>\n",
              "      <td>53.987556</td>\n",
              "      <td>8.953666</td>\n",
              "      <td>30.0</td>\n",
              "      <td>47.0</td>\n",
              "      <td>54.0</td>\n",
              "      <td>61.0</td>\n",
              "      <td>69.0</td>\n",
              "    </tr>\n",
              "    <tr>\n",
              "      <th>T_Stage</th>\n",
              "      <td>4018.0</td>\n",
              "      <td>0.784719</td>\n",
              "      <td>0.765640</td>\n",
              "      <td>0.0</td>\n",
              "      <td>0.0</td>\n",
              "      <td>1.0</td>\n",
              "      <td>1.0</td>\n",
              "      <td>3.0</td>\n",
              "    </tr>\n",
              "    <tr>\n",
              "      <th>N_Stage</th>\n",
              "      <td>4018.0</td>\n",
              "      <td>0.437282</td>\n",
              "      <td>0.692557</td>\n",
              "      <td>0.0</td>\n",
              "      <td>0.0</td>\n",
              "      <td>0.0</td>\n",
              "      <td>1.0</td>\n",
              "      <td>2.0</td>\n",
              "    </tr>\n",
              "    <tr>\n",
              "      <th>6th_Stage</th>\n",
              "      <td>4018.0</td>\n",
              "      <td>1.404181</td>\n",
              "      <td>1.245915</td>\n",
              "      <td>0.0</td>\n",
              "      <td>0.0</td>\n",
              "      <td>1.0</td>\n",
              "      <td>3.0</td>\n",
              "      <td>4.0</td>\n",
              "    </tr>\n",
              "    <tr>\n",
              "      <th>Differentiated</th>\n",
              "      <td>4018.0</td>\n",
              "      <td>0.867596</td>\n",
              "      <td>0.642368</td>\n",
              "      <td>0.0</td>\n",
              "      <td>0.0</td>\n",
              "      <td>1.0</td>\n",
              "      <td>1.0</td>\n",
              "      <td>3.0</td>\n",
              "    </tr>\n",
              "    <tr>\n",
              "      <th>Grade</th>\n",
              "      <td>4018.0</td>\n",
              "      <td>2.151319</td>\n",
              "      <td>0.638176</td>\n",
              "      <td>1.0</td>\n",
              "      <td>2.0</td>\n",
              "      <td>2.0</td>\n",
              "      <td>3.0</td>\n",
              "      <td>4.0</td>\n",
              "    </tr>\n",
              "    <tr>\n",
              "      <th>A_Stage</th>\n",
              "      <td>4018.0</td>\n",
              "      <td>0.022648</td>\n",
              "      <td>0.148797</td>\n",
              "      <td>0.0</td>\n",
              "      <td>0.0</td>\n",
              "      <td>0.0</td>\n",
              "      <td>0.0</td>\n",
              "      <td>1.0</td>\n",
              "    </tr>\n",
              "    <tr>\n",
              "      <th>Tumor_Size</th>\n",
              "      <td>4018.0</td>\n",
              "      <td>30.458188</td>\n",
              "      <td>21.098955</td>\n",
              "      <td>1.0</td>\n",
              "      <td>16.0</td>\n",
              "      <td>25.0</td>\n",
              "      <td>38.0</td>\n",
              "      <td>140.0</td>\n",
              "    </tr>\n",
              "    <tr>\n",
              "      <th>Estrogen_Status</th>\n",
              "      <td>4018.0</td>\n",
              "      <td>0.933051</td>\n",
              "      <td>0.249964</td>\n",
              "      <td>0.0</td>\n",
              "      <td>1.0</td>\n",
              "      <td>1.0</td>\n",
              "      <td>1.0</td>\n",
              "      <td>1.0</td>\n",
              "    </tr>\n",
              "    <tr>\n",
              "      <th>Progesterone_Status</th>\n",
              "      <td>4018.0</td>\n",
              "      <td>0.826531</td>\n",
              "      <td>0.378700</td>\n",
              "      <td>0.0</td>\n",
              "      <td>1.0</td>\n",
              "      <td>1.0</td>\n",
              "      <td>1.0</td>\n",
              "      <td>1.0</td>\n",
              "    </tr>\n",
              "    <tr>\n",
              "      <th>Regional_Node_Examined</th>\n",
              "      <td>4018.0</td>\n",
              "      <td>14.364609</td>\n",
              "      <td>8.127207</td>\n",
              "      <td>1.0</td>\n",
              "      <td>9.0</td>\n",
              "      <td>14.0</td>\n",
              "      <td>19.0</td>\n",
              "      <td>61.0</td>\n",
              "    </tr>\n",
              "    <tr>\n",
              "      <th>Regional_Node_Positive</th>\n",
              "      <td>4018.0</td>\n",
              "      <td>4.148333</td>\n",
              "      <td>5.092854</td>\n",
              "      <td>1.0</td>\n",
              "      <td>1.0</td>\n",
              "      <td>2.0</td>\n",
              "      <td>5.0</td>\n",
              "      <td>46.0</td>\n",
              "    </tr>\n",
              "    <tr>\n",
              "      <th>Survival_Months</th>\n",
              "      <td>4018.0</td>\n",
              "      <td>71.300896</td>\n",
              "      <td>22.921505</td>\n",
              "      <td>1.0</td>\n",
              "      <td>56.0</td>\n",
              "      <td>73.0</td>\n",
              "      <td>90.0</td>\n",
              "      <td>107.0</td>\n",
              "    </tr>\n",
              "    <tr>\n",
              "      <th>Mortality_Status</th>\n",
              "      <td>4018.0</td>\n",
              "      <td>0.153061</td>\n",
              "      <td>0.360091</td>\n",
              "      <td>0.0</td>\n",
              "      <td>0.0</td>\n",
              "      <td>0.0</td>\n",
              "      <td>0.0</td>\n",
              "      <td>1.0</td>\n",
              "    </tr>\n",
              "  </tbody>\n",
              "</table>\n",
              "</div>\n",
              "    <div class=\"colab-df-buttons\">\n",
              "\n",
              "  <div class=\"colab-df-container\">\n",
              "    <button class=\"colab-df-convert\" onclick=\"convertToInteractive('df-da19b0ec-a9cc-48c5-9a61-f78b974a49c9')\"\n",
              "            title=\"Convert this dataframe to an interactive table.\"\n",
              "            style=\"display:none;\">\n",
              "\n",
              "  <svg xmlns=\"http://www.w3.org/2000/svg\" height=\"24px\" viewBox=\"0 -960 960 960\">\n",
              "    <path d=\"M120-120v-720h720v720H120Zm60-500h600v-160H180v160Zm220 220h160v-160H400v160Zm0 220h160v-160H400v160ZM180-400h160v-160H180v160Zm440 0h160v-160H620v160ZM180-180h160v-160H180v160Zm440 0h160v-160H620v160Z\"/>\n",
              "  </svg>\n",
              "    </button>\n",
              "\n",
              "  <style>\n",
              "    .colab-df-container {\n",
              "      display:flex;\n",
              "      gap: 12px;\n",
              "    }\n",
              "\n",
              "    .colab-df-convert {\n",
              "      background-color: #E8F0FE;\n",
              "      border: none;\n",
              "      border-radius: 50%;\n",
              "      cursor: pointer;\n",
              "      display: none;\n",
              "      fill: #1967D2;\n",
              "      height: 32px;\n",
              "      padding: 0 0 0 0;\n",
              "      width: 32px;\n",
              "    }\n",
              "\n",
              "    .colab-df-convert:hover {\n",
              "      background-color: #E2EBFA;\n",
              "      box-shadow: 0px 1px 2px rgba(60, 64, 67, 0.3), 0px 1px 3px 1px rgba(60, 64, 67, 0.15);\n",
              "      fill: #174EA6;\n",
              "    }\n",
              "\n",
              "    .colab-df-buttons div {\n",
              "      margin-bottom: 4px;\n",
              "    }\n",
              "\n",
              "    [theme=dark] .colab-df-convert {\n",
              "      background-color: #3B4455;\n",
              "      fill: #D2E3FC;\n",
              "    }\n",
              "\n",
              "    [theme=dark] .colab-df-convert:hover {\n",
              "      background-color: #434B5C;\n",
              "      box-shadow: 0px 1px 3px 1px rgba(0, 0, 0, 0.15);\n",
              "      filter: drop-shadow(0px 1px 2px rgba(0, 0, 0, 0.3));\n",
              "      fill: #FFFFFF;\n",
              "    }\n",
              "  </style>\n",
              "\n",
              "    <script>\n",
              "      const buttonEl =\n",
              "        document.querySelector('#df-da19b0ec-a9cc-48c5-9a61-f78b974a49c9 button.colab-df-convert');\n",
              "      buttonEl.style.display =\n",
              "        google.colab.kernel.accessAllowed ? 'block' : 'none';\n",
              "\n",
              "      async function convertToInteractive(key) {\n",
              "        const element = document.querySelector('#df-da19b0ec-a9cc-48c5-9a61-f78b974a49c9');\n",
              "        const dataTable =\n",
              "          await google.colab.kernel.invokeFunction('convertToInteractive',\n",
              "                                                    [key], {});\n",
              "        if (!dataTable) return;\n",
              "\n",
              "        const docLinkHtml = 'Like what you see? Visit the ' +\n",
              "          '<a target=\"_blank\" href=https://colab.research.google.com/notebooks/data_table.ipynb>data table notebook</a>'\n",
              "          + ' to learn more about interactive tables.';\n",
              "        element.innerHTML = '';\n",
              "        dataTable['output_type'] = 'display_data';\n",
              "        await google.colab.output.renderOutput(dataTable, element);\n",
              "        const docLink = document.createElement('div');\n",
              "        docLink.innerHTML = docLinkHtml;\n",
              "        element.appendChild(docLink);\n",
              "      }\n",
              "    </script>\n",
              "  </div>\n",
              "\n",
              "\n",
              "<div id=\"df-fe00cdb8-18ef-46c2-94d9-ed321c2c9cc0\">\n",
              "  <button class=\"colab-df-quickchart\" onclick=\"quickchart('df-fe00cdb8-18ef-46c2-94d9-ed321c2c9cc0')\"\n",
              "            title=\"Suggest charts\"\n",
              "            style=\"display:none;\">\n",
              "\n",
              "<svg xmlns=\"http://www.w3.org/2000/svg\" height=\"24px\"viewBox=\"0 0 24 24\"\n",
              "     width=\"24px\">\n",
              "    <g>\n",
              "        <path d=\"M19 3H5c-1.1 0-2 .9-2 2v14c0 1.1.9 2 2 2h14c1.1 0 2-.9 2-2V5c0-1.1-.9-2-2-2zM9 17H7v-7h2v7zm4 0h-2V7h2v10zm4 0h-2v-4h2v4z\"/>\n",
              "    </g>\n",
              "</svg>\n",
              "  </button>\n",
              "\n",
              "<style>\n",
              "  .colab-df-quickchart {\n",
              "      --bg-color: #E8F0FE;\n",
              "      --fill-color: #1967D2;\n",
              "      --hover-bg-color: #E2EBFA;\n",
              "      --hover-fill-color: #174EA6;\n",
              "      --disabled-fill-color: #AAA;\n",
              "      --disabled-bg-color: #DDD;\n",
              "  }\n",
              "\n",
              "  [theme=dark] .colab-df-quickchart {\n",
              "      --bg-color: #3B4455;\n",
              "      --fill-color: #D2E3FC;\n",
              "      --hover-bg-color: #434B5C;\n",
              "      --hover-fill-color: #FFFFFF;\n",
              "      --disabled-bg-color: #3B4455;\n",
              "      --disabled-fill-color: #666;\n",
              "  }\n",
              "\n",
              "  .colab-df-quickchart {\n",
              "    background-color: var(--bg-color);\n",
              "    border: none;\n",
              "    border-radius: 50%;\n",
              "    cursor: pointer;\n",
              "    display: none;\n",
              "    fill: var(--fill-color);\n",
              "    height: 32px;\n",
              "    padding: 0;\n",
              "    width: 32px;\n",
              "  }\n",
              "\n",
              "  .colab-df-quickchart:hover {\n",
              "    background-color: var(--hover-bg-color);\n",
              "    box-shadow: 0 1px 2px rgba(60, 64, 67, 0.3), 0 1px 3px 1px rgba(60, 64, 67, 0.15);\n",
              "    fill: var(--button-hover-fill-color);\n",
              "  }\n",
              "\n",
              "  .colab-df-quickchart-complete:disabled,\n",
              "  .colab-df-quickchart-complete:disabled:hover {\n",
              "    background-color: var(--disabled-bg-color);\n",
              "    fill: var(--disabled-fill-color);\n",
              "    box-shadow: none;\n",
              "  }\n",
              "\n",
              "  .colab-df-spinner {\n",
              "    border: 2px solid var(--fill-color);\n",
              "    border-color: transparent;\n",
              "    border-bottom-color: var(--fill-color);\n",
              "    animation:\n",
              "      spin 1s steps(1) infinite;\n",
              "  }\n",
              "\n",
              "  @keyframes spin {\n",
              "    0% {\n",
              "      border-color: transparent;\n",
              "      border-bottom-color: var(--fill-color);\n",
              "      border-left-color: var(--fill-color);\n",
              "    }\n",
              "    20% {\n",
              "      border-color: transparent;\n",
              "      border-left-color: var(--fill-color);\n",
              "      border-top-color: var(--fill-color);\n",
              "    }\n",
              "    30% {\n",
              "      border-color: transparent;\n",
              "      border-left-color: var(--fill-color);\n",
              "      border-top-color: var(--fill-color);\n",
              "      border-right-color: var(--fill-color);\n",
              "    }\n",
              "    40% {\n",
              "      border-color: transparent;\n",
              "      border-right-color: var(--fill-color);\n",
              "      border-top-color: var(--fill-color);\n",
              "    }\n",
              "    60% {\n",
              "      border-color: transparent;\n",
              "      border-right-color: var(--fill-color);\n",
              "    }\n",
              "    80% {\n",
              "      border-color: transparent;\n",
              "      border-right-color: var(--fill-color);\n",
              "      border-bottom-color: var(--fill-color);\n",
              "    }\n",
              "    90% {\n",
              "      border-color: transparent;\n",
              "      border-bottom-color: var(--fill-color);\n",
              "    }\n",
              "  }\n",
              "</style>\n",
              "\n",
              "  <script>\n",
              "    async function quickchart(key) {\n",
              "      const quickchartButtonEl =\n",
              "        document.querySelector('#' + key + ' button');\n",
              "      quickchartButtonEl.disabled = true;  // To prevent multiple clicks.\n",
              "      quickchartButtonEl.classList.add('colab-df-spinner');\n",
              "      try {\n",
              "        const charts = await google.colab.kernel.invokeFunction(\n",
              "            'suggestCharts', [key], {});\n",
              "      } catch (error) {\n",
              "        console.error('Error during call to suggestCharts:', error);\n",
              "      }\n",
              "      quickchartButtonEl.classList.remove('colab-df-spinner');\n",
              "      quickchartButtonEl.classList.add('colab-df-quickchart-complete');\n",
              "    }\n",
              "    (() => {\n",
              "      let quickchartButtonEl =\n",
              "        document.querySelector('#df-fe00cdb8-18ef-46c2-94d9-ed321c2c9cc0 button');\n",
              "      quickchartButtonEl.style.display =\n",
              "        google.colab.kernel.accessAllowed ? 'block' : 'none';\n",
              "    })();\n",
              "  </script>\n",
              "</div>\n",
              "\n",
              "  <div id=\"id_c4a9f93a-9a2f-4402-9b4c-288383d5240d\">\n",
              "    <style>\n",
              "      .colab-df-generate {\n",
              "        background-color: #E8F0FE;\n",
              "        border: none;\n",
              "        border-radius: 50%;\n",
              "        cursor: pointer;\n",
              "        display: none;\n",
              "        fill: #1967D2;\n",
              "        height: 32px;\n",
              "        padding: 0 0 0 0;\n",
              "        width: 32px;\n",
              "      }\n",
              "\n",
              "      .colab-df-generate:hover {\n",
              "        background-color: #E2EBFA;\n",
              "        box-shadow: 0px 1px 2px rgba(60, 64, 67, 0.3), 0px 1px 3px 1px rgba(60, 64, 67, 0.15);\n",
              "        fill: #174EA6;\n",
              "      }\n",
              "\n",
              "      [theme=dark] .colab-df-generate {\n",
              "        background-color: #3B4455;\n",
              "        fill: #D2E3FC;\n",
              "      }\n",
              "\n",
              "      [theme=dark] .colab-df-generate:hover {\n",
              "        background-color: #434B5C;\n",
              "        box-shadow: 0px 1px 3px 1px rgba(0, 0, 0, 0.15);\n",
              "        filter: drop-shadow(0px 1px 2px rgba(0, 0, 0, 0.3));\n",
              "        fill: #FFFFFF;\n",
              "      }\n",
              "    </style>\n",
              "    <button class=\"colab-df-generate\" onclick=\"generateWithVariable('desc_stats')\"\n",
              "            title=\"Generate code using this dataframe.\"\n",
              "            style=\"display:none;\">\n",
              "\n",
              "  <svg xmlns=\"http://www.w3.org/2000/svg\" height=\"24px\"viewBox=\"0 0 24 24\"\n",
              "       width=\"24px\">\n",
              "    <path d=\"M7,19H8.4L18.45,9,17,7.55,7,17.6ZM5,21V16.75L18.45,3.32a2,2,0,0,1,2.83,0l1.4,1.43a1.91,1.91,0,0,1,.58,1.4,1.91,1.91,0,0,1-.58,1.4L9.25,21ZM18.45,9,17,7.55Zm-12,3A5.31,5.31,0,0,0,4.9,8.1,5.31,5.31,0,0,0,1,6.5,5.31,5.31,0,0,0,4.9,4.9,5.31,5.31,0,0,0,6.5,1,5.31,5.31,0,0,0,8.1,4.9,5.31,5.31,0,0,0,12,6.5,5.46,5.46,0,0,0,6.5,12Z\"/>\n",
              "  </svg>\n",
              "    </button>\n",
              "    <script>\n",
              "      (() => {\n",
              "      const buttonEl =\n",
              "        document.querySelector('#id_c4a9f93a-9a2f-4402-9b4c-288383d5240d button.colab-df-generate');\n",
              "      buttonEl.style.display =\n",
              "        google.colab.kernel.accessAllowed ? 'block' : 'none';\n",
              "\n",
              "      buttonEl.onclick = () => {\n",
              "        google.colab.notebook.generateWithVariable('desc_stats');\n",
              "      }\n",
              "      })();\n",
              "    </script>\n",
              "  </div>\n",
              "\n",
              "    </div>\n",
              "  </div>\n"
            ],
            "application/vnd.google.colaboratory.intrinsic+json": {
              "type": "dataframe",
              "variable_name": "desc_stats",
              "summary": "{\n  \"name\": \"desc_stats\",\n  \"rows\": 14,\n  \"fields\": [\n    {\n      \"column\": \"count\",\n      \"properties\": {\n        \"dtype\": \"number\",\n        \"std\": 0.0,\n        \"min\": 4018.0,\n        \"max\": 4018.0,\n        \"num_unique_values\": 1,\n        \"samples\": [\n          4018.0\n        ],\n        \"semantic_type\": \"\",\n        \"description\": \"\"\n      }\n    },\n    {\n      \"column\": \"mean\",\n      \"properties\": {\n        \"dtype\": \"number\",\n        \"std\": 22.866875777230124,\n        \"min\": 0.02264808362369338,\n        \"max\": 71.30089596814335,\n        \"num_unique_values\": 14,\n        \"samples\": [\n          0.826530612244898\n        ],\n        \"semantic_type\": \"\",\n        \"description\": \"\"\n      }\n    },\n    {\n      \"column\": \"std\",\n      \"properties\": {\n        \"dtype\": \"number\",\n        \"std\": 7.76196888607496,\n        \"min\": 0.1487973732959933,\n        \"max\": 22.921504615856787,\n        \"num_unique_values\": 14,\n        \"samples\": [\n          0.37869968578363394\n        ],\n        \"semantic_type\": \"\",\n        \"description\": \"\"\n      }\n    },\n    {\n      \"column\": \"min\",\n      \"properties\": {\n        \"dtype\": \"number\",\n        \"std\": 7.9299820544951665,\n        \"min\": 0.0,\n        \"max\": 30.0,\n        \"num_unique_values\": 3,\n        \"samples\": [\n          30.0\n        ],\n        \"semantic_type\": \"\",\n        \"description\": \"\"\n      }\n    },\n    {\n      \"column\": \"25%\",\n      \"properties\": {\n        \"dtype\": \"number\",\n        \"std\": 18.45055763176487,\n        \"min\": 0.0,\n        \"max\": 56.0,\n        \"num_unique_values\": 7,\n        \"samples\": [\n          47.0\n        ],\n        \"semantic_type\": \"\",\n        \"description\": \"\"\n      }\n    },\n    {\n      \"column\": \"50%\",\n      \"properties\": {\n        \"dtype\": \"number\",\n        \"std\": 23.02423472377279,\n        \"min\": 0.0,\n        \"max\": 73.0,\n        \"num_unique_values\": 7,\n        \"samples\": [\n          54.0\n        ],\n        \"semantic_type\": \"\",\n        \"description\": \"\"\n      }\n    },\n    {\n      \"column\": \"75%\",\n      \"properties\": {\n        \"dtype\": \"number\",\n        \"std\": 27.859537795050482,\n        \"min\": 0.0,\n        \"max\": 90.0,\n        \"num_unique_values\": 8,\n        \"samples\": [\n          1.0\n        ],\n        \"semantic_type\": \"\",\n        \"description\": \"\"\n      }\n    },\n    {\n      \"column\": \"max\",\n      \"properties\": {\n        \"dtype\": \"number\",\n        \"std\": 46.14960145316224,\n        \"min\": 1.0,\n        \"max\": 140.0,\n        \"num_unique_values\": 9,\n        \"samples\": [\n          46.0\n        ],\n        \"semantic_type\": \"\",\n        \"description\": \"\"\n      }\n    }\n  ]\n}"
            }
          },
          "metadata": {}
        }
      ]
    },
    {
      "cell_type": "code",
      "source": [
        "df.shape"
      ],
      "metadata": {
        "colab": {
          "base_uri": "https://localhost:8080/"
        },
        "id": "zsgZ9Sd-RJoq",
        "outputId": "09cfb3ef-abe8-499a-a741-941269831caf"
      },
      "execution_count": null,
      "outputs": [
        {
          "output_type": "execute_result",
          "data": {
            "text/plain": [
              "(4018, 14)"
            ]
          },
          "metadata": {},
          "execution_count": 100
        }
      ]
    },
    {
      "cell_type": "markdown",
      "source": [
        "Codereuse Session 01 (Week 5) Question 27"
      ],
      "metadata": {
        "id": "QMm2Nqc7QAlp"
      }
    },
    {
      "cell_type": "code",
      "source": [
        "df.to_csv('/content/drive/MyDrive/BrestCancer/Cleaned_Dataset.csv', index=False)"
      ],
      "metadata": {
        "id": "s4Oo3iFs-PcM"
      },
      "execution_count": null,
      "outputs": []
    },
    {
      "cell_type": "markdown",
      "source": [
        "Codereuse Session 01 (Week 5) Question 02"
      ],
      "metadata": {
        "id": "o_tROXi_QYQv"
      }
    },
    {
      "cell_type": "code",
      "source": [
        "# Load the breast cancer dataset\n",
        "df_clean = pd.read_csv('/content/drive/MyDrive/BrestCancer/Cleaned_Dataset.csv')"
      ],
      "metadata": {
        "id": "YvVX_TU2-RK0"
      },
      "execution_count": null,
      "outputs": []
    },
    {
      "cell_type": "markdown",
      "source": [
        "Codereuse Session 01 (Week 5) Question 28"
      ],
      "metadata": {
        "id": "0ULieghjQUYk"
      }
    },
    {
      "cell_type": "code",
      "source": [
        "# For classification: Remove Survival_Months\n",
        "\n",
        "df_class = df_clean\n",
        "# For regression: Remove Mortality_Status\n",
        "df_reg = df_clean[df_clean['Mortality_Status'] >0]\n",
        "df_reg = df_reg.drop('Mortality_Status', axis=1)\n",
        "\n",
        "# Print shapes of the prepared datasets\n",
        "print(\"Classification dataset shape:\", df_class.shape)\n",
        "print(\"Regression dataset shape:\", df_reg.shape)\n",
        "\n",
        "# Display info about datasets\n",
        "df_class.info()\n",
        "df_reg.info()"
      ],
      "metadata": {
        "colab": {
          "base_uri": "https://localhost:8080/"
        },
        "id": "vPhTO7mI-NlN",
        "outputId": "2626efcc-ee66-449c-e8f8-52e43801d3e6"
      },
      "execution_count": null,
      "outputs": [
        {
          "output_type": "stream",
          "name": "stdout",
          "text": [
            "Classification dataset shape: (4018, 14)\n",
            "Regression dataset shape: (615, 13)\n",
            "<class 'pandas.core.frame.DataFrame'>\n",
            "RangeIndex: 4018 entries, 0 to 4017\n",
            "Data columns (total 14 columns):\n",
            " #   Column                  Non-Null Count  Dtype\n",
            "---  ------                  --------------  -----\n",
            " 0   Age                     4018 non-null   int64\n",
            " 1   T_Stage                 4018 non-null   int64\n",
            " 2   N_Stage                 4018 non-null   int64\n",
            " 3   6th_Stage               4018 non-null   int64\n",
            " 4   Differentiated          4018 non-null   int64\n",
            " 5   Grade                   4018 non-null   int64\n",
            " 6   A_Stage                 4018 non-null   int64\n",
            " 7   Tumor_Size              4018 non-null   int64\n",
            " 8   Estrogen_Status         4018 non-null   int64\n",
            " 9   Progesterone_Status     4018 non-null   int64\n",
            " 10  Regional_Node_Examined  4018 non-null   int64\n",
            " 11  Regional_Node_Positive  4018 non-null   int64\n",
            " 12  Survival_Months         4018 non-null   int64\n",
            " 13  Mortality_Status        4018 non-null   int64\n",
            "dtypes: int64(14)\n",
            "memory usage: 439.6 KB\n",
            "<class 'pandas.core.frame.DataFrame'>\n",
            "Index: 615 entries, 7 to 4011\n",
            "Data columns (total 13 columns):\n",
            " #   Column                  Non-Null Count  Dtype\n",
            "---  ------                  --------------  -----\n",
            " 0   Age                     615 non-null    int64\n",
            " 1   T_Stage                 615 non-null    int64\n",
            " 2   N_Stage                 615 non-null    int64\n",
            " 3   6th_Stage               615 non-null    int64\n",
            " 4   Differentiated          615 non-null    int64\n",
            " 5   Grade                   615 non-null    int64\n",
            " 6   A_Stage                 615 non-null    int64\n",
            " 7   Tumor_Size              615 non-null    int64\n",
            " 8   Estrogen_Status         615 non-null    int64\n",
            " 9   Progesterone_Status     615 non-null    int64\n",
            " 10  Regional_Node_Examined  615 non-null    int64\n",
            " 11  Regional_Node_Positive  615 non-null    int64\n",
            " 12  Survival_Months         615 non-null    int64\n",
            "dtypes: int64(13)\n",
            "memory usage: 67.3 KB\n"
          ]
        }
      ]
    },
    {
      "cell_type": "markdown",
      "source": [
        "Codereuse Session 01 (Week 5) Question 27"
      ],
      "metadata": {
        "id": "pBRaXPYuQMen"
      }
    },
    {
      "cell_type": "code",
      "source": [
        "# Save the cleaned classification datasets\n",
        "df_class.to_csv('/content/drive/MyDrive/BrestCancer/cleaned_classification_data.csv', index=False)\n",
        "df_class.shape"
      ],
      "metadata": {
        "colab": {
          "base_uri": "https://localhost:8080/"
        },
        "id": "ZQrJuY1x-aeH",
        "outputId": "7fe7a100-e2fa-4ae4-fcda-7dc0837cab89"
      },
      "execution_count": null,
      "outputs": [
        {
          "output_type": "execute_result",
          "data": {
            "text/plain": [
              "(4018, 14)"
            ]
          },
          "metadata": {},
          "execution_count": 104
        }
      ]
    },
    {
      "cell_type": "markdown",
      "source": [
        "Codereuse Session 01 (Week 5) Question 27"
      ],
      "metadata": {
        "id": "I3RDAEobQKpM"
      }
    },
    {
      "cell_type": "code",
      "source": [
        "# Save the cleaned regression datasets\n",
        "df_reg.to_csv('/content/drive/MyDrive/BrestCancer/cleaned_regression_data.csv', index=False)\n",
        "df_reg.shape"
      ],
      "metadata": {
        "colab": {
          "base_uri": "https://localhost:8080/"
        },
        "id": "rcYWwBZP-fde",
        "outputId": "3d991ec9-8ceb-4a2c-d91b-aef53b9a158f"
      },
      "execution_count": null,
      "outputs": [
        {
          "output_type": "execute_result",
          "data": {
            "text/plain": [
              "(615, 13)"
            ]
          },
          "metadata": {},
          "execution_count": 105
        }
      ]
    }
  ]
}